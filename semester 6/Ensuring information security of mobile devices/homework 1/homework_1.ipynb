{
 "metadata": {
  "language_info": {
   "codemirror_mode": {
    "name": "ipython",
    "version": 3
   },
   "file_extension": ".py",
   "mimetype": "text/x-python",
   "name": "python",
   "nbconvert_exporter": "python",
   "pygments_lexer": "ipython3",
   "version": "3.8.5-final"
  },
  "orig_nbformat": 2,
  "kernelspec": {
   "name": "python38564bit3a29c9fe9a574c0fa332a0619be160a8",
   "display_name": "Python 3.8.5 64-bit",
   "language": "python"
  }
 },
 "nbformat": 4,
 "nbformat_minor": 2,
 "cells": [
  {
   "source": [
    "# Лабораторная работа 1. Обработка и тарификация CDR (Call Detail Record)\n",
    "\n",
    "\n",
    "Вариант 13\n",
    "\n",
    "Лазарев Эдуард Артемович\n",
    "N33471"
   ],
   "cell_type": "markdown",
   "metadata": {}
  },
  {
   "source": [
    "Импортируем библиотеки, которые мы будем использовать для парсинга."
   ],
   "cell_type": "markdown",
   "metadata": {}
  },
  {
   "cell_type": "code",
   "execution_count": 88,
   "metadata": {},
   "outputs": [],
   "source": [
    "import pandas as pd\n",
    "from math import ceil"
   ]
  },
  {
   "cell_type": "code",
   "execution_count": null,
   "metadata": {},
   "outputs": [],
   "source": [
    "Объявим функцию, которая считает итоговую стоимость по звонкам и смс для абонента."
   ]
  },
  {
   "cell_type": "code",
   "execution_count": 89,
   "metadata": {},
   "outputs": [],
   "source": [
    "def count_cost(\n",
    "        data, # Таблица с данными\n",
    "        phone_number, # Телефон абонента, для которого расчитываестя стоимость\n",
    "        k_outcoming, # Коэффициент исходящих звонков\n",
    "        k_incoming_upper_limit, # Коэффициент входищих звонков свех бесплатного лимита\n",
    "        free_incoming_limit, # Лимит на бесплатные входящие\n",
    "        k_sms # Коэффициент смс\n",
    "    ): \n",
    "        sms_cost = sum(data[data[\"msisdn_origin\"] == phone_number][\"sms_number\"]) * k_sms # * Считаем стоимость всех смс\n",
    "        outcoming_cost = ceil(sum(data[data[\"msisdn_origin\"] == phone_number][\"call_duration\"])) * k_outcoming # Считаем стоимость всех исходящих звонков\n",
    "        incoming_amount = ceil(sum(data[data[\"msisdn_dest\"] == phone_number][\"call_duration\"])) # Считаем минуты всех входищих звонков\n",
    "        incoming_cost = max(0, incoming_amount - free_incoming_limit) * k_incoming_upper_limit # Считаем стоимость всех входищих звонков \n",
    "        return sms_cost + outcoming_cost + incoming_cost # Возвращаем итоговую стоимость для абонента"
   ]
  },
  {
   "source": [
    "Объявим переменные со значениями из варианта"
   ],
   "cell_type": "markdown",
   "metadata": {}
  },
  {
   "cell_type": "code",
   "execution_count": 85,
   "metadata": {},
   "outputs": [],
   "source": [
    "phone_number = \"911926375\"\n",
    "K_OUTCOMINT= 2\n",
    "K_INCOMING_UPPER_LIMIT = 1\n",
    "FREE_INCOMINT_LIMIT = 50\n",
    "K_SMS = 1"
   ]
  },
  {
   "source": [
    "Используя pandas считаем данные из файла, проверим что всё правильно считалось"
   ],
   "cell_type": "markdown",
   "metadata": {}
  },
  {
   "cell_type": "code",
   "execution_count": 86,
   "metadata": {},
   "outputs": [
    {
     "output_type": "execute_result",
     "data": {
      "text/plain": [
       "             timestamp msisdn_origin msisdn_dest  call_duration  sms_number\n",
       "0  2020-01-01 00:00:00     915783624   911926375          36.23          15\n",
       "1  2020-01-01 00:05:00     911926375   968247916           9.20           5\n",
       "2  2020-01-01 00:10:00     936415793   915642913           7.52          24\n",
       "3  2020-01-01 00:15:00     914976835   914976835          96.70          97\n",
       "4  2020-01-01 00:20:00     962365794   933156729         110.44          15\n",
       "5  2020-01-01 00:25:00     966714385   915783624          12.34           5\n",
       "6  2020-01-01 00:30:00     968247916   962365794          91.48          57\n",
       "7  2020-01-01 00:35:00     933156729   936415793          83.22          73\n",
       "8  2020-01-01 00:40:00     915642913   966714385          85.70          18"
      ],
      "text/html": "<div>\n<style scoped>\n    .dataframe tbody tr th:only-of-type {\n        vertical-align: middle;\n    }\n\n    .dataframe tbody tr th {\n        vertical-align: top;\n    }\n\n    .dataframe thead th {\n        text-align: right;\n    }\n</style>\n<table border=\"1\" class=\"dataframe\">\n  <thead>\n    <tr style=\"text-align: right;\">\n      <th></th>\n      <th>timestamp</th>\n      <th>msisdn_origin</th>\n      <th>msisdn_dest</th>\n      <th>call_duration</th>\n      <th>sms_number</th>\n    </tr>\n  </thead>\n  <tbody>\n    <tr>\n      <th>0</th>\n      <td>2020-01-01 00:00:00</td>\n      <td>915783624</td>\n      <td>911926375</td>\n      <td>36.23</td>\n      <td>15</td>\n    </tr>\n    <tr>\n      <th>1</th>\n      <td>2020-01-01 00:05:00</td>\n      <td>911926375</td>\n      <td>968247916</td>\n      <td>9.20</td>\n      <td>5</td>\n    </tr>\n    <tr>\n      <th>2</th>\n      <td>2020-01-01 00:10:00</td>\n      <td>936415793</td>\n      <td>915642913</td>\n      <td>7.52</td>\n      <td>24</td>\n    </tr>\n    <tr>\n      <th>3</th>\n      <td>2020-01-01 00:15:00</td>\n      <td>914976835</td>\n      <td>914976835</td>\n      <td>96.70</td>\n      <td>97</td>\n    </tr>\n    <tr>\n      <th>4</th>\n      <td>2020-01-01 00:20:00</td>\n      <td>962365794</td>\n      <td>933156729</td>\n      <td>110.44</td>\n      <td>15</td>\n    </tr>\n    <tr>\n      <th>5</th>\n      <td>2020-01-01 00:25:00</td>\n      <td>966714385</td>\n      <td>915783624</td>\n      <td>12.34</td>\n      <td>5</td>\n    </tr>\n    <tr>\n      <th>6</th>\n      <td>2020-01-01 00:30:00</td>\n      <td>968247916</td>\n      <td>962365794</td>\n      <td>91.48</td>\n      <td>57</td>\n    </tr>\n    <tr>\n      <th>7</th>\n      <td>2020-01-01 00:35:00</td>\n      <td>933156729</td>\n      <td>936415793</td>\n      <td>83.22</td>\n      <td>73</td>\n    </tr>\n    <tr>\n      <th>8</th>\n      <td>2020-01-01 00:40:00</td>\n      <td>915642913</td>\n      <td>966714385</td>\n      <td>85.70</td>\n      <td>18</td>\n    </tr>\n  </tbody>\n</table>\n</div>"
     },
     "metadata": {},
     "execution_count": 86
    }
   ],
   "source": [
    "data = pd.read_csv(\"data.csv\", dtype={\"msisdn_dest\": str, \"msisdn_origin\": str})\n",
    "data"
   ]
  },
  {
   "source": [
    "Вызовем объявленную ранее функцию для нашего варианта"
   ],
   "cell_type": "markdown",
   "metadata": {}
  },
  {
   "cell_type": "code",
   "execution_count": 84,
   "metadata": {},
   "outputs": [
    {
     "output_type": "execute_result",
     "data": {
      "text/plain": [
       "25"
      ]
     },
     "metadata": {},
     "execution_count": 84
    }
   ],
   "source": [
    "count_cost(data, \n",
    "           phone_number, \n",
    "           K_OUTCOMINT,\n",
    "           K_INCOMING_UPPER_LIMIT,\n",
    "           FREE_INCOMINT_LIMIT,\n",
    "           K_SMS)"
   ]
  },
  {
   "source": [
    "Полученный ответ: 25 руб"
   ],
   "cell_type": "markdown",
   "metadata": {}
  }
 ]
}