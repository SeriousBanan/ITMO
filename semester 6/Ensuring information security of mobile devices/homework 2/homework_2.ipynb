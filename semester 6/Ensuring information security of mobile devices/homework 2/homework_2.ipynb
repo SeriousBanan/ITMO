{
 "cells": [
  {
   "cell_type": "markdown",
   "metadata": {},
   "source": [
    "# Лабораторная работа 2. Обработка и тарификация трафика NetFlow\n",
    "\n",
    "Вариант 13\n",
    "\n",
    "Лазарев Эдуард Артемович\n",
    "N33471"
   ]
  },
  {
   "cell_type": "markdown",
   "metadata": {},
   "source": [
    "Импортируем библиотеки, которые мы будем использовать для парсинга."
   ]
  },
  {
   "cell_type": "code",
   "execution_count": 1,
   "metadata": {},
   "outputs": [],
   "source": [
    "import pandas as pd\n",
    "import matplotlib.pyplot as plt"
   ]
  },
  {
   "cell_type": "markdown",
   "metadata": {},
   "source": [
    "Объявим функцию, которая считает итоговую стоимость"
   ]
  },
  {
   "cell_type": "code",
   "execution_count": 2,
   "metadata": {},
   "outputs": [],
   "source": [
    "def count_cost(\n",
    "        data, # Таблица с данными\n",
    "        ip, # IP обонента\n",
    "        k, # Коэффициент тарификации\n",
    "    ): \n",
    "        return k * data[(data[\"sa\"] == ip) | (data[\"da\"] == ip)][\"ibyt\"].sum() / (1024 ** 2) "
   ]
  },
  {
   "cell_type": "markdown",
   "metadata": {},
   "source": [
    "Объявим переменные со значениями из варианта"
   ]
  },
  {
   "cell_type": "code",
   "execution_count": 3,
   "metadata": {},
   "outputs": [],
   "source": [
    "IP = '192.168.250.41'\n",
    "K = 1"
   ]
  },
  {
   "cell_type": "markdown",
   "metadata": {},
   "source": [
    "Используя pandas считаем данные из файла, проверим что всё правильно считалось"
   ]
  },
  {
   "cell_type": "code",
   "execution_count": 4,
   "metadata": {},
   "outputs": [
    {
     "data": {
      "text/html": [
       "<div>\n",
       "<style scoped>\n",
       "    .dataframe tbody tr th:only-of-type {\n",
       "        vertical-align: middle;\n",
       "    }\n",
       "\n",
       "    .dataframe tbody tr th {\n",
       "        vertical-align: top;\n",
       "    }\n",
       "\n",
       "    .dataframe thead th {\n",
       "        text-align: right;\n",
       "    }\n",
       "</style>\n",
       "<table border=\"1\" class=\"dataframe\">\n",
       "  <thead>\n",
       "    <tr style=\"text-align: right;\">\n",
       "      <th></th>\n",
       "      <th>ts</th>\n",
       "      <th>te</th>\n",
       "      <th>td</th>\n",
       "      <th>sa</th>\n",
       "      <th>da</th>\n",
       "      <th>sp</th>\n",
       "      <th>dp</th>\n",
       "      <th>pr</th>\n",
       "      <th>flg</th>\n",
       "      <th>fwd</th>\n",
       "      <th>...</th>\n",
       "      <th>mpls8</th>\n",
       "      <th>mpls9</th>\n",
       "      <th>mpls10</th>\n",
       "      <th>cl</th>\n",
       "      <th>sl</th>\n",
       "      <th>al</th>\n",
       "      <th>ra</th>\n",
       "      <th>eng</th>\n",
       "      <th>exid</th>\n",
       "      <th>tr</th>\n",
       "    </tr>\n",
       "  </thead>\n",
       "  <tbody>\n",
       "    <tr>\n",
       "      <th>0</th>\n",
       "      <td>2020-02-25 11:21:06</td>\n",
       "      <td>2020-02-25 11:29:59</td>\n",
       "      <td>533.00</td>\n",
       "      <td>192.168.250.3</td>\n",
       "      <td>23.226.231.226</td>\n",
       "      <td>80</td>\n",
       "      <td>3682</td>\n",
       "      <td>TCP</td>\n",
       "      <td>.A..S.</td>\n",
       "      <td>0</td>\n",
       "      <td>...</td>\n",
       "      <td>0-0-0</td>\n",
       "      <td>0-0-0</td>\n",
       "      <td>0-0-0</td>\n",
       "      <td>0.0</td>\n",
       "      <td>0.0</td>\n",
       "      <td>0.0</td>\n",
       "      <td>0.0.0.0</td>\n",
       "      <td>0/0</td>\n",
       "      <td>1</td>\n",
       "      <td>1970-01-01 03:00:00.000</td>\n",
       "    </tr>\n",
       "    <tr>\n",
       "      <th>1</th>\n",
       "      <td>2020-02-25 11:28:30</td>\n",
       "      <td>2020-02-25 11:30:01</td>\n",
       "      <td>90.27</td>\n",
       "      <td>192.168.250.50</td>\n",
       "      <td>40.114.211.99</td>\n",
       "      <td>61137</td>\n",
       "      <td>443</td>\n",
       "      <td>TCP</td>\n",
       "      <td>....S.</td>\n",
       "      <td>0</td>\n",
       "      <td>...</td>\n",
       "      <td>0-0-0</td>\n",
       "      <td>0-0-0</td>\n",
       "      <td>0-0-0</td>\n",
       "      <td>0.0</td>\n",
       "      <td>0.0</td>\n",
       "      <td>0.0</td>\n",
       "      <td>0.0.0.0</td>\n",
       "      <td>0/0</td>\n",
       "      <td>1</td>\n",
       "      <td>1970-01-01 03:00:00.000</td>\n",
       "    </tr>\n",
       "    <tr>\n",
       "      <th>2</th>\n",
       "      <td>2020-02-25 11:29:30</td>\n",
       "      <td>2020-02-25 11:30:01</td>\n",
       "      <td>31.58</td>\n",
       "      <td>192.168.250.3</td>\n",
       "      <td>23.226.231.226</td>\n",
       "      <td>80</td>\n",
       "      <td>28857</td>\n",
       "      <td>TCP</td>\n",
       "      <td>.A..S.</td>\n",
       "      <td>0</td>\n",
       "      <td>...</td>\n",
       "      <td>0-0-0</td>\n",
       "      <td>0-0-0</td>\n",
       "      <td>0-0-0</td>\n",
       "      <td>0.0</td>\n",
       "      <td>0.0</td>\n",
       "      <td>0.0</td>\n",
       "      <td>0.0.0.0</td>\n",
       "      <td>0/0</td>\n",
       "      <td>1</td>\n",
       "      <td>1970-01-01 03:00:00.000</td>\n",
       "    </tr>\n",
       "    <tr>\n",
       "      <th>3</th>\n",
       "      <td>2020-02-25 11:30:01</td>\n",
       "      <td>2020-02-25 11:30:01</td>\n",
       "      <td>0.00</td>\n",
       "      <td>192.168.250.62</td>\n",
       "      <td>192.168.250.1</td>\n",
       "      <td>58474</td>\n",
       "      <td>123</td>\n",
       "      <td>UDP</td>\n",
       "      <td>......</td>\n",
       "      <td>0</td>\n",
       "      <td>...</td>\n",
       "      <td>0-0-0</td>\n",
       "      <td>0-0-0</td>\n",
       "      <td>0-0-0</td>\n",
       "      <td>0.0</td>\n",
       "      <td>0.0</td>\n",
       "      <td>0.0</td>\n",
       "      <td>0.0.0.0</td>\n",
       "      <td>0/0</td>\n",
       "      <td>1</td>\n",
       "      <td>1970-01-01 03:00:00.000</td>\n",
       "    </tr>\n",
       "    <tr>\n",
       "      <th>4</th>\n",
       "      <td>2020-02-25 11:30:01</td>\n",
       "      <td>2020-02-25 11:30:01</td>\n",
       "      <td>0.00</td>\n",
       "      <td>192.168.250.1</td>\n",
       "      <td>192.168.250.62</td>\n",
       "      <td>123</td>\n",
       "      <td>58474</td>\n",
       "      <td>UDP</td>\n",
       "      <td>......</td>\n",
       "      <td>0</td>\n",
       "      <td>...</td>\n",
       "      <td>0-0-0</td>\n",
       "      <td>0-0-0</td>\n",
       "      <td>0-0-0</td>\n",
       "      <td>0.0</td>\n",
       "      <td>0.0</td>\n",
       "      <td>0.0</td>\n",
       "      <td>0.0.0.0</td>\n",
       "      <td>0/0</td>\n",
       "      <td>1</td>\n",
       "      <td>1970-01-01 03:00:00.000</td>\n",
       "    </tr>\n",
       "  </tbody>\n",
       "</table>\n",
       "<p>5 rows × 48 columns</p>\n",
       "</div>"
      ],
      "text/plain": [
       "                    ts                   te      td              sa  \\\n",
       "0  2020-02-25 11:21:06  2020-02-25 11:29:59  533.00   192.168.250.3   \n",
       "1  2020-02-25 11:28:30  2020-02-25 11:30:01   90.27  192.168.250.50   \n",
       "2  2020-02-25 11:29:30  2020-02-25 11:30:01   31.58   192.168.250.3   \n",
       "3  2020-02-25 11:30:01  2020-02-25 11:30:01    0.00  192.168.250.62   \n",
       "4  2020-02-25 11:30:01  2020-02-25 11:30:01    0.00   192.168.250.1   \n",
       "\n",
       "               da     sp     dp   pr     flg  fwd  ...  mpls8  mpls9  mpls10  \\\n",
       "0  23.226.231.226     80   3682  TCP  .A..S.    0  ...  0-0-0  0-0-0   0-0-0   \n",
       "1   40.114.211.99  61137    443  TCP  ....S.    0  ...  0-0-0  0-0-0   0-0-0   \n",
       "2  23.226.231.226     80  28857  TCP  .A..S.    0  ...  0-0-0  0-0-0   0-0-0   \n",
       "3   192.168.250.1  58474    123  UDP  ......    0  ...  0-0-0  0-0-0   0-0-0   \n",
       "4  192.168.250.62    123  58474  UDP  ......    0  ...  0-0-0  0-0-0   0-0-0   \n",
       "\n",
       "    cl   sl   al       ra  eng  exid                       tr  \n",
       "0  0.0  0.0  0.0  0.0.0.0  0/0     1  1970-01-01 03:00:00.000  \n",
       "1  0.0  0.0  0.0  0.0.0.0  0/0     1  1970-01-01 03:00:00.000  \n",
       "2  0.0  0.0  0.0  0.0.0.0  0/0     1  1970-01-01 03:00:00.000  \n",
       "3  0.0  0.0  0.0  0.0.0.0  0/0     1  1970-01-01 03:00:00.000  \n",
       "4  0.0  0.0  0.0  0.0.0.0  0/0     1  1970-01-01 03:00:00.000  \n",
       "\n",
       "[5 rows x 48 columns]"
      ]
     },
     "execution_count": 4,
     "metadata": {},
     "output_type": "execute_result"
    }
   ],
   "source": [
    "data = pd.read_csv(\"data.csv\")\n",
    "data.head()"
   ]
  },
  {
   "cell_type": "markdown",
   "metadata": {},
   "source": [
    "Вызовем объявленную ранее функцию для нашего варианта"
   ]
  },
  {
   "cell_type": "code",
   "execution_count": 5,
   "metadata": {},
   "outputs": [
    {
     "name": "stdout",
     "output_type": "stream",
     "text": [
      "Cost: 5.26\n"
     ]
    }
   ],
   "source": [
    "cost = count_cost(data, \n",
    "                  IP,\n",
    "                  K)\n",
    "print(f\"Cost: {cost:.2f}\")"
   ]
  },
  {
   "cell_type": "markdown",
   "metadata": {},
   "source": [
    "Полученный ответ: 5.26 руб"
   ]
  },
  {
   "cell_type": "markdown",
   "metadata": {},
   "source": [
    "Построим график"
   ]
  },
  {
   "cell_type": "code",
   "execution_count": 6,
   "metadata": {},
   "outputs": [
    {
     "data": {
      "image/png": "[encoded data removed]",
      "text/plain": [
       "<Figure size 432x288 with 1 Axes>"
      ]
     },
     "metadata": {
      "needs_background": "light"
     },
     "output_type": "display_data"
    }
   ],
   "source": [
    "data_by_ip = data[(data[\"sa\"] == IP) | (data[\"da\"] == IP)].sort_values(by=\"ts\")\n",
    "data_x = data_by_ip[\"ts\"]\n",
    "data_y = data_by_ip[\"ibyt\"].cumsum() / 1024 ** 2\n",
    "plt.title('График зависимости объема трафика от времени')\n",
    "plt.ylabel('Объем трафика, Мбайты')\n",
    "plt.xlabel('Время, c')\n",
    "plt.xticks([], [])\n",
    "\n",
    "plt.plot(data_x, data_y)\n",
    "plt.grid()\n",
    "plt.show()"
   ]
  }
 ],
 "metadata": {
  "kernelspec": {
   "display_name": "Python 3",
   "language": "python",
   "name": "python3"
  },
  "language_info": {
   "codemirror_mode": {
    "name": "ipython",
    "version": 3
   },
   "file_extension": ".py",
   "mimetype": "text/x-python",
   "name": "python",
   "nbconvert_exporter": "python",
   "pygments_lexer": "ipython3",
   "version": "3.9.2"
  }
 },
 "nbformat": 4,
 "nbformat_minor": 2
}
