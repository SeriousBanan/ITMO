{
 "cells": [
  {
   "cell_type": "markdown",
   "metadata": {},
   "source": [
    "# Лабораторная работа 3. Формирование счёта на оплату услуг\n",
    "\n",
    "Вариант 13\n",
    "\n",
    "Лазарев Эдуард Артемович\n",
    "N33471"
   ]
  },
  {
   "cell_type": "markdown",
   "metadata": {},
   "source": [
    "Импортируем библиотеки, которые мы будем использовать для генерации pdf."
   ]
  },
  {
   "cell_type": "code",
   "execution_count": 1,
   "metadata": {},
   "outputs": [],
   "source": [
    "from pathlib import Path\n",
    "from weasyprint import HTML"
   ]
  },
  {
   "cell_type": "markdown",
   "metadata": {},
   "source": [
    "Объявлем шаблон html документа в который будут подставляться значения."
   ]
  },
  {
   "cell_type": "code",
   "execution_count": 2,
   "metadata": {},
   "outputs": [],
   "source": [
    "HTML_TEMPLATE = \"\"\"<!DOCTYPE html>\n",
    "<html lang=\"en\">\n",
    "    <head>\n",
    "        <meta charset=\"UTF-8\">\n",
    "        <meta http-equiv=\"X-UA-Compatible\" content=\"IE=edge\">\n",
    "        <meta name=\"viewport\" content=\"width=device-width, initial-scale=1.0\">\n",
    "        <title>Document</title>\n",
    "        <style>\n",
    "            table, th, td {{\n",
    "                border: 1px solid black;\n",
    "            }}\n",
    "            table {{\n",
    "                border-collapse: collapse;\n",
    "            }}\n",
    "        </style>\n",
    "    </head>\n",
    "    <body>\n",
    "        <table style=\"width: 100%;\">\n",
    "            <tbody>\n",
    "                <tr>\n",
    "                    <td rowspan=2 colspan=2>{bank}<br><br>Банк получателя</td>\n",
    "                    <td>БИК</td>\n",
    "                    <td rowspan=2>{bik}<br><br>{sch1}</td>\n",
    "                </tr>\n",
    "                <tr>\n",
    "                    <td>Сч. №</td>\n",
    "                </tr>\n",
    "                <tr>\n",
    "                    <td>ИНН {inn}</td>\n",
    "                    <td>КПП {kpp}</td>\n",
    "                    <td rowspan=2>Сч. №</td>\n",
    "                    <td rowspan=2>{sch2}</td>\n",
    "                </tr>\n",
    "                <tr>\n",
    "                    <td colspan=2>{poluch}<br><br>Получатель</td>\n",
    "                </tr>\n",
    "            </tbody>\n",
    "        </table>\n",
    "        <h2>Счет на оплату № {num} от {date}.</h2>\n",
    "        <hr>\n",
    "        <table style=\"border: none;\">\n",
    "            <tbody>\n",
    "                <tr style=\"border: none;\">\n",
    "                    <td style=\"border: none;\">Поставщик<br>(Исполнитель):</td>\n",
    "                    <th style=\"border: none;\">{post}</th>\n",
    "                </tr>\n",
    "                <tr>\n",
    "                    <td style=\"border: 5px solid white;\"></td>\n",
    "                    <td style=\"border: 5px solid white;\"></td>\n",
    "                </tr>\n",
    "                <tr>\n",
    "                    <td style=\"border: none;\">Покупатель<br>(Заказчик):</td>\n",
    "                    <th style=\"border: none;\">{pokup}</th>\n",
    "                </tr>\n",
    "                <tr>\n",
    "                    <td style=\"border: 5px solid white;\"></td>\n",
    "                    <td style=\"border: 5px solid white;\"></td>\n",
    "                </tr>\n",
    "                <tr>\n",
    "                    <td style=\"border: none;\">Основание:</td>\n",
    "                    <th style=\"border: none;\">{osnov}</th>\n",
    "                </tr>\n",
    "            </tbody>\n",
    "        </table>\n",
    "        <br>\n",
    "        <table style=\"width: 100%;\">\n",
    "            <tbody>\n",
    "                <tr>\n",
    "                    <th>№</th>\n",
    "                    <th>Товары (работы, услуги)</th>\n",
    "                    <th>Кол-во</th>\n",
    "                    <th>Ед.</th>\n",
    "                    <th>Цена</th>\n",
    "                    <th>Сумма</th>\n",
    "                </tr>\n",
    "                {tab2}\n",
    "            </tbody>\n",
    "        </table>\n",
    "        <table style=\"border: none; float: right;\">\n",
    "            <tbody>\n",
    "                <tr style=\"border: none;\">\n",
    "                    <th style=\"border: none; float: right\">Итого:</th>\n",
    "                    <td style=\"border: none;\">{itog:.2f}</td>\n",
    "                </tr>\n",
    "                <tr>\n",
    "                    <th style=\"border: none; float: right\">В том числе НДС:</th>\n",
    "                    <td style=\"border: none;\">{nds:.2f}</td>\n",
    "                </tr>\n",
    "                <tr>\n",
    "                    <th style=\"border: none; float: right\">Всего к оплате:</th>\n",
    "                    <td style=\"border: none;\">{alll:.2f}</td>\n",
    "                </tr>\n",
    "            </tbody>\n",
    "        </table>\n",
    "        <br><br><br><br>\n",
    "        Всего наименований {count}, на сумму {summ:.2f} руб.\n",
    "        <br><br><br>\n",
    "        Внимание! \n",
    "        <br>\n",
    "        Оплата данного счета означает согласие с условиями поставки товара. \n",
    "        <br>\n",
    "        Уведомление об оплате обязательно, в противном случае не гарантируется начисление товара на складе. Товар отпускается по факту прихода денег на р/с Поставщика, самовывозом, при наличии доверенности и паспорта.\n",
    "        <hr>\n",
    "        <div style=\"white-space: pre;\">Руководитель {rukovod} Бухгалтер {buh}</div>\n",
    "    </body>\n",
    "</html>\n",
    "\"\"\""
   ]
  },
  {
   "cell_type": "markdown",
   "metadata": {},
   "source": [
    "Объявим функцию, принимающую данные для формирования счёта и генерирующую ПДФ."
   ]
  },
  {
   "cell_type": "code",
   "execution_count": 3,
   "metadata": {},
   "outputs": [],
   "source": [
    "def makepdf(bank, bik, sch1, inn, kpp, poluch, sch2,\n",
    "            num, date, post, pokup, osnov, data, rukovod,\n",
    "            buh, path):\n",
    "    s_table = \"\".join(\n",
    "        [\"<tr><td>{}</td><td>{}</td><td>{}</td><td>{}</td><td>{:.2f}</td><td>{:.2f}</td></tr>\".format(c, *i) \n",
    "         for c, i in enumerate(data, 1)])\n",
    "    itog_count = lambda x: sum(i[4] for i in x)\n",
    "    itog = itog_count(data)\n",
    "    count = len(data)\n",
    "    nds = itog/100*20\n",
    "    html = HTML_TEMPLATE.format(bank=bank, bik=bik, sch1=sch1, inn=inn,\n",
    "                                kpp=kpp, poluch=poluch, sch2=sch2, num=num,\n",
    "                                date=date, post=post, pokup=pokup, osnov=osnov,\n",
    "                                tab2=s_table, itog=itog, nds=nds, alll=itog,\n",
    "                                count=count, summ=itog, rukovod=rukovod.rjust(22, \"_\"),\n",
    "                                buh=buh.rjust(22, \"_\"))\n",
    "    htmldoc = HTML(string=html, \n",
    "                   base_url=\"\")\n",
    "    return Path(path).write_bytes(htmldoc.write_pdf())"
   ]
  },
  {
   "cell_type": "markdown",
   "metadata": {},
   "source": [
    "Соберём данные для выставления счёта в один словарь."
   ]
  },
  {
   "cell_type": "code",
   "execution_count": 4,
   "metadata": {},
   "outputs": [],
   "source": [
    "bill_data = {\n",
    "    \"bank\": \"АО \\\"Банк\\\" г. Москва\",\n",
    "    \"bik\": \"111111111\",\n",
    "    \"sch1\": \"11111111111111111111\",\n",
    "    \"inn\": \"1111111111\",\n",
    "    \"kpp\": \"111111111\",\n",
    "    \"poluch\": \"ООО \\\"Платильшик\\\"\",\n",
    "    \"sch2\": \"11111111111111111111\",\n",
    "    \"num\": \"1\",\n",
    "    \"date\": \"01 мая 2021 г\",\n",
    "    \"post\": (\"ООО \\\"Поставщик\\\", ИНН 1111111111, \"\n",
    "             \"КПП 111111111, 111111, г. Москва, \"\n",
    "             \"ул. Улица, дом № 1, \"\n",
    "             \"тел.: +71111111111\"),\n",
    "    \"pokup\": (\"ООО \\\"Потребитель\\\", ИНН 1111111111, \"\n",
    "              \"КПП 111111111, 111111, г. Казань, \"\n",
    "              \"ул. Улица, дом № 1\"),\n",
    "    \"osnov\": \"№ 11111111 от 30.04.2021\",\n",
    "    \"data\": [\n",
    "                ['Телефония', '', '1', 25, 25],\n",
    "                ['Интернет', '', '1', 5.26, 5.26]\n",
    "            ],\n",
    "    \"rukovod\": \"Васильев В.В.\",\n",
    "    \"buh\": \"Володин В.В.\",\n",
    "}"
   ]
  },
  {
   "cell_type": "markdown",
   "metadata": {},
   "source": [
    "Вызовем функцию для генерации pdf, передав в неё данные для выставления счёта."
   ]
  },
  {
   "cell_type": "code",
   "execution_count": 5,
   "metadata": {},
   "outputs": [
    {
     "output_type": "execute_result",
     "data": {
      "text/plain": [
       "32659"
      ]
     },
     "metadata": {},
     "execution_count": 5
    }
   ],
   "source": [
    "makepdf(**bill_data, path=\"bill.pdf\")"
   ]
  }
 ],
 "metadata": {
  "kernelspec": {
   "display_name": "Python 3",
   "language": "python",
   "name": "python3"
  },
  "language_info": {
   "codemirror_mode": {
    "name": "ipython",
    "version": 3
   },
   "file_extension": ".py",
   "mimetype": "text/x-python",
   "name": "python",
   "nbconvert_exporter": "python",
   "pygments_lexer": "ipython3",
   "version": "3.8.5"
  }
 },
 "nbformat": 4,
 "nbformat_minor": 2
}