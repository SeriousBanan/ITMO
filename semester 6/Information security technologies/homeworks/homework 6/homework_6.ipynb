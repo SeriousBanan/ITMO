{
  "nbformat": 4,
  "nbformat_minor": 0,
  "metadata": {
    "kernelspec": {
      "display_name": "Python 3",
      "language": "python",
      "name": "python3"
    },
    "language_info": {
      "codemirror_mode": {
        "name": "ipython",
        "version": 3
      },
      "file_extension": ".py",
      "mimetype": "text/x-python",
      "name": "python",
      "nbconvert_exporter": "python",
      "pygments_lexer": "ipython3",
      "version": "3.8.5"
    },
    "colab": {
      "name": "homework_6.ipynb",
      "provenance": [],
      "collapsed_sections": []
    }
  },
  "cells": [
    {
      "cell_type": "markdown",
      "metadata": {
        "collapsed": true,
        "id": "LVSlp4RUUNfj"
      },
      "source": [
        "# Домашняя работа 6. Факторный анализ\n",
        "\n",
        "Вариант с кредитами.\n",
        "\n",
        "Лазарев Эдуард Артемович\n",
        "N33471"
      ]
    },
    {
      "cell_type": "code",
      "metadata": {
        "id": "s2D5VLHwUNfl"
      },
      "source": [
        "import numpy as np\n",
        "import pandas as pd\n",
        "\n",
        "import matplotlib\n",
        "import matplotlib.pyplot as plt\n",
        "%matplotlib inline\n",
        "plt.rcParams[\"figure.figsize\"] = [12, 12]"
      ],
      "execution_count": 1,
      "outputs": []
    },
    {
      "cell_type": "code",
      "metadata": {
        "colab": {
          "base_uri": "https://localhost:8080/"
        },
        "id": "8niSVBWGUNfm",
        "outputId": "ceb9ef40-e2fc-4809-8c32-d1edfb86f161"
      },
      "source": [
        "# Загружаем данные\n",
        "df = pd.read_csv(\"default of credit card clients.csv\", decimal=\",\", delimiter=\";\")\n",
        "len(df)"
      ],
      "execution_count": 2,
      "outputs": [
        {
          "output_type": "execute_result",
          "data": {
            "text/plain": [
              "30000"
            ]
          },
          "metadata": {
            "tags": []
          },
          "execution_count": 2
        }
      ]
    },
    {
      "cell_type": "markdown",
      "metadata": {
        "id": "PfSThfxaUNfn"
      },
      "source": [
        "Проверяем правильность данных"
      ]
    },
    {
      "cell_type": "code",
      "metadata": {
        "colab": {
          "base_uri": "https://localhost:8080/",
          "height": 419
        },
        "id": "koB0L-u7UNfn",
        "outputId": "d1189720-11d3-442b-8720-f4df85e95cbf"
      },
      "source": [
        "df"
      ],
      "execution_count": 3,
      "outputs": [
        {
          "output_type": "execute_result",
          "data": {
            "text/html": [
              "<div>\n",
              "<style scoped>\n",
              "    .dataframe tbody tr th:only-of-type {\n",
              "        vertical-align: middle;\n",
              "    }\n",
              "\n",
              "    .dataframe tbody tr th {\n",
              "        vertical-align: top;\n",
              "    }\n",
              "\n",
              "    .dataframe thead th {\n",
              "        text-align: right;\n",
              "    }\n",
              "</style>\n",
              "<table border=\"1\" class=\"dataframe\">\n",
              "  <thead>\n",
              "    <tr style=\"text-align: right;\">\n",
              "      <th></th>\n",
              "      <th>ID</th>\n",
              "      <th>LIMIT_BAL</th>\n",
              "      <th>SEX</th>\n",
              "      <th>EDUCATION</th>\n",
              "      <th>MARRIAGE</th>\n",
              "      <th>AGE</th>\n",
              "      <th>PAY_0</th>\n",
              "      <th>PAY_2</th>\n",
              "      <th>PAY_3</th>\n",
              "      <th>PAY_4</th>\n",
              "      <th>PAY_5</th>\n",
              "      <th>PAY_6</th>\n",
              "      <th>BILL_AMT1</th>\n",
              "      <th>BILL_AMT2</th>\n",
              "      <th>BILL_AMT3</th>\n",
              "      <th>BILL_AMT4</th>\n",
              "      <th>BILL_AMT5</th>\n",
              "      <th>BILL_AMT6</th>\n",
              "      <th>PAY_AMT1</th>\n",
              "      <th>PAY_AMT2</th>\n",
              "      <th>PAY_AMT3</th>\n",
              "      <th>PAY_AMT4</th>\n",
              "      <th>PAY_AMT5</th>\n",
              "      <th>PAY_AMT6</th>\n",
              "      <th>default_payment_next_month</th>\n",
              "    </tr>\n",
              "  </thead>\n",
              "  <tbody>\n",
              "    <tr>\n",
              "      <th>0</th>\n",
              "      <td>1</td>\n",
              "      <td>20000</td>\n",
              "      <td>2</td>\n",
              "      <td>2</td>\n",
              "      <td>1</td>\n",
              "      <td>24</td>\n",
              "      <td>2</td>\n",
              "      <td>2</td>\n",
              "      <td>-1</td>\n",
              "      <td>-1</td>\n",
              "      <td>-2</td>\n",
              "      <td>-2</td>\n",
              "      <td>3913</td>\n",
              "      <td>3102</td>\n",
              "      <td>689</td>\n",
              "      <td>0</td>\n",
              "      <td>0</td>\n",
              "      <td>0</td>\n",
              "      <td>0</td>\n",
              "      <td>689</td>\n",
              "      <td>0</td>\n",
              "      <td>0</td>\n",
              "      <td>0</td>\n",
              "      <td>0</td>\n",
              "      <td>1</td>\n",
              "    </tr>\n",
              "    <tr>\n",
              "      <th>1</th>\n",
              "      <td>2</td>\n",
              "      <td>120000</td>\n",
              "      <td>2</td>\n",
              "      <td>2</td>\n",
              "      <td>2</td>\n",
              "      <td>26</td>\n",
              "      <td>-1</td>\n",
              "      <td>2</td>\n",
              "      <td>0</td>\n",
              "      <td>0</td>\n",
              "      <td>0</td>\n",
              "      <td>2</td>\n",
              "      <td>2682</td>\n",
              "      <td>1725</td>\n",
              "      <td>2682</td>\n",
              "      <td>3272</td>\n",
              "      <td>3455</td>\n",
              "      <td>3261</td>\n",
              "      <td>0</td>\n",
              "      <td>1000</td>\n",
              "      <td>1000</td>\n",
              "      <td>1000</td>\n",
              "      <td>0</td>\n",
              "      <td>2000</td>\n",
              "      <td>1</td>\n",
              "    </tr>\n",
              "    <tr>\n",
              "      <th>2</th>\n",
              "      <td>3</td>\n",
              "      <td>90000</td>\n",
              "      <td>2</td>\n",
              "      <td>2</td>\n",
              "      <td>2</td>\n",
              "      <td>34</td>\n",
              "      <td>0</td>\n",
              "      <td>0</td>\n",
              "      <td>0</td>\n",
              "      <td>0</td>\n",
              "      <td>0</td>\n",
              "      <td>0</td>\n",
              "      <td>29239</td>\n",
              "      <td>14027</td>\n",
              "      <td>13559</td>\n",
              "      <td>14331</td>\n",
              "      <td>14948</td>\n",
              "      <td>15549</td>\n",
              "      <td>1518</td>\n",
              "      <td>1500</td>\n",
              "      <td>1000</td>\n",
              "      <td>1000</td>\n",
              "      <td>1000</td>\n",
              "      <td>5000</td>\n",
              "      <td>0</td>\n",
              "    </tr>\n",
              "    <tr>\n",
              "      <th>3</th>\n",
              "      <td>4</td>\n",
              "      <td>50000</td>\n",
              "      <td>2</td>\n",
              "      <td>2</td>\n",
              "      <td>1</td>\n",
              "      <td>37</td>\n",
              "      <td>0</td>\n",
              "      <td>0</td>\n",
              "      <td>0</td>\n",
              "      <td>0</td>\n",
              "      <td>0</td>\n",
              "      <td>0</td>\n",
              "      <td>46990</td>\n",
              "      <td>48233</td>\n",
              "      <td>49291</td>\n",
              "      <td>28314</td>\n",
              "      <td>28959</td>\n",
              "      <td>29547</td>\n",
              "      <td>2000</td>\n",
              "      <td>2019</td>\n",
              "      <td>1200</td>\n",
              "      <td>1100</td>\n",
              "      <td>1069</td>\n",
              "      <td>1000</td>\n",
              "      <td>0</td>\n",
              "    </tr>\n",
              "    <tr>\n",
              "      <th>4</th>\n",
              "      <td>5</td>\n",
              "      <td>50000</td>\n",
              "      <td>1</td>\n",
              "      <td>2</td>\n",
              "      <td>1</td>\n",
              "      <td>57</td>\n",
              "      <td>-1</td>\n",
              "      <td>0</td>\n",
              "      <td>-1</td>\n",
              "      <td>0</td>\n",
              "      <td>0</td>\n",
              "      <td>0</td>\n",
              "      <td>8617</td>\n",
              "      <td>5670</td>\n",
              "      <td>35835</td>\n",
              "      <td>20940</td>\n",
              "      <td>19146</td>\n",
              "      <td>19131</td>\n",
              "      <td>2000</td>\n",
              "      <td>36681</td>\n",
              "      <td>10000</td>\n",
              "      <td>9000</td>\n",
              "      <td>689</td>\n",
              "      <td>679</td>\n",
              "      <td>0</td>\n",
              "    </tr>\n",
              "    <tr>\n",
              "      <th>...</th>\n",
              "      <td>...</td>\n",
              "      <td>...</td>\n",
              "      <td>...</td>\n",
              "      <td>...</td>\n",
              "      <td>...</td>\n",
              "      <td>...</td>\n",
              "      <td>...</td>\n",
              "      <td>...</td>\n",
              "      <td>...</td>\n",
              "      <td>...</td>\n",
              "      <td>...</td>\n",
              "      <td>...</td>\n",
              "      <td>...</td>\n",
              "      <td>...</td>\n",
              "      <td>...</td>\n",
              "      <td>...</td>\n",
              "      <td>...</td>\n",
              "      <td>...</td>\n",
              "      <td>...</td>\n",
              "      <td>...</td>\n",
              "      <td>...</td>\n",
              "      <td>...</td>\n",
              "      <td>...</td>\n",
              "      <td>...</td>\n",
              "      <td>...</td>\n",
              "    </tr>\n",
              "    <tr>\n",
              "      <th>29995</th>\n",
              "      <td>29996</td>\n",
              "      <td>220000</td>\n",
              "      <td>1</td>\n",
              "      <td>3</td>\n",
              "      <td>1</td>\n",
              "      <td>39</td>\n",
              "      <td>0</td>\n",
              "      <td>0</td>\n",
              "      <td>0</td>\n",
              "      <td>0</td>\n",
              "      <td>0</td>\n",
              "      <td>0</td>\n",
              "      <td>188948</td>\n",
              "      <td>192815</td>\n",
              "      <td>208365</td>\n",
              "      <td>88004</td>\n",
              "      <td>31237</td>\n",
              "      <td>15980</td>\n",
              "      <td>8500</td>\n",
              "      <td>20000</td>\n",
              "      <td>5003</td>\n",
              "      <td>3047</td>\n",
              "      <td>5000</td>\n",
              "      <td>1000</td>\n",
              "      <td>0</td>\n",
              "    </tr>\n",
              "    <tr>\n",
              "      <th>29996</th>\n",
              "      <td>29997</td>\n",
              "      <td>150000</td>\n",
              "      <td>1</td>\n",
              "      <td>3</td>\n",
              "      <td>2</td>\n",
              "      <td>43</td>\n",
              "      <td>-1</td>\n",
              "      <td>-1</td>\n",
              "      <td>-1</td>\n",
              "      <td>-1</td>\n",
              "      <td>0</td>\n",
              "      <td>0</td>\n",
              "      <td>1683</td>\n",
              "      <td>1828</td>\n",
              "      <td>3502</td>\n",
              "      <td>8979</td>\n",
              "      <td>5190</td>\n",
              "      <td>0</td>\n",
              "      <td>1837</td>\n",
              "      <td>3526</td>\n",
              "      <td>8998</td>\n",
              "      <td>129</td>\n",
              "      <td>0</td>\n",
              "      <td>0</td>\n",
              "      <td>0</td>\n",
              "    </tr>\n",
              "    <tr>\n",
              "      <th>29997</th>\n",
              "      <td>29998</td>\n",
              "      <td>30000</td>\n",
              "      <td>1</td>\n",
              "      <td>2</td>\n",
              "      <td>2</td>\n",
              "      <td>37</td>\n",
              "      <td>4</td>\n",
              "      <td>3</td>\n",
              "      <td>2</td>\n",
              "      <td>-1</td>\n",
              "      <td>0</td>\n",
              "      <td>0</td>\n",
              "      <td>3565</td>\n",
              "      <td>3356</td>\n",
              "      <td>2758</td>\n",
              "      <td>20878</td>\n",
              "      <td>20582</td>\n",
              "      <td>19357</td>\n",
              "      <td>0</td>\n",
              "      <td>0</td>\n",
              "      <td>22000</td>\n",
              "      <td>4200</td>\n",
              "      <td>2000</td>\n",
              "      <td>3100</td>\n",
              "      <td>1</td>\n",
              "    </tr>\n",
              "    <tr>\n",
              "      <th>29998</th>\n",
              "      <td>29999</td>\n",
              "      <td>80000</td>\n",
              "      <td>1</td>\n",
              "      <td>3</td>\n",
              "      <td>1</td>\n",
              "      <td>41</td>\n",
              "      <td>1</td>\n",
              "      <td>-1</td>\n",
              "      <td>0</td>\n",
              "      <td>0</td>\n",
              "      <td>0</td>\n",
              "      <td>-1</td>\n",
              "      <td>-1645</td>\n",
              "      <td>78379</td>\n",
              "      <td>76304</td>\n",
              "      <td>52774</td>\n",
              "      <td>11855</td>\n",
              "      <td>48944</td>\n",
              "      <td>85900</td>\n",
              "      <td>3409</td>\n",
              "      <td>1178</td>\n",
              "      <td>1926</td>\n",
              "      <td>52964</td>\n",
              "      <td>1804</td>\n",
              "      <td>1</td>\n",
              "    </tr>\n",
              "    <tr>\n",
              "      <th>29999</th>\n",
              "      <td>30000</td>\n",
              "      <td>50000</td>\n",
              "      <td>1</td>\n",
              "      <td>2</td>\n",
              "      <td>1</td>\n",
              "      <td>46</td>\n",
              "      <td>0</td>\n",
              "      <td>0</td>\n",
              "      <td>0</td>\n",
              "      <td>0</td>\n",
              "      <td>0</td>\n",
              "      <td>0</td>\n",
              "      <td>47929</td>\n",
              "      <td>48905</td>\n",
              "      <td>49764</td>\n",
              "      <td>36535</td>\n",
              "      <td>32428</td>\n",
              "      <td>15313</td>\n",
              "      <td>2078</td>\n",
              "      <td>1800</td>\n",
              "      <td>1430</td>\n",
              "      <td>1000</td>\n",
              "      <td>1000</td>\n",
              "      <td>1000</td>\n",
              "      <td>1</td>\n",
              "    </tr>\n",
              "  </tbody>\n",
              "</table>\n",
              "<p>30000 rows × 25 columns</p>\n",
              "</div>"
            ],
            "text/plain": [
              "          ID  LIMIT_BAL  SEX  ...  PAY_AMT5  PAY_AMT6  default_payment_next_month\n",
              "0          1      20000    2  ...         0         0                           1\n",
              "1          2     120000    2  ...         0      2000                           1\n",
              "2          3      90000    2  ...      1000      5000                           0\n",
              "3          4      50000    2  ...      1069      1000                           0\n",
              "4          5      50000    1  ...       689       679                           0\n",
              "...      ...        ...  ...  ...       ...       ...                         ...\n",
              "29995  29996     220000    1  ...      5000      1000                           0\n",
              "29996  29997     150000    1  ...         0         0                           0\n",
              "29997  29998      30000    1  ...      2000      3100                           1\n",
              "29998  29999      80000    1  ...     52964      1804                           1\n",
              "29999  30000      50000    1  ...      1000      1000                           1\n",
              "\n",
              "[30000 rows x 25 columns]"
            ]
          },
          "metadata": {
            "tags": []
          },
          "execution_count": 3
        }
      ]
    },
    {
      "cell_type": "code",
      "metadata": {
        "colab": {
          "base_uri": "https://localhost:8080/"
        },
        "id": "H-nszrEVUNfn",
        "outputId": "b0a5b193-7b09-4759-b6c4-b6295fa19760"
      },
      "source": [
        "df.dtypes"
      ],
      "execution_count": 4,
      "outputs": [
        {
          "output_type": "execute_result",
          "data": {
            "text/plain": [
              "ID                            int64\n",
              "LIMIT_BAL                     int64\n",
              "SEX                           int64\n",
              "EDUCATION                     int64\n",
              "MARRIAGE                      int64\n",
              "AGE                           int64\n",
              "PAY_0                         int64\n",
              "PAY_2                         int64\n",
              "PAY_3                         int64\n",
              "PAY_4                         int64\n",
              "PAY_5                         int64\n",
              "PAY_6                         int64\n",
              "BILL_AMT1                     int64\n",
              "BILL_AMT2                     int64\n",
              "BILL_AMT3                     int64\n",
              "BILL_AMT4                     int64\n",
              "BILL_AMT5                     int64\n",
              "BILL_AMT6                     int64\n",
              "PAY_AMT1                      int64\n",
              "PAY_AMT2                      int64\n",
              "PAY_AMT3                      int64\n",
              "PAY_AMT4                      int64\n",
              "PAY_AMT5                      int64\n",
              "PAY_AMT6                      int64\n",
              "default_payment_next_month    int64\n",
              "dtype: object"
            ]
          },
          "metadata": {
            "tags": []
          },
          "execution_count": 4
        }
      ]
    },
    {
      "cell_type": "markdown",
      "metadata": {
        "id": "hEVWlNImUNfp"
      },
      "source": [
        "Разделим предиткоры и отклик."
      ]
    },
    {
      "cell_type": "code",
      "metadata": {
        "id": "98Ie-gXkUNfp"
      },
      "source": [
        "from sklearn import preprocessing\n",
        "\n",
        "X = df.iloc[:, :-1].values\n",
        "X = pd.DataFrame((preprocessing.StandardScaler().fit_transform(X)).astype('float64'))\n",
        "Y = df.iloc[:, -1].values"
      ],
      "execution_count": 5,
      "outputs": []
    },
    {
      "cell_type": "markdown",
      "metadata": {
        "id": "pjzCvoneUNfp"
      },
      "source": [
        "Выделим 70% выборки (X_train, Y_train) под обучение и 30% под тестовую выборку (X_test, Y_test)."
      ]
    },
    {
      "cell_type": "code",
      "metadata": {
        "id": "rbcHT2EGUNfp"
      },
      "source": [
        "from sklearn.model_selection import train_test_split\n",
        "\n",
        "X_train, X_test, Y_train, Y_test = train_test_split(X,Y, test_size=0.3,random_state=7787)"
      ],
      "execution_count": 6,
      "outputs": []
    },
    {
      "cell_type": "markdown",
      "metadata": {
        "id": "lZr6C2ELUNfp"
      },
      "source": [
        "Подбираем основные и самые главные параметры при помощи GridSearch"
      ]
    },
    {
      "cell_type": "code",
      "metadata": {
        "colab": {
          "base_uri": "https://localhost:8080/"
        },
        "id": "C9KBHvzBUNfq",
        "outputId": "f81982cd-4bef-44cb-884d-acc14f0353e5"
      },
      "source": [
        "from sklearn.model_selection import GridSearchCV\n",
        "from xgboost import XGBClassifier\n",
        "from sklearn.ensemble import GradientBoostingClassifier\n",
        "\n",
        "grid_param = {  \n",
        "    'n_estimators': [100, 500, 1000],\n",
        "    'max_depth': [3, 4, 6]\n",
        "}\n",
        "\n",
        "model = XGBClassifier(random_state=17)\n",
        "xgb_res = GridSearchCV(error_score='raise',\n",
        "                        estimator=model, param_grid=grid_param, cv=5, \n",
        "                               pre_dispatch='2*n_jobs', refit=True, scoring='accuracy', verbose=0)\n",
        "\n",
        "xgb_res.fit(X_train, Y_train)\n",
        "\n",
        "xgb_res.best_params_, xgb_res.best_score_"
      ],
      "execution_count": 7,
      "outputs": [
        {
          "output_type": "execute_result",
          "data": {
            "text/plain": [
              "({'max_depth': 3, 'n_estimators': 100}, 0.8215238095238094)"
            ]
          },
          "metadata": {
            "tags": []
          },
          "execution_count": 7
        }
      ]
    },
    {
      "cell_type": "markdown",
      "metadata": {
        "id": "1opdEivbUNfq"
      },
      "source": [
        "Оценим работу модели\n"
      ]
    },
    {
      "cell_type": "code",
      "metadata": {
        "colab": {
          "base_uri": "https://localhost:8080/"
        },
        "id": "lWkG_mcuUNfq",
        "outputId": "cfd2ad25-f99a-4c3a-fa78-a5d7ef90e19d"
      },
      "source": [
        "from sklearn.metrics import accuracy_score\n",
        "\n",
        "print(\"Accuracy on train set is \", accuracy_score(Y_train, xgb_res.predict(X_train)))\n",
        "print(\"Accuracy on test set is \", accuracy_score(Y_test, xgb_res.predict(X_test)))"
      ],
      "execution_count": 8,
      "outputs": [
        {
          "output_type": "stream",
          "text": [
            "Accuracy on train set is  0.8253809523809523\n",
            "Accuracy on test set is  0.8206666666666667\n"
          ],
          "name": "stdout"
        }
      ]
    },
    {
      "cell_type": "markdown",
      "metadata": {
        "id": "N2RyfttseRTQ"
      },
      "source": [
        "Посмотрим, нужна ли калибровка."
      ]
    },
    {
      "cell_type": "code",
      "metadata": {
        "colab": {
          "base_uri": "https://localhost:8080/",
          "height": 265
        },
        "id": "pDZb-b2HeTzm",
        "outputId": "ba131c9a-549f-4466-e568-1c6ddfb644ce"
      },
      "source": [
        "from sklearn.calibration import calibration_curve\n",
        "from matplotlib import pyplot\n",
        "probs = xgb_res.predict_proba(X_test)[:,1]\n",
        "fop, mpv = calibration_curve(Y_test, probs, n_bins=10)\n",
        "# plot perfectly calibrated\n",
        "pyplot.plot([0, 1], [0, 1], linestyle='--')\n",
        "# plot model reliability\n",
        "pyplot.plot(mpv, fop, marker='.')\n",
        "pyplot.show()"
      ],
      "execution_count": 9,
      "outputs": [
        {
          "output_type": "display_data",
          "data": {
            "image/png": "[encoded data removed]",
            "text/plain": [
              "<Figure size 432x288 with 1 Axes>"
            ]
          },
          "metadata": {
            "tags": [],
            "needs_background": "light"
          }
        }
      ]
    },
    {
      "cell_type": "markdown",
      "metadata": {
        "id": "qzw2QfdIeaVs"
      },
      "source": [
        "По результатам - калибровка не нужна"
      ]
    },
    {
      "cell_type": "code",
      "metadata": {
        "colab": {
          "base_uri": "https://localhost:8080/"
        },
        "id": "ayeiiDvBCTTB",
        "outputId": "93df5d91-7388-48a1-d3fd-f6ae1bc6914b"
      },
      "source": [
        "!pip install factor_analyzer"
      ],
      "execution_count": 10,
      "outputs": [
        {
          "output_type": "stream",
          "text": [
            "Collecting factor_analyzer\n",
            "\u001b[?25l  Downloading https://files.pythonhosted.org/packages/44/b5/cbd83484ca6dd4c6562c6d66a6a3a0ecf526e79b2b575b9fb4bf5ad172dd/factor_analyzer-0.3.2.tar.gz (40kB)\n",
            "\u001b[K     |████████████████████████████████| 40kB 2.8MB/s \n",
            "\u001b[?25hRequirement already satisfied: pandas in /usr/local/lib/python3.7/dist-packages (from factor_analyzer) (1.1.5)\n",
            "Requirement already satisfied: scipy in /usr/local/lib/python3.7/dist-packages (from factor_analyzer) (1.4.1)\n",
            "Requirement already satisfied: numpy in /usr/local/lib/python3.7/dist-packages (from factor_analyzer) (1.19.5)\n",
            "Requirement already satisfied: scikit-learn in /usr/local/lib/python3.7/dist-packages (from factor_analyzer) (0.22.2.post1)\n",
            "Requirement already satisfied: pytz>=2017.2 in /usr/local/lib/python3.7/dist-packages (from pandas->factor_analyzer) (2018.9)\n",
            "Requirement already satisfied: python-dateutil>=2.7.3 in /usr/local/lib/python3.7/dist-packages (from pandas->factor_analyzer) (2.8.1)\n",
            "Requirement already satisfied: joblib>=0.11 in /usr/local/lib/python3.7/dist-packages (from scikit-learn->factor_analyzer) (1.0.1)\n",
            "Requirement already satisfied: six>=1.5 in /usr/local/lib/python3.7/dist-packages (from python-dateutil>=2.7.3->pandas->factor_analyzer) (1.15.0)\n",
            "Building wheels for collected packages: factor-analyzer\n",
            "  Building wheel for factor-analyzer (setup.py) ... \u001b[?25l\u001b[?25hdone\n",
            "  Created wheel for factor-analyzer: filename=factor_analyzer-0.3.2-cp37-none-any.whl size=40398 sha256=76c77817e2a6bd1335c811a84bbf78bb036e3907720c7700184e92aeb3e36e05\n",
            "  Stored in directory: /root/.cache/pip/wheels/4a/d0/57/f1330cb9c80e82d8d05391c74c94ed61ce3f03bf6157f3d6db\n",
            "Successfully built factor-analyzer\n",
            "Installing collected packages: factor-analyzer\n",
            "Successfully installed factor-analyzer-0.3.2\n"
          ],
          "name": "stdout"
        }
      ]
    },
    {
      "cell_type": "code",
      "metadata": {
        "id": "oVCkLx8i-dWu"
      },
      "source": [
        "from factor_analyzer import FactorAnalyzer\n",
        "from sklearn.decomposition import PCA"
      ],
      "execution_count": 11,
      "outputs": []
    },
    {
      "cell_type": "markdown",
      "metadata": {
        "id": "3TrEJmjJ-hy2"
      },
      "source": [
        " Посмотрим на собственные числа, чтобы определить число главных компонент. Будем сравнивать их с 1 (критерий Кайзера)"
      ]
    },
    {
      "cell_type": "code",
      "metadata": {
        "colab": {
          "base_uri": "https://localhost:8080/"
        },
        "id": "jMZCBnDr-fQs",
        "outputId": "58f84dbd-cf61-4d40-8f27-9d690d3c2b9e"
      },
      "source": [
        "pca = PCA(n_components=16)\n",
        "zzz = pca.fit(X)\n",
        "print((pca.explained_variance_ratio_ * X.shape[1]).round(2))"
      ],
      "execution_count": 12,
      "outputs": [
        {
          "output_type": "stream",
          "text": [
            "[6.54 4.1  1.55 1.47 1.05 0.99 0.95 0.91 0.89 0.87 0.78 0.73 0.68 0.57\n",
            " 0.52 0.4 ]\n"
          ],
          "name": "stdout"
        }
      ]
    },
    {
      "cell_type": "markdown",
      "metadata": {
        "id": "3fFR732W-8sX"
      },
      "source": [
        "Надо оставить 5 факторов"
      ]
    },
    {
      "cell_type": "code",
      "metadata": {
        "id": "BrtG4cJ_-7_A"
      },
      "source": [
        "fa = FactorAnalyzer( n_factors = 5, rotation='varimax',  method = 'minres', \n",
        "                    impute = 'mean',  is_corr_matrix=  False)"
      ],
      "execution_count": 13,
      "outputs": []
    },
    {
      "cell_type": "code",
      "metadata": {
        "colab": {
          "base_uri": "https://localhost:8080/"
        },
        "id": "q6OYr4qD-_gc",
        "outputId": "7804ee79-12f8-4494-eec5-452af3d2f09a"
      },
      "source": [
        "fa.fit(X)"
      ],
      "execution_count": 14,
      "outputs": [
        {
          "output_type": "execute_result",
          "data": {
            "text/plain": [
              "FactorAnalyzer(bounds=(0.005, 1), impute='mean', is_corr_matrix=False,\n",
              "               method='minres', n_factors=5, rotation='varimax',\n",
              "               rotation_kwargs={}, use_smc=True)"
            ]
          },
          "metadata": {
            "tags": []
          },
          "execution_count": 14
        }
      ]
    },
    {
      "cell_type": "markdown",
      "metadata": {
        "id": "mT-bYI1y_EbX"
      },
      "source": [
        "Смотрим распределение факторов"
      ]
    },
    {
      "cell_type": "code",
      "metadata": {
        "colab": {
          "base_uri": "https://localhost:8080/",
          "height": 235
        },
        "id": "a8EQG6Gi_EA-",
        "outputId": "c92841e7-621a-4e3a-fbb1-83af09e41e2d"
      },
      "source": [
        "dfff = pd.DataFrame(X)\n",
        "faLoadingsV = pd.DataFrame(np.vstack((fa.loadings_.T, fa.get_uniquenesses())),\n",
        "                          index = ['Factor 1', 'Factor 2', 'Factor 3', 'Factor 4', 'Factor 5', 'Уникальность'], \n",
        "                           columns = list(df.iloc[:, :-1].columns.values))\n",
        "faLoadingsV.round(3)"
      ],
      "execution_count": 15,
      "outputs": [
        {
          "output_type": "execute_result",
          "data": {
            "text/html": [
              "<div>\n",
              "<style scoped>\n",
              "    .dataframe tbody tr th:only-of-type {\n",
              "        vertical-align: middle;\n",
              "    }\n",
              "\n",
              "    .dataframe tbody tr th {\n",
              "        vertical-align: top;\n",
              "    }\n",
              "\n",
              "    .dataframe thead th {\n",
              "        text-align: right;\n",
              "    }\n",
              "</style>\n",
              "<table border=\"1\" class=\"dataframe\">\n",
              "  <thead>\n",
              "    <tr style=\"text-align: right;\">\n",
              "      <th></th>\n",
              "      <th>ID</th>\n",
              "      <th>LIMIT_BAL</th>\n",
              "      <th>SEX</th>\n",
              "      <th>EDUCATION</th>\n",
              "      <th>MARRIAGE</th>\n",
              "      <th>AGE</th>\n",
              "      <th>PAY_0</th>\n",
              "      <th>PAY_2</th>\n",
              "      <th>PAY_3</th>\n",
              "      <th>PAY_4</th>\n",
              "      <th>PAY_5</th>\n",
              "      <th>PAY_6</th>\n",
              "      <th>BILL_AMT1</th>\n",
              "      <th>BILL_AMT2</th>\n",
              "      <th>BILL_AMT3</th>\n",
              "      <th>BILL_AMT4</th>\n",
              "      <th>BILL_AMT5</th>\n",
              "      <th>BILL_AMT6</th>\n",
              "      <th>PAY_AMT1</th>\n",
              "      <th>PAY_AMT2</th>\n",
              "      <th>PAY_AMT3</th>\n",
              "      <th>PAY_AMT4</th>\n",
              "      <th>PAY_AMT5</th>\n",
              "      <th>PAY_AMT6</th>\n",
              "    </tr>\n",
              "  </thead>\n",
              "  <tbody>\n",
              "    <tr>\n",
              "      <th>Factor 1</th>\n",
              "      <td>0.021</td>\n",
              "      <td>0.268</td>\n",
              "      <td>-0.010</td>\n",
              "      <td>-0.003</td>\n",
              "      <td>-0.005</td>\n",
              "      <td>0.017</td>\n",
              "      <td>0.135</td>\n",
              "      <td>0.144</td>\n",
              "      <td>0.132</td>\n",
              "      <td>0.134</td>\n",
              "      <td>0.143</td>\n",
              "      <td>0.159</td>\n",
              "      <td>0.915</td>\n",
              "      <td>0.931</td>\n",
              "      <td>0.900</td>\n",
              "      <td>0.905</td>\n",
              "      <td>0.884</td>\n",
              "      <td>0.851</td>\n",
              "      <td>0.115</td>\n",
              "      <td>0.067</td>\n",
              "      <td>0.102</td>\n",
              "      <td>0.105</td>\n",
              "      <td>0.121</td>\n",
              "      <td>0.101</td>\n",
              "    </tr>\n",
              "    <tr>\n",
              "      <th>Factor 2</th>\n",
              "      <td>-0.021</td>\n",
              "      <td>-0.353</td>\n",
              "      <td>-0.075</td>\n",
              "      <td>0.144</td>\n",
              "      <td>0.026</td>\n",
              "      <td>-0.039</td>\n",
              "      <td>0.656</td>\n",
              "      <td>0.839</td>\n",
              "      <td>0.844</td>\n",
              "      <td>0.853</td>\n",
              "      <td>0.853</td>\n",
              "      <td>0.771</td>\n",
              "      <td>0.112</td>\n",
              "      <td>0.134</td>\n",
              "      <td>0.151</td>\n",
              "      <td>0.157</td>\n",
              "      <td>0.164</td>\n",
              "      <td>0.165</td>\n",
              "      <td>-0.014</td>\n",
              "      <td>-0.010</td>\n",
              "      <td>-0.028</td>\n",
              "      <td>-0.036</td>\n",
              "      <td>-0.044</td>\n",
              "      <td>-0.035</td>\n",
              "    </tr>\n",
              "    <tr>\n",
              "      <th>Factor 3</th>\n",
              "      <td>0.020</td>\n",
              "      <td>0.393</td>\n",
              "      <td>-0.009</td>\n",
              "      <td>-0.117</td>\n",
              "      <td>-0.013</td>\n",
              "      <td>0.046</td>\n",
              "      <td>-0.144</td>\n",
              "      <td>-0.097</td>\n",
              "      <td>-0.065</td>\n",
              "      <td>-0.049</td>\n",
              "      <td>-0.029</td>\n",
              "      <td>-0.015</td>\n",
              "      <td>0.133</td>\n",
              "      <td>0.174</td>\n",
              "      <td>0.264</td>\n",
              "      <td>0.279</td>\n",
              "      <td>0.299</td>\n",
              "      <td>0.307</td>\n",
              "      <td>0.479</td>\n",
              "      <td>0.489</td>\n",
              "      <td>0.474</td>\n",
              "      <td>0.400</td>\n",
              "      <td>0.345</td>\n",
              "      <td>0.345</td>\n",
              "    </tr>\n",
              "    <tr>\n",
              "      <th>Factor 4</th>\n",
              "      <td>0.039</td>\n",
              "      <td>0.109</td>\n",
              "      <td>-0.053</td>\n",
              "      <td>0.235</td>\n",
              "      <td>-0.529</td>\n",
              "      <td>0.794</td>\n",
              "      <td>-0.010</td>\n",
              "      <td>-0.013</td>\n",
              "      <td>-0.024</td>\n",
              "      <td>-0.024</td>\n",
              "      <td>-0.034</td>\n",
              "      <td>-0.036</td>\n",
              "      <td>0.053</td>\n",
              "      <td>0.047</td>\n",
              "      <td>0.043</td>\n",
              "      <td>0.037</td>\n",
              "      <td>0.033</td>\n",
              "      <td>0.029</td>\n",
              "      <td>0.004</td>\n",
              "      <td>0.003</td>\n",
              "      <td>0.006</td>\n",
              "      <td>0.006</td>\n",
              "      <td>0.004</td>\n",
              "      <td>0.008</td>\n",
              "    </tr>\n",
              "    <tr>\n",
              "      <th>Factor 5</th>\n",
              "      <td>0.004</td>\n",
              "      <td>0.037</td>\n",
              "      <td>0.031</td>\n",
              "      <td>-0.037</td>\n",
              "      <td>-0.009</td>\n",
              "      <td>0.015</td>\n",
              "      <td>-0.199</td>\n",
              "      <td>-0.322</td>\n",
              "      <td>-0.091</td>\n",
              "      <td>0.162</td>\n",
              "      <td>0.383</td>\n",
              "      <td>0.318</td>\n",
              "      <td>-0.081</td>\n",
              "      <td>-0.065</td>\n",
              "      <td>-0.016</td>\n",
              "      <td>0.061</td>\n",
              "      <td>0.081</td>\n",
              "      <td>0.061</td>\n",
              "      <td>0.017</td>\n",
              "      <td>0.031</td>\n",
              "      <td>0.051</td>\n",
              "      <td>0.003</td>\n",
              "      <td>-0.039</td>\n",
              "      <td>-0.038</td>\n",
              "    </tr>\n",
              "    <tr>\n",
              "      <th>Уникальность</th>\n",
              "      <td>0.997</td>\n",
              "      <td>0.635</td>\n",
              "      <td>0.990</td>\n",
              "      <td>0.909</td>\n",
              "      <td>0.720</td>\n",
              "      <td>0.365</td>\n",
              "      <td>0.491</td>\n",
              "      <td>0.162</td>\n",
              "      <td>0.258</td>\n",
              "      <td>0.225</td>\n",
              "      <td>0.104</td>\n",
              "      <td>0.278</td>\n",
              "      <td>0.123</td>\n",
              "      <td>0.079</td>\n",
              "      <td>0.095</td>\n",
              "      <td>0.072</td>\n",
              "      <td>0.095</td>\n",
              "      <td>0.150</td>\n",
              "      <td>0.757</td>\n",
              "      <td>0.755</td>\n",
              "      <td>0.762</td>\n",
              "      <td>0.828</td>\n",
              "      <td>0.863</td>\n",
              "      <td>0.868</td>\n",
              "    </tr>\n",
              "  </tbody>\n",
              "</table>\n",
              "</div>"
            ],
            "text/plain": [
              "                 ID  LIMIT_BAL    SEX  ...  PAY_AMT4  PAY_AMT5  PAY_AMT6\n",
              "Factor 1      0.021      0.268 -0.010  ...     0.105     0.121     0.101\n",
              "Factor 2     -0.021     -0.353 -0.075  ...    -0.036    -0.044    -0.035\n",
              "Factor 3      0.020      0.393 -0.009  ...     0.400     0.345     0.345\n",
              "Factor 4      0.039      0.109 -0.053  ...     0.006     0.004     0.008\n",
              "Factor 5      0.004      0.037  0.031  ...     0.003    -0.039    -0.038\n",
              "Уникальность  0.997      0.635  0.990  ...     0.828     0.863     0.868\n",
              "\n",
              "[6 rows x 24 columns]"
            ]
          },
          "metadata": {
            "tags": []
          },
          "execution_count": 15
        }
      ]
    },
    {
      "cell_type": "code",
      "metadata": {
        "colab": {
          "base_uri": "https://localhost:8080/",
          "height": 419
        },
        "id": "asAWjlUV_JjT",
        "outputId": "e76ef11c-5f23-488a-f415-d5cace0242e9"
      },
      "source": [
        "factors_2 = pd.DataFrame(fa.transform(X), columns = ['F1', 'F2','F3', 'F4','F5'])\n",
        "factors_2"
      ],
      "execution_count": 16,
      "outputs": [
        {
          "output_type": "execute_result",
          "data": {
            "text/html": [
              "<div>\n",
              "<style scoped>\n",
              "    .dataframe tbody tr th:only-of-type {\n",
              "        vertical-align: middle;\n",
              "    }\n",
              "\n",
              "    .dataframe tbody tr th {\n",
              "        vertical-align: top;\n",
              "    }\n",
              "\n",
              "    .dataframe thead th {\n",
              "        text-align: right;\n",
              "    }\n",
              "</style>\n",
              "<table border=\"1\" class=\"dataframe\">\n",
              "  <thead>\n",
              "    <tr style=\"text-align: right;\">\n",
              "      <th></th>\n",
              "      <th>F1</th>\n",
              "      <th>F2</th>\n",
              "      <th>F3</th>\n",
              "      <th>F4</th>\n",
              "      <th>F5</th>\n",
              "    </tr>\n",
              "  </thead>\n",
              "  <tbody>\n",
              "    <tr>\n",
              "      <th>0</th>\n",
              "      <td>-0.510623</td>\n",
              "      <td>-0.049181</td>\n",
              "      <td>-0.606179</td>\n",
              "      <td>-0.561856</td>\n",
              "      <td>-3.103295</td>\n",
              "    </tr>\n",
              "    <tr>\n",
              "      <th>1</th>\n",
              "      <td>-0.723534</td>\n",
              "      <td>0.909204</td>\n",
              "      <td>-0.191775</td>\n",
              "      <td>-0.906336</td>\n",
              "      <td>-0.665232</td>\n",
              "    </tr>\n",
              "    <tr>\n",
              "      <th>2</th>\n",
              "      <td>-0.425374</td>\n",
              "      <td>0.231591</td>\n",
              "      <td>-0.334857</td>\n",
              "      <td>-0.318916</td>\n",
              "      <td>0.150333</td>\n",
              "    </tr>\n",
              "    <tr>\n",
              "      <th>3</th>\n",
              "      <td>-0.069733</td>\n",
              "      <td>0.215902</td>\n",
              "      <td>-0.414243</td>\n",
              "      <td>0.342635</td>\n",
              "      <td>0.070593</td>\n",
              "    </tr>\n",
              "    <tr>\n",
              "      <th>4</th>\n",
              "      <td>-0.644775</td>\n",
              "      <td>0.197679</td>\n",
              "      <td>0.312826</td>\n",
              "      <td>1.796241</td>\n",
              "      <td>0.411046</td>\n",
              "    </tr>\n",
              "    <tr>\n",
              "      <th>...</th>\n",
              "      <td>...</td>\n",
              "      <td>...</td>\n",
              "      <td>...</td>\n",
              "      <td>...</td>\n",
              "      <td>...</td>\n",
              "    </tr>\n",
              "    <tr>\n",
              "      <th>29995</th>\n",
              "      <td>1.218738</td>\n",
              "      <td>0.060464</td>\n",
              "      <td>-0.202413</td>\n",
              "      <td>0.723477</td>\n",
              "      <td>-0.654046</td>\n",
              "    </tr>\n",
              "    <tr>\n",
              "      <th>29996</th>\n",
              "      <td>-0.611871</td>\n",
              "      <td>-0.322310</td>\n",
              "      <td>-0.167284</td>\n",
              "      <td>0.473153</td>\n",
              "      <td>1.053644</td>\n",
              "    </tr>\n",
              "    <tr>\n",
              "      <th>29997</th>\n",
              "      <td>-0.752185</td>\n",
              "      <td>1.550850</td>\n",
              "      <td>-0.063516</td>\n",
              "      <td>-0.010242</td>\n",
              "      <td>-2.409036</td>\n",
              "    </tr>\n",
              "    <tr>\n",
              "      <th>29998</th>\n",
              "      <td>-0.443790</td>\n",
              "      <td>0.191108</td>\n",
              "      <td>1.435135</td>\n",
              "      <td>0.723778</td>\n",
              "      <td>0.229472</td>\n",
              "    </tr>\n",
              "    <tr>\n",
              "      <th>29999</th>\n",
              "      <td>-0.056766</td>\n",
              "      <td>0.226027</td>\n",
              "      <td>-0.429861</td>\n",
              "      <td>1.068085</td>\n",
              "      <td>0.172844</td>\n",
              "    </tr>\n",
              "  </tbody>\n",
              "</table>\n",
              "<p>30000 rows × 5 columns</p>\n",
              "</div>"
            ],
            "text/plain": [
              "             F1        F2        F3        F4        F5\n",
              "0     -0.510623 -0.049181 -0.606179 -0.561856 -3.103295\n",
              "1     -0.723534  0.909204 -0.191775 -0.906336 -0.665232\n",
              "2     -0.425374  0.231591 -0.334857 -0.318916  0.150333\n",
              "3     -0.069733  0.215902 -0.414243  0.342635  0.070593\n",
              "4     -0.644775  0.197679  0.312826  1.796241  0.411046\n",
              "...         ...       ...       ...       ...       ...\n",
              "29995  1.218738  0.060464 -0.202413  0.723477 -0.654046\n",
              "29996 -0.611871 -0.322310 -0.167284  0.473153  1.053644\n",
              "29997 -0.752185  1.550850 -0.063516 -0.010242 -2.409036\n",
              "29998 -0.443790  0.191108  1.435135  0.723778  0.229472\n",
              "29999 -0.056766  0.226027 -0.429861  1.068085  0.172844\n",
              "\n",
              "[30000 rows x 5 columns]"
            ]
          },
          "metadata": {
            "tags": []
          },
          "execution_count": 16
        }
      ]
    },
    {
      "cell_type": "markdown",
      "metadata": {
        "id": "_dRBAcbe_Lah"
      },
      "source": [
        "Собираем предыдущие предикторы и факторы для работы с новой моделью"
      ]
    },
    {
      "cell_type": "code",
      "metadata": {
        "colab": {
          "base_uri": "https://localhost:8080/",
          "height": 439
        },
        "id": "HdIxW3nz_MtI",
        "outputId": "237beee1-71f2-46d9-8d7b-91fa4ac899f7"
      },
      "source": [
        "X = pd.DataFrame(X)\n",
        "df_full = X.merge(factors_2, left_index=True, right_index=True)\n",
        "df_full"
      ],
      "execution_count": 17,
      "outputs": [
        {
          "output_type": "execute_result",
          "data": {
            "text/html": [
              "<div>\n",
              "<style scoped>\n",
              "    .dataframe tbody tr th:only-of-type {\n",
              "        vertical-align: middle;\n",
              "    }\n",
              "\n",
              "    .dataframe tbody tr th {\n",
              "        vertical-align: top;\n",
              "    }\n",
              "\n",
              "    .dataframe thead th {\n",
              "        text-align: right;\n",
              "    }\n",
              "</style>\n",
              "<table border=\"1\" class=\"dataframe\">\n",
              "  <thead>\n",
              "    <tr style=\"text-align: right;\">\n",
              "      <th></th>\n",
              "      <th>0</th>\n",
              "      <th>1</th>\n",
              "      <th>2</th>\n",
              "      <th>3</th>\n",
              "      <th>4</th>\n",
              "      <th>5</th>\n",
              "      <th>6</th>\n",
              "      <th>7</th>\n",
              "      <th>8</th>\n",
              "      <th>9</th>\n",
              "      <th>10</th>\n",
              "      <th>11</th>\n",
              "      <th>12</th>\n",
              "      <th>13</th>\n",
              "      <th>14</th>\n",
              "      <th>15</th>\n",
              "      <th>16</th>\n",
              "      <th>17</th>\n",
              "      <th>18</th>\n",
              "      <th>19</th>\n",
              "      <th>20</th>\n",
              "      <th>21</th>\n",
              "      <th>22</th>\n",
              "      <th>23</th>\n",
              "      <th>F1</th>\n",
              "      <th>F2</th>\n",
              "      <th>F3</th>\n",
              "      <th>F4</th>\n",
              "      <th>F5</th>\n",
              "    </tr>\n",
              "  </thead>\n",
              "  <tbody>\n",
              "    <tr>\n",
              "      <th>0</th>\n",
              "      <td>-1.731993</td>\n",
              "      <td>-1.136720</td>\n",
              "      <td>0.810161</td>\n",
              "      <td>0.185828</td>\n",
              "      <td>-1.057295</td>\n",
              "      <td>-1.246020</td>\n",
              "      <td>1.794564</td>\n",
              "      <td>1.782348</td>\n",
              "      <td>-0.696663</td>\n",
              "      <td>-0.666599</td>\n",
              "      <td>-1.530046</td>\n",
              "      <td>-1.486041</td>\n",
              "      <td>-0.642501</td>\n",
              "      <td>-0.647399</td>\n",
              "      <td>-0.667993</td>\n",
              "      <td>-0.672497</td>\n",
              "      <td>-0.663059</td>\n",
              "      <td>-0.652724</td>\n",
              "      <td>-0.341942</td>\n",
              "      <td>-0.227086</td>\n",
              "      <td>-0.296801</td>\n",
              "      <td>-0.308063</td>\n",
              "      <td>-0.314136</td>\n",
              "      <td>-0.293382</td>\n",
              "      <td>-0.510623</td>\n",
              "      <td>-0.049181</td>\n",
              "      <td>-0.606179</td>\n",
              "      <td>-0.561856</td>\n",
              "      <td>-3.103295</td>\n",
              "    </tr>\n",
              "    <tr>\n",
              "      <th>1</th>\n",
              "      <td>-1.731878</td>\n",
              "      <td>-0.365981</td>\n",
              "      <td>0.810161</td>\n",
              "      <td>0.185828</td>\n",
              "      <td>0.858557</td>\n",
              "      <td>-1.029047</td>\n",
              "      <td>-0.874991</td>\n",
              "      <td>1.782348</td>\n",
              "      <td>0.138865</td>\n",
              "      <td>0.188746</td>\n",
              "      <td>0.234917</td>\n",
              "      <td>1.992316</td>\n",
              "      <td>-0.659219</td>\n",
              "      <td>-0.666747</td>\n",
              "      <td>-0.639254</td>\n",
              "      <td>-0.621636</td>\n",
              "      <td>-0.606229</td>\n",
              "      <td>-0.597966</td>\n",
              "      <td>-0.341942</td>\n",
              "      <td>-0.213588</td>\n",
              "      <td>-0.240005</td>\n",
              "      <td>-0.244230</td>\n",
              "      <td>-0.314136</td>\n",
              "      <td>-0.180878</td>\n",
              "      <td>-0.723534</td>\n",
              "      <td>0.909204</td>\n",
              "      <td>-0.191775</td>\n",
              "      <td>-0.906336</td>\n",
              "      <td>-0.665232</td>\n",
              "    </tr>\n",
              "    <tr>\n",
              "      <th>2</th>\n",
              "      <td>-1.731762</td>\n",
              "      <td>-0.597202</td>\n",
              "      <td>0.810161</td>\n",
              "      <td>0.185828</td>\n",
              "      <td>0.858557</td>\n",
              "      <td>-0.161156</td>\n",
              "      <td>0.014861</td>\n",
              "      <td>0.111736</td>\n",
              "      <td>0.138865</td>\n",
              "      <td>0.188746</td>\n",
              "      <td>0.234917</td>\n",
              "      <td>0.253137</td>\n",
              "      <td>-0.298560</td>\n",
              "      <td>-0.493899</td>\n",
              "      <td>-0.482408</td>\n",
              "      <td>-0.449730</td>\n",
              "      <td>-0.417188</td>\n",
              "      <td>-0.391630</td>\n",
              "      <td>-0.250292</td>\n",
              "      <td>-0.191887</td>\n",
              "      <td>-0.240005</td>\n",
              "      <td>-0.244230</td>\n",
              "      <td>-0.248683</td>\n",
              "      <td>-0.012122</td>\n",
              "      <td>-0.425374</td>\n",
              "      <td>0.231591</td>\n",
              "      <td>-0.334857</td>\n",
              "      <td>-0.318916</td>\n",
              "      <td>0.150333</td>\n",
              "    </tr>\n",
              "    <tr>\n",
              "      <th>3</th>\n",
              "      <td>-1.731647</td>\n",
              "      <td>-0.905498</td>\n",
              "      <td>0.810161</td>\n",
              "      <td>0.185828</td>\n",
              "      <td>-1.057295</td>\n",
              "      <td>0.164303</td>\n",
              "      <td>0.014861</td>\n",
              "      <td>0.111736</td>\n",
              "      <td>0.138865</td>\n",
              "      <td>0.188746</td>\n",
              "      <td>0.234917</td>\n",
              "      <td>0.253137</td>\n",
              "      <td>-0.057491</td>\n",
              "      <td>-0.013293</td>\n",
              "      <td>0.032846</td>\n",
              "      <td>-0.232373</td>\n",
              "      <td>-0.186729</td>\n",
              "      <td>-0.156579</td>\n",
              "      <td>-0.221191</td>\n",
              "      <td>-0.169361</td>\n",
              "      <td>-0.228645</td>\n",
              "      <td>-0.237846</td>\n",
              "      <td>-0.244166</td>\n",
              "      <td>-0.237130</td>\n",
              "      <td>-0.069733</td>\n",
              "      <td>0.215902</td>\n",
              "      <td>-0.414243</td>\n",
              "      <td>0.342635</td>\n",
              "      <td>0.070593</td>\n",
              "    </tr>\n",
              "    <tr>\n",
              "      <th>4</th>\n",
              "      <td>-1.731531</td>\n",
              "      <td>-0.905498</td>\n",
              "      <td>-1.234323</td>\n",
              "      <td>0.185828</td>\n",
              "      <td>-1.057295</td>\n",
              "      <td>2.334029</td>\n",
              "      <td>-0.874991</td>\n",
              "      <td>0.111736</td>\n",
              "      <td>-0.696663</td>\n",
              "      <td>0.188746</td>\n",
              "      <td>0.234917</td>\n",
              "      <td>0.253137</td>\n",
              "      <td>-0.578618</td>\n",
              "      <td>-0.611318</td>\n",
              "      <td>-0.161189</td>\n",
              "      <td>-0.346997</td>\n",
              "      <td>-0.348137</td>\n",
              "      <td>-0.331482</td>\n",
              "      <td>-0.221191</td>\n",
              "      <td>1.335034</td>\n",
              "      <td>0.271165</td>\n",
              "      <td>0.266434</td>\n",
              "      <td>-0.269039</td>\n",
              "      <td>-0.255187</td>\n",
              "      <td>-0.644775</td>\n",
              "      <td>0.197679</td>\n",
              "      <td>0.312826</td>\n",
              "      <td>1.796241</td>\n",
              "      <td>0.411046</td>\n",
              "    </tr>\n",
              "    <tr>\n",
              "      <th>...</th>\n",
              "      <td>...</td>\n",
              "      <td>...</td>\n",
              "      <td>...</td>\n",
              "      <td>...</td>\n",
              "      <td>...</td>\n",
              "      <td>...</td>\n",
              "      <td>...</td>\n",
              "      <td>...</td>\n",
              "      <td>...</td>\n",
              "      <td>...</td>\n",
              "      <td>...</td>\n",
              "      <td>...</td>\n",
              "      <td>...</td>\n",
              "      <td>...</td>\n",
              "      <td>...</td>\n",
              "      <td>...</td>\n",
              "      <td>...</td>\n",
              "      <td>...</td>\n",
              "      <td>...</td>\n",
              "      <td>...</td>\n",
              "      <td>...</td>\n",
              "      <td>...</td>\n",
              "      <td>...</td>\n",
              "      <td>...</td>\n",
              "      <td>...</td>\n",
              "      <td>...</td>\n",
              "      <td>...</td>\n",
              "      <td>...</td>\n",
              "      <td>...</td>\n",
              "    </tr>\n",
              "    <tr>\n",
              "      <th>29995</th>\n",
              "      <td>1.731531</td>\n",
              "      <td>0.404759</td>\n",
              "      <td>-1.234323</td>\n",
              "      <td>1.451114</td>\n",
              "      <td>-1.057295</td>\n",
              "      <td>0.381275</td>\n",
              "      <td>0.014861</td>\n",
              "      <td>0.111736</td>\n",
              "      <td>0.138865</td>\n",
              "      <td>0.188746</td>\n",
              "      <td>0.234917</td>\n",
              "      <td>0.253137</td>\n",
              "      <td>1.870379</td>\n",
              "      <td>2.018136</td>\n",
              "      <td>2.326690</td>\n",
              "      <td>0.695474</td>\n",
              "      <td>-0.149259</td>\n",
              "      <td>-0.384392</td>\n",
              "      <td>0.171250</td>\n",
              "      <td>0.611048</td>\n",
              "      <td>-0.012648</td>\n",
              "      <td>-0.113564</td>\n",
              "      <td>0.013131</td>\n",
              "      <td>-0.237130</td>\n",
              "      <td>1.218738</td>\n",
              "      <td>0.060464</td>\n",
              "      <td>-0.202413</td>\n",
              "      <td>0.723477</td>\n",
              "      <td>-0.654046</td>\n",
              "    </tr>\n",
              "    <tr>\n",
              "      <th>29996</th>\n",
              "      <td>1.731647</td>\n",
              "      <td>-0.134759</td>\n",
              "      <td>-1.234323</td>\n",
              "      <td>1.451114</td>\n",
              "      <td>0.858557</td>\n",
              "      <td>0.815221</td>\n",
              "      <td>-0.874991</td>\n",
              "      <td>-0.723570</td>\n",
              "      <td>-0.696663</td>\n",
              "      <td>-0.666599</td>\n",
              "      <td>0.234917</td>\n",
              "      <td>0.253137</td>\n",
              "      <td>-0.672786</td>\n",
              "      <td>-0.665299</td>\n",
              "      <td>-0.627430</td>\n",
              "      <td>-0.532924</td>\n",
              "      <td>-0.577691</td>\n",
              "      <td>-0.652724</td>\n",
              "      <td>-0.231032</td>\n",
              "      <td>-0.103955</td>\n",
              "      <td>0.214255</td>\n",
              "      <td>-0.299828</td>\n",
              "      <td>-0.314136</td>\n",
              "      <td>-0.293382</td>\n",
              "      <td>-0.611871</td>\n",
              "      <td>-0.322310</td>\n",
              "      <td>-0.167284</td>\n",
              "      <td>0.473153</td>\n",
              "      <td>1.053644</td>\n",
              "    </tr>\n",
              "    <tr>\n",
              "      <th>29997</th>\n",
              "      <td>1.731762</td>\n",
              "      <td>-1.059646</td>\n",
              "      <td>-1.234323</td>\n",
              "      <td>0.185828</td>\n",
              "      <td>0.858557</td>\n",
              "      <td>0.164303</td>\n",
              "      <td>3.574267</td>\n",
              "      <td>2.617654</td>\n",
              "      <td>1.809921</td>\n",
              "      <td>-0.666599</td>\n",
              "      <td>0.234917</td>\n",
              "      <td>0.253137</td>\n",
              "      <td>-0.647227</td>\n",
              "      <td>-0.643830</td>\n",
              "      <td>-0.638158</td>\n",
              "      <td>-0.347961</td>\n",
              "      <td>-0.324517</td>\n",
              "      <td>-0.327687</td>\n",
              "      <td>-0.341942</td>\n",
              "      <td>-0.256990</td>\n",
              "      <td>0.952725</td>\n",
              "      <td>-0.039964</td>\n",
              "      <td>-0.183229</td>\n",
              "      <td>-0.119001</td>\n",
              "      <td>-0.752185</td>\n",
              "      <td>1.550850</td>\n",
              "      <td>-0.063516</td>\n",
              "      <td>-0.010242</td>\n",
              "      <td>-2.409036</td>\n",
              "    </tr>\n",
              "    <tr>\n",
              "      <th>29998</th>\n",
              "      <td>1.731878</td>\n",
              "      <td>-0.674276</td>\n",
              "      <td>-1.234323</td>\n",
              "      <td>1.451114</td>\n",
              "      <td>-1.057295</td>\n",
              "      <td>0.598248</td>\n",
              "      <td>0.904712</td>\n",
              "      <td>-0.723570</td>\n",
              "      <td>0.138865</td>\n",
              "      <td>0.188746</td>\n",
              "      <td>0.234917</td>\n",
              "      <td>-0.616452</td>\n",
              "      <td>-0.717982</td>\n",
              "      <td>0.410269</td>\n",
              "      <td>0.422373</td>\n",
              "      <td>0.147844</td>\n",
              "      <td>-0.468063</td>\n",
              "      <td>0.169130</td>\n",
              "      <td>4.844316</td>\n",
              "      <td>-0.109033</td>\n",
              "      <td>-0.229895</td>\n",
              "      <td>-0.185120</td>\n",
              "      <td>3.152536</td>\n",
              "      <td>-0.191904</td>\n",
              "      <td>-0.443790</td>\n",
              "      <td>0.191108</td>\n",
              "      <td>1.435135</td>\n",
              "      <td>0.723778</td>\n",
              "      <td>0.229472</td>\n",
              "    </tr>\n",
              "    <tr>\n",
              "      <th>29999</th>\n",
              "      <td>1.731993</td>\n",
              "      <td>-0.905498</td>\n",
              "      <td>-1.234323</td>\n",
              "      <td>0.185828</td>\n",
              "      <td>-1.057295</td>\n",
              "      <td>1.140680</td>\n",
              "      <td>0.014861</td>\n",
              "      <td>0.111736</td>\n",
              "      <td>0.138865</td>\n",
              "      <td>0.188746</td>\n",
              "      <td>0.234917</td>\n",
              "      <td>0.253137</td>\n",
              "      <td>-0.044739</td>\n",
              "      <td>-0.003851</td>\n",
              "      <td>0.039667</td>\n",
              "      <td>-0.104582</td>\n",
              "      <td>-0.129669</td>\n",
              "      <td>-0.395592</td>\n",
              "      <td>-0.216481</td>\n",
              "      <td>-0.178866</td>\n",
              "      <td>-0.215582</td>\n",
              "      <td>-0.244230</td>\n",
              "      <td>-0.248683</td>\n",
              "      <td>-0.237130</td>\n",
              "      <td>-0.056766</td>\n",
              "      <td>0.226027</td>\n",
              "      <td>-0.429861</td>\n",
              "      <td>1.068085</td>\n",
              "      <td>0.172844</td>\n",
              "    </tr>\n",
              "  </tbody>\n",
              "</table>\n",
              "<p>30000 rows × 29 columns</p>\n",
              "</div>"
            ],
            "text/plain": [
              "              0         1         2  ...        F3        F4        F5\n",
              "0     -1.731993 -1.136720  0.810161  ... -0.606179 -0.561856 -3.103295\n",
              "1     -1.731878 -0.365981  0.810161  ... -0.191775 -0.906336 -0.665232\n",
              "2     -1.731762 -0.597202  0.810161  ... -0.334857 -0.318916  0.150333\n",
              "3     -1.731647 -0.905498  0.810161  ... -0.414243  0.342635  0.070593\n",
              "4     -1.731531 -0.905498 -1.234323  ...  0.312826  1.796241  0.411046\n",
              "...         ...       ...       ...  ...       ...       ...       ...\n",
              "29995  1.731531  0.404759 -1.234323  ... -0.202413  0.723477 -0.654046\n",
              "29996  1.731647 -0.134759 -1.234323  ... -0.167284  0.473153  1.053644\n",
              "29997  1.731762 -1.059646 -1.234323  ... -0.063516 -0.010242 -2.409036\n",
              "29998  1.731878 -0.674276 -1.234323  ...  1.435135  0.723778  0.229472\n",
              "29999  1.731993 -0.905498 -1.234323  ... -0.429861  1.068085  0.172844\n",
              "\n",
              "[30000 rows x 29 columns]"
            ]
          },
          "metadata": {
            "tags": []
          },
          "execution_count": 17
        }
      ]
    },
    {
      "cell_type": "markdown",
      "metadata": {
        "id": "e8JySW23_UYK"
      },
      "source": [
        "Проверка улучшения модели"
      ]
    },
    {
      "cell_type": "markdown",
      "metadata": {
        "id": "fbdHXOQh_XIb"
      },
      "source": [
        "Модель для нового датасета с факторами"
      ]
    },
    {
      "cell_type": "code",
      "metadata": {
        "id": "Vtc3J7v9_aoz"
      },
      "source": [
        "X1 = pd.DataFrame((preprocessing.StandardScaler().fit_transform(df_full)).astype('float64'))\n",
        "X_train1, X_test1, Y_train1, Y_test1 = train_test_split(X1, Y, test_size=0.3,random_state=7787)"
      ],
      "execution_count": 18,
      "outputs": []
    },
    {
      "cell_type": "code",
      "metadata": {
        "colab": {
          "base_uri": "https://localhost:8080/"
        },
        "id": "QRp8qLqb_5sp",
        "outputId": "b2feb15c-4b66-492e-be0d-8b2458fc4282"
      },
      "source": [
        "from sklearn.ensemble import GradientBoostingClassifier\n",
        "\n",
        "xgb_res1 = GridSearchCV(error_score='raise',\n",
        "                        estimator=model, param_grid=grid_param, cv=2, \n",
        "                               pre_dispatch='2*n_jobs', refit=True, scoring='accuracy', verbose=0)\n",
        "\n",
        "xgb_res1.fit(X_train1, Y_train1)\n",
        "\n",
        "xgb_res1.best_params_, xgb_res1.best_score_"
      ],
      "execution_count": 19,
      "outputs": [
        {
          "output_type": "execute_result",
          "data": {
            "text/plain": [
              "({'max_depth': 4, 'n_estimators': 100}, 0.8206190476190476)"
            ]
          },
          "metadata": {
            "tags": []
          },
          "execution_count": 19
        }
      ]
    },
    {
      "cell_type": "code",
      "metadata": {
        "colab": {
          "base_uri": "https://localhost:8080/",
          "height": 265
        },
        "id": "OVW-dUQ3_8IE",
        "outputId": "5d615648-e5f4-472e-a142-c8ecf076edb3"
      },
      "source": [
        "probs = xgb_res1.predict_proba(X_test1)[:,1]\n",
        "fop, mpv = calibration_curve(Y_test1, probs, n_bins=10)\n",
        "# plot perfectly calibrated\n",
        "pyplot.plot([0, 1], [0, 1], linestyle='--')\n",
        "# plot model reliability\n",
        "pyplot.plot(mpv, fop, marker='.')\n",
        "pyplot.show()"
      ],
      "execution_count": 20,
      "outputs": [
        {
          "output_type": "display_data",
          "data": {
            "image/png": "[encoded data removed]",
            "text/plain": [
              "<Figure size 432x288 with 1 Axes>"
            ]
          },
          "metadata": {
            "tags": [],
            "needs_background": "light"
          }
        }
      ]
    },
    {
      "cell_type": "code",
      "metadata": {
        "colab": {
          "base_uri": "https://localhost:8080/"
        },
        "id": "Pm7TM6jcADeX",
        "outputId": "90f4859d-1eee-41b1-d36e-8c9b4e2913be"
      },
      "source": [
        "print('Befor factor ', accuracy_score(Y_test, xgb_res.predict(X_test)))\n",
        "print('After factor ', accuracy_score(Y_test1, xgb_res1.predict(X_test1)))"
      ],
      "execution_count": 21,
      "outputs": [
        {
          "output_type": "stream",
          "text": [
            "Befor factor  0.8206666666666667\n",
            "After factor  0.8206666666666667\n"
          ],
          "name": "stdout"
        }
      ]
    },
    {
      "cell_type": "markdown",
      "metadata": {
        "id": "aYZ6GwXXUNfq"
      },
      "source": [
        "## Вывод\n",
        "\n",
        "По результатам работы была построена модель для определения тех людей, которые выплатят кредит. А так же был произведён факторный анализ"
      ]
    }
  ]
}