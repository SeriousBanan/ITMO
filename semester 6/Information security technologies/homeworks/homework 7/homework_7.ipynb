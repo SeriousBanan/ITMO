{
  "nbformat": 4,
  "nbformat_minor": 0,
  "metadata": {
    "kernelspec": {
      "display_name": "Python 3",
      "language": "python",
      "name": "python3"
    },
    "language_info": {
      "codemirror_mode": {
        "name": "ipython",
        "version": 3
      },
      "file_extension": ".py",
      "mimetype": "text/x-python",
      "name": "python",
      "nbconvert_exporter": "python",
      "pygments_lexer": "ipython3",
      "version": "3.8.5"
    },
    "colab": {
      "name": "homework_1 (5).ipynb",
      "provenance": [],
      "collapsed_sections": []
    }
  },
  "cells": [
    {
      "cell_type": "markdown",
      "metadata": {
        "collapsed": true,
        "id": "LVSlp4RUUNfj"
      },
      "source": [
        "# Домашняя работа 7. Пропущенные значения\n",
        "\n",
        "Вариант с кредитами.\n",
        "\n",
        "Лазарев Эдуард Артемович\n",
        "N33471"
      ]
    },
    {
      "cell_type": "code",
      "metadata": {
        "id": "s2D5VLHwUNfl",
        "colab": {
          "base_uri": "https://localhost:8080/"
        },
        "outputId": "514bc2f0-2d4d-4c4a-d7e7-e65becadee7a"
      },
      "source": [
        "import numpy as np\n",
        "import pandas as pd\n",
        "\n",
        "import matplotlib\n",
        "import matplotlib.pyplot as plt\n",
        "%matplotlib inline\n",
        "plt.rcParams[\"figure.figsize\"] = [12, 12]\n",
        "\n",
        "!pip install impyute\n",
        "import impyute as impy\n",
        "from scipy import stats\n",
        "\n",
        "!pip install scikit-learn==0.22.1\n",
        "!pip install impyute\n",
        "import impyute as impy\n",
        "!pip install missingpy\n",
        "from missingpy import MissForest"
      ],
      "execution_count": 1,
      "outputs": [
        {
          "output_type": "stream",
          "text": [
            "Requirement already satisfied: impyute in /usr/local/lib/python3.7/dist-packages (0.0.8)\n",
            "Requirement already satisfied: scikit-learn in /usr/local/lib/python3.7/dist-packages (from impyute) (0.22.1)\n",
            "Requirement already satisfied: scipy in /usr/local/lib/python3.7/dist-packages (from impyute) (1.4.1)\n",
            "Requirement already satisfied: numpy in /usr/local/lib/python3.7/dist-packages (from impyute) (1.19.5)\n",
            "Requirement already satisfied: joblib>=0.11 in /usr/local/lib/python3.7/dist-packages (from scikit-learn->impyute) (1.0.1)\n",
            "Requirement already satisfied: scikit-learn==0.22.1 in /usr/local/lib/python3.7/dist-packages (0.22.1)\n",
            "Requirement already satisfied: scipy>=0.17.0 in /usr/local/lib/python3.7/dist-packages (from scikit-learn==0.22.1) (1.4.1)\n",
            "Requirement already satisfied: numpy>=1.11.0 in /usr/local/lib/python3.7/dist-packages (from scikit-learn==0.22.1) (1.19.5)\n",
            "Requirement already satisfied: joblib>=0.11 in /usr/local/lib/python3.7/dist-packages (from scikit-learn==0.22.1) (1.0.1)\n",
            "Requirement already satisfied: impyute in /usr/local/lib/python3.7/dist-packages (0.0.8)\n",
            "Requirement already satisfied: scikit-learn in /usr/local/lib/python3.7/dist-packages (from impyute) (0.22.1)\n",
            "Requirement already satisfied: numpy in /usr/local/lib/python3.7/dist-packages (from impyute) (1.19.5)\n",
            "Requirement already satisfied: scipy in /usr/local/lib/python3.7/dist-packages (from impyute) (1.4.1)\n",
            "Requirement already satisfied: joblib>=0.11 in /usr/local/lib/python3.7/dist-packages (from scikit-learn->impyute) (1.0.1)\n",
            "Requirement already satisfied: missingpy in /usr/local/lib/python3.7/dist-packages (0.2.0)\n"
          ],
          "name": "stdout"
        },
        {
          "output_type": "stream",
          "text": [
            "/usr/local/lib/python3.7/dist-packages/sklearn/utils/deprecation.py:144: FutureWarning: The sklearn.neighbors.base module is  deprecated in version 0.22 and will be removed in version 0.24. The corresponding classes / functions should instead be imported from sklearn.neighbors. Anything that cannot be imported from sklearn.neighbors is now part of the private API.\n",
            "  warnings.warn(message, FutureWarning)\n"
          ],
          "name": "stderr"
        }
      ]
    },
    {
      "cell_type": "code",
      "metadata": {
        "colab": {
          "base_uri": "https://localhost:8080/"
        },
        "id": "8niSVBWGUNfm",
        "outputId": "c39f8085-e8b4-469f-9d7a-dc13355072d6"
      },
      "source": [
        "# Загружаем данные\n",
        "df = pd.read_csv(\"default of credit card clients.csv\", decimal=\",\", delimiter=\";\")\n",
        "len(df)"
      ],
      "execution_count": 2,
      "outputs": [
        {
          "output_type": "execute_result",
          "data": {
            "text/plain": [
              "30000"
            ]
          },
          "metadata": {
            "tags": []
          },
          "execution_count": 2
        }
      ]
    },
    {
      "cell_type": "markdown",
      "metadata": {
        "id": "PfSThfxaUNfn"
      },
      "source": [
        "Проверяем правильность данных"
      ]
    },
    {
      "cell_type": "code",
      "metadata": {
        "colab": {
          "base_uri": "https://localhost:8080/",
          "height": 419
        },
        "id": "koB0L-u7UNfn",
        "outputId": "1cfad028-ec1a-4dad-a79d-e6b9d860e06a"
      },
      "source": [
        "df"
      ],
      "execution_count": 3,
      "outputs": [
        {
          "output_type": "execute_result",
          "data": {
            "text/html": [
              "<div>\n",
              "<style scoped>\n",
              "    .dataframe tbody tr th:only-of-type {\n",
              "        vertical-align: middle;\n",
              "    }\n",
              "\n",
              "    .dataframe tbody tr th {\n",
              "        vertical-align: top;\n",
              "    }\n",
              "\n",
              "    .dataframe thead th {\n",
              "        text-align: right;\n",
              "    }\n",
              "</style>\n",
              "<table border=\"1\" class=\"dataframe\">\n",
              "  <thead>\n",
              "    <tr style=\"text-align: right;\">\n",
              "      <th></th>\n",
              "      <th>ID</th>\n",
              "      <th>LIMIT_BAL</th>\n",
              "      <th>SEX</th>\n",
              "      <th>EDUCATION</th>\n",
              "      <th>MARRIAGE</th>\n",
              "      <th>AGE</th>\n",
              "      <th>PAY_0</th>\n",
              "      <th>PAY_2</th>\n",
              "      <th>PAY_3</th>\n",
              "      <th>PAY_4</th>\n",
              "      <th>PAY_5</th>\n",
              "      <th>PAY_6</th>\n",
              "      <th>BILL_AMT1</th>\n",
              "      <th>BILL_AMT2</th>\n",
              "      <th>BILL_AMT3</th>\n",
              "      <th>BILL_AMT4</th>\n",
              "      <th>BILL_AMT5</th>\n",
              "      <th>BILL_AMT6</th>\n",
              "      <th>PAY_AMT1</th>\n",
              "      <th>PAY_AMT2</th>\n",
              "      <th>PAY_AMT3</th>\n",
              "      <th>PAY_AMT4</th>\n",
              "      <th>PAY_AMT5</th>\n",
              "      <th>PAY_AMT6</th>\n",
              "      <th>default_payment_next_month</th>\n",
              "    </tr>\n",
              "  </thead>\n",
              "  <tbody>\n",
              "    <tr>\n",
              "      <th>0</th>\n",
              "      <td>1</td>\n",
              "      <td>20000</td>\n",
              "      <td>2</td>\n",
              "      <td>2</td>\n",
              "      <td>1</td>\n",
              "      <td>24</td>\n",
              "      <td>2</td>\n",
              "      <td>2</td>\n",
              "      <td>-1</td>\n",
              "      <td>-1</td>\n",
              "      <td>-2</td>\n",
              "      <td>-2</td>\n",
              "      <td>3913</td>\n",
              "      <td>3102</td>\n",
              "      <td>689</td>\n",
              "      <td>0</td>\n",
              "      <td>0</td>\n",
              "      <td>0</td>\n",
              "      <td>0</td>\n",
              "      <td>689</td>\n",
              "      <td>0</td>\n",
              "      <td>0</td>\n",
              "      <td>0</td>\n",
              "      <td>0</td>\n",
              "      <td>1</td>\n",
              "    </tr>\n",
              "    <tr>\n",
              "      <th>1</th>\n",
              "      <td>2</td>\n",
              "      <td>120000</td>\n",
              "      <td>2</td>\n",
              "      <td>2</td>\n",
              "      <td>2</td>\n",
              "      <td>26</td>\n",
              "      <td>-1</td>\n",
              "      <td>2</td>\n",
              "      <td>0</td>\n",
              "      <td>0</td>\n",
              "      <td>0</td>\n",
              "      <td>2</td>\n",
              "      <td>2682</td>\n",
              "      <td>1725</td>\n",
              "      <td>2682</td>\n",
              "      <td>3272</td>\n",
              "      <td>3455</td>\n",
              "      <td>3261</td>\n",
              "      <td>0</td>\n",
              "      <td>1000</td>\n",
              "      <td>1000</td>\n",
              "      <td>1000</td>\n",
              "      <td>0</td>\n",
              "      <td>2000</td>\n",
              "      <td>1</td>\n",
              "    </tr>\n",
              "    <tr>\n",
              "      <th>2</th>\n",
              "      <td>3</td>\n",
              "      <td>90000</td>\n",
              "      <td>2</td>\n",
              "      <td>2</td>\n",
              "      <td>2</td>\n",
              "      <td>34</td>\n",
              "      <td>0</td>\n",
              "      <td>0</td>\n",
              "      <td>0</td>\n",
              "      <td>0</td>\n",
              "      <td>0</td>\n",
              "      <td>0</td>\n",
              "      <td>29239</td>\n",
              "      <td>14027</td>\n",
              "      <td>13559</td>\n",
              "      <td>14331</td>\n",
              "      <td>14948</td>\n",
              "      <td>15549</td>\n",
              "      <td>1518</td>\n",
              "      <td>1500</td>\n",
              "      <td>1000</td>\n",
              "      <td>1000</td>\n",
              "      <td>1000</td>\n",
              "      <td>5000</td>\n",
              "      <td>0</td>\n",
              "    </tr>\n",
              "    <tr>\n",
              "      <th>3</th>\n",
              "      <td>4</td>\n",
              "      <td>50000</td>\n",
              "      <td>2</td>\n",
              "      <td>2</td>\n",
              "      <td>1</td>\n",
              "      <td>37</td>\n",
              "      <td>0</td>\n",
              "      <td>0</td>\n",
              "      <td>0</td>\n",
              "      <td>0</td>\n",
              "      <td>0</td>\n",
              "      <td>0</td>\n",
              "      <td>46990</td>\n",
              "      <td>48233</td>\n",
              "      <td>49291</td>\n",
              "      <td>28314</td>\n",
              "      <td>28959</td>\n",
              "      <td>29547</td>\n",
              "      <td>2000</td>\n",
              "      <td>2019</td>\n",
              "      <td>1200</td>\n",
              "      <td>1100</td>\n",
              "      <td>1069</td>\n",
              "      <td>1000</td>\n",
              "      <td>0</td>\n",
              "    </tr>\n",
              "    <tr>\n",
              "      <th>4</th>\n",
              "      <td>5</td>\n",
              "      <td>50000</td>\n",
              "      <td>1</td>\n",
              "      <td>2</td>\n",
              "      <td>1</td>\n",
              "      <td>57</td>\n",
              "      <td>-1</td>\n",
              "      <td>0</td>\n",
              "      <td>-1</td>\n",
              "      <td>0</td>\n",
              "      <td>0</td>\n",
              "      <td>0</td>\n",
              "      <td>8617</td>\n",
              "      <td>5670</td>\n",
              "      <td>35835</td>\n",
              "      <td>20940</td>\n",
              "      <td>19146</td>\n",
              "      <td>19131</td>\n",
              "      <td>2000</td>\n",
              "      <td>36681</td>\n",
              "      <td>10000</td>\n",
              "      <td>9000</td>\n",
              "      <td>689</td>\n",
              "      <td>679</td>\n",
              "      <td>0</td>\n",
              "    </tr>\n",
              "    <tr>\n",
              "      <th>...</th>\n",
              "      <td>...</td>\n",
              "      <td>...</td>\n",
              "      <td>...</td>\n",
              "      <td>...</td>\n",
              "      <td>...</td>\n",
              "      <td>...</td>\n",
              "      <td>...</td>\n",
              "      <td>...</td>\n",
              "      <td>...</td>\n",
              "      <td>...</td>\n",
              "      <td>...</td>\n",
              "      <td>...</td>\n",
              "      <td>...</td>\n",
              "      <td>...</td>\n",
              "      <td>...</td>\n",
              "      <td>...</td>\n",
              "      <td>...</td>\n",
              "      <td>...</td>\n",
              "      <td>...</td>\n",
              "      <td>...</td>\n",
              "      <td>...</td>\n",
              "      <td>...</td>\n",
              "      <td>...</td>\n",
              "      <td>...</td>\n",
              "      <td>...</td>\n",
              "    </tr>\n",
              "    <tr>\n",
              "      <th>29995</th>\n",
              "      <td>29996</td>\n",
              "      <td>220000</td>\n",
              "      <td>1</td>\n",
              "      <td>3</td>\n",
              "      <td>1</td>\n",
              "      <td>39</td>\n",
              "      <td>0</td>\n",
              "      <td>0</td>\n",
              "      <td>0</td>\n",
              "      <td>0</td>\n",
              "      <td>0</td>\n",
              "      <td>0</td>\n",
              "      <td>188948</td>\n",
              "      <td>192815</td>\n",
              "      <td>208365</td>\n",
              "      <td>88004</td>\n",
              "      <td>31237</td>\n",
              "      <td>15980</td>\n",
              "      <td>8500</td>\n",
              "      <td>20000</td>\n",
              "      <td>5003</td>\n",
              "      <td>3047</td>\n",
              "      <td>5000</td>\n",
              "      <td>1000</td>\n",
              "      <td>0</td>\n",
              "    </tr>\n",
              "    <tr>\n",
              "      <th>29996</th>\n",
              "      <td>29997</td>\n",
              "      <td>150000</td>\n",
              "      <td>1</td>\n",
              "      <td>3</td>\n",
              "      <td>2</td>\n",
              "      <td>43</td>\n",
              "      <td>-1</td>\n",
              "      <td>-1</td>\n",
              "      <td>-1</td>\n",
              "      <td>-1</td>\n",
              "      <td>0</td>\n",
              "      <td>0</td>\n",
              "      <td>1683</td>\n",
              "      <td>1828</td>\n",
              "      <td>3502</td>\n",
              "      <td>8979</td>\n",
              "      <td>5190</td>\n",
              "      <td>0</td>\n",
              "      <td>1837</td>\n",
              "      <td>3526</td>\n",
              "      <td>8998</td>\n",
              "      <td>129</td>\n",
              "      <td>0</td>\n",
              "      <td>0</td>\n",
              "      <td>0</td>\n",
              "    </tr>\n",
              "    <tr>\n",
              "      <th>29997</th>\n",
              "      <td>29998</td>\n",
              "      <td>30000</td>\n",
              "      <td>1</td>\n",
              "      <td>2</td>\n",
              "      <td>2</td>\n",
              "      <td>37</td>\n",
              "      <td>4</td>\n",
              "      <td>3</td>\n",
              "      <td>2</td>\n",
              "      <td>-1</td>\n",
              "      <td>0</td>\n",
              "      <td>0</td>\n",
              "      <td>3565</td>\n",
              "      <td>3356</td>\n",
              "      <td>2758</td>\n",
              "      <td>20878</td>\n",
              "      <td>20582</td>\n",
              "      <td>19357</td>\n",
              "      <td>0</td>\n",
              "      <td>0</td>\n",
              "      <td>22000</td>\n",
              "      <td>4200</td>\n",
              "      <td>2000</td>\n",
              "      <td>3100</td>\n",
              "      <td>1</td>\n",
              "    </tr>\n",
              "    <tr>\n",
              "      <th>29998</th>\n",
              "      <td>29999</td>\n",
              "      <td>80000</td>\n",
              "      <td>1</td>\n",
              "      <td>3</td>\n",
              "      <td>1</td>\n",
              "      <td>41</td>\n",
              "      <td>1</td>\n",
              "      <td>-1</td>\n",
              "      <td>0</td>\n",
              "      <td>0</td>\n",
              "      <td>0</td>\n",
              "      <td>-1</td>\n",
              "      <td>-1645</td>\n",
              "      <td>78379</td>\n",
              "      <td>76304</td>\n",
              "      <td>52774</td>\n",
              "      <td>11855</td>\n",
              "      <td>48944</td>\n",
              "      <td>85900</td>\n",
              "      <td>3409</td>\n",
              "      <td>1178</td>\n",
              "      <td>1926</td>\n",
              "      <td>52964</td>\n",
              "      <td>1804</td>\n",
              "      <td>1</td>\n",
              "    </tr>\n",
              "    <tr>\n",
              "      <th>29999</th>\n",
              "      <td>30000</td>\n",
              "      <td>50000</td>\n",
              "      <td>1</td>\n",
              "      <td>2</td>\n",
              "      <td>1</td>\n",
              "      <td>46</td>\n",
              "      <td>0</td>\n",
              "      <td>0</td>\n",
              "      <td>0</td>\n",
              "      <td>0</td>\n",
              "      <td>0</td>\n",
              "      <td>0</td>\n",
              "      <td>47929</td>\n",
              "      <td>48905</td>\n",
              "      <td>49764</td>\n",
              "      <td>36535</td>\n",
              "      <td>32428</td>\n",
              "      <td>15313</td>\n",
              "      <td>2078</td>\n",
              "      <td>1800</td>\n",
              "      <td>1430</td>\n",
              "      <td>1000</td>\n",
              "      <td>1000</td>\n",
              "      <td>1000</td>\n",
              "      <td>1</td>\n",
              "    </tr>\n",
              "  </tbody>\n",
              "</table>\n",
              "<p>30000 rows × 25 columns</p>\n",
              "</div>"
            ],
            "text/plain": [
              "          ID  LIMIT_BAL  SEX  ...  PAY_AMT5  PAY_AMT6  default_payment_next_month\n",
              "0          1      20000    2  ...         0         0                           1\n",
              "1          2     120000    2  ...         0      2000                           1\n",
              "2          3      90000    2  ...      1000      5000                           0\n",
              "3          4      50000    2  ...      1069      1000                           0\n",
              "4          5      50000    1  ...       689       679                           0\n",
              "...      ...        ...  ...  ...       ...       ...                         ...\n",
              "29995  29996     220000    1  ...      5000      1000                           0\n",
              "29996  29997     150000    1  ...         0         0                           0\n",
              "29997  29998      30000    1  ...      2000      3100                           1\n",
              "29998  29999      80000    1  ...     52964      1804                           1\n",
              "29999  30000      50000    1  ...      1000      1000                           1\n",
              "\n",
              "[30000 rows x 25 columns]"
            ]
          },
          "metadata": {
            "tags": []
          },
          "execution_count": 3
        }
      ]
    },
    {
      "cell_type": "code",
      "metadata": {
        "colab": {
          "base_uri": "https://localhost:8080/"
        },
        "id": "H-nszrEVUNfn",
        "outputId": "30194292-2ebe-428e-f998-eae8a8c74dd3"
      },
      "source": [
        "df.dtypes"
      ],
      "execution_count": 4,
      "outputs": [
        {
          "output_type": "execute_result",
          "data": {
            "text/plain": [
              "ID                            int64\n",
              "LIMIT_BAL                     int64\n",
              "SEX                           int64\n",
              "EDUCATION                     int64\n",
              "MARRIAGE                      int64\n",
              "AGE                           int64\n",
              "PAY_0                         int64\n",
              "PAY_2                         int64\n",
              "PAY_3                         int64\n",
              "PAY_4                         int64\n",
              "PAY_5                         int64\n",
              "PAY_6                         int64\n",
              "BILL_AMT1                     int64\n",
              "BILL_AMT2                     int64\n",
              "BILL_AMT3                     int64\n",
              "BILL_AMT4                     int64\n",
              "BILL_AMT5                     int64\n",
              "BILL_AMT6                     int64\n",
              "PAY_AMT1                      int64\n",
              "PAY_AMT2                      int64\n",
              "PAY_AMT3                      int64\n",
              "PAY_AMT4                      int64\n",
              "PAY_AMT5                      int64\n",
              "PAY_AMT6                      int64\n",
              "default_payment_next_month    int64\n",
              "dtype: object"
            ]
          },
          "metadata": {
            "tags": []
          },
          "execution_count": 4
        }
      ]
    },
    {
      "cell_type": "markdown",
      "metadata": {
        "id": "hEVWlNImUNfp"
      },
      "source": [
        "Выделяем часть датасета для работы"
      ]
    },
    {
      "cell_type": "code",
      "metadata": {
        "id": "98Ie-gXkUNfp"
      },
      "source": [
        "X = df.iloc[:, :-1].values  "
      ],
      "execution_count": 5,
      "outputs": []
    },
    {
      "cell_type": "markdown",
      "metadata": {
        "id": "wKuKikp1DI8t"
      },
      "source": [
        "Заменяем значения "
      ]
    },
    {
      "cell_type": "code",
      "metadata": {
        "id": "glvH6QChDIoA"
      },
      "source": [
        "def make_missing_value(X, del_fraction):\n",
        "    N = X.shape[0]\n",
        "    D = X.shape[1]\n",
        "    delete_mask = np.array(np.random.random((N, D)))\n",
        "    #Заполняем обозначенную долю True - будет nan, остальное False \n",
        "    #while (sum(sum(delete_mask))!= del_fraction*N*D): первый вариант не вариант, слишком долго\n",
        "     # delete_mask = np.array(np.random.random((N, D)) < del_fraction)\n",
        "    mas = []\n",
        "    for i in range(30000):\n",
        "      if i < int(30000*0.1):\n",
        "        mas.append(bool(True))\n",
        "      else:\n",
        "        mas.append(bool(False))\n",
        "    delete_mask = pd.DataFrame()\n",
        "    for i in range (24):\n",
        "      np.random.shuffle(mas)\n",
        "      delete_mask[i] = mas\n",
        "\n",
        "    # Значения где был True заменяются на nan, остальное остается значениями\n",
        "    new_X = np.array(X)\n",
        "    new_X = new_X.astype('float64')\n",
        "    new_X[delete_mask] = np.nan\n",
        "    return new_X"
      ],
      "execution_count": 6,
      "outputs": []
    },
    {
      "cell_type": "markdown",
      "metadata": {
        "id": "8vUpE2cZDVNA"
      },
      "source": [
        "\"Удаляем\" долю результатов и при помощи impyute заменяем их на предполагаемые значения. Считаем точность, СКО, дисперсию. Применяем данную схему для заполнения средним и knn для всех вариантов количества пропусков."
      ]
    },
    {
      "cell_type": "code",
      "metadata": {
        "id": "TFUa7Q3dDTiY"
      },
      "source": [
        "tt = X\n",
        "tt = make_missing_value(tt, 0.1)\n",
        "means = impy.mean(tt)\n",
        "y = (np.isclose(X.astype('float64'), means))\n",
        "acc_10_means = (30000*24*0.1-(30000*24 - np.sum(y)))/(30000*24*0.1)\n",
        "disp_10_means = np.var(means)\n",
        "sko_10_means = np.std(means)"
      ],
      "execution_count": 7,
      "outputs": []
    },
    {
      "cell_type": "code",
      "metadata": {
        "id": "oxbKAFOBDYOO"
      },
      "source": [
        "tt = X\n",
        "tt = make_missing_value(tt, 0.1)\n",
        "knn = impy.fast_knn(tt)\n",
        "y = (np.isclose(X.astype('float64'), knn))\n",
        "acc_10_knn = (30000*24*0.1-(30000*24 - np.sum(y)))/(30000*24*0.1)\n",
        "disp_10_knn = np.var(knn)\n",
        "sko_10_knn = np.std(knn)"
      ],
      "execution_count": 8,
      "outputs": []
    },
    {
      "cell_type": "code",
      "metadata": {
        "colab": {
          "base_uri": "https://localhost:8080/"
        },
        "id": "BWJcBvhnDZQa",
        "outputId": "9df8cb63-b8a7-4926-d6a3-2295fa6690f2"
      },
      "source": [
        "tt = X\n",
        "tt = make_missing_value(tt, 0.1)\n",
        "imputer = MissForest()\n",
        "rf = imputer.fit_transform(tt)\n",
        "y = (np.isclose(X.astype('float64'), rf))\n",
        "acc_10_rf = (30000*24*0.1-(30000*24 - np.sum(y)))/(30000*24*0.1)\n",
        "disp_10_rf = np.var(rf)\n",
        "sko_10_rf = np.std(rf)"
      ],
      "execution_count": 9,
      "outputs": [
        {
          "output_type": "stream",
          "text": [
            "Iteration: 0\n",
            "Iteration: 1\n",
            "Iteration: 2\n",
            "Iteration: 3\n",
            "Iteration: 4\n",
            "Iteration: 5\n"
          ],
          "name": "stdout"
        }
      ]
    },
    {
      "cell_type": "markdown",
      "metadata": {
        "id": "mRV42K72Da7i"
      },
      "source": [
        "Повторяем для 25%"
      ]
    },
    {
      "cell_type": "code",
      "metadata": {
        "id": "N0jL-bMvDca7"
      },
      "source": [
        "tt = X\n",
        "tt = make_missing_value(tt, 0.25)\n",
        "means = impy.mean(tt)\n",
        "y = (np.isclose(X.astype('float64'), means))\n",
        "acc_25_means = (30000*24*0.25-(30000*24 - np.sum(y)))/(30000*24*0.25)\n",
        "disp_25_means = np.var(means)\n",
        "sko_25_means = np.std(means)"
      ],
      "execution_count": 10,
      "outputs": []
    },
    {
      "cell_type": "code",
      "metadata": {
        "id": "wDUB_6QyDddp"
      },
      "source": [
        "tt = X\n",
        "tt = make_missing_value(tt, 0.25)\n",
        "knn = impy.fast_knn(tt)\n",
        "y = (np.isclose(X.astype('float64'), knn))\n",
        "acc_25_knn = (30000*24*0.25-(30000*24 - np.sum(y)))/(30000*24*0.25)\n",
        "disp_25_knn = np.var(knn)\n",
        "sko_25_knn = np.std(knn)"
      ],
      "execution_count": 11,
      "outputs": []
    },
    {
      "cell_type": "code",
      "metadata": {
        "colab": {
          "base_uri": "https://localhost:8080/"
        },
        "id": "YhEAnuv5DeYB",
        "outputId": "13a5e443-bd7d-4788-e483-849e14338923"
      },
      "source": [
        "tt = X\n",
        "tt = make_missing_value(tt, 0.25)\n",
        "rf = imputer.fit_transform(tt)\n",
        "y = (np.isclose(X.astype('float64'), rf))\n",
        "acc_25_rf = (30000*24*0.25-(30000*24 - np.sum(y)))/(30000*24*0.25)\n",
        "disp_25_rf = np.var(rf)\n",
        "sko_25_rf = np.std(rf)"
      ],
      "execution_count": 12,
      "outputs": [
        {
          "output_type": "stream",
          "text": [
            "Iteration: 0\n",
            "Iteration: 1\n",
            "Iteration: 2\n",
            "Iteration: 3\n",
            "Iteration: 4\n",
            "Iteration: 5\n",
            "Iteration: 6\n",
            "Iteration: 7\n"
          ],
          "name": "stdout"
        }
      ]
    },
    {
      "cell_type": "markdown",
      "metadata": {
        "id": "Y9-zXCEADfhy"
      },
      "source": [
        "Повторяем для 30%"
      ]
    },
    {
      "cell_type": "code",
      "metadata": {
        "id": "51TU-HUqDgZC"
      },
      "source": [
        "tt = X\n",
        "tt = make_missing_value(tt, 0.3)\n",
        "means = impy.mean(tt)\n",
        "y = (np.isclose(X.astype('float64'), means))\n",
        "acc_30_means = (30000*24*0.3-(30000*24 - np.sum(y)))/(30000*24*0.3)\n",
        "disp_30_means = np.var(means)\n",
        "sko_30_means = np.std(means)"
      ],
      "execution_count": 13,
      "outputs": []
    },
    {
      "cell_type": "code",
      "metadata": {
        "id": "qD1VTJDQDhOv"
      },
      "source": [
        "tt = X\n",
        "tt = make_missing_value(tt, 0.3)\n",
        "knn = impy.fast_knn(tt)\n",
        "y = (np.isclose(X.astype('float64'), knn))\n",
        "acc_30_knn = (30000*24*0.3-(30000*24 - np.sum(y)))/(30000*24*0.3)\n",
        "disp_30_knn = np.var(knn)\n",
        "sko_30_knn = np.std(knn)"
      ],
      "execution_count": 14,
      "outputs": []
    },
    {
      "cell_type": "code",
      "metadata": {
        "colab": {
          "base_uri": "https://localhost:8080/"
        },
        "id": "_AKh_gLDDiOl",
        "outputId": "e3fcf0c2-053f-439e-8705-b552a761815e"
      },
      "source": [
        "tt = X\n",
        "tt = make_missing_value(tt, 0.3)\n",
        "rf = imputer.fit_transform(tt)\n",
        "y = (np.isclose(X.astype('float64'), rf))\n",
        "acc_30_rf = (30000*24*0.3-(30000*24 - np.sum(y)))/(30000*24*0.3)\n",
        "disp_30_rf = np.var(rf)\n",
        "sko_30_rf = np.std(rf)"
      ],
      "execution_count": 15,
      "outputs": [
        {
          "output_type": "stream",
          "text": [
            "Iteration: 0\n",
            "Iteration: 1\n",
            "Iteration: 2\n",
            "Iteration: 3\n",
            "Iteration: 4\n"
          ],
          "name": "stdout"
        }
      ]
    },
    {
      "cell_type": "markdown",
      "metadata": {
        "id": "iFsrxWUVDjrX"
      },
      "source": [
        "Сводня таблица результатов "
      ]
    },
    {
      "cell_type": "code",
      "metadata": {
        "colab": {
          "base_uri": "https://localhost:8080/",
          "height": 345
        },
        "id": "q3-uKoG1Dkv7",
        "outputId": "40007704-ac3d-4a68-8ac4-5e665ba72535"
      },
      "source": [
        "table = pd.DataFrame(index = ['means, 10%', 'knn, 10%','rf, 10%', 'means, 25%', 'knn, 25%','rf, 25%',\n",
        "                              'means, 30%', 'knn, 30%', 'rf, 30%'])\n",
        "\n",
        "table['acc'] = [acc_10_means, acc_10_knn, acc_10_rf,\n",
        "                acc_25_means, acc_25_knn, acc_25_rf,\n",
        "                acc_30_means, acc_30_knn, acc_30_rf]\n",
        "table['disp'] = [disp_10_means, disp_10_knn, disp_10_rf,\n",
        "                 disp_25_means, disp_25_knn, disp_25_rf,\n",
        "                 disp_30_means, disp_30_knn, disp_30_rf]\n",
        "table['sko'] = [sko_10_means, sko_10_knn, sko_10_rf,\n",
        "                sko_25_means, sko_25_knn,sko_25_rf,\n",
        "                sko_30_means, sko_30_knn, sko_30_rf]\n",
        "print('sko X ', np.std(X),'  disp X', np.var(X))\n",
        "table"
      ],
      "execution_count": 16,
      "outputs": [
        {
          "output_type": "stream",
          "text": [
            "sko X  56435.51531636148   disp X 3184967389.0232716\n"
          ],
          "name": "stdout"
        },
        {
          "output_type": "execute_result",
          "data": {
            "text/html": [
              "<div>\n",
              "<style scoped>\n",
              "    .dataframe tbody tr th:only-of-type {\n",
              "        vertical-align: middle;\n",
              "    }\n",
              "\n",
              "    .dataframe tbody tr th {\n",
              "        vertical-align: top;\n",
              "    }\n",
              "\n",
              "    .dataframe thead th {\n",
              "        text-align: right;\n",
              "    }\n",
              "</style>\n",
              "<table border=\"1\" class=\"dataframe\">\n",
              "  <thead>\n",
              "    <tr style=\"text-align: right;\">\n",
              "      <th></th>\n",
              "      <th>acc</th>\n",
              "      <th>disp</th>\n",
              "      <th>sko</th>\n",
              "    </tr>\n",
              "  </thead>\n",
              "  <tbody>\n",
              "    <tr>\n",
              "      <th>means, 10%</th>\n",
              "      <td>0.000000</td>\n",
              "      <td>2.998826e+09</td>\n",
              "      <td>54761.536090</td>\n",
              "    </tr>\n",
              "    <tr>\n",
              "      <th>knn, 10%</th>\n",
              "      <td>0.074722</td>\n",
              "      <td>3.001141e+09</td>\n",
              "      <td>54782.674360</td>\n",
              "    </tr>\n",
              "    <tr>\n",
              "      <th>rf, 10%</th>\n",
              "      <td>0.180653</td>\n",
              "      <td>3.138654e+09</td>\n",
              "      <td>56023.689970</td>\n",
              "    </tr>\n",
              "    <tr>\n",
              "      <th>means, 25%</th>\n",
              "      <td>0.600000</td>\n",
              "      <td>2.992502e+09</td>\n",
              "      <td>54703.765770</td>\n",
              "    </tr>\n",
              "    <tr>\n",
              "      <th>knn, 25%</th>\n",
              "      <td>0.630261</td>\n",
              "      <td>2.996561e+09</td>\n",
              "      <td>54740.856808</td>\n",
              "    </tr>\n",
              "    <tr>\n",
              "      <th>rf, 25%</th>\n",
              "      <td>0.672517</td>\n",
              "      <td>3.143376e+09</td>\n",
              "      <td>56065.818604</td>\n",
              "    </tr>\n",
              "    <tr>\n",
              "      <th>means, 30%</th>\n",
              "      <td>0.666667</td>\n",
              "      <td>3.000109e+09</td>\n",
              "      <td>54773.246300</td>\n",
              "    </tr>\n",
              "    <tr>\n",
              "      <th>knn, 30%</th>\n",
              "      <td>0.691815</td>\n",
              "      <td>3.013617e+09</td>\n",
              "      <td>54896.424429</td>\n",
              "    </tr>\n",
              "    <tr>\n",
              "      <th>rf, 30%</th>\n",
              "      <td>0.726528</td>\n",
              "      <td>3.144240e+09</td>\n",
              "      <td>56073.526966</td>\n",
              "    </tr>\n",
              "  </tbody>\n",
              "</table>\n",
              "</div>"
            ],
            "text/plain": [
              "                 acc          disp           sko\n",
              "means, 10%  0.000000  2.998826e+09  54761.536090\n",
              "knn, 10%    0.074722  3.001141e+09  54782.674360\n",
              "rf, 10%     0.180653  3.138654e+09  56023.689970\n",
              "means, 25%  0.600000  2.992502e+09  54703.765770\n",
              "knn, 25%    0.630261  2.996561e+09  54740.856808\n",
              "rf, 25%     0.672517  3.143376e+09  56065.818604\n",
              "means, 30%  0.666667  3.000109e+09  54773.246300\n",
              "knn, 30%    0.691815  3.013617e+09  54896.424429\n",
              "rf, 30%     0.726528  3.144240e+09  56073.526966"
            ]
          },
          "metadata": {
            "tags": []
          },
          "execution_count": 16
        }
      ]
    },
    {
      "cell_type": "markdown",
      "metadata": {
        "id": "aYZ6GwXXUNfq"
      },
      "source": [
        "## Вывод\n",
        "\n",
        "По результатам лабораторной можно сказать, что случайный лес работает лучше всего. Также многое зависит от количества пропущенных значений. Для качественного заполнения их должно быть не мало (больше 25%), но и не много (при более 50% пропусков не имеет смысла их заполнять), иначе заполненные значения будут либо сильно отличаться от искомых."
      ]
    }
  ]
}