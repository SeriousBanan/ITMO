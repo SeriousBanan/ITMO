{
 "cells": [
  {
   "cell_type": "markdown",
   "metadata": {},
   "source": [
    "##  Факторный анализ: анализ главных компонент\n"
   ]
  },
  {
   "cell_type": "code",
   "execution_count": 54,
   "metadata": {},
   "outputs": [],
   "source": [
    "import pandas as pd\n",
    "import numpy as np\n",
    "import matplotlib\n",
    "import matplotlib.pyplot as plt\n",
    "from scipy import stats\n",
    "matplotlib.style.use('ggplot')\n",
    "%matplotlib inline\n",
    "\n",
    "from pandas.plotting import scatter_matrix\n",
    "\n",
    "import seaborn as sns\n",
    "\n",
    "import math\n",
    "from sklearn import preprocessing\n",
    "\n"
   ]
  },
  {
   "cell_type": "code",
   "execution_count": null,
   "metadata": {},
   "outputs": [],
   "source": []
  },
  {
   "cell_type": "markdown",
   "metadata": {},
   "source": [
    "###   Предварительный анализ данных:  поведение самцов колюшки"
   ]
  },
  {
   "cell_type": "markdown",
   "metadata": {},
   "source": [
    "Будем анализировать поведение самцов колюшки.\n",
    "Не путайте с корюшкой.\n",
    "\n",
    "\n",
    "#### Описание переменных <br>\n",
    "LUNGES Количество нападений (удары) на модель самца.<br>\n",
    "BITES Количество нападений (укусы) на модель самца.<br>\n",
    "ZIGZAGS\tПлавание зигзагом, которое является частью поведения, направленного на привлечение самок.<br>\n",
    "NEST Действия, связанные с построением гнезда.<br>\n",
    "SPINES Число раз, когда топорщился колючий верхний плавник.<br>\n",
    "DNEST Суммарная длительность времени, проведенного за построением гнезда.<br>\n",
    "BOUT Количество элементов поведения, характеризующих готовность к схватке.<br>"
   ]
  },
  {
   "cell_type": "code",
   "execution_count": 55,
   "metadata": {},
   "outputs": [],
   "source": [
    "import os\n",
    "os.chdir(\"C:/Users/USER/Documents/Python/_AD_Python_part_1_Lectures/AD_Python_1_15_factor_svd/\")"
   ]
  },
  {
   "cell_type": "code",
   "execution_count": 56,
   "metadata": {},
   "outputs": [
    {
     "data": {
      "text/html": [
       "<div>\n",
       "<style scoped>\n",
       "    .dataframe tbody tr th:only-of-type {\n",
       "        vertical-align: middle;\n",
       "    }\n",
       "\n",
       "    .dataframe tbody tr th {\n",
       "        vertical-align: top;\n",
       "    }\n",
       "\n",
       "    .dataframe thead th {\n",
       "        text-align: right;\n",
       "    }\n",
       "</style>\n",
       "<table border=\"1\" class=\"dataframe\">\n",
       "  <thead>\n",
       "    <tr style=\"text-align: right;\">\n",
       "      <th></th>\n",
       "      <th>LUNGES</th>\n",
       "      <th>BITES</th>\n",
       "      <th>ZIGZAGS</th>\n",
       "      <th>NEST</th>\n",
       "      <th>SPINES</th>\n",
       "      <th>DNEST</th>\n",
       "      <th>BOUT</th>\n",
       "      <th>Unnamed: 7</th>\n",
       "      <th>Unnamed: 8</th>\n",
       "      <th>Unnamed: 9</th>\n",
       "      <th>Unnamed: 10</th>\n",
       "      <th>Unnamed: 11</th>\n",
       "      <th>Unnamed: 12</th>\n",
       "      <th>Unnamed: 13</th>\n",
       "      <th>Unnamed: 14</th>\n",
       "      <th>Unnamed: 15</th>\n",
       "      <th>Unnamed: 16</th>\n",
       "      <th>Unnamed: 17</th>\n",
       "      <th>Unnamed: 18</th>\n",
       "    </tr>\n",
       "  </thead>\n",
       "  <tbody>\n",
       "    <tr>\n",
       "      <td>0</td>\n",
       "      <td>79.0</td>\n",
       "      <td>25.0</td>\n",
       "      <td>0.0</td>\n",
       "      <td>0.0</td>\n",
       "      <td>15.0</td>\n",
       "      <td>0.0</td>\n",
       "      <td>45.0</td>\n",
       "      <td>NaN</td>\n",
       "      <td>NaN</td>\n",
       "      <td>NaN</td>\n",
       "      <td>NaN</td>\n",
       "      <td>NaN</td>\n",
       "      <td>NaN</td>\n",
       "      <td>NaN</td>\n",
       "      <td>NaN</td>\n",
       "      <td>NaN</td>\n",
       "      <td>NaN</td>\n",
       "      <td>NaN</td>\n",
       "      <td>NaN</td>\n",
       "    </tr>\n",
       "    <tr>\n",
       "      <td>1</td>\n",
       "      <td>136.0</td>\n",
       "      <td>58.0</td>\n",
       "      <td>6.0</td>\n",
       "      <td>0.0</td>\n",
       "      <td>15.0</td>\n",
       "      <td>0.0</td>\n",
       "      <td>148.0</td>\n",
       "      <td>NaN</td>\n",
       "      <td>NaN</td>\n",
       "      <td>NaN</td>\n",
       "      <td>NaN</td>\n",
       "      <td>NaN</td>\n",
       "      <td>NaN</td>\n",
       "      <td>NaN</td>\n",
       "      <td>NaN</td>\n",
       "      <td>NaN</td>\n",
       "      <td>NaN</td>\n",
       "      <td>NaN</td>\n",
       "      <td>NaN</td>\n",
       "    </tr>\n",
       "    <tr>\n",
       "      <td>2</td>\n",
       "      <td>115.0</td>\n",
       "      <td>30.0</td>\n",
       "      <td>2.0</td>\n",
       "      <td>1.0</td>\n",
       "      <td>9.0</td>\n",
       "      <td>5.0</td>\n",
       "      <td>29.0</td>\n",
       "      <td>NaN</td>\n",
       "      <td>NaN</td>\n",
       "      <td>NaN</td>\n",
       "      <td>NaN</td>\n",
       "      <td>NaN</td>\n",
       "      <td>NaN</td>\n",
       "      <td>NaN</td>\n",
       "      <td>NaN</td>\n",
       "      <td>NaN</td>\n",
       "      <td>NaN</td>\n",
       "      <td>NaN</td>\n",
       "      <td>NaN</td>\n",
       "    </tr>\n",
       "    <tr>\n",
       "      <td>3</td>\n",
       "      <td>129.0</td>\n",
       "      <td>139.0</td>\n",
       "      <td>16.0</td>\n",
       "      <td>0.0</td>\n",
       "      <td>22.0</td>\n",
       "      <td>0.0</td>\n",
       "      <td>69.0</td>\n",
       "      <td>NaN</td>\n",
       "      <td>NaN</td>\n",
       "      <td>NaN</td>\n",
       "      <td>NaN</td>\n",
       "      <td>NaN</td>\n",
       "      <td>NaN</td>\n",
       "      <td>NaN</td>\n",
       "      <td>NaN</td>\n",
       "      <td>NaN</td>\n",
       "      <td>NaN</td>\n",
       "      <td>NaN</td>\n",
       "      <td>NaN</td>\n",
       "    </tr>\n",
       "    <tr>\n",
       "      <td>4</td>\n",
       "      <td>120.0</td>\n",
       "      <td>58.0</td>\n",
       "      <td>15.0</td>\n",
       "      <td>15.0</td>\n",
       "      <td>14.0</td>\n",
       "      <td>82.0</td>\n",
       "      <td>9.0</td>\n",
       "      <td>NaN</td>\n",
       "      <td>NaN</td>\n",
       "      <td>NaN</td>\n",
       "      <td>NaN</td>\n",
       "      <td>NaN</td>\n",
       "      <td>NaN</td>\n",
       "      <td>NaN</td>\n",
       "      <td>NaN</td>\n",
       "      <td>NaN</td>\n",
       "      <td>NaN</td>\n",
       "      <td>NaN</td>\n",
       "      <td>NaN</td>\n",
       "    </tr>\n",
       "  </tbody>\n",
       "</table>\n",
       "</div>"
      ],
      "text/plain": [
       "   LUNGES  BITES  ZIGZAGS  NEST  SPINES  DNEST   BOUT  Unnamed: 7  Unnamed: 8  \\\n",
       "0    79.0   25.0      0.0   0.0    15.0    0.0   45.0         NaN         NaN   \n",
       "1   136.0   58.0      6.0   0.0    15.0    0.0  148.0         NaN         NaN   \n",
       "2   115.0   30.0      2.0   1.0     9.0    5.0   29.0         NaN         NaN   \n",
       "3   129.0  139.0     16.0   0.0    22.0    0.0   69.0         NaN         NaN   \n",
       "4   120.0   58.0     15.0  15.0    14.0   82.0    9.0         NaN         NaN   \n",
       "\n",
       "   Unnamed: 9  Unnamed: 10  Unnamed: 11  Unnamed: 12  Unnamed: 13  \\\n",
       "0         NaN          NaN          NaN          NaN          NaN   \n",
       "1         NaN          NaN          NaN          NaN          NaN   \n",
       "2         NaN          NaN          NaN          NaN          NaN   \n",
       "3         NaN          NaN          NaN          NaN          NaN   \n",
       "4         NaN          NaN          NaN          NaN          NaN   \n",
       "\n",
       "   Unnamed: 14  Unnamed: 15  Unnamed: 16  Unnamed: 17  Unnamed: 18  \n",
       "0          NaN          NaN          NaN          NaN          NaN  \n",
       "1          NaN          NaN          NaN          NaN          NaN  \n",
       "2          NaN          NaN          NaN          NaN          NaN  \n",
       "3          NaN          NaN          NaN          NaN          NaN  \n",
       "4          NaN          NaN          NaN          NaN          NaN  "
      ]
     },
     "execution_count": 56,
     "metadata": {},
     "output_type": "execute_result"
    }
   ],
   "source": [
    "df = pd.read_csv('stickleback.csv', sep=';', decimal=',')\n",
    "df.head()"
   ]
  },
  {
   "cell_type": "code",
   "execution_count": 57,
   "metadata": {},
   "outputs": [
    {
     "data": {
      "text/html": [
       "<div>\n",
       "<style scoped>\n",
       "    .dataframe tbody tr th:only-of-type {\n",
       "        vertical-align: middle;\n",
       "    }\n",
       "\n",
       "    .dataframe tbody tr th {\n",
       "        vertical-align: top;\n",
       "    }\n",
       "\n",
       "    .dataframe thead th {\n",
       "        text-align: right;\n",
       "    }\n",
       "</style>\n",
       "<table border=\"1\" class=\"dataframe\">\n",
       "  <thead>\n",
       "    <tr style=\"text-align: right;\">\n",
       "      <th></th>\n",
       "      <th>LUNGES</th>\n",
       "      <th>BITES</th>\n",
       "      <th>ZIGZAGS</th>\n",
       "      <th>NEST</th>\n",
       "      <th>SPINES</th>\n",
       "      <th>DNEST</th>\n",
       "      <th>BOUT</th>\n",
       "    </tr>\n",
       "  </thead>\n",
       "  <tbody>\n",
       "    <tr>\n",
       "      <td>0</td>\n",
       "      <td>79.0</td>\n",
       "      <td>25.0</td>\n",
       "      <td>0.0</td>\n",
       "      <td>0.0</td>\n",
       "      <td>15.0</td>\n",
       "      <td>0.0</td>\n",
       "      <td>45.0</td>\n",
       "    </tr>\n",
       "    <tr>\n",
       "      <td>1</td>\n",
       "      <td>136.0</td>\n",
       "      <td>58.0</td>\n",
       "      <td>6.0</td>\n",
       "      <td>0.0</td>\n",
       "      <td>15.0</td>\n",
       "      <td>0.0</td>\n",
       "      <td>148.0</td>\n",
       "    </tr>\n",
       "    <tr>\n",
       "      <td>2</td>\n",
       "      <td>115.0</td>\n",
       "      <td>30.0</td>\n",
       "      <td>2.0</td>\n",
       "      <td>1.0</td>\n",
       "      <td>9.0</td>\n",
       "      <td>5.0</td>\n",
       "      <td>29.0</td>\n",
       "    </tr>\n",
       "    <tr>\n",
       "      <td>3</td>\n",
       "      <td>129.0</td>\n",
       "      <td>139.0</td>\n",
       "      <td>16.0</td>\n",
       "      <td>0.0</td>\n",
       "      <td>22.0</td>\n",
       "      <td>0.0</td>\n",
       "      <td>69.0</td>\n",
       "    </tr>\n",
       "    <tr>\n",
       "      <td>4</td>\n",
       "      <td>120.0</td>\n",
       "      <td>58.0</td>\n",
       "      <td>15.0</td>\n",
       "      <td>15.0</td>\n",
       "      <td>14.0</td>\n",
       "      <td>82.0</td>\n",
       "      <td>9.0</td>\n",
       "    </tr>\n",
       "  </tbody>\n",
       "</table>\n",
       "</div>"
      ],
      "text/plain": [
       "   LUNGES  BITES  ZIGZAGS  NEST  SPINES  DNEST   BOUT\n",
       "0    79.0   25.0      0.0   0.0    15.0    0.0   45.0\n",
       "1   136.0   58.0      6.0   0.0    15.0    0.0  148.0\n",
       "2   115.0   30.0      2.0   1.0     9.0    5.0   29.0\n",
       "3   129.0  139.0     16.0   0.0    22.0    0.0   69.0\n",
       "4   120.0   58.0     15.0  15.0    14.0   82.0    9.0"
      ]
     },
     "execution_count": 57,
     "metadata": {},
     "output_type": "execute_result"
    }
   ],
   "source": [
    "#  Убираем неинформативные переменные\n",
    "\n",
    "df = df.iloc[:, 0:7]\n",
    "\n",
    "df.head()"
   ]
  },
  {
   "cell_type": "code",
   "execution_count": 58,
   "metadata": {},
   "outputs": [
    {
     "data": {
      "text/plain": [
       "(54, 7)"
      ]
     },
     "execution_count": 58,
     "metadata": {},
     "output_type": "execute_result"
    }
   ],
   "source": [
    "df.shape"
   ]
  },
  {
   "cell_type": "code",
   "execution_count": 59,
   "metadata": {},
   "outputs": [
    {
     "data": {
      "text/html": [
       "<div>\n",
       "<style scoped>\n",
       "    .dataframe tbody tr th:only-of-type {\n",
       "        vertical-align: middle;\n",
       "    }\n",
       "\n",
       "    .dataframe tbody tr th {\n",
       "        vertical-align: top;\n",
       "    }\n",
       "\n",
       "    .dataframe thead th {\n",
       "        text-align: right;\n",
       "    }\n",
       "</style>\n",
       "<table border=\"1\" class=\"dataframe\">\n",
       "  <thead>\n",
       "    <tr style=\"text-align: right;\">\n",
       "      <th></th>\n",
       "      <th>LUNGES</th>\n",
       "      <th>BITES</th>\n",
       "      <th>ZIGZAGS</th>\n",
       "      <th>NEST</th>\n",
       "      <th>SPINES</th>\n",
       "      <th>DNEST</th>\n",
       "      <th>BOUT</th>\n",
       "    </tr>\n",
       "  </thead>\n",
       "  <tbody>\n",
       "    <tr>\n",
       "      <td>count</td>\n",
       "      <td>54.000000</td>\n",
       "      <td>54.000000</td>\n",
       "      <td>54.000000</td>\n",
       "      <td>54.000000</td>\n",
       "      <td>54.000000</td>\n",
       "      <td>54.000000</td>\n",
       "      <td>54.000000</td>\n",
       "    </tr>\n",
       "    <tr>\n",
       "      <td>mean</td>\n",
       "      <td>131.185185</td>\n",
       "      <td>69.055556</td>\n",
       "      <td>7.277778</td>\n",
       "      <td>1.425926</td>\n",
       "      <td>18.425926</td>\n",
       "      <td>34.259259</td>\n",
       "      <td>89.314815</td>\n",
       "    </tr>\n",
       "    <tr>\n",
       "      <td>std</td>\n",
       "      <td>50.771064</td>\n",
       "      <td>43.428283</td>\n",
       "      <td>6.693891</td>\n",
       "      <td>3.000641</td>\n",
       "      <td>8.712606</td>\n",
       "      <td>56.491170</td>\n",
       "      <td>98.679742</td>\n",
       "    </tr>\n",
       "    <tr>\n",
       "      <td>min</td>\n",
       "      <td>41.000000</td>\n",
       "      <td>3.000000</td>\n",
       "      <td>0.000000</td>\n",
       "      <td>0.000000</td>\n",
       "      <td>5.000000</td>\n",
       "      <td>0.000000</td>\n",
       "      <td>6.000000</td>\n",
       "    </tr>\n",
       "    <tr>\n",
       "      <td>25%</td>\n",
       "      <td>99.000000</td>\n",
       "      <td>34.250000</td>\n",
       "      <td>2.250000</td>\n",
       "      <td>0.000000</td>\n",
       "      <td>14.000000</td>\n",
       "      <td>0.000000</td>\n",
       "      <td>23.500000</td>\n",
       "    </tr>\n",
       "    <tr>\n",
       "      <td>50%</td>\n",
       "      <td>127.000000</td>\n",
       "      <td>60.000000</td>\n",
       "      <td>5.000000</td>\n",
       "      <td>0.000000</td>\n",
       "      <td>16.000000</td>\n",
       "      <td>0.000000</td>\n",
       "      <td>45.000000</td>\n",
       "    </tr>\n",
       "    <tr>\n",
       "      <td>75%</td>\n",
       "      <td>156.750000</td>\n",
       "      <td>84.250000</td>\n",
       "      <td>10.750000</td>\n",
       "      <td>1.000000</td>\n",
       "      <td>24.750000</td>\n",
       "      <td>73.000000</td>\n",
       "      <td>125.000000</td>\n",
       "    </tr>\n",
       "    <tr>\n",
       "      <td>max</td>\n",
       "      <td>277.000000</td>\n",
       "      <td>175.000000</td>\n",
       "      <td>26.000000</td>\n",
       "      <td>15.000000</td>\n",
       "      <td>46.000000</td>\n",
       "      <td>199.000000</td>\n",
       "      <td>306.000000</td>\n",
       "    </tr>\n",
       "  </tbody>\n",
       "</table>\n",
       "</div>"
      ],
      "text/plain": [
       "           LUNGES       BITES    ZIGZAGS       NEST     SPINES       DNEST  \\\n",
       "count   54.000000   54.000000  54.000000  54.000000  54.000000   54.000000   \n",
       "mean   131.185185   69.055556   7.277778   1.425926  18.425926   34.259259   \n",
       "std     50.771064   43.428283   6.693891   3.000641   8.712606   56.491170   \n",
       "min     41.000000    3.000000   0.000000   0.000000   5.000000    0.000000   \n",
       "25%     99.000000   34.250000   2.250000   0.000000  14.000000    0.000000   \n",
       "50%    127.000000   60.000000   5.000000   0.000000  16.000000    0.000000   \n",
       "75%    156.750000   84.250000  10.750000   1.000000  24.750000   73.000000   \n",
       "max    277.000000  175.000000  26.000000  15.000000  46.000000  199.000000   \n",
       "\n",
       "             BOUT  \n",
       "count   54.000000  \n",
       "mean    89.314815  \n",
       "std     98.679742  \n",
       "min      6.000000  \n",
       "25%     23.500000  \n",
       "50%     45.000000  \n",
       "75%    125.000000  \n",
       "max    306.000000  "
      ]
     },
     "execution_count": 59,
     "metadata": {},
     "output_type": "execute_result"
    }
   ],
   "source": [
    "df.describe()"
   ]
  },
  {
   "cell_type": "code",
   "execution_count": 60,
   "metadata": {},
   "outputs": [
    {
     "data": {
      "text/html": [
       "<div>\n",
       "<style scoped>\n",
       "    .dataframe tbody tr th:only-of-type {\n",
       "        vertical-align: middle;\n",
       "    }\n",
       "\n",
       "    .dataframe tbody tr th {\n",
       "        vertical-align: top;\n",
       "    }\n",
       "\n",
       "    .dataframe thead th {\n",
       "        text-align: right;\n",
       "    }\n",
       "</style>\n",
       "<table border=\"1\" class=\"dataframe\">\n",
       "  <thead>\n",
       "    <tr style=\"text-align: right;\">\n",
       "      <th></th>\n",
       "      <th>LUNGES</th>\n",
       "      <th>BITES</th>\n",
       "      <th>ZIGZAGS</th>\n",
       "      <th>NEST</th>\n",
       "      <th>SPINES</th>\n",
       "      <th>DNEST</th>\n",
       "      <th>BOUT</th>\n",
       "    </tr>\n",
       "  </thead>\n",
       "  <tbody>\n",
       "    <tr>\n",
       "      <td>LUNGES</td>\n",
       "      <td>1.000000</td>\n",
       "      <td>0.688077</td>\n",
       "      <td>-0.139336</td>\n",
       "      <td>-0.164133</td>\n",
       "      <td>0.055567</td>\n",
       "      <td>-0.228568</td>\n",
       "      <td>0.233314</td>\n",
       "    </tr>\n",
       "    <tr>\n",
       "      <td>BITES</td>\n",
       "      <td>0.688077</td>\n",
       "      <td>1.000000</td>\n",
       "      <td>-0.042761</td>\n",
       "      <td>-0.148884</td>\n",
       "      <td>0.373382</td>\n",
       "      <td>-0.217563</td>\n",
       "      <td>0.117316</td>\n",
       "    </tr>\n",
       "    <tr>\n",
       "      <td>ZIGZAGS</td>\n",
       "      <td>-0.139336</td>\n",
       "      <td>-0.042761</td>\n",
       "      <td>1.000000</td>\n",
       "      <td>0.351894</td>\n",
       "      <td>0.067813</td>\n",
       "      <td>0.091315</td>\n",
       "      <td>-0.160693</td>\n",
       "    </tr>\n",
       "    <tr>\n",
       "      <td>NEST</td>\n",
       "      <td>-0.164133</td>\n",
       "      <td>-0.148884</td>\n",
       "      <td>0.351894</td>\n",
       "      <td>1.000000</td>\n",
       "      <td>-0.052538</td>\n",
       "      <td>0.514028</td>\n",
       "      <td>-0.305876</td>\n",
       "    </tr>\n",
       "    <tr>\n",
       "      <td>SPINES</td>\n",
       "      <td>0.055567</td>\n",
       "      <td>0.373382</td>\n",
       "      <td>0.067813</td>\n",
       "      <td>-0.052538</td>\n",
       "      <td>1.000000</td>\n",
       "      <td>-0.051099</td>\n",
       "      <td>-0.041483</td>\n",
       "    </tr>\n",
       "    <tr>\n",
       "      <td>DNEST</td>\n",
       "      <td>-0.228568</td>\n",
       "      <td>-0.217563</td>\n",
       "      <td>0.091315</td>\n",
       "      <td>0.514028</td>\n",
       "      <td>-0.051099</td>\n",
       "      <td>1.000000</td>\n",
       "      <td>-0.242177</td>\n",
       "    </tr>\n",
       "    <tr>\n",
       "      <td>BOUT</td>\n",
       "      <td>0.233314</td>\n",
       "      <td>0.117316</td>\n",
       "      <td>-0.160693</td>\n",
       "      <td>-0.305876</td>\n",
       "      <td>-0.041483</td>\n",
       "      <td>-0.242177</td>\n",
       "      <td>1.000000</td>\n",
       "    </tr>\n",
       "  </tbody>\n",
       "</table>\n",
       "</div>"
      ],
      "text/plain": [
       "           LUNGES     BITES   ZIGZAGS      NEST    SPINES     DNEST      BOUT\n",
       "LUNGES   1.000000  0.688077 -0.139336 -0.164133  0.055567 -0.228568  0.233314\n",
       "BITES    0.688077  1.000000 -0.042761 -0.148884  0.373382 -0.217563  0.117316\n",
       "ZIGZAGS -0.139336 -0.042761  1.000000  0.351894  0.067813  0.091315 -0.160693\n",
       "NEST    -0.164133 -0.148884  0.351894  1.000000 -0.052538  0.514028 -0.305876\n",
       "SPINES   0.055567  0.373382  0.067813 -0.052538  1.000000 -0.051099 -0.041483\n",
       "DNEST   -0.228568 -0.217563  0.091315  0.514028 -0.051099  1.000000 -0.242177\n",
       "BOUT     0.233314  0.117316 -0.160693 -0.305876 -0.041483 -0.242177  1.000000"
      ]
     },
     "execution_count": 60,
     "metadata": {},
     "output_type": "execute_result"
    }
   ],
   "source": [
    "df.corr()"
   ]
  },
  {
   "cell_type": "code",
   "execution_count": null,
   "metadata": {},
   "outputs": [],
   "source": []
  },
  {
   "cell_type": "code",
   "execution_count": 61,
   "metadata": {},
   "outputs": [
    {
     "data": {
      "text/plain": [
       "<matplotlib.axes._subplots.AxesSubplot at 0x24b09efd688>"
      ]
     },
     "execution_count": 61,
     "metadata": {},
     "output_type": "execute_result"
    },
    {
     "data": {
      "image/png": "[encoded data removed]",
      "text/plain": [
       "<Figure size 1080x576 with 2 Axes>"
      ]
     },
     "metadata": {
      "needs_background": "light"
     },
     "output_type": "display_data"
    }
   ],
   "source": [
    "#  https://seaborn.pydata.org/generated/seaborn.heatmap.html\n",
    "#  Верхняя и нижняя строки имеют половинную высоту.\n",
    "#  Это известный баг, временное лекарство приведено ниже\n",
    "#  https://stackoverflow.com/questions/56942670/matplotlib-seaborn-first-and-last-row-cut-in-half-of-heatmap-plot\n",
    "\n",
    "\n",
    "plt.figure(figsize=(15,8))\n",
    "c= df.corr()\n",
    "sns.heatmap(c, vmin=-1, vmax=1)"
   ]
  },
  {
   "cell_type": "code",
   "execution_count": 62,
   "metadata": {},
   "outputs": [
    {
     "data": {
      "text/plain": [
       "(7.0, 0.0)"
      ]
     },
     "execution_count": 62,
     "metadata": {},
     "output_type": "execute_result"
    },
    {
     "data": {
      "image/png": "[encoded data removed]",
      "text/plain": [
       "<Figure size 1080x576 with 2 Axes>"
      ]
     },
     "metadata": {
      "needs_background": "light"
     },
     "output_type": "display_data"
    }
   ],
   "source": [
    "#  Исправленная версия.  Используем, пока не исправили баг\n",
    "df_corr = df.corr()\n",
    "\n",
    "plt.figure(figsize=(15,8))\n",
    "ax = sns.heatmap(df_corr, annot=True, vmin=-1, vmax=1) # Внимание: \"annot\" а не \"annote\"\n",
    "bottom, top = ax.get_ylim()\n",
    "ax.set_ylim(bottom + 0.5, top - 0.5)"
   ]
  },
  {
   "cell_type": "code",
   "execution_count": null,
   "metadata": {},
   "outputs": [],
   "source": []
  },
  {
   "cell_type": "code",
   "execution_count": 10,
   "metadata": {},
   "outputs": [
    {
     "data": {
      "text/plain": [
       "array([[<matplotlib.axes._subplots.AxesSubplot object at 0x0000024B051FD408>,\n",
       "        <matplotlib.axes._subplots.AxesSubplot object at 0x0000024B05783CC8>,\n",
       "        <matplotlib.axes._subplots.AxesSubplot object at 0x0000024B057BCD88>,\n",
       "        <matplotlib.axes._subplots.AxesSubplot object at 0x0000024B057F4EC8>,\n",
       "        <matplotlib.axes._subplots.AxesSubplot object at 0x0000024B05838EC8>,\n",
       "        <matplotlib.axes._subplots.AxesSubplot object at 0x0000024B0586A108>,\n",
       "        <matplotlib.axes._subplots.AxesSubplot object at 0x0000024B05756148>],\n",
       "       [<matplotlib.axes._subplots.AxesSubplot object at 0x0000024B05AC6288>,\n",
       "        <matplotlib.axes._subplots.AxesSubplot object at 0x0000024B05AD1508>,\n",
       "        <matplotlib.axes._subplots.AxesSubplot object at 0x0000024B05B0A6C8>,\n",
       "        <matplotlib.axes._subplots.AxesSubplot object at 0x0000024B05B705C8>,\n",
       "        <matplotlib.axes._subplots.AxesSubplot object at 0x0000024B05BA8688>,\n",
       "        <matplotlib.axes._subplots.AxesSubplot object at 0x0000024B05BE37C8>,\n",
       "        <matplotlib.axes._subplots.AxesSubplot object at 0x0000024B05C1C8C8>],\n",
       "       [<matplotlib.axes._subplots.AxesSubplot object at 0x0000024B05C539C8>,\n",
       "        <matplotlib.axes._subplots.AxesSubplot object at 0x0000024B05C8EB08>,\n",
       "        <matplotlib.axes._subplots.AxesSubplot object at 0x0000024B05E75C08>,\n",
       "        <matplotlib.axes._subplots.AxesSubplot object at 0x0000024B05EACC88>,\n",
       "        <matplotlib.axes._subplots.AxesSubplot object at 0x0000024B05EE6DC8>,\n",
       "        <matplotlib.axes._subplots.AxesSubplot object at 0x0000024B05F1EF08>,\n",
       "        <matplotlib.axes._subplots.AxesSubplot object at 0x0000024B05F5C048>],\n",
       "       [<matplotlib.axes._subplots.AxesSubplot object at 0x0000024B05F95148>,\n",
       "        <matplotlib.axes._subplots.AxesSubplot object at 0x0000024B05FCF208>,\n",
       "        <matplotlib.axes._subplots.AxesSubplot object at 0x0000024B06006308>,\n",
       "        <matplotlib.axes._subplots.AxesSubplot object at 0x0000024B0603F408>,\n",
       "        <matplotlib.axes._subplots.AxesSubplot object at 0x0000024B06079548>,\n",
       "        <matplotlib.axes._subplots.AxesSubplot object at 0x0000024B060B1648>,\n",
       "        <matplotlib.axes._subplots.AxesSubplot object at 0x0000024B060E9708>],\n",
       "       [<matplotlib.axes._subplots.AxesSubplot object at 0x0000024B06122848>,\n",
       "        <matplotlib.axes._subplots.AxesSubplot object at 0x0000024B0615A948>,\n",
       "        <matplotlib.axes._subplots.AxesSubplot object at 0x0000024B06193A48>,\n",
       "        <matplotlib.axes._subplots.AxesSubplot object at 0x0000024B061CAB88>,\n",
       "        <matplotlib.axes._subplots.AxesSubplot object at 0x0000024B06203C08>,\n",
       "        <matplotlib.axes._subplots.AxesSubplot object at 0x0000024B0623DD08>,\n",
       "        <matplotlib.axes._subplots.AxesSubplot object at 0x0000024B06276E48>],\n",
       "       [<matplotlib.axes._subplots.AxesSubplot object at 0x0000024B062AEF48>,\n",
       "        <matplotlib.axes._subplots.AxesSubplot object at 0x0000024B062ED088>,\n",
       "        <matplotlib.axes._subplots.AxesSubplot object at 0x0000024B06325148>,\n",
       "        <matplotlib.axes._subplots.AxesSubplot object at 0x0000024B0635C248>,\n",
       "        <matplotlib.axes._subplots.AxesSubplot object at 0x0000024B06396348>,\n",
       "        <matplotlib.axes._subplots.AxesSubplot object at 0x0000024B063CF448>,\n",
       "        <matplotlib.axes._subplots.AxesSubplot object at 0x0000024B06408588>],\n",
       "       [<matplotlib.axes._subplots.AxesSubplot object at 0x0000024B0643F688>,\n",
       "        <matplotlib.axes._subplots.AxesSubplot object at 0x0000024B06479748>,\n",
       "        <matplotlib.axes._subplots.AxesSubplot object at 0x0000024B064B2888>,\n",
       "        <matplotlib.axes._subplots.AxesSubplot object at 0x0000024B064E9988>,\n",
       "        <matplotlib.axes._subplots.AxesSubplot object at 0x0000024B06523A88>,\n",
       "        <matplotlib.axes._subplots.AxesSubplot object at 0x0000024B0655CBC8>,\n",
       "        <matplotlib.axes._subplots.AxesSubplot object at 0x0000024B06593C48>]],\n",
       "      dtype=object)"
      ]
     },
     "execution_count": 10,
     "metadata": {},
     "output_type": "execute_result"
    },
    {
     "data": {
      "text/plain": [
       "<Figure size 1440x720 with 0 Axes>"
      ]
     },
     "metadata": {},
     "output_type": "display_data"
    },
    {
     "data": {
      "image/png": "[encoded data removed]",
      "text/plain": [
       "<Figure size 432x288 with 49 Axes>"
      ]
     },
     "metadata": {
      "needs_background": "light"
     },
     "output_type": "display_data"
    }
   ],
   "source": [
    "#  Матрица даиаграмм рассеивания\n",
    "#  Версия 1\n",
    "#  Снова как-то нескладно, раньше работало нормально...\n",
    "\n",
    "plt.figure(figsize=(20,10))\n",
    "scatter_matrix(df)"
   ]
  },
  {
   "cell_type": "code",
   "execution_count": 11,
   "metadata": {},
   "outputs": [
    {
     "data": {
      "text/plain": [
       "<seaborn.axisgrid.PairGrid at 0x24b06641648>"
      ]
     },
     "execution_count": 11,
     "metadata": {},
     "output_type": "execute_result"
    },
    {
     "data": {
      "image/png": "[encoded data removed]",
      "text/plain": [
       "<Figure size 1260x1260 with 56 Axes>"
      ]
     },
     "metadata": {
      "needs_background": "light"
     },
     "output_type": "display_data"
    }
   ],
   "source": [
    "#  Матрица даиаграмм рассеивания\n",
    "#  Версия 2\n",
    "\n",
    "#   В пакете seaborn все нормально\n",
    "\n",
    "sns.pairplot(df)"
   ]
  },
  {
   "cell_type": "code",
   "execution_count": null,
   "metadata": {},
   "outputs": [],
   "source": []
  },
  {
   "cell_type": "code",
   "execution_count": null,
   "metadata": {},
   "outputs": [],
   "source": []
  },
  {
   "cell_type": "markdown",
   "metadata": {},
   "source": [
    "Вывод: распределения переменных существенно отличаются от нормальных, корреляции между переменными малы. <br>\n",
    "Прогноз успеха факторного анализа: успех маловероятен. <br>\n",
    "Но нас так просто не смутить. <br>"
   ]
  },
  {
   "cell_type": "code",
   "execution_count": null,
   "metadata": {},
   "outputs": [],
   "source": []
  },
  {
   "cell_type": "markdown",
   "metadata": {},
   "source": [
    "### Прежде чем анализировать, \n",
    "### попробуем оценить перспективность факторного анализа формальными методами."
   ]
  },
  {
   "cell_type": "markdown",
   "metadata": {},
   "source": [
    "####   Тест Bartlett'а  (Не рекомендуется применять)"
   ]
  },
  {
   "cell_type": "code",
   "execution_count": 12,
   "metadata": {},
   "outputs": [
    {
     "data": {
      "text/plain": [
       "(85.17614839099757, 4.23744230751294e-10)"
      ]
     },
     "execution_count": 12,
     "metadata": {},
     "output_type": "execute_result"
    }
   ],
   "source": [
    "from factor_analyzer.factor_analyzer import calculate_bartlett_sphericity\n",
    "chi_square_value,p_value=calculate_bartlett_sphericity(df)\n",
    "chi_square_value, p_value"
   ]
  },
  {
   "cell_type": "code",
   "execution_count": null,
   "metadata": {},
   "outputs": [],
   "source": []
  },
  {
   "cell_type": "markdown",
   "metadata": {},
   "source": [
    " #### Статистики  Kaiser-Meyer-Olkin"
   ]
  },
  {
   "cell_type": "code",
   "execution_count": 13,
   "metadata": {},
   "outputs": [],
   "source": [
    "\n",
    "from factor_analyzer.factor_analyzer import calculate_kmo\n",
    "kmo_all,kmo_model=calculate_kmo(df)"
   ]
  },
  {
   "cell_type": "code",
   "execution_count": 14,
   "metadata": {},
   "outputs": [
    {
     "name": "stdout",
     "output_type": "stream",
     "text": [
      "Global KMO = 0.5267816347722193\n"
     ]
    }
   ],
   "source": [
    "#  Перспективы факторного анализа\n",
    "#  Сравниваем Global KMO с 0.5\n",
    "\n",
    "print(\"Global KMO =\", kmo_model)"
   ]
  },
  {
   "cell_type": "markdown",
   "metadata": {},
   "source": [
    "Вывод: модель получится убогой (miserable, по Kaiser'у)<br>\n",
    "Но нас это не остановит"
   ]
  },
  {
   "cell_type": "code",
   "execution_count": null,
   "metadata": {},
   "outputs": [],
   "source": []
  },
  {
   "cell_type": "code",
   "execution_count": 15,
   "metadata": {},
   "outputs": [
    {
     "data": {
      "text/html": [
       "<div>\n",
       "<style scoped>\n",
       "    .dataframe tbody tr th:only-of-type {\n",
       "        vertical-align: middle;\n",
       "    }\n",
       "\n",
       "    .dataframe tbody tr th {\n",
       "        vertical-align: top;\n",
       "    }\n",
       "\n",
       "    .dataframe thead th {\n",
       "        text-align: right;\n",
       "    }\n",
       "</style>\n",
       "<table border=\"1\" class=\"dataframe\">\n",
       "  <thead>\n",
       "    <tr style=\"text-align: right;\">\n",
       "      <th></th>\n",
       "      <th>kmo</th>\n",
       "    </tr>\n",
       "  </thead>\n",
       "  <tbody>\n",
       "    <tr>\n",
       "      <td>LUNGES</td>\n",
       "      <td>0.495177</td>\n",
       "    </tr>\n",
       "    <tr>\n",
       "      <td>BITES</td>\n",
       "      <td>0.485655</td>\n",
       "    </tr>\n",
       "    <tr>\n",
       "      <td>ZIGZAGS</td>\n",
       "      <td>0.536856</td>\n",
       "    </tr>\n",
       "    <tr>\n",
       "      <td>NEST</td>\n",
       "      <td>0.572718</td>\n",
       "    </tr>\n",
       "    <tr>\n",
       "      <td>SPINES</td>\n",
       "      <td>0.337686</td>\n",
       "    </tr>\n",
       "    <tr>\n",
       "      <td>DNEST</td>\n",
       "      <td>0.616393</td>\n",
       "    </tr>\n",
       "    <tr>\n",
       "      <td>BOUT</td>\n",
       "      <td>0.761309</td>\n",
       "    </tr>\n",
       "  </tbody>\n",
       "</table>\n",
       "</div>"
      ],
      "text/plain": [
       "              kmo\n",
       "LUNGES   0.495177\n",
       "BITES    0.485655\n",
       "ZIGZAGS  0.536856\n",
       "NEST     0.572718\n",
       "SPINES   0.337686\n",
       "DNEST    0.616393\n",
       "BOUT     0.761309"
      ]
     },
     "execution_count": 15,
     "metadata": {},
     "output_type": "execute_result"
    }
   ],
   "source": [
    "#  Какие переменные стоит исключить из факторного анализа?\n",
    "#  Вспомним критерий: kmo > 0.5\n",
    "\n",
    "df_2 = pd.DataFrame(data=kmo_all, index = df.columns)\n",
    "df_2.columns = [\"kmo\"]\n",
    "df_2"
   ]
  },
  {
   "cell_type": "markdown",
   "metadata": {},
   "source": [
    "Модель плохо описывает переменные <br>\n",
    "LUNGES, BITES, SPINES\n",
    "\n",
    "Но это не точно.\n"
   ]
  },
  {
   "cell_type": "code",
   "execution_count": null,
   "metadata": {},
   "outputs": [],
   "source": []
  },
  {
   "cell_type": "code",
   "execution_count": null,
   "metadata": {},
   "outputs": [],
   "source": []
  },
  {
   "cell_type": "markdown",
   "metadata": {},
   "source": [
    "\n",
    "Метод главных компонент\n",
    "=============\n",
    "\n",
    "http://scikit-learn.org/stable/modules/generated/sklearn.decomposition.PCA.html\n",
    "   \n"
   ]
  },
  {
   "cell_type": "markdown",
   "metadata": {},
   "source": [
    "Cтандартизируем переменные. Из предварительного анализа видно, что это важно.\n",
    "\n",
    "В команде PCA нет опции, выбирающей между корреляциями и ковариациями.<br>\n",
    "Придется поработать самим.<br>\n",
    "Напоминание: ковариация стандартизованных переменных совпадает с корреляцией.<br>"
   ]
  },
  {
   "cell_type": "code",
   "execution_count": 16,
   "metadata": {},
   "outputs": [],
   "source": [
    "df_scaled = preprocessing.StandardScaler().fit_transform(df)\n",
    "\n",
    "#   Другой способ стандартизации\n",
    "#   df_scaled = preprocessing.scale(df)\n"
   ]
  },
  {
   "cell_type": "code",
   "execution_count": 17,
   "metadata": {},
   "outputs": [
    {
     "data": {
      "text/plain": [
       "array([[-1.03750432, -1.02396939, -1.09743575, -0.47966932, -0.39690707,\n",
       "        -0.61214787, -0.4532939 ],\n",
       "       [ 0.09572432, -0.25696079, -0.19267956, -0.47966932, -0.39690707,\n",
       "        -0.61214787,  0.60028766],\n",
       "       [-0.32178097, -0.90775596, -0.79585035, -0.14327785, -1.09203081,\n",
       "        -0.52280737, -0.61695706],\n",
       "       [-0.04344411,  1.62569667,  1.31524742, -0.47966932,  0.41407062,\n",
       "        -0.61214787, -0.20779917],\n",
       "       [-0.22237495, -0.25696079,  1.16445472,  4.56620276, -0.51276103,\n",
       "         0.85303633, -0.82153601]])"
      ]
     },
     "execution_count": 17,
     "metadata": {},
     "output_type": "execute_result"
    }
   ],
   "source": [
    "#   Все хорошо:\n",
    "df_scaled[0:5, :]"
   ]
  },
  {
   "cell_type": "code",
   "execution_count": null,
   "metadata": {},
   "outputs": [],
   "source": []
  },
  {
   "cell_type": "markdown",
   "metadata": {},
   "source": [
    "Реализация метода содержится в классе ```PCA``` \n",
    "библиотеки ```sklearn.decomposition```.\n",
    "\n"
   ]
  },
  {
   "cell_type": "code",
   "execution_count": 18,
   "metadata": {},
   "outputs": [],
   "source": [
    "from sklearn.decomposition import PCA"
   ]
  },
  {
   "cell_type": "code",
   "execution_count": 19,
   "metadata": {},
   "outputs": [],
   "source": [
    "#  Число главных компонент взято с запасом: строим все возможные компоненты.\n",
    "#  Уточним \"правильное\" числом главных компонент на следующей итерации анализа\n",
    "#  Если заранее решено, что компонент две, задаем\n",
    "#  n_components=2\n",
    "\n",
    "pca = PCA(n_components=7)"
   ]
  },
  {
   "cell_type": "code",
   "execution_count": 20,
   "metadata": {},
   "outputs": [],
   "source": [
    "zzz = pca.fit(df_scaled)"
   ]
  },
  {
   "cell_type": "code",
   "execution_count": 21,
   "metadata": {},
   "outputs": [
    {
     "data": {
      "text/plain": [
       "7"
      ]
     },
     "execution_count": 21,
     "metadata": {},
     "output_type": "execute_result"
    }
   ],
   "source": [
    "#  Число столбцов в матрице данных\n",
    "\n",
    "df_scaled.shape[1]"
   ]
  },
  {
   "cell_type": "code",
   "execution_count": 22,
   "metadata": {},
   "outputs": [
    {
     "name": "stdout",
     "output_type": "stream",
     "text": [
      "[2.28814174 1.45424113 0.97911419 0.88607931 0.75323987 0.40480813\n",
      " 0.23437562]\n"
     ]
    }
   ],
   "source": [
    "#  Посмотрим на собственные числа\n",
    "#  чтобы определить число главных компонент\n",
    "#  будем сравнивать их с 1 (критерий Кайзера) или 0.8 (критерий Jolliffe)\n",
    "\n",
    "print(pca.explained_variance_ratio_ * df_scaled.shape[1])\n"
   ]
  },
  {
   "cell_type": "markdown",
   "metadata": {},
   "source": [
    "Вывод: надо оставить два фактора. (Или четыре)"
   ]
  },
  {
   "cell_type": "code",
   "execution_count": null,
   "metadata": {},
   "outputs": [],
   "source": []
  },
  {
   "cell_type": "markdown",
   "metadata": {},
   "source": [
    "###  Отступление. <br>\n",
    "\n",
    "Реализуем PCA процедурами линейной алгебры из библиотеки numpy"
   ]
  },
  {
   "cell_type": "code",
   "execution_count": 23,
   "metadata": {},
   "outputs": [],
   "source": [
    "#  Сосчитаем матрицу корреляций\n",
    "#  Внимание!  Отступление от стандарта rowvar=False\n",
    "\n",
    "zzz1 = np.corrcoef(df.values, rowvar=False)"
   ]
  },
  {
   "cell_type": "code",
   "execution_count": 24,
   "metadata": {},
   "outputs": [
    {
     "data": {
      "text/plain": [
       "array([[ 1.        ,  0.68807674, -0.13933637, -0.16413256,  0.05556711,\n",
       "        -0.22856752,  0.2333142 ],\n",
       "       [ 0.68807674,  1.        , -0.04276105, -0.14888398,  0.37338178,\n",
       "        -0.21756303,  0.11731577],\n",
       "       [-0.13933637, -0.04276105,  1.        ,  0.35189426,  0.06781281,\n",
       "         0.09131506, -0.16069256],\n",
       "       [-0.16413256, -0.14888398,  0.35189426,  1.        , -0.05253774,\n",
       "         0.51402827, -0.30587584],\n",
       "       [ 0.05556711,  0.37338178,  0.06781281, -0.05253774,  1.        ,\n",
       "        -0.05109914, -0.04148252],\n",
       "       [-0.22856752, -0.21756303,  0.09131506,  0.51402827, -0.05109914,\n",
       "         1.        , -0.24217747],\n",
       "       [ 0.2333142 ,  0.11731577, -0.16069256, -0.30587584, -0.04148252,\n",
       "        -0.24217747,  1.        ]])"
      ]
     },
     "execution_count": 24,
     "metadata": {},
     "output_type": "execute_result"
    }
   ],
   "source": [
    "zzz1"
   ]
  },
  {
   "cell_type": "code",
   "execution_count": 25,
   "metadata": {},
   "outputs": [
    {
     "data": {
      "text/plain": [
       "(7, 7)"
      ]
     },
     "execution_count": 25,
     "metadata": {},
     "output_type": "execute_result"
    }
   ],
   "source": [
    "zzz1.shape"
   ]
  },
  {
   "cell_type": "code",
   "execution_count": 26,
   "metadata": {},
   "outputs": [],
   "source": [
    "#  Избыточно сложный вариант, дает комплексные решения!\n",
    "#  evals, evecs = np.linalg.eig(zzz1)\n",
    "\n",
    "#  Применим более удобный вариант, чтобы, получить вещественные значения\n",
    "evalsh, evecsh = np.linalg.eigh(zzz1)"
   ]
  },
  {
   "cell_type": "code",
   "execution_count": 27,
   "metadata": {},
   "outputs": [
    {
     "data": {
      "text/plain": [
       "array([0.23437562, 0.40480813, 0.75323987, 0.88607931, 0.97911419,\n",
       "       1.45424113, 2.28814174])"
      ]
     },
     "execution_count": 27,
     "metadata": {},
     "output_type": "execute_result"
    }
   ],
   "source": [
    "evalsh"
   ]
  },
  {
   "cell_type": "code",
   "execution_count": 28,
   "metadata": {},
   "outputs": [
    {
     "data": {
      "text/plain": [
       "array([[-0.63943618,  0.05536321, -0.1813046 ,  0.07619368, -0.48163265,\n",
       "         0.31046609, -0.47012791],\n",
       "       [ 0.70642405,  0.08045943, -0.08378925, -0.05001379, -0.12992711,\n",
       "         0.50737164, -0.45897962],\n",
       "       [-0.05270087,  0.34605259, -0.02177523,  0.78255836,  0.24381636,\n",
       "         0.37893225,  0.24811772],\n",
       "       [ 0.03746646, -0.72100117,  0.11356803,  0.09465088, -0.32733909,\n",
       "         0.40026456,  0.43535559],\n",
       "       [-0.28721966, -0.11564146,  0.41154609, -0.32376702,  0.62180282,\n",
       "         0.46520814, -0.16394905],\n",
       "       [-0.00498087,  0.57406155,  0.39063733, -0.36138125, -0.39879993,\n",
       "         0.22423164,  0.42179779],\n",
       "       [ 0.07338514, -0.08914314,  0.79042294,  0.36730814, -0.1971586 ,\n",
       "        -0.2751091 , -0.33530269]])"
      ]
     },
     "execution_count": 28,
     "metadata": {},
     "output_type": "execute_result"
    }
   ],
   "source": [
    "evecsh"
   ]
  },
  {
   "cell_type": "code",
   "execution_count": 29,
   "metadata": {},
   "outputs": [],
   "source": [
    "#  отсортируем в порядке возрастания собственных чисел\n",
    "#  idx = evalsh.argsort()   \n",
    "#  evals = evalsh[idx] \n",
    "#  evecs = evecsh[:,idx]"
   ]
  },
  {
   "cell_type": "code",
   "execution_count": 30,
   "metadata": {},
   "outputs": [],
   "source": [
    "#  отсортируем в порядке убывания собственных чисел\n",
    "idx = evalsh.argsort()[::-1]   \n",
    "evals = evalsh[idx] \n",
    "evecs = evecsh[:,idx]\n"
   ]
  },
  {
   "cell_type": "code",
   "execution_count": 31,
   "metadata": {},
   "outputs": [
    {
     "data": {
      "text/plain": [
       "array([2.28814174, 1.45424113, 0.97911419, 0.88607931, 0.75323987,\n",
       "       0.40480813, 0.23437562])"
      ]
     },
     "execution_count": 31,
     "metadata": {},
     "output_type": "execute_result"
    }
   ],
   "source": [
    "#  Сравним с собственными числами, полученными в команде PCA\n",
    "#  Решения должны совпасть\n",
    "evals"
   ]
  },
  {
   "cell_type": "code",
   "execution_count": 32,
   "metadata": {},
   "outputs": [
    {
     "data": {
      "text/plain": [
       "array([[-0.47012791,  0.31046609, -0.48163265,  0.07619368, -0.1813046 ,\n",
       "         0.05536321, -0.63943618],\n",
       "       [-0.45897962,  0.50737164, -0.12992711, -0.05001379, -0.08378925,\n",
       "         0.08045943,  0.70642405],\n",
       "       [ 0.24811772,  0.37893225,  0.24381636,  0.78255836, -0.02177523,\n",
       "         0.34605259, -0.05270087],\n",
       "       [ 0.43535559,  0.40026456, -0.32733909,  0.09465088,  0.11356803,\n",
       "        -0.72100117,  0.03746646],\n",
       "       [-0.16394905,  0.46520814,  0.62180282, -0.32376702,  0.41154609,\n",
       "        -0.11564146, -0.28721966],\n",
       "       [ 0.42179779,  0.22423164, -0.39879993, -0.36138125,  0.39063733,\n",
       "         0.57406155, -0.00498087],\n",
       "       [-0.33530269, -0.2751091 , -0.1971586 ,  0.36730814,  0.79042294,\n",
       "        -0.08914314,  0.07338514]])"
      ]
     },
     "execution_count": 32,
     "metadata": {},
     "output_type": "execute_result"
    }
   ],
   "source": [
    "#  Собственные векторы\n",
    "evecs"
   ]
  },
  {
   "cell_type": "markdown",
   "metadata": {},
   "source": [
    "Конец отступления о решении задачи напрямую, методами линейной алгебры"
   ]
  },
  {
   "cell_type": "code",
   "execution_count": null,
   "metadata": {},
   "outputs": [],
   "source": []
  },
  {
   "cell_type": "code",
   "execution_count": 33,
   "metadata": {},
   "outputs": [
    {
     "data": {
      "text/plain": [
       "7.000000000000002"
      ]
     },
     "execution_count": 33,
     "metadata": {},
     "output_type": "execute_result"
    }
   ],
   "source": [
    "#  сумма собственных чисел равна числу переменных?\n",
    "#  (если используем корреляционную матрицу)\n",
    "\n",
    "sum(pca.explained_variance_ratio_ * df_scaled.shape[1])"
   ]
  },
  {
   "cell_type": "code",
   "execution_count": 34,
   "metadata": {},
   "outputs": [
    {
     "name": "stdout",
     "output_type": "stream",
     "text": [
      "Доля общей дисперсии: [32.68773918 20.77487333 13.98734558 12.65827583 10.76056956  5.78297335\n",
      "  3.34822318]\n"
     ]
    }
   ],
   "source": [
    "#  доля общей дисперсии (total variance ), \n",
    "#  объясненная главной компонентой, в процентах\n",
    "print ('Доля общей дисперсии: %s' % (pca.explained_variance_ratio_ * 100))\n",
    "\n"
   ]
  },
  {
   "cell_type": "code",
   "execution_count": 35,
   "metadata": {},
   "outputs": [
    {
     "data": {
      "text/plain": [
       "array([11.11573903,  8.86166018,  7.27132493,  6.91724531,  6.37769182,\n",
       "        4.67542931,  3.55756709])"
      ]
     },
     "execution_count": 35,
     "metadata": {},
     "output_type": "execute_result"
    }
   ],
   "source": [
    "#  это НЕ singular values из SVD разложения\n",
    "#  Не используем\n",
    "\n",
    "pca.singular_values_"
   ]
  },
  {
   "cell_type": "code",
   "execution_count": 36,
   "metadata": {},
   "outputs": [
    {
     "data": {
      "text/plain": [
       "2.3313142298691574"
      ]
     },
     "execution_count": 36,
     "metadata": {},
     "output_type": "execute_result"
    }
   ],
   "source": [
    "#  Должно совпасть с собственным числом\n",
    "\n",
    "11.11573903**2 / (54-1)"
   ]
  },
  {
   "cell_type": "code",
   "execution_count": 37,
   "metadata": {},
   "outputs": [
    {
     "data": {
      "text/plain": [
       "2.2881417423754846"
      ]
     },
     "execution_count": 37,
     "metadata": {},
     "output_type": "execute_result"
    }
   ],
   "source": [
    "#  Напомним себе, чему равно собственное число\n",
    "\n",
    "(pca.explained_variance_ratio_ * df_scaled.shape[1])[0]"
   ]
  },
  {
   "cell_type": "code",
   "execution_count": 38,
   "metadata": {},
   "outputs": [
    {
     "data": {
      "text/plain": [
       "2.2881417441308396"
      ]
     },
     "execution_count": 38,
     "metadata": {},
     "output_type": "execute_result"
    }
   ],
   "source": [
    "#  Попробуем угадать, где ошибка.\n",
    "#  А если так?\n",
    "\n",
    "11.11573903**2 / 54"
   ]
  },
  {
   "cell_type": "code",
   "execution_count": 39,
   "metadata": {},
   "outputs": [
    {
     "data": {
      "text/plain": [
       "array([2.33131423, 1.48167964, 0.99758804, 0.90279779, 0.76745194,\n",
       "       0.41244602, 0.2387978 ])"
      ]
     },
     "execution_count": 39,
     "metadata": {},
     "output_type": "execute_result"
    }
   ],
   "source": [
    "#  Разгадаем еще одну загадку разработчиков процедуры\n",
    "\n",
    "pca.explained_variance_"
   ]
  },
  {
   "cell_type": "code",
   "execution_count": 40,
   "metadata": {},
   "outputs": [
    {
     "data": {
      "text/plain": [
       "7.132075471698113"
      ]
     },
     "execution_count": 40,
     "metadata": {},
     "output_type": "execute_result"
    }
   ],
   "source": [
    "#  Должна равняться 7\n",
    "\n",
    "sum(pca.explained_variance_)"
   ]
  },
  {
   "cell_type": "code",
   "execution_count": 41,
   "metadata": {},
   "outputs": [
    {
     "data": {
      "text/plain": [
       "7.0"
      ]
     },
     "execution_count": 41,
     "metadata": {},
     "output_type": "execute_result"
    }
   ],
   "source": [
    "#  Попробуем угадать, где ошибка разработчиков.\n",
    "#  А если так?\n",
    "\n",
    "sum(pca.explained_variance_)*53/54"
   ]
  },
  {
   "cell_type": "code",
   "execution_count": 42,
   "metadata": {},
   "outputs": [
    {
     "data": {
      "text/plain": [
       "array([2.28814174, 1.45424113, 0.97911419, 0.88607931, 0.75323987,\n",
       "       0.40480813, 0.23437562])"
      ]
     },
     "execution_count": 42,
     "metadata": {},
     "output_type": "execute_result"
    }
   ],
   "source": [
    "#  Попробуем угадать, где ошибка разработчиков.\n",
    "#  А если так?\n",
    "\n",
    "pca.explained_variance_ * 53/54"
   ]
  },
  {
   "cell_type": "code",
   "execution_count": 43,
   "metadata": {},
   "outputs": [
    {
     "data": {
      "text/plain": [
       "array([2.28814174, 1.45424113, 0.97911419, 0.88607931, 0.75323987,\n",
       "       0.40480813, 0.23437562])"
      ]
     },
     "execution_count": 43,
     "metadata": {},
     "output_type": "execute_result"
    }
   ],
   "source": [
    "#  Сравним с правильным ответом\n",
    "evals"
   ]
  },
  {
   "cell_type": "code",
   "execution_count": 44,
   "metadata": {},
   "outputs": [
    {
     "data": {
      "text/plain": [
       "array([2.28814174, 1.45424113, 0.97911419, 0.88607931, 0.75323987,\n",
       "       0.40480813, 0.23437562])"
      ]
     },
     "execution_count": 44,
     "metadata": {},
     "output_type": "execute_result"
    }
   ],
   "source": [
    "(pca.explained_variance_ratio_ * df_scaled.shape[1])"
   ]
  },
  {
   "cell_type": "markdown",
   "metadata": {},
   "source": [
    "Итак, \n",
    "\n",
    "pca.explained_variance_  и\n",
    "\n",
    "pca.explained_variance_ratio_ * df_scaled.shape[1]\n",
    "\n",
    "отличаются множителем 53/54\n",
    "\n",
    "Почему мы должны это помнить? <br>\n",
    "Нам не все равно, нам же надо определять число главных компонент."
   ]
  },
  {
   "cell_type": "code",
   "execution_count": null,
   "metadata": {},
   "outputs": [],
   "source": []
  },
  {
   "cell_type": "markdown",
   "metadata": {},
   "source": [
    "Координаты самих компонент находятся в атрибуте ```components_```.\n",
    "\n",
    "Сравниваем с собственными векторами из отступления. <br>\n",
    "Совпали?"
   ]
  },
  {
   "cell_type": "code",
   "execution_count": 45,
   "metadata": {},
   "outputs": [
    {
     "name": "stdout",
     "output_type": "stream",
     "text": [
      "[[-0.47012791 -0.45897962  0.24811772  0.43535559 -0.16394905  0.42179779\n",
      "  -0.33530269]\n",
      " [ 0.31046609  0.50737164  0.37893225  0.40026456  0.46520814  0.22423164\n",
      "  -0.2751091 ]\n",
      " [ 0.48163265  0.12992711 -0.24381636  0.32733909 -0.62180282  0.39879993\n",
      "   0.1971586 ]\n",
      " [ 0.07619368 -0.05001379  0.78255836  0.09465088 -0.32376702 -0.36138125\n",
      "   0.36730814]\n",
      " [-0.1813046  -0.08378925 -0.02177523  0.11356803  0.41154609  0.39063733\n",
      "   0.79042294]\n",
      " [-0.05536321 -0.08045943 -0.34605259  0.72100117  0.11564146 -0.57406155\n",
      "   0.08914314]\n",
      " [ 0.63943618 -0.70642405  0.05270087 -0.03746646  0.28721966  0.00498087\n",
      "  -0.07338514]]\n"
     ]
    }
   ],
   "source": [
    "print (pca.components_)"
   ]
  },
  {
   "cell_type": "code",
   "execution_count": 46,
   "metadata": {},
   "outputs": [
    {
     "data": {
      "text/plain": [
       "array([[-0.47012791,  0.31046609, -0.48163265,  0.07619368, -0.1813046 ,\n",
       "         0.05536321, -0.63943618],\n",
       "       [-0.45897962,  0.50737164, -0.12992711, -0.05001379, -0.08378925,\n",
       "         0.08045943,  0.70642405],\n",
       "       [ 0.24811772,  0.37893225,  0.24381636,  0.78255836, -0.02177523,\n",
       "         0.34605259, -0.05270087],\n",
       "       [ 0.43535559,  0.40026456, -0.32733909,  0.09465088,  0.11356803,\n",
       "        -0.72100117,  0.03746646],\n",
       "       [-0.16394905,  0.46520814,  0.62180282, -0.32376702,  0.41154609,\n",
       "        -0.11564146, -0.28721966],\n",
       "       [ 0.42179779,  0.22423164, -0.39879993, -0.36138125,  0.39063733,\n",
       "         0.57406155, -0.00498087],\n",
       "       [-0.33530269, -0.2751091 , -0.1971586 ,  0.36730814,  0.79042294,\n",
       "        -0.08914314,  0.07338514]])"
      ]
     },
     "execution_count": 46,
     "metadata": {},
     "output_type": "execute_result"
    }
   ],
   "source": [
    "evecs\n"
   ]
  },
  {
   "cell_type": "code",
   "execution_count": 47,
   "metadata": {},
   "outputs": [],
   "source": [
    "#  Значения факторов для каждой рыбки\n",
    "\n",
    "zzz = pca.transform(df_scaled)"
   ]
  },
  {
   "cell_type": "code",
   "execution_count": 48,
   "metadata": {},
   "outputs": [
    {
     "data": {
      "text/plain": [
       "array([[ 0.43548142, -1.64669341, -0.60887645, -0.74882168, -0.51744353,\n",
       "         0.43885949, -0.06370901],\n",
       "       [-0.57810499, -0.85271451,  0.02370697,  0.39417577,  0.02590361,\n",
       "         0.0952336 ,  0.08944927],\n",
       "       [ 0.4734641 , -1.3749152 ,  0.22311247, -0.29959509, -1.00584751,\n",
       "         0.38179701,  0.12794709],\n",
       "       [-0.86464136,  1.23027304, -0.82995958,  0.91006936, -0.4444221 ,\n",
       "        -0.54861392, -0.9577952 ],\n",
       "       [ 3.21866694,  2.24827324,  1.56734852,  0.89534384,  0.02790868,\n",
       "         2.30003519, -0.15312063],\n",
       "       [-1.052399  ,  1.38648517, -0.38617423,  0.50259509, -0.38477919,\n",
       "        -0.09364258,  1.33498237],\n",
       "       [-2.61590674,  2.46582659, -1.54282384, -1.48438383,  0.5461967 ,\n",
       "         0.339189  , -0.29722418],\n",
       "       [ 1.04929916,  0.20661276, -0.24291867,  2.47143911, -1.52224488,\n",
       "        -0.93864995, -0.33211246],\n",
       "       [-2.13223362, -0.55315166,  1.01988416,  0.7731    ,  0.99810201,\n",
       "         0.18002617, -0.52963089],\n",
       "       [ 2.02009165, -0.41143077,  0.09088797, -0.5703896 ,  0.14952228,\n",
       "        -0.73071598, -0.33201474],\n",
       "       [ 0.36063068, -0.02476881, -1.49515   , -0.65535595, -0.09484002,\n",
       "         0.38297158,  0.11390093],\n",
       "       [ 0.97948675,  0.25108044, -0.24965378,  2.6583628 , -1.45246482,\n",
       "        -0.95414762, -0.3416039 ],\n",
       "       [-2.16370354, -0.53744841,  1.0506272 ,  0.78140164,  0.99537354,\n",
       "         0.17763595, -0.49224326],\n",
       "       [ 0.10543508, -0.91355441, -0.12802207, -0.12724175, -1.06112079,\n",
       "         0.06326085,  0.82898668],\n",
       "       [ 2.725405  ,  1.28942123, -0.86645388,  0.68843775,  0.52027884,\n",
       "        -0.46981283,  0.05952914],\n",
       "       [ 0.4548321 , -1.16706377, -0.77057737, -0.37320827, -0.64527858,\n",
       "         0.20454554, -0.07530141],\n",
       "       [ 0.48999679, -1.66916561, -0.68995618, -0.78151644, -0.47756388,\n",
       "         0.4631927 ,  0.12784688],\n",
       "       [ 0.38071857, -1.26181777,  0.07724223, -0.34799839, -0.95730767,\n",
       "         0.4454077 ,  0.2330311 ],\n",
       "       [-2.37858607,  1.3058442 ,  2.10630527, -0.36295512, -1.4229058 ,\n",
       "        -0.16204346,  0.19009393],\n",
       "       [-1.68529819, -0.16401596,  0.3660187 , -0.47491257, -0.02954907,\n",
       "         0.28768019, -1.08793795],\n",
       "       [ 2.02265315, -0.38262677,  0.06602049, -0.41595292,  0.13289353,\n",
       "        -0.74909481, -0.22572752],\n",
       "       [-0.13338378, -1.23066028,  0.62647089, -0.37276564, -1.54424622,\n",
       "         0.10677298,  0.01074307],\n",
       "       [-1.00578467,  1.30824497, -0.68985329,  0.9425484 , -0.47063027,\n",
       "        -0.56128802, -0.78206851],\n",
       "       [-2.51451239,  2.37038076, -1.59924471, -1.48346839,  0.57229984,\n",
       "         0.35481231, -0.24956007],\n",
       "       [-1.00685882,  0.21927711,  1.00169441, -0.86571724,  0.28563272,\n",
       "        -0.15384933, -1.06305435],\n",
       "       [ 0.22941796, -1.94731033, -0.98065219,  1.25627073,  1.85811005,\n",
       "         0.26693283,  0.03978318],\n",
       "       [-1.56765756, -0.86322979,  0.40433524,  0.75545964,  1.31048943,\n",
       "         0.27499588,  0.06998936],\n",
       "       [-0.24711031,  0.56673312, -1.28515942,  1.09689007,  0.10558643,\n",
       "        -0.40480329,  0.05866438],\n",
       "       [-0.42849881, -0.28663802, -1.01182344, -0.91122005, -0.20301697,\n",
       "         0.37381904,  0.19749695],\n",
       "       [-1.67639535, -0.85632359,  0.54838209,  0.65366655,  1.21096395,\n",
       "         0.29297108, -0.07415848],\n",
       "       [ 0.80447094,  1.53090895, -0.28974386, -1.30550427,  0.74609282,\n",
       "        -0.41323539,  0.04996161],\n",
       "       [ 2.60669235,  1.25401774, -0.94594906,  0.76222003,  0.68164458,\n",
       "        -0.37567591,  0.09442747],\n",
       "       [-0.75575195, -0.10087288,  1.93191188, -0.11360496,  2.08526334,\n",
       "        -0.8271589 ,  0.95966784],\n",
       "       [ 0.75643346, -0.50175143,  0.69846831, -0.69058168, -0.65013013,\n",
       "        -0.45400199,  0.90384612],\n",
       "       [-1.20626979, -0.0725609 ,  0.32933966, -0.27132381, -0.68083682,\n",
       "         0.08623303, -0.20159392],\n",
       "       [ 1.86617699,  0.05356894,  2.21362665, -1.48822829,  0.03153391,\n",
       "        -1.23997035, -0.06158035],\n",
       "       [-2.30584448,  1.22847029,  2.10200885, -0.16828593, -1.47588055,\n",
       "        -0.17541948,  0.24500396],\n",
       "       [-0.71269186, -0.8158205 ,  0.4267462 ,  0.68371808, -0.19069087,\n",
       "        -0.04052816, -0.09664915],\n",
       "       [-0.27894405,  0.50167279, -1.28477249,  0.07261446, -0.36412601,\n",
       "        -0.1255594 ,  0.3594289 ],\n",
       "       [-0.73410518, -0.77147884,  0.32597389,  0.6539328 , -0.09040535,\n",
       "        -0.02267828, -0.17994826],\n",
       "       [-0.93633006,  1.46838066, -0.51172954,  0.5592849 , -0.49858825,\n",
       "        -0.14638106,  1.24498512],\n",
       "       [-0.50343943, -0.97793482,  0.05645088,  0.44414224,  0.03082582,\n",
       "         0.09549647,  0.05157765],\n",
       "       [ 2.49677297, -1.48710396,  0.46197714, -1.33449133,  0.34379952,\n",
       "        -0.52118266, -0.35180406],\n",
       "       [-0.39407276, -0.29769441, -1.20984445, -1.12906589, -0.10398431,\n",
       "         0.46169461,  0.19024001],\n",
       "       [ 2.36307882, -0.15512655,  1.04401668, -1.39509847,  0.86915485,\n",
       "        -0.57319628, -0.10877663],\n",
       "       [-0.15204705,  0.21757003, -1.04045249,  0.23618989, -0.49249926,\n",
       "        -0.16534666,  0.19184808],\n",
       "       [ 0.10902947, -1.79796829, -0.99626963,  1.2178456 ,  1.87968616,\n",
       "         0.26470704,  0.02539461],\n",
       "       [ 0.76939935,  1.63898776, -0.27596426, -1.35115394,  0.73606335,\n",
       "        -0.46027186, -0.13343044],\n",
       "       [ 3.30169954,  2.18616276,  1.55397035,  0.88734913,  0.09170772,\n",
       "         2.28278098, -0.12756711],\n",
       "       [ 1.532568  ,  1.72634845,  0.16592548,  0.20427764,  1.08848877,\n",
       "        -0.94902156,  0.14232467],\n",
       "       [-1.31367623, -0.22898442,  0.46531862, -0.44679938, -0.63475918,\n",
       "         0.1806012 , -0.42034874],\n",
       "       [-1.84744825, -0.88745116,  0.91386401,  0.76968078,  1.13787219,\n",
       "         0.29475168,  0.9046423 ],\n",
       "       [ 1.19076234, -2.42185113, -0.63720083, -0.61211041, -0.74497915,\n",
       "         0.42776492, -0.37396513],\n",
       "       [ 0.44903271,  0.00558732, -1.29240947, -0.68926499, -0.30085345,\n",
       "         0.7321207 ,  0.2671337 ]])"
      ]
     },
     "execution_count": 48,
     "metadata": {},
     "output_type": "execute_result"
    }
   ],
   "source": [
    "zzz"
   ]
  },
  {
   "cell_type": "code",
   "execution_count": 50,
   "metadata": {},
   "outputs": [
    {
     "name": "stdout",
     "output_type": "stream",
     "text": [
      "LUNGES    -0.711144\n",
      "BITES     -0.694280\n",
      "ZIGZAGS    0.375318\n",
      "NEST       0.658545\n",
      "SPINES    -0.247999\n",
      "DNEST      0.638037\n",
      "BOUT      -0.507199\n",
      "dtype: float64\n",
      "LUNGES     0.374397\n",
      "BITES      0.611849\n",
      "ZIGZAGS    0.456962\n",
      "NEST       0.482687\n",
      "SPINES     0.561003\n",
      "DNEST      0.270405\n",
      "BOUT      -0.331759\n",
      "dtype: float64\n",
      "LUNGES     0.476576\n",
      "BITES      0.128563\n",
      "ZIGZAGS   -0.241257\n",
      "NEST       0.323903\n",
      "SPINES    -0.615275\n",
      "DNEST      0.394613\n",
      "BOUT       0.195089\n",
      "dtype: float64\n"
     ]
    }
   ],
   "source": [
    "#  Корреляции факторов и исходных переменных\n",
    "\n",
    "#  pd.DataFrame.corrwith(df_scaled, pd.DataFrame(zzz), axis=0, drop=False, method=\"pearson\")\n",
    "\n",
    "#  pd.DataFrame.corrwith(pd.DataFrame(df_scaled), pd.DataFrame(zzz), axis=0, drop=False)\n",
    "\n",
    "print(pd.DataFrame.corrwith(df, pd.Series(zzz[:, 0]), axis=0, drop=False))\n",
    "print(pd.DataFrame.corrwith(df, pd.Series(zzz[:, 1]), axis=0, drop=False))\n",
    "print(pd.DataFrame.corrwith(df, pd.Series(zzz[:, 2]), axis=0, drop=False))\n"
   ]
  },
  {
   "cell_type": "code",
   "execution_count": null,
   "metadata": {},
   "outputs": [],
   "source": []
  },
  {
   "cell_type": "markdown",
   "metadata": {},
   "source": [
    "Факторный анализ\n",
    "========="
   ]
  },
  {
   "cell_type": "markdown",
   "metadata": {},
   "source": [
    "\n",
    "https://pypi.org/project/factor-analyzer/\n",
    " \n",
    "\n",
    "Попробуем с помощью факторного анализа построить новые фичи, которые были бы более удобными в использовании с минимальной потерей информации.\n",
    "\n",
    "Используем класс ```FactorAnalyzer``` из ```factor_analyzer```. \n",
    "Начнём с двух факторов."
   ]
  },
  {
   "cell_type": "code",
   "execution_count": null,
   "metadata": {},
   "outputs": [],
   "source": []
  },
  {
   "cell_type": "code",
   "execution_count": null,
   "metadata": {},
   "outputs": [],
   "source": [
    "#   conda install -c ets factor_analyzer\n",
    "#  !pip install factor_analyzer\n"
   ]
  },
  {
   "cell_type": "code",
   "execution_count": 63,
   "metadata": {},
   "outputs": [],
   "source": [
    "#   from factor_analyzer import FactorAnalyzer, Rotator\n",
    "\n",
    "from factor_analyzer import FactorAnalyzer"
   ]
  },
  {
   "cell_type": "code",
   "execution_count": 64,
   "metadata": {},
   "outputs": [],
   "source": [
    "fa = FactorAnalyzer( n_factors = 2, rotation='varimax',  method = 'minres', \n",
    "                    impute = 'mean',  is_corr_matrix=  False)\n"
   ]
  },
  {
   "cell_type": "code",
   "execution_count": 65,
   "metadata": {},
   "outputs": [
    {
     "data": {
      "text/plain": [
       "FactorAnalyzer(bounds=(0.005, 1), impute='mean', is_corr_matrix=False,\n",
       "               method='minres', n_factors=2, rotation='varimax',\n",
       "               rotation_kwargs={}, use_smc=True)"
      ]
     },
     "execution_count": 65,
     "metadata": {},
     "output_type": "execute_result"
    }
   ],
   "source": [
    "fa.fit(df_scaled)"
   ]
  },
  {
   "cell_type": "code",
   "execution_count": 66,
   "metadata": {},
   "outputs": [
    {
     "data": {
      "text/plain": [
       "array([[ 6.23122753e-01, -2.42540383e-01],\n",
       "       [ 1.00774110e+00, -1.28162872e-01],\n",
       "       [ 1.96496548e-04,  3.55505921e-01],\n",
       "       [-1.54538489e-02,  8.94196351e-01],\n",
       "       [ 2.94314514e-01,  1.85737111e-02],\n",
       "       [-1.55512141e-01,  5.36576222e-01],\n",
       "       [ 9.94577275e-02, -3.84636241e-01]])"
      ]
     },
     "execution_count": 66,
     "metadata": {},
     "output_type": "execute_result"
    }
   ],
   "source": [
    "fa.loadings_"
   ]
  },
  {
   "cell_type": "code",
   "execution_count": 67,
   "metadata": {},
   "outputs": [
    {
     "data": {
      "text/plain": [
       "array([[ 0.623, -0.243],\n",
       "       [ 1.008, -0.128],\n",
       "       [ 0.   ,  0.356],\n",
       "       [-0.015,  0.894],\n",
       "       [ 0.294,  0.019],\n",
       "       [-0.156,  0.537],\n",
       "       [ 0.099, -0.385]])"
      ]
     },
     "execution_count": 67,
     "metadata": {},
     "output_type": "execute_result"
    }
   ],
   "source": [
    "fa.loadings_.round(3)"
   ]
  },
  {
   "cell_type": "code",
   "execution_count": 68,
   "metadata": {},
   "outputs": [
    {
     "data": {
      "text/plain": [
       "array([0.4471078 , 1.03196785, 0.1263845 , 0.79982594, 0.08696602,\n",
       "       0.31209807, 0.15783688])"
      ]
     },
     "execution_count": 68,
     "metadata": {},
     "output_type": "execute_result"
    }
   ],
   "source": [
    " fa.get_communalities()"
   ]
  },
  {
   "cell_type": "code",
   "execution_count": 69,
   "metadata": {},
   "outputs": [
    {
     "data": {
      "text/plain": [
       "array([ 0.5528922 , -0.03196785,  0.8736155 ,  0.20017406,  0.91303398,\n",
       "        0.68790193,  0.84216312])"
      ]
     },
     "execution_count": 69,
     "metadata": {},
     "output_type": "execute_result"
    }
   ],
   "source": [
    "fa.get_uniquenesses()"
   ]
  },
  {
   "cell_type": "code",
   "execution_count": 70,
   "metadata": {},
   "outputs": [
    {
     "data": {
      "text/plain": [
       "array([1., 1., 1., 1., 1., 1., 1.])"
      ]
     },
     "execution_count": 70,
     "metadata": {},
     "output_type": "execute_result"
    }
   ],
   "source": [
    "fa.get_communalities() + fa.get_uniquenesses()"
   ]
  },
  {
   "cell_type": "code",
   "execution_count": 74,
   "metadata": {},
   "outputs": [
    {
     "data": {
      "text/html": [
       "<div>\n",
       "<style scoped>\n",
       "    .dataframe tbody tr th:only-of-type {\n",
       "        vertical-align: middle;\n",
       "    }\n",
       "\n",
       "    .dataframe tbody tr th {\n",
       "        vertical-align: top;\n",
       "    }\n",
       "\n",
       "    .dataframe thead th {\n",
       "        text-align: right;\n",
       "    }\n",
       "</style>\n",
       "<table border=\"1\" class=\"dataframe\">\n",
       "  <thead>\n",
       "    <tr style=\"text-align: right;\">\n",
       "      <th></th>\n",
       "      <th>LUNGES</th>\n",
       "      <th>BITES</th>\n",
       "      <th>ZIGZAGS</th>\n",
       "      <th>NEST</th>\n",
       "      <th>SPINES</th>\n",
       "      <th>DNEST</th>\n",
       "      <th>BOUT</th>\n",
       "    </tr>\n",
       "  </thead>\n",
       "  <tbody>\n",
       "    <tr>\n",
       "      <td>Factor 1</td>\n",
       "      <td>0.623</td>\n",
       "      <td>1.008</td>\n",
       "      <td>0.000</td>\n",
       "      <td>-0.015</td>\n",
       "      <td>0.294</td>\n",
       "      <td>-0.156</td>\n",
       "      <td>0.099</td>\n",
       "    </tr>\n",
       "    <tr>\n",
       "      <td>Factor 2</td>\n",
       "      <td>-0.243</td>\n",
       "      <td>-0.128</td>\n",
       "      <td>0.356</td>\n",
       "      <td>0.894</td>\n",
       "      <td>0.019</td>\n",
       "      <td>0.537</td>\n",
       "      <td>-0.385</td>\n",
       "    </tr>\n",
       "    <tr>\n",
       "      <td>Уникальность</td>\n",
       "      <td>0.553</td>\n",
       "      <td>-0.032</td>\n",
       "      <td>0.874</td>\n",
       "      <td>0.200</td>\n",
       "      <td>0.913</td>\n",
       "      <td>0.688</td>\n",
       "      <td>0.842</td>\n",
       "    </tr>\n",
       "  </tbody>\n",
       "</table>\n",
       "</div>"
      ],
      "text/plain": [
       "              LUNGES  BITES  ZIGZAGS   NEST  SPINES  DNEST   BOUT\n",
       "Factor 1       0.623  1.008    0.000 -0.015   0.294 -0.156  0.099\n",
       "Factor 2      -0.243 -0.128    0.356  0.894   0.019  0.537 -0.385\n",
       "Уникальность   0.553 -0.032    0.874  0.200   0.913  0.688  0.842"
      ]
     },
     "execution_count": 74,
     "metadata": {},
     "output_type": "execute_result"
    }
   ],
   "source": [
    "faLoadingsV = pd.DataFrame(np.vstack((fa.loadings_.T, fa.get_uniquenesses())),\n",
    "                          index = ['Factor 1', 'Factor 2', 'Уникальность'], \n",
    "                           columns = list(df.columns.values))\n",
    "faLoadingsV.round(3)"
   ]
  },
  {
   "cell_type": "code",
   "execution_count": null,
   "metadata": {},
   "outputs": [],
   "source": []
  },
  {
   "cell_type": "code",
   "execution_count": 75,
   "metadata": {},
   "outputs": [],
   "source": [
    "#  Значения факторов для каждой рыбки\n",
    "\n",
    "zzz = fa.transform(df_scaled)"
   ]
  },
  {
   "cell_type": "code",
   "execution_count": 76,
   "metadata": {},
   "outputs": [
    {
     "data": {
      "text/plain": [
       "array([[-1.05626664e+00, -4.14067146e-01],\n",
       "       [-3.12891847e-01, -5.54500996e-01],\n",
       "       [-9.14927570e-01, -2.17824732e-01],\n",
       "       [ 1.81516828e+00, -1.79745422e-01],\n",
       "       [ 4.13355350e-01,  3.84315135e+00],\n",
       "       [-2.44390430e-01, -2.98967458e-01],\n",
       "       [ 2.30693894e+00, -2.09218164e-01],\n",
       "       [ 6.82863346e-02, -1.92381006e-02],\n",
       "       [ 1.21303739e+00, -6.71320700e-01],\n",
       "       [-6.85417953e-01,  4.34151435e-01],\n",
       "       [-5.59897671e-01,  2.29131474e-03],\n",
       "       [ 1.20658010e-01, -3.16211159e-02],\n",
       "       [ 1.20260376e+00, -6.80735995e-01],\n",
       "       [-1.30346324e+00, -5.57318588e-01],\n",
       "       [-6.88039038e-01,  1.33940454e+00],\n",
       "       [-8.26106843e-01, -3.67959448e-01],\n",
       "       [-1.30230753e+00, -4.35703085e-01],\n",
       "       [-9.56452356e-01, -2.26083574e-01],\n",
       "       [ 1.99368208e+00, -3.24293087e-01],\n",
       "       [ 1.76465944e+00, -3.91896447e-01],\n",
       "       [-7.83514564e-01,  4.13290299e-01],\n",
       "       [-3.56297110e-01, -5.06282498e-01],\n",
       "       [ 1.76585449e+00, -2.22141917e-01],\n",
       "       [ 2.15437165e+00, -2.13488161e-01],\n",
       "       [ 1.77589130e+00, -1.74259683e-02],\n",
       "       [-1.52221777e+00, -5.91150424e-01],\n",
       "       [ 6.93518725e-02, -7.10979532e-01],\n",
       "       [ 5.49786268e-02, -3.36449757e-01],\n",
       "       [-3.60383842e-01, -3.82524998e-01],\n",
       "       [ 3.00102448e-01, -7.00181676e-01],\n",
       "       [ 3.29551253e-01,  7.39929208e-01],\n",
       "       [-7.23373614e-01,  1.31226888e+00],\n",
       "       [-5.02308351e-01, -4.05020282e-01],\n",
       "       [-1.28483184e+00, -1.86146477e-01],\n",
       "       [ 7.69217508e-01, -4.68814192e-01],\n",
       "       [-2.05303048e-01,  6.58696444e-01],\n",
       "       [ 1.86992696e+00, -3.43646565e-01],\n",
       "       [ 4.37438576e-02, -5.65855922e-01],\n",
       "       [-2.21152818e-01, -3.39844264e-01],\n",
       "       [ 1.31665319e-01, -5.45572933e-01],\n",
       "       [-1.73952288e-01, -2.59503071e-01],\n",
       "       [-3.65023177e-01, -5.57637225e-01],\n",
       "       [-1.35779825e+00,  4.01816096e-01],\n",
       "       [-4.18255703e-01, -3.60524757e-01],\n",
       "       [-7.64471710e-01,  9.70709877e-01],\n",
       "       [-1.95125641e-01, -3.47362188e-01],\n",
       "       [-1.38510123e+00, -5.83918659e-01],\n",
       "       [ 5.89284167e-01,  7.79542789e-01],\n",
       "       [ 3.13548096e-01,  3.84343598e+00],\n",
       "       [ 9.82314357e-02,  9.86261955e-01],\n",
       "       [ 9.76128987e-01, -4.61418439e-01],\n",
       "       [-5.55883025e-01, -8.97122181e-01],\n",
       "       [-1.44452694e+00, -3.67584318e-01],\n",
       "       [-6.70555525e-01,  2.26140293e-01]])"
      ]
     },
     "execution_count": 76,
     "metadata": {},
     "output_type": "execute_result"
    }
   ],
   "source": [
    "zzz"
   ]
  },
  {
   "cell_type": "code",
   "execution_count": 72,
   "metadata": {},
   "outputs": [],
   "source": [
    "factors_2 = pd.DataFrame(fa.transform(df_scaled), columns = ['F1', 'F2'])"
   ]
  },
  {
   "cell_type": "code",
   "execution_count": 73,
   "metadata": {},
   "outputs": [
    {
     "data": {
      "text/html": [
       "<div>\n",
       "<style scoped>\n",
       "    .dataframe tbody tr th:only-of-type {\n",
       "        vertical-align: middle;\n",
       "    }\n",
       "\n",
       "    .dataframe tbody tr th {\n",
       "        vertical-align: top;\n",
       "    }\n",
       "\n",
       "    .dataframe thead th {\n",
       "        text-align: right;\n",
       "    }\n",
       "</style>\n",
       "<table border=\"1\" class=\"dataframe\">\n",
       "  <thead>\n",
       "    <tr style=\"text-align: right;\">\n",
       "      <th></th>\n",
       "      <th>F1</th>\n",
       "      <th>F2</th>\n",
       "    </tr>\n",
       "  </thead>\n",
       "  <tbody>\n",
       "    <tr>\n",
       "      <td>0</td>\n",
       "      <td>-1.056267</td>\n",
       "      <td>-0.414067</td>\n",
       "    </tr>\n",
       "    <tr>\n",
       "      <td>1</td>\n",
       "      <td>-0.312892</td>\n",
       "      <td>-0.554501</td>\n",
       "    </tr>\n",
       "    <tr>\n",
       "      <td>2</td>\n",
       "      <td>-0.914928</td>\n",
       "      <td>-0.217825</td>\n",
       "    </tr>\n",
       "    <tr>\n",
       "      <td>3</td>\n",
       "      <td>1.815168</td>\n",
       "      <td>-0.179745</td>\n",
       "    </tr>\n",
       "    <tr>\n",
       "      <td>4</td>\n",
       "      <td>0.413355</td>\n",
       "      <td>3.843151</td>\n",
       "    </tr>\n",
       "  </tbody>\n",
       "</table>\n",
       "</div>"
      ],
      "text/plain": [
       "         F1        F2\n",
       "0 -1.056267 -0.414067\n",
       "1 -0.312892 -0.554501\n",
       "2 -0.914928 -0.217825\n",
       "3  1.815168 -0.179745\n",
       "4  0.413355  3.843151"
      ]
     },
     "execution_count": 73,
     "metadata": {},
     "output_type": "execute_result"
    }
   ],
   "source": [
    "factors_2.head(5)"
   ]
  },
  {
   "cell_type": "code",
   "execution_count": 37,
   "metadata": {},
   "outputs": [
    {
     "data": {
      "text/html": [
       "<div>\n",
       "<style scoped>\n",
       "    .dataframe tbody tr th:only-of-type {\n",
       "        vertical-align: middle;\n",
       "    }\n",
       "\n",
       "    .dataframe tbody tr th {\n",
       "        vertical-align: top;\n",
       "    }\n",
       "\n",
       "    .dataframe thead th {\n",
       "        text-align: right;\n",
       "    }\n",
       "</style>\n",
       "<table border=\"1\" class=\"dataframe\">\n",
       "  <thead>\n",
       "    <tr style=\"text-align: right;\">\n",
       "      <th></th>\n",
       "      <th>LUNGES</th>\n",
       "      <th>BITES</th>\n",
       "      <th>ZIGZAGS</th>\n",
       "      <th>NEST</th>\n",
       "      <th>SPINES</th>\n",
       "      <th>DNEST</th>\n",
       "      <th>BOUT</th>\n",
       "      <th>F1</th>\n",
       "      <th>F2</th>\n",
       "    </tr>\n",
       "  </thead>\n",
       "  <tbody>\n",
       "    <tr>\n",
       "      <td>0</td>\n",
       "      <td>79.0</td>\n",
       "      <td>25.0</td>\n",
       "      <td>0.0</td>\n",
       "      <td>0.0</td>\n",
       "      <td>15.0</td>\n",
       "      <td>0.0</td>\n",
       "      <td>45.0</td>\n",
       "      <td>-1.056267</td>\n",
       "      <td>-0.414067</td>\n",
       "    </tr>\n",
       "    <tr>\n",
       "      <td>1</td>\n",
       "      <td>136.0</td>\n",
       "      <td>58.0</td>\n",
       "      <td>6.0</td>\n",
       "      <td>0.0</td>\n",
       "      <td>15.0</td>\n",
       "      <td>0.0</td>\n",
       "      <td>148.0</td>\n",
       "      <td>-0.312892</td>\n",
       "      <td>-0.554501</td>\n",
       "    </tr>\n",
       "    <tr>\n",
       "      <td>2</td>\n",
       "      <td>115.0</td>\n",
       "      <td>30.0</td>\n",
       "      <td>2.0</td>\n",
       "      <td>1.0</td>\n",
       "      <td>9.0</td>\n",
       "      <td>5.0</td>\n",
       "      <td>29.0</td>\n",
       "      <td>-0.914928</td>\n",
       "      <td>-0.217825</td>\n",
       "    </tr>\n",
       "    <tr>\n",
       "      <td>3</td>\n",
       "      <td>129.0</td>\n",
       "      <td>139.0</td>\n",
       "      <td>16.0</td>\n",
       "      <td>0.0</td>\n",
       "      <td>22.0</td>\n",
       "      <td>0.0</td>\n",
       "      <td>69.0</td>\n",
       "      <td>1.815168</td>\n",
       "      <td>-0.179745</td>\n",
       "    </tr>\n",
       "    <tr>\n",
       "      <td>4</td>\n",
       "      <td>120.0</td>\n",
       "      <td>58.0</td>\n",
       "      <td>15.0</td>\n",
       "      <td>15.0</td>\n",
       "      <td>14.0</td>\n",
       "      <td>82.0</td>\n",
       "      <td>9.0</td>\n",
       "      <td>0.413355</td>\n",
       "      <td>3.843151</td>\n",
       "    </tr>\n",
       "  </tbody>\n",
       "</table>\n",
       "</div>"
      ],
      "text/plain": [
       "   LUNGES  BITES  ZIGZAGS  NEST  SPINES  DNEST   BOUT        F1        F2\n",
       "0    79.0   25.0      0.0   0.0    15.0    0.0   45.0 -1.056267 -0.414067\n",
       "1   136.0   58.0      6.0   0.0    15.0    0.0  148.0 -0.312892 -0.554501\n",
       "2   115.0   30.0      2.0   1.0     9.0    5.0   29.0 -0.914928 -0.217825\n",
       "3   129.0  139.0     16.0   0.0    22.0    0.0   69.0  1.815168 -0.179745\n",
       "4   120.0   58.0     15.0  15.0    14.0   82.0    9.0  0.413355  3.843151"
      ]
     },
     "execution_count": 37,
     "metadata": {},
     "output_type": "execute_result"
    }
   ],
   "source": [
    "df_full = df.merge(factors_2, left_index=True, right_index=True)\n",
    "\n",
    "df_full.head(5)\n",
    "#  df_scaled.corr(fa.transform(df_scaled), \"pearson\")"
   ]
  },
  {
   "cell_type": "code",
   "execution_count": 57,
   "metadata": {},
   "outputs": [
    {
     "ename": "ValueError",
     "evalue": "operands could not be broadcast together with shapes (2,) (7,) ",
     "output_type": "error",
     "traceback": [
      "\u001b[1;31m---------------------------------------------------------------------------\u001b[0m",
      "\u001b[1;31mValueError\u001b[0m                                Traceback (most recent call last)",
      "\u001b[1;32m<ipython-input-57-7a0e32580fbb>\u001b[0m in \u001b[0;36m<module>\u001b[1;34m\u001b[0m\n\u001b[0;32m      3\u001b[0m \u001b[1;32mfrom\u001b[0m \u001b[0mscipy\u001b[0m\u001b[1;33m.\u001b[0m\u001b[0mstats\u001b[0m \u001b[1;32mimport\u001b[0m \u001b[0mpearsonr\u001b[0m\u001b[1;33m\u001b[0m\u001b[1;33m\u001b[0m\u001b[0m\n\u001b[0;32m      4\u001b[0m \u001b[1;33m\u001b[0m\u001b[0m\n\u001b[1;32m----> 5\u001b[1;33m \u001b[0mfull_correlation\u001b[0m \u001b[1;33m=\u001b[0m \u001b[0mpearsonr\u001b[0m\u001b[1;33m(\u001b[0m\u001b[0mdf_full\u001b[0m\u001b[1;33m[\u001b[0m\u001b[1;33m[\u001b[0m\u001b[1;34m'F1'\u001b[0m\u001b[1;33m,\u001b[0m \u001b[1;34m'F2'\u001b[0m\u001b[1;33m]\u001b[0m\u001b[1;33m]\u001b[0m\u001b[1;33m,\u001b[0m \u001b[0mdf_full\u001b[0m\u001b[1;33m[\u001b[0m\u001b[1;33m[\u001b[0m\u001b[1;34m'LUNGES'\u001b[0m\u001b[1;33m,\u001b[0m \u001b[1;34m'BITES'\u001b[0m\u001b[1;33m,\u001b[0m \u001b[1;34m'ZIGZAGS'\u001b[0m\u001b[1;33m,\u001b[0m \u001b[1;34m'NEST'\u001b[0m\u001b[1;33m,\u001b[0m \u001b[1;34m'SPINES'\u001b[0m\u001b[1;33m,\u001b[0m \u001b[1;34m'DNEST'\u001b[0m\u001b[1;33m,\u001b[0m \u001b[1;34m'BOUT'\u001b[0m\u001b[1;33m]\u001b[0m\u001b[1;33m]\u001b[0m\u001b[1;33m)\u001b[0m\u001b[1;33m\u001b[0m\u001b[1;33m\u001b[0m\u001b[0m\n\u001b[0m",
      "\u001b[1;32m~\\Anaconda3\\lib\\site-packages\\scipy\\stats\\stats.py\u001b[0m in \u001b[0;36mpearsonr\u001b[1;34m(x, y)\u001b[0m\n\u001b[0;32m   3403\u001b[0m     \u001b[1;31m# that the data type is at least 64 bit floating point.  It might have\u001b[0m\u001b[1;33m\u001b[0m\u001b[1;33m\u001b[0m\u001b[1;33m\u001b[0m\u001b[0m\n\u001b[0;32m   3404\u001b[0m     \u001b[1;31m# more precision if the input is, for example, np.longdouble.\u001b[0m\u001b[1;33m\u001b[0m\u001b[1;33m\u001b[0m\u001b[1;33m\u001b[0m\u001b[0m\n\u001b[1;32m-> 3405\u001b[1;33m     \u001b[0mdtype\u001b[0m \u001b[1;33m=\u001b[0m \u001b[0mtype\u001b[0m\u001b[1;33m(\u001b[0m\u001b[1;36m1.0\u001b[0m \u001b[1;33m+\u001b[0m \u001b[0mx\u001b[0m\u001b[1;33m[\u001b[0m\u001b[1;36m0\u001b[0m\u001b[1;33m]\u001b[0m \u001b[1;33m+\u001b[0m \u001b[0my\u001b[0m\u001b[1;33m[\u001b[0m\u001b[1;36m0\u001b[0m\u001b[1;33m]\u001b[0m\u001b[1;33m)\u001b[0m\u001b[1;33m\u001b[0m\u001b[1;33m\u001b[0m\u001b[0m\n\u001b[0m\u001b[0;32m   3406\u001b[0m \u001b[1;33m\u001b[0m\u001b[0m\n\u001b[0;32m   3407\u001b[0m     \u001b[1;32mif\u001b[0m \u001b[0mn\u001b[0m \u001b[1;33m==\u001b[0m \u001b[1;36m2\u001b[0m\u001b[1;33m:\u001b[0m\u001b[1;33m\u001b[0m\u001b[1;33m\u001b[0m\u001b[0m\n",
      "\u001b[1;31mValueError\u001b[0m: operands could not be broadcast together with shapes (2,) (7,) "
     ]
    }
   ],
   "source": [
    "#  Как все должно бы было быть...\n",
    "#  Но такой вариант не предусмотрен разработчиками\n",
    "\n",
    "from scipy.stats import pearsonr\n",
    "\n",
    "full_correlation = pearsonr(df_full[['F1', 'F2']], df_full[['LUNGES', 'BITES', 'ZIGZAGS', 'NEST', 'SPINES', 'DNEST', 'BOUT']])\n"
   ]
  },
  {
   "cell_type": "code",
   "execution_count": 49,
   "metadata": {},
   "outputs": [
    {
     "data": {
      "text/html": [
       "<div>\n",
       "<style scoped>\n",
       "    .dataframe tbody tr th:only-of-type {\n",
       "        vertical-align: middle;\n",
       "    }\n",
       "\n",
       "    .dataframe tbody tr th {\n",
       "        vertical-align: top;\n",
       "    }\n",
       "\n",
       "    .dataframe thead th {\n",
       "        text-align: right;\n",
       "    }\n",
       "</style>\n",
       "<table border=\"1\" class=\"dataframe\">\n",
       "  <thead>\n",
       "    <tr style=\"text-align: right;\">\n",
       "      <th></th>\n",
       "      <th>F1</th>\n",
       "      <th>F2</th>\n",
       "    </tr>\n",
       "  </thead>\n",
       "  <tbody>\n",
       "    <tr>\n",
       "      <td>LUNGES</td>\n",
       "      <td>0.606068</td>\n",
       "      <td>-0.265584</td>\n",
       "    </tr>\n",
       "    <tr>\n",
       "      <td>BITES</td>\n",
       "      <td>0.980159</td>\n",
       "      <td>-0.140340</td>\n",
       "    </tr>\n",
       "    <tr>\n",
       "      <td>ZIGZAGS</td>\n",
       "      <td>0.000191</td>\n",
       "      <td>0.389283</td>\n",
       "    </tr>\n",
       "    <tr>\n",
       "      <td>NEST</td>\n",
       "      <td>-0.015031</td>\n",
       "      <td>0.979154</td>\n",
       "    </tr>\n",
       "    <tr>\n",
       "      <td>SPINES</td>\n",
       "      <td>0.286259</td>\n",
       "      <td>0.020338</td>\n",
       "    </tr>\n",
       "    <tr>\n",
       "      <td>DNEST</td>\n",
       "      <td>-0.151256</td>\n",
       "      <td>0.587557</td>\n",
       "    </tr>\n",
       "    <tr>\n",
       "      <td>BOUT</td>\n",
       "      <td>0.096736</td>\n",
       "      <td>-0.421181</td>\n",
       "    </tr>\n",
       "  </tbody>\n",
       "</table>\n",
       "</div>"
      ],
      "text/plain": [
       "               F1        F2\n",
       "LUNGES   0.606068 -0.265584\n",
       "BITES    0.980159 -0.140340\n",
       "ZIGZAGS  0.000191  0.389283\n",
       "NEST    -0.015031  0.979154\n",
       "SPINES   0.286259  0.020338\n",
       "DNEST   -0.151256  0.587557\n",
       "BOUT     0.096736 -0.421181"
      ]
     },
     "execution_count": 49,
     "metadata": {},
     "output_type": "execute_result"
    }
   ],
   "source": [
    "df_full.corr(\"pearson\").iloc[0:7, [7, 8]]"
   ]
  },
  {
   "cell_type": "code",
   "execution_count": 54,
   "metadata": {},
   "outputs": [
    {
     "data": {
      "text/html": [
       "<div>\n",
       "<style scoped>\n",
       "    .dataframe tbody tr th:only-of-type {\n",
       "        vertical-align: middle;\n",
       "    }\n",
       "\n",
       "    .dataframe tbody tr th {\n",
       "        vertical-align: top;\n",
       "    }\n",
       "\n",
       "    .dataframe thead th {\n",
       "        text-align: right;\n",
       "    }\n",
       "</style>\n",
       "<table border=\"1\" class=\"dataframe\">\n",
       "  <thead>\n",
       "    <tr style=\"text-align: right;\">\n",
       "      <th></th>\n",
       "      <th>0</th>\n",
       "      <th>1</th>\n",
       "    </tr>\n",
       "  </thead>\n",
       "  <tbody>\n",
       "    <tr>\n",
       "      <td>0</td>\n",
       "      <td>0.6231</td>\n",
       "      <td>-0.2425</td>\n",
       "    </tr>\n",
       "    <tr>\n",
       "      <td>1</td>\n",
       "      <td>1.0077</td>\n",
       "      <td>-0.1282</td>\n",
       "    </tr>\n",
       "    <tr>\n",
       "      <td>2</td>\n",
       "      <td>0.0002</td>\n",
       "      <td>0.3555</td>\n",
       "    </tr>\n",
       "    <tr>\n",
       "      <td>3</td>\n",
       "      <td>-0.0155</td>\n",
       "      <td>0.8942</td>\n",
       "    </tr>\n",
       "    <tr>\n",
       "      <td>4</td>\n",
       "      <td>0.2943</td>\n",
       "      <td>0.0186</td>\n",
       "    </tr>\n",
       "    <tr>\n",
       "      <td>5</td>\n",
       "      <td>-0.1555</td>\n",
       "      <td>0.5366</td>\n",
       "    </tr>\n",
       "    <tr>\n",
       "      <td>6</td>\n",
       "      <td>0.0995</td>\n",
       "      <td>-0.3846</td>\n",
       "    </tr>\n",
       "  </tbody>\n",
       "</table>\n",
       "</div>"
      ],
      "text/plain": [
       "        0       1\n",
       "0  0.6231 -0.2425\n",
       "1  1.0077 -0.1282\n",
       "2  0.0002  0.3555\n",
       "3 -0.0155  0.8942\n",
       "4  0.2943  0.0186\n",
       "5 -0.1555  0.5366\n",
       "6  0.0995 -0.3846"
      ]
     },
     "execution_count": 54,
     "metadata": {},
     "output_type": "execute_result"
    }
   ],
   "source": [
    "#  Таблица должна совпадать с предыдущей...\n",
    "pd.DataFrame(fa.loadings_)"
   ]
  },
  {
   "cell_type": "code",
   "execution_count": 50,
   "metadata": {},
   "outputs": [
    {
     "data": {
      "text/plain": [
       "array([[ 6.23122753e-01, -2.42540383e-01],\n",
       "       [ 1.00774110e+00, -1.28162872e-01],\n",
       "       [ 1.96496548e-04,  3.55505921e-01],\n",
       "       [-1.54538489e-02,  8.94196351e-01],\n",
       "       [ 2.94314514e-01,  1.85737111e-02],\n",
       "       [-1.55512141e-01,  5.36576222e-01],\n",
       "       [ 9.94577275e-02, -3.84636241e-01]])"
      ]
     },
     "execution_count": 50,
     "metadata": {},
     "output_type": "execute_result"
    }
   ],
   "source": [
    "#  Зачем выше pd.DataFrame?\n",
    "\n",
    "fa.loadings_"
   ]
  },
  {
   "cell_type": "code",
   "execution_count": 77,
   "metadata": {},
   "outputs": [
    {
     "data": {
      "text/plain": [
       "array([[ 0.623, -0.243],\n",
       "       [ 1.008, -0.128],\n",
       "       [ 0.   ,  0.356],\n",
       "       [-0.015,  0.894],\n",
       "       [ 0.294,  0.019],\n",
       "       [-0.156,  0.537],\n",
       "       [ 0.099, -0.385]])"
      ]
     },
     "execution_count": 77,
     "metadata": {},
     "output_type": "execute_result"
    }
   ],
   "source": [
    "#  Так округление работает\n",
    "\n",
    "fa.loadings_.round(3)"
   ]
  },
  {
   "cell_type": "code",
   "execution_count": 78,
   "metadata": {},
   "outputs": [
    {
     "data": {
      "text/plain": [
       "array([[ 6.2310e-01, -2.4250e-01],\n",
       "       [ 1.0077e+00, -1.2820e-01],\n",
       "       [ 2.0000e-04,  3.5550e-01],\n",
       "       [-1.5500e-02,  8.9420e-01],\n",
       "       [ 2.9430e-01,  1.8600e-02],\n",
       "       [-1.5550e-01,  5.3660e-01],\n",
       "       [ 9.9500e-02, -3.8460e-01]])"
      ]
     },
     "execution_count": 78,
     "metadata": {},
     "output_type": "execute_result"
    }
   ],
   "source": [
    "#  А так округление не работает\n",
    "#  Кто подскажет, почему?\n",
    "\n",
    "#  pd.options.display.float_format = '{:.4f}'.format\n",
    "fa.loadings_.round(4)"
   ]
  },
  {
   "cell_type": "code",
   "execution_count": null,
   "metadata": {},
   "outputs": [],
   "source": []
  },
  {
   "cell_type": "markdown",
   "metadata": {},
   "source": [
    "Но почему именно два фактора?\n",
    "\n",
    "А если попробовать 3 фактора?"
   ]
  },
  {
   "cell_type": "code",
   "execution_count": 14,
   "metadata": {},
   "outputs": [
    {
     "data": {
      "text/plain": [
       "FactorAnalyzer(bounds=(0.005, 1), impute='median', is_corr_matrix=False,\n",
       "               method='minres', n_factors=3, rotation='varimax',\n",
       "               rotation_kwargs={}, use_smc=True)"
      ]
     },
     "execution_count": 14,
     "metadata": {},
     "output_type": "execute_result"
    }
   ],
   "source": [
    "faVarimax = FactorAnalyzer(n_factors=3, rotation = 'varimax')\n",
    "faVarimax.fit(df_scaled) "
   ]
  },
  {
   "cell_type": "code",
   "execution_count": 17,
   "metadata": {},
   "outputs": [
    {
     "data": {
      "text/html": [
       "<div>\n",
       "<style scoped>\n",
       "    .dataframe tbody tr th:only-of-type {\n",
       "        vertical-align: middle;\n",
       "    }\n",
       "\n",
       "    .dataframe tbody tr th {\n",
       "        vertical-align: top;\n",
       "    }\n",
       "\n",
       "    .dataframe thead th {\n",
       "        text-align: right;\n",
       "    }\n",
       "</style>\n",
       "<table border=\"1\" class=\"dataframe\">\n",
       "  <thead>\n",
       "    <tr style=\"text-align: right;\">\n",
       "      <th></th>\n",
       "      <th>LUNGES</th>\n",
       "      <th>BITES</th>\n",
       "      <th>ZIGZAGS</th>\n",
       "      <th>NEST</th>\n",
       "      <th>SPINES</th>\n",
       "      <th>DNEST</th>\n",
       "      <th>BOUT</th>\n",
       "    </tr>\n",
       "  </thead>\n",
       "  <tbody>\n",
       "    <tr>\n",
       "      <td>Factor 1</td>\n",
       "      <td>-0.214</td>\n",
       "      <td>-0.110</td>\n",
       "      <td>0.342</td>\n",
       "      <td>0.989</td>\n",
       "      <td>0.026</td>\n",
       "      <td>0.501</td>\n",
       "      <td>-0.360</td>\n",
       "    </tr>\n",
       "    <tr>\n",
       "      <td>Factor 2</td>\n",
       "      <td>0.876</td>\n",
       "      <td>0.742</td>\n",
       "      <td>-0.076</td>\n",
       "      <td>0.058</td>\n",
       "      <td>0.057</td>\n",
       "      <td>-0.135</td>\n",
       "      <td>0.186</td>\n",
       "    </tr>\n",
       "    <tr>\n",
       "      <td>Factor 3</td>\n",
       "      <td>0.022</td>\n",
       "      <td>0.589</td>\n",
       "      <td>0.107</td>\n",
       "      <td>-0.141</td>\n",
       "      <td>0.564</td>\n",
       "      <td>-0.112</td>\n",
       "      <td>-0.090</td>\n",
       "    </tr>\n",
       "    <tr>\n",
       "      <td>Уникальность</td>\n",
       "      <td>0.186</td>\n",
       "      <td>0.090</td>\n",
       "      <td>0.866</td>\n",
       "      <td>-0.002</td>\n",
       "      <td>0.678</td>\n",
       "      <td>0.718</td>\n",
       "      <td>0.828</td>\n",
       "    </tr>\n",
       "  </tbody>\n",
       "</table>\n",
       "</div>"
      ],
      "text/plain": [
       "              LUNGES  BITES  ZIGZAGS   NEST  SPINES  DNEST   BOUT\n",
       "Factor 1      -0.214 -0.110    0.342  0.989   0.026  0.501 -0.360\n",
       "Factor 2       0.876  0.742   -0.076  0.058   0.057 -0.135  0.186\n",
       "Factor 3       0.022  0.589    0.107 -0.141   0.564 -0.112 -0.090\n",
       "Уникальность   0.186  0.090    0.866 -0.002   0.678  0.718  0.828"
      ]
     },
     "execution_count": 17,
     "metadata": {},
     "output_type": "execute_result"
    }
   ],
   "source": [
    "faLoadingsV = pd.DataFrame(np.vstack((faVarimax.loadings_.T,faVarimax.get_uniquenesses())),\n",
    "                          index = ['Factor 1', 'Factor 2', 'Factor 3', 'Уникальность'], \n",
    "                           columns = list(df.columns.values))\n",
    "faLoadingsV.round(3)"
   ]
  },
  {
   "cell_type": "code",
   "execution_count": null,
   "metadata": {},
   "outputs": [],
   "source": []
  },
  {
   "cell_type": "markdown",
   "metadata": {},
   "source": [
    "###  Новый пакет Факторного анализа factor_analyzer\n",
    "Версия 2"
   ]
  },
  {
   "cell_type": "code",
   "execution_count": null,
   "metadata": {},
   "outputs": [],
   "source": []
  },
  {
   "cell_type": "code",
   "execution_count": null,
   "metadata": {},
   "outputs": [],
   "source": []
  }
 ],
 "metadata": {
  "kernelspec": {
   "display_name": "Python 3",
   "language": "python",
   "name": "python3"
  },
  "language_info": {
   "codemirror_mode": {
    "name": "ipython",
    "version": 3
   },
   "file_extension": ".py",
   "mimetype": "text/x-python",
   "name": "python",
   "nbconvert_exporter": "python",
   "pygments_lexer": "ipython3",
   "version": "3.7.4"
  }
 },
 "nbformat": 4,
 "nbformat_minor": 2
}
