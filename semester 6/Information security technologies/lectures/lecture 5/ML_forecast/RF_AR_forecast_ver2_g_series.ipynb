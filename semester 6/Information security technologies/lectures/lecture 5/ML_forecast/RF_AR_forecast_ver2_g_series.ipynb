{
 "cells": [
  {
   "cell_type": "markdown",
   "metadata": {},
   "source": [
    "авторегрессионная модель прогноза для g series\n",
    "\n",
    "Недоделано"
   ]
  },
  {
   "cell_type": "code",
   "execution_count": 34,
   "metadata": {},
   "outputs": [],
   "source": []
  },
  {
   "cell_type": "code",
   "execution_count": 2,
   "metadata": {},
   "outputs": [],
   "source": [
    "# Импорт библиотек\n",
    "import numpy as np\n",
    "import pandas as pd\n",
    "\n",
    "# Импорт matplotlib\n",
    "\n",
    "import matplotlib\n",
    "import matplotlib.pyplot as plt\n",
    "matplotlib.style.use('ggplot')\n",
    "%matplotlib inline"
   ]
  },
  {
   "cell_type": "code",
   "execution_count": 3,
   "metadata": {},
   "outputs": [],
   "source": [
    "# Задаем рабочую папку\n",
    "\n",
    "import os\n",
    "os.chdir(\"C:/Users/USER/Documents/Python/_AD_Python_part_3_forecast/_0_forecasting data/04_series_g\")\n"
   ]
  },
  {
   "cell_type": "code",
   "execution_count": 4,
   "metadata": {},
   "outputs": [],
   "source": [
    "# Импорт обучающей выборки\n",
    "ser_g = pd.read_csv('series_g.csv', sep=';', header=0)\n"
   ]
  },
  {
   "cell_type": "code",
   "execution_count": 5,
   "metadata": {},
   "outputs": [
    {
     "data": {
      "text/html": [
       "<div>\n",
       "<style scoped>\n",
       "    .dataframe tbody tr th:only-of-type {\n",
       "        vertical-align: middle;\n",
       "    }\n",
       "\n",
       "    .dataframe tbody tr th {\n",
       "        vertical-align: top;\n",
       "    }\n",
       "\n",
       "    .dataframe thead th {\n",
       "        text-align: right;\n",
       "    }\n",
       "</style>\n",
       "<table border=\"1\" class=\"dataframe\">\n",
       "  <thead>\n",
       "    <tr style=\"text-align: right;\">\n",
       "      <th></th>\n",
       "      <th>date</th>\n",
       "      <th>series_g</th>\n",
       "    </tr>\n",
       "  </thead>\n",
       "  <tbody>\n",
       "    <tr>\n",
       "      <td>0</td>\n",
       "      <td>JAN 1949</td>\n",
       "      <td>112</td>\n",
       "    </tr>\n",
       "    <tr>\n",
       "      <td>1</td>\n",
       "      <td>FEB 1949</td>\n",
       "      <td>118</td>\n",
       "    </tr>\n",
       "    <tr>\n",
       "      <td>2</td>\n",
       "      <td>MAR 1949</td>\n",
       "      <td>132</td>\n",
       "    </tr>\n",
       "    <tr>\n",
       "      <td>3</td>\n",
       "      <td>APR 1949</td>\n",
       "      <td>129</td>\n",
       "    </tr>\n",
       "    <tr>\n",
       "      <td>4</td>\n",
       "      <td>MAY 1949</td>\n",
       "      <td>121</td>\n",
       "    </tr>\n",
       "  </tbody>\n",
       "</table>\n",
       "</div>"
      ],
      "text/plain": [
       "       date  series_g\n",
       "0  JAN 1949       112\n",
       "1  FEB 1949       118\n",
       "2  MAR 1949       132\n",
       "3  APR 1949       129\n",
       "4  MAY 1949       121"
      ]
     },
     "execution_count": 5,
     "metadata": {},
     "output_type": "execute_result"
    }
   ],
   "source": [
    "#  Знакомимся с данными\n",
    "ser_g.head()"
   ]
  },
  {
   "cell_type": "code",
   "execution_count": 6,
   "metadata": {},
   "outputs": [
    {
     "data": {
      "text/html": [
       "<div>\n",
       "<style scoped>\n",
       "    .dataframe tbody tr th:only-of-type {\n",
       "        vertical-align: middle;\n",
       "    }\n",
       "\n",
       "    .dataframe tbody tr th {\n",
       "        vertical-align: top;\n",
       "    }\n",
       "\n",
       "    .dataframe thead th {\n",
       "        text-align: right;\n",
       "    }\n",
       "</style>\n",
       "<table border=\"1\" class=\"dataframe\">\n",
       "  <thead>\n",
       "    <tr style=\"text-align: right;\">\n",
       "      <th></th>\n",
       "      <th>date</th>\n",
       "      <th>series_g</th>\n",
       "    </tr>\n",
       "  </thead>\n",
       "  <tbody>\n",
       "    <tr>\n",
       "      <td>139</td>\n",
       "      <td>AUG 1960</td>\n",
       "      <td>606</td>\n",
       "    </tr>\n",
       "    <tr>\n",
       "      <td>140</td>\n",
       "      <td>SEP 1960</td>\n",
       "      <td>508</td>\n",
       "    </tr>\n",
       "    <tr>\n",
       "      <td>141</td>\n",
       "      <td>OCT 1960</td>\n",
       "      <td>461</td>\n",
       "    </tr>\n",
       "    <tr>\n",
       "      <td>142</td>\n",
       "      <td>NOV 1960</td>\n",
       "      <td>390</td>\n",
       "    </tr>\n",
       "    <tr>\n",
       "      <td>143</td>\n",
       "      <td>DEC 1960</td>\n",
       "      <td>432</td>\n",
       "    </tr>\n",
       "  </tbody>\n",
       "</table>\n",
       "</div>"
      ],
      "text/plain": [
       "         date  series_g\n",
       "139  AUG 1960       606\n",
       "140  SEP 1960       508\n",
       "141  OCT 1960       461\n",
       "142  NOV 1960       390\n",
       "143  DEC 1960       432"
      ]
     },
     "execution_count": 6,
     "metadata": {},
     "output_type": "execute_result"
    }
   ],
   "source": [
    "#  Знакомимся с данными\n",
    "ser_g.tail()"
   ]
  },
  {
   "cell_type": "code",
   "execution_count": 7,
   "metadata": {},
   "outputs": [
    {
     "data": {
      "text/plain": [
       "(144, 2)"
      ]
     },
     "execution_count": 7,
     "metadata": {},
     "output_type": "execute_result"
    }
   ],
   "source": [
    "#  Знакомимся с данными\n",
    "ser_g.shape"
   ]
  },
  {
   "cell_type": "code",
   "execution_count": 8,
   "metadata": {},
   "outputs": [
    {
     "data": {
      "text/plain": [
       "<matplotlib.axes._subplots.AxesSubplot at 0x1776c933c88>"
      ]
     },
     "execution_count": 8,
     "metadata": {},
     "output_type": "execute_result"
    },
    {
     "data": {
      "image/png": "[encoded data removed]",
      "text/plain": [
       "<Figure size 432x288 with 1 Axes>"
      ]
     },
     "metadata": {
      "needs_background": "light"
     },
     "output_type": "display_data"
    }
   ],
   "source": [
    "#  График, чтобы ответить на 4 вопроса\n",
    "ser_g.iloc[:,1].plot()\n"
   ]
  },
  {
   "cell_type": "code",
   "execution_count": 9,
   "metadata": {},
   "outputs": [],
   "source": [
    "#  Модели удобнее прогнозировать логарифмы ряда, \n",
    "ser_g['log_y'] = np.log10(ser_g['series_g'])"
   ]
  },
  {
   "cell_type": "code",
   "execution_count": 10,
   "metadata": {},
   "outputs": [
    {
     "data": {
      "text/plain": [
       "Text(0, 0.5, 'log10 от тысяч человек')"
      ]
     },
     "execution_count": 10,
     "metadata": {},
     "output_type": "execute_result"
    },
    {
     "data": {
      "image/png": "[encoded data removed]",
      "text/plain": [
       "<Figure size 864x288 with 2 Axes>"
      ]
     },
     "metadata": {
      "needs_background": "light"
     },
     "output_type": "display_data"
    }
   ],
   "source": [
    "fig = plt.figure(figsize=(12, 4))\n",
    "ax1 = fig.add_subplot(121)\n",
    "ser_g['series_g'].plot(ax=ax1)\n",
    "ax1.set_title(u'Объём пассажироперевозок')\n",
    "ax1.set_ylabel(u'Тысяч человек')\n",
    "\n",
    "ax2 = fig.add_subplot(122)\n",
    "pd.Series(ser_g['log_y']).plot(ax=ax2)\n",
    "ax2.set_title(u'log10 от объёма пассажироперевозок')\n",
    "ax2.set_ylabel(u'log10 от тысяч человек')\n"
   ]
  },
  {
   "cell_type": "code",
   "execution_count": 11,
   "metadata": {},
   "outputs": [
    {
     "name": "stdout",
     "output_type": "stream",
     "text": [
      "        t-12      t-11      t-10       t-9       t-8       t-7       t-6  \\\n",
      "0        NaN       NaN       NaN       NaN       NaN       NaN       NaN   \n",
      "1        NaN       NaN       NaN       NaN       NaN       NaN       NaN   \n",
      "2        NaN       NaN       NaN       NaN       NaN       NaN       NaN   \n",
      "3        NaN       NaN       NaN       NaN       NaN       NaN       NaN   \n",
      "4        NaN       NaN       NaN       NaN       NaN       NaN       NaN   \n",
      "5        NaN       NaN       NaN       NaN       NaN       NaN       NaN   \n",
      "6        NaN       NaN       NaN       NaN       NaN       NaN  2.049218   \n",
      "7        NaN       NaN       NaN       NaN       NaN  2.049218  2.071882   \n",
      "8        NaN       NaN       NaN       NaN  2.049218  2.071882  2.120574   \n",
      "9        NaN       NaN       NaN  2.049218  2.071882  2.120574  2.110590   \n",
      "10       NaN       NaN  2.049218  2.071882  2.120574  2.110590  2.082785   \n",
      "11       NaN  2.049218  2.071882  2.120574  2.110590  2.082785  2.130334   \n",
      "12  2.049218  2.071882  2.120574  2.110590  2.082785  2.130334  2.170262   \n",
      "\n",
      "         t-5       t-4       t-3       t-2       t-1         t  \n",
      "0        NaN       NaN       NaN       NaN       NaN  2.049218  \n",
      "1        NaN       NaN       NaN       NaN  2.049218  2.071882  \n",
      "2        NaN       NaN       NaN  2.049218  2.071882  2.120574  \n",
      "3        NaN       NaN  2.049218  2.071882  2.120574  2.110590  \n",
      "4        NaN  2.049218  2.071882  2.120574  2.110590  2.082785  \n",
      "5   2.049218  2.071882  2.120574  2.110590  2.082785  2.130334  \n",
      "6   2.071882  2.120574  2.110590  2.082785  2.130334  2.170262  \n",
      "7   2.120574  2.110590  2.082785  2.130334  2.170262  2.170262  \n",
      "8   2.110590  2.082785  2.130334  2.170262  2.170262  2.133539  \n",
      "9   2.082785  2.130334  2.170262  2.170262  2.133539  2.075547  \n",
      "10  2.130334  2.170262  2.170262  2.133539  2.075547  2.017033  \n",
      "11  2.170262  2.170262  2.133539  2.075547  2.017033  2.071882  \n",
      "12  2.170262  2.133539  2.075547  2.017033  2.071882  2.060698  \n"
     ]
    }
   ],
   "source": [
    "#   Преобразуем данные\n",
    "#   Создаем предикторы (авторегрессионные)\n",
    "\n",
    "ser_g_2 = pd.DataFrame()\n",
    "\n",
    "for i in range(12,0,-1):\n",
    "    ser_g_2['t-'+str(i)] = ser_g.iloc[:,2].shift(i)\n",
    "\n",
    "ser_g_2['t'] = ser_g.iloc[:,2].values\n",
    "\n",
    "print(ser_g_2.head(13))\n",
    "\n",
    "\n"
   ]
  },
  {
   "cell_type": "code",
   "execution_count": 12,
   "metadata": {},
   "outputs": [
    {
     "data": {
      "text/html": [
       "<div>\n",
       "<style scoped>\n",
       "    .dataframe tbody tr th:only-of-type {\n",
       "        vertical-align: middle;\n",
       "    }\n",
       "\n",
       "    .dataframe tbody tr th {\n",
       "        vertical-align: top;\n",
       "    }\n",
       "\n",
       "    .dataframe thead th {\n",
       "        text-align: right;\n",
       "    }\n",
       "</style>\n",
       "<table border=\"1\" class=\"dataframe\">\n",
       "  <thead>\n",
       "    <tr style=\"text-align: right;\">\n",
       "      <th></th>\n",
       "      <th>t-12</th>\n",
       "      <th>t-11</th>\n",
       "      <th>t-10</th>\n",
       "      <th>t-9</th>\n",
       "      <th>t-8</th>\n",
       "      <th>t-7</th>\n",
       "      <th>t-6</th>\n",
       "      <th>t-5</th>\n",
       "      <th>t-4</th>\n",
       "      <th>t-3</th>\n",
       "      <th>t-2</th>\n",
       "      <th>t-1</th>\n",
       "      <th>t</th>\n",
       "    </tr>\n",
       "  </thead>\n",
       "  <tbody>\n",
       "    <tr>\n",
       "      <td>131</td>\n",
       "      <td>2.527630</td>\n",
       "      <td>2.556303</td>\n",
       "      <td>2.534026</td>\n",
       "      <td>2.608526</td>\n",
       "      <td>2.597695</td>\n",
       "      <td>2.623249</td>\n",
       "      <td>2.673942</td>\n",
       "      <td>2.738781</td>\n",
       "      <td>2.747412</td>\n",
       "      <td>2.665581</td>\n",
       "      <td>2.609594</td>\n",
       "      <td>2.558709</td>\n",
       "      <td>2.607455</td>\n",
       "    </tr>\n",
       "    <tr>\n",
       "      <td>132</td>\n",
       "      <td>2.556303</td>\n",
       "      <td>2.534026</td>\n",
       "      <td>2.608526</td>\n",
       "      <td>2.597695</td>\n",
       "      <td>2.623249</td>\n",
       "      <td>2.673942</td>\n",
       "      <td>2.738781</td>\n",
       "      <td>2.747412</td>\n",
       "      <td>2.665581</td>\n",
       "      <td>2.609594</td>\n",
       "      <td>2.558709</td>\n",
       "      <td>2.607455</td>\n",
       "      <td>2.620136</td>\n",
       "    </tr>\n",
       "    <tr>\n",
       "      <td>133</td>\n",
       "      <td>2.534026</td>\n",
       "      <td>2.608526</td>\n",
       "      <td>2.597695</td>\n",
       "      <td>2.623249</td>\n",
       "      <td>2.673942</td>\n",
       "      <td>2.738781</td>\n",
       "      <td>2.747412</td>\n",
       "      <td>2.665581</td>\n",
       "      <td>2.609594</td>\n",
       "      <td>2.558709</td>\n",
       "      <td>2.607455</td>\n",
       "      <td>2.620136</td>\n",
       "      <td>2.592177</td>\n",
       "    </tr>\n",
       "    <tr>\n",
       "      <td>134</td>\n",
       "      <td>2.608526</td>\n",
       "      <td>2.597695</td>\n",
       "      <td>2.623249</td>\n",
       "      <td>2.673942</td>\n",
       "      <td>2.738781</td>\n",
       "      <td>2.747412</td>\n",
       "      <td>2.665581</td>\n",
       "      <td>2.609594</td>\n",
       "      <td>2.558709</td>\n",
       "      <td>2.607455</td>\n",
       "      <td>2.620136</td>\n",
       "      <td>2.592177</td>\n",
       "      <td>2.622214</td>\n",
       "    </tr>\n",
       "    <tr>\n",
       "      <td>135</td>\n",
       "      <td>2.597695</td>\n",
       "      <td>2.623249</td>\n",
       "      <td>2.673942</td>\n",
       "      <td>2.738781</td>\n",
       "      <td>2.747412</td>\n",
       "      <td>2.665581</td>\n",
       "      <td>2.609594</td>\n",
       "      <td>2.558709</td>\n",
       "      <td>2.607455</td>\n",
       "      <td>2.620136</td>\n",
       "      <td>2.592177</td>\n",
       "      <td>2.622214</td>\n",
       "      <td>2.663701</td>\n",
       "    </tr>\n",
       "    <tr>\n",
       "      <td>136</td>\n",
       "      <td>2.623249</td>\n",
       "      <td>2.673942</td>\n",
       "      <td>2.738781</td>\n",
       "      <td>2.747412</td>\n",
       "      <td>2.665581</td>\n",
       "      <td>2.609594</td>\n",
       "      <td>2.558709</td>\n",
       "      <td>2.607455</td>\n",
       "      <td>2.620136</td>\n",
       "      <td>2.592177</td>\n",
       "      <td>2.622214</td>\n",
       "      <td>2.663701</td>\n",
       "      <td>2.673942</td>\n",
       "    </tr>\n",
       "    <tr>\n",
       "      <td>137</td>\n",
       "      <td>2.673942</td>\n",
       "      <td>2.738781</td>\n",
       "      <td>2.747412</td>\n",
       "      <td>2.665581</td>\n",
       "      <td>2.609594</td>\n",
       "      <td>2.558709</td>\n",
       "      <td>2.607455</td>\n",
       "      <td>2.620136</td>\n",
       "      <td>2.592177</td>\n",
       "      <td>2.622214</td>\n",
       "      <td>2.663701</td>\n",
       "      <td>2.673942</td>\n",
       "      <td>2.728354</td>\n",
       "    </tr>\n",
       "    <tr>\n",
       "      <td>138</td>\n",
       "      <td>2.738781</td>\n",
       "      <td>2.747412</td>\n",
       "      <td>2.665581</td>\n",
       "      <td>2.609594</td>\n",
       "      <td>2.558709</td>\n",
       "      <td>2.607455</td>\n",
       "      <td>2.620136</td>\n",
       "      <td>2.592177</td>\n",
       "      <td>2.622214</td>\n",
       "      <td>2.663701</td>\n",
       "      <td>2.673942</td>\n",
       "      <td>2.728354</td>\n",
       "      <td>2.793790</td>\n",
       "    </tr>\n",
       "    <tr>\n",
       "      <td>139</td>\n",
       "      <td>2.747412</td>\n",
       "      <td>2.665581</td>\n",
       "      <td>2.609594</td>\n",
       "      <td>2.558709</td>\n",
       "      <td>2.607455</td>\n",
       "      <td>2.620136</td>\n",
       "      <td>2.592177</td>\n",
       "      <td>2.622214</td>\n",
       "      <td>2.663701</td>\n",
       "      <td>2.673942</td>\n",
       "      <td>2.728354</td>\n",
       "      <td>2.793790</td>\n",
       "      <td>2.782473</td>\n",
       "    </tr>\n",
       "    <tr>\n",
       "      <td>140</td>\n",
       "      <td>2.665581</td>\n",
       "      <td>2.609594</td>\n",
       "      <td>2.558709</td>\n",
       "      <td>2.607455</td>\n",
       "      <td>2.620136</td>\n",
       "      <td>2.592177</td>\n",
       "      <td>2.622214</td>\n",
       "      <td>2.663701</td>\n",
       "      <td>2.673942</td>\n",
       "      <td>2.728354</td>\n",
       "      <td>2.793790</td>\n",
       "      <td>2.782473</td>\n",
       "      <td>2.705864</td>\n",
       "    </tr>\n",
       "    <tr>\n",
       "      <td>141</td>\n",
       "      <td>2.609594</td>\n",
       "      <td>2.558709</td>\n",
       "      <td>2.607455</td>\n",
       "      <td>2.620136</td>\n",
       "      <td>2.592177</td>\n",
       "      <td>2.622214</td>\n",
       "      <td>2.663701</td>\n",
       "      <td>2.673942</td>\n",
       "      <td>2.728354</td>\n",
       "      <td>2.793790</td>\n",
       "      <td>2.782473</td>\n",
       "      <td>2.705864</td>\n",
       "      <td>2.663701</td>\n",
       "    </tr>\n",
       "    <tr>\n",
       "      <td>142</td>\n",
       "      <td>2.558709</td>\n",
       "      <td>2.607455</td>\n",
       "      <td>2.620136</td>\n",
       "      <td>2.592177</td>\n",
       "      <td>2.622214</td>\n",
       "      <td>2.663701</td>\n",
       "      <td>2.673942</td>\n",
       "      <td>2.728354</td>\n",
       "      <td>2.793790</td>\n",
       "      <td>2.782473</td>\n",
       "      <td>2.705864</td>\n",
       "      <td>2.663701</td>\n",
       "      <td>2.591065</td>\n",
       "    </tr>\n",
       "    <tr>\n",
       "      <td>143</td>\n",
       "      <td>2.607455</td>\n",
       "      <td>2.620136</td>\n",
       "      <td>2.592177</td>\n",
       "      <td>2.622214</td>\n",
       "      <td>2.663701</td>\n",
       "      <td>2.673942</td>\n",
       "      <td>2.728354</td>\n",
       "      <td>2.793790</td>\n",
       "      <td>2.782473</td>\n",
       "      <td>2.705864</td>\n",
       "      <td>2.663701</td>\n",
       "      <td>2.591065</td>\n",
       "      <td>2.635484</td>\n",
       "    </tr>\n",
       "  </tbody>\n",
       "</table>\n",
       "</div>"
      ],
      "text/plain": [
       "         t-12      t-11      t-10       t-9       t-8       t-7       t-6  \\\n",
       "131  2.527630  2.556303  2.534026  2.608526  2.597695  2.623249  2.673942   \n",
       "132  2.556303  2.534026  2.608526  2.597695  2.623249  2.673942  2.738781   \n",
       "133  2.534026  2.608526  2.597695  2.623249  2.673942  2.738781  2.747412   \n",
       "134  2.608526  2.597695  2.623249  2.673942  2.738781  2.747412  2.665581   \n",
       "135  2.597695  2.623249  2.673942  2.738781  2.747412  2.665581  2.609594   \n",
       "136  2.623249  2.673942  2.738781  2.747412  2.665581  2.609594  2.558709   \n",
       "137  2.673942  2.738781  2.747412  2.665581  2.609594  2.558709  2.607455   \n",
       "138  2.738781  2.747412  2.665581  2.609594  2.558709  2.607455  2.620136   \n",
       "139  2.747412  2.665581  2.609594  2.558709  2.607455  2.620136  2.592177   \n",
       "140  2.665581  2.609594  2.558709  2.607455  2.620136  2.592177  2.622214   \n",
       "141  2.609594  2.558709  2.607455  2.620136  2.592177  2.622214  2.663701   \n",
       "142  2.558709  2.607455  2.620136  2.592177  2.622214  2.663701  2.673942   \n",
       "143  2.607455  2.620136  2.592177  2.622214  2.663701  2.673942  2.728354   \n",
       "\n",
       "          t-5       t-4       t-3       t-2       t-1         t  \n",
       "131  2.738781  2.747412  2.665581  2.609594  2.558709  2.607455  \n",
       "132  2.747412  2.665581  2.609594  2.558709  2.607455  2.620136  \n",
       "133  2.665581  2.609594  2.558709  2.607455  2.620136  2.592177  \n",
       "134  2.609594  2.558709  2.607455  2.620136  2.592177  2.622214  \n",
       "135  2.558709  2.607455  2.620136  2.592177  2.622214  2.663701  \n",
       "136  2.607455  2.620136  2.592177  2.622214  2.663701  2.673942  \n",
       "137  2.620136  2.592177  2.622214  2.663701  2.673942  2.728354  \n",
       "138  2.592177  2.622214  2.663701  2.673942  2.728354  2.793790  \n",
       "139  2.622214  2.663701  2.673942  2.728354  2.793790  2.782473  \n",
       "140  2.663701  2.673942  2.728354  2.793790  2.782473  2.705864  \n",
       "141  2.673942  2.728354  2.793790  2.782473  2.705864  2.663701  \n",
       "142  2.728354  2.793790  2.782473  2.705864  2.663701  2.591065  \n",
       "143  2.793790  2.782473  2.705864  2.663701  2.591065  2.635484  "
      ]
     },
     "execution_count": 12,
     "metadata": {},
     "output_type": "execute_result"
    }
   ],
   "source": [
    "#  Все нормально?\n",
    "ser_g_2.tail(13)"
   ]
  },
  {
   "cell_type": "code",
   "execution_count": 13,
   "metadata": {},
   "outputs": [
    {
     "data": {
      "text/html": [
       "<div>\n",
       "<style scoped>\n",
       "    .dataframe tbody tr th:only-of-type {\n",
       "        vertical-align: middle;\n",
       "    }\n",
       "\n",
       "    .dataframe tbody tr th {\n",
       "        vertical-align: top;\n",
       "    }\n",
       "\n",
       "    .dataframe thead th {\n",
       "        text-align: right;\n",
       "    }\n",
       "</style>\n",
       "<table border=\"1\" class=\"dataframe\">\n",
       "  <thead>\n",
       "    <tr style=\"text-align: right;\">\n",
       "      <th></th>\n",
       "      <th>t-12</th>\n",
       "      <th>t-11</th>\n",
       "      <th>t-10</th>\n",
       "      <th>t-9</th>\n",
       "      <th>t-8</th>\n",
       "      <th>t-7</th>\n",
       "      <th>t-6</th>\n",
       "      <th>t-5</th>\n",
       "      <th>t-4</th>\n",
       "      <th>t-3</th>\n",
       "      <th>t-2</th>\n",
       "      <th>t-1</th>\n",
       "      <th>t</th>\n",
       "    </tr>\n",
       "  </thead>\n",
       "  <tbody>\n",
       "    <tr>\n",
       "      <td>12</td>\n",
       "      <td>2.049218</td>\n",
       "      <td>2.071882</td>\n",
       "      <td>2.120574</td>\n",
       "      <td>2.110590</td>\n",
       "      <td>2.082785</td>\n",
       "      <td>2.130334</td>\n",
       "      <td>2.170262</td>\n",
       "      <td>2.170262</td>\n",
       "      <td>2.133539</td>\n",
       "      <td>2.075547</td>\n",
       "      <td>2.017033</td>\n",
       "      <td>2.071882</td>\n",
       "      <td>2.060698</td>\n",
       "    </tr>\n",
       "    <tr>\n",
       "      <td>13</td>\n",
       "      <td>2.071882</td>\n",
       "      <td>2.120574</td>\n",
       "      <td>2.110590</td>\n",
       "      <td>2.082785</td>\n",
       "      <td>2.130334</td>\n",
       "      <td>2.170262</td>\n",
       "      <td>2.170262</td>\n",
       "      <td>2.133539</td>\n",
       "      <td>2.075547</td>\n",
       "      <td>2.017033</td>\n",
       "      <td>2.071882</td>\n",
       "      <td>2.060698</td>\n",
       "      <td>2.100371</td>\n",
       "    </tr>\n",
       "    <tr>\n",
       "      <td>14</td>\n",
       "      <td>2.120574</td>\n",
       "      <td>2.110590</td>\n",
       "      <td>2.082785</td>\n",
       "      <td>2.130334</td>\n",
       "      <td>2.170262</td>\n",
       "      <td>2.170262</td>\n",
       "      <td>2.133539</td>\n",
       "      <td>2.075547</td>\n",
       "      <td>2.017033</td>\n",
       "      <td>2.071882</td>\n",
       "      <td>2.060698</td>\n",
       "      <td>2.100371</td>\n",
       "      <td>2.149219</td>\n",
       "    </tr>\n",
       "    <tr>\n",
       "      <td>15</td>\n",
       "      <td>2.110590</td>\n",
       "      <td>2.082785</td>\n",
       "      <td>2.130334</td>\n",
       "      <td>2.170262</td>\n",
       "      <td>2.170262</td>\n",
       "      <td>2.133539</td>\n",
       "      <td>2.075547</td>\n",
       "      <td>2.017033</td>\n",
       "      <td>2.071882</td>\n",
       "      <td>2.060698</td>\n",
       "      <td>2.100371</td>\n",
       "      <td>2.149219</td>\n",
       "      <td>2.130334</td>\n",
       "    </tr>\n",
       "    <tr>\n",
       "      <td>16</td>\n",
       "      <td>2.082785</td>\n",
       "      <td>2.130334</td>\n",
       "      <td>2.170262</td>\n",
       "      <td>2.170262</td>\n",
       "      <td>2.133539</td>\n",
       "      <td>2.075547</td>\n",
       "      <td>2.017033</td>\n",
       "      <td>2.071882</td>\n",
       "      <td>2.060698</td>\n",
       "      <td>2.100371</td>\n",
       "      <td>2.149219</td>\n",
       "      <td>2.130334</td>\n",
       "      <td>2.096910</td>\n",
       "    </tr>\n",
       "  </tbody>\n",
       "</table>\n",
       "</div>"
      ],
      "text/plain": [
       "        t-12      t-11      t-10       t-9       t-8       t-7       t-6  \\\n",
       "12  2.049218  2.071882  2.120574  2.110590  2.082785  2.130334  2.170262   \n",
       "13  2.071882  2.120574  2.110590  2.082785  2.130334  2.170262  2.170262   \n",
       "14  2.120574  2.110590  2.082785  2.130334  2.170262  2.170262  2.133539   \n",
       "15  2.110590  2.082785  2.130334  2.170262  2.170262  2.133539  2.075547   \n",
       "16  2.082785  2.130334  2.170262  2.170262  2.133539  2.075547  2.017033   \n",
       "\n",
       "         t-5       t-4       t-3       t-2       t-1         t  \n",
       "12  2.170262  2.133539  2.075547  2.017033  2.071882  2.060698  \n",
       "13  2.133539  2.075547  2.017033  2.071882  2.060698  2.100371  \n",
       "14  2.075547  2.017033  2.071882  2.060698  2.100371  2.149219  \n",
       "15  2.017033  2.071882  2.060698  2.100371  2.149219  2.130334  \n",
       "16  2.071882  2.060698  2.100371  2.149219  2.130334  2.096910  "
      ]
     },
     "execution_count": 13,
     "metadata": {},
     "output_type": "execute_result"
    }
   ],
   "source": [
    "#  Отрезаем первые 12 строк - там пропуски\n",
    "ser_g_4 = ser_g_2[12:]\n",
    "\n",
    "#  Все нормально?\n",
    "ser_g_4.head()"
   ]
  },
  {
   "cell_type": "code",
   "execution_count": 34,
   "metadata": {},
   "outputs": [],
   "source": [
    "#  предикторы и отклик разделяем\n",
    "# Отклик  вектор y\n",
    "y = ser_g_4['t']\n",
    "# Предикторы - таблица X\n",
    "X = ser_g_4.drop('t', axis=1)"
   ]
  },
  {
   "cell_type": "markdown",
   "metadata": {},
   "source": [
    "Если есть дополнительные предикторы, добавляем их сейчас"
   ]
  },
  {
   "cell_type": "code",
   "execution_count": null,
   "metadata": {},
   "outputs": [],
   "source": []
  },
  {
   "cell_type": "code",
   "execution_count": 35,
   "metadata": {},
   "outputs": [
    {
     "data": {
      "text/plain": [
       "(132, 12)"
      ]
     },
     "execution_count": 35,
     "metadata": {},
     "output_type": "execute_result"
    }
   ],
   "source": [
    "X.shape"
   ]
  },
  {
   "cell_type": "code",
   "execution_count": 36,
   "metadata": {},
   "outputs": [
    {
     "data": {
      "text/html": [
       "<div>\n",
       "<style scoped>\n",
       "    .dataframe tbody tr th:only-of-type {\n",
       "        vertical-align: middle;\n",
       "    }\n",
       "\n",
       "    .dataframe tbody tr th {\n",
       "        vertical-align: top;\n",
       "    }\n",
       "\n",
       "    .dataframe thead th {\n",
       "        text-align: right;\n",
       "    }\n",
       "</style>\n",
       "<table border=\"1\" class=\"dataframe\">\n",
       "  <thead>\n",
       "    <tr style=\"text-align: right;\">\n",
       "      <th></th>\n",
       "      <th>t-12</th>\n",
       "      <th>t-11</th>\n",
       "      <th>t-10</th>\n",
       "      <th>t-9</th>\n",
       "      <th>t-8</th>\n",
       "      <th>t-7</th>\n",
       "      <th>t-6</th>\n",
       "      <th>t-5</th>\n",
       "      <th>t-4</th>\n",
       "      <th>t-3</th>\n",
       "      <th>t-2</th>\n",
       "      <th>t-1</th>\n",
       "    </tr>\n",
       "  </thead>\n",
       "  <tbody>\n",
       "    <tr>\n",
       "      <td>12</td>\n",
       "      <td>2.049218</td>\n",
       "      <td>2.071882</td>\n",
       "      <td>2.120574</td>\n",
       "      <td>2.110590</td>\n",
       "      <td>2.082785</td>\n",
       "      <td>2.130334</td>\n",
       "      <td>2.170262</td>\n",
       "      <td>2.170262</td>\n",
       "      <td>2.133539</td>\n",
       "      <td>2.075547</td>\n",
       "      <td>2.017033</td>\n",
       "      <td>2.071882</td>\n",
       "    </tr>\n",
       "    <tr>\n",
       "      <td>13</td>\n",
       "      <td>2.071882</td>\n",
       "      <td>2.120574</td>\n",
       "      <td>2.110590</td>\n",
       "      <td>2.082785</td>\n",
       "      <td>2.130334</td>\n",
       "      <td>2.170262</td>\n",
       "      <td>2.170262</td>\n",
       "      <td>2.133539</td>\n",
       "      <td>2.075547</td>\n",
       "      <td>2.017033</td>\n",
       "      <td>2.071882</td>\n",
       "      <td>2.060698</td>\n",
       "    </tr>\n",
       "    <tr>\n",
       "      <td>14</td>\n",
       "      <td>2.120574</td>\n",
       "      <td>2.110590</td>\n",
       "      <td>2.082785</td>\n",
       "      <td>2.130334</td>\n",
       "      <td>2.170262</td>\n",
       "      <td>2.170262</td>\n",
       "      <td>2.133539</td>\n",
       "      <td>2.075547</td>\n",
       "      <td>2.017033</td>\n",
       "      <td>2.071882</td>\n",
       "      <td>2.060698</td>\n",
       "      <td>2.100371</td>\n",
       "    </tr>\n",
       "    <tr>\n",
       "      <td>15</td>\n",
       "      <td>2.110590</td>\n",
       "      <td>2.082785</td>\n",
       "      <td>2.130334</td>\n",
       "      <td>2.170262</td>\n",
       "      <td>2.170262</td>\n",
       "      <td>2.133539</td>\n",
       "      <td>2.075547</td>\n",
       "      <td>2.017033</td>\n",
       "      <td>2.071882</td>\n",
       "      <td>2.060698</td>\n",
       "      <td>2.100371</td>\n",
       "      <td>2.149219</td>\n",
       "    </tr>\n",
       "    <tr>\n",
       "      <td>16</td>\n",
       "      <td>2.082785</td>\n",
       "      <td>2.130334</td>\n",
       "      <td>2.170262</td>\n",
       "      <td>2.170262</td>\n",
       "      <td>2.133539</td>\n",
       "      <td>2.075547</td>\n",
       "      <td>2.017033</td>\n",
       "      <td>2.071882</td>\n",
       "      <td>2.060698</td>\n",
       "      <td>2.100371</td>\n",
       "      <td>2.149219</td>\n",
       "      <td>2.130334</td>\n",
       "    </tr>\n",
       "  </tbody>\n",
       "</table>\n",
       "</div>"
      ],
      "text/plain": [
       "        t-12      t-11      t-10       t-9       t-8       t-7       t-6  \\\n",
       "12  2.049218  2.071882  2.120574  2.110590  2.082785  2.130334  2.170262   \n",
       "13  2.071882  2.120574  2.110590  2.082785  2.130334  2.170262  2.170262   \n",
       "14  2.120574  2.110590  2.082785  2.130334  2.170262  2.170262  2.133539   \n",
       "15  2.110590  2.082785  2.130334  2.170262  2.170262  2.133539  2.075547   \n",
       "16  2.082785  2.130334  2.170262  2.170262  2.133539  2.075547  2.017033   \n",
       "\n",
       "         t-5       t-4       t-3       t-2       t-1  \n",
       "12  2.170262  2.133539  2.075547  2.017033  2.071882  \n",
       "13  2.133539  2.075547  2.017033  2.071882  2.060698  \n",
       "14  2.075547  2.017033  2.071882  2.060698  2.100371  \n",
       "15  2.017033  2.071882  2.060698  2.100371  2.149219  \n",
       "16  2.071882  2.060698  2.100371  2.149219  2.130334  "
      ]
     },
     "execution_count": 36,
     "metadata": {},
     "output_type": "execute_result"
    }
   ],
   "source": [
    "X.head()"
   ]
  },
  {
   "cell_type": "code",
   "execution_count": 39,
   "metadata": {},
   "outputs": [],
   "source": [
    "#  Возможно, лишнее преобразование.\n",
    "#  Оно нужно в нейронных сетях и (возможно ) XGBoost\n",
    "\n",
    "y1 = y.values\n",
    "X1 = X.values"
   ]
  },
  {
   "cell_type": "code",
   "execution_count": null,
   "metadata": {},
   "outputs": [],
   "source": []
  },
  {
   "cell_type": "code",
   "execution_count": 40,
   "metadata": {},
   "outputs": [],
   "source": [
    "from sklearn.ensemble import RandomForestRegressor"
   ]
  },
  {
   "cell_type": "code",
   "execution_count": 41,
   "metadata": {},
   "outputs": [
    {
     "name": "stderr",
     "output_type": "stream",
     "text": [
      "[Parallel(n_jobs=1)]: Using backend SequentialBackend with 1 concurrent workers.\n",
      "[Parallel(n_jobs=1)]: Done 150 out of 150 | elapsed:    0.0s finished\n"
     ]
    },
    {
     "data": {
      "text/plain": [
       "RandomForestRegressor(bootstrap=True, criterion='mse', max_depth=10,\n",
       "                      max_features=10, max_leaf_nodes=None,\n",
       "                      min_impurity_decrease=0.0, min_impurity_split=None,\n",
       "                      min_samples_leaf=1, min_samples_split=2,\n",
       "                      min_weight_fraction_leaf=0.0, n_estimators=150,\n",
       "                      n_jobs=None, oob_score=True, random_state=42, verbose=1,\n",
       "                      warm_start=False)"
      ]
     },
     "execution_count": 41,
     "metadata": {},
     "output_type": "execute_result"
    }
   ],
   "source": [
    "model = RandomForestRegressor(random_state=42,\n",
    "                               # число деревьев в лесу\n",
    "                               n_estimators=150,\n",
    "                               # функция для impurity\n",
    "                               criterion='mse',\n",
    "                               # то ли число слоев, то ли число расщеплений  \n",
    "                               #  ?????????????????  но не число узлов\n",
    "                               max_depth=10,\n",
    "                               # сколько переменных использовать при построении дерева?\n",
    "                               # sqrt(k)\n",
    "                               max_features=10, \n",
    "                               # максимальное число конечных узлов. Сейчас - без ограничений\n",
    "                               max_leaf_nodes=None,\n",
    "                               # минимальное уменьшение загрязнения \n",
    "                               min_impurity_decrease=0.0, \n",
    "                                # Дерево обучается по части наблюдений (По какой???)\n",
    "                               bootstrap=True, \n",
    "                               # минимальное число наблюдений в узле потомке\n",
    "                               min_samples_leaf=1, \n",
    "                               # минимальное число наблюдений в узле родителе\n",
    "                               min_samples_split=2,\n",
    "                               # параметр используется редко, самостоятельно\n",
    "                               min_weight_fraction_leaf=0.0, \n",
    "                               # объем промежуточных результатов в ходе обучения\n",
    "                               verbose=1, \n",
    "                               # число используемых процессоров\n",
    "                               # n_jobs=None,\n",
    "                               # Вычислять out-of-bag ошибку\n",
    "                               oob_score=True,\n",
    "                               # использовать результаты предыдущего вызова и нарастить предыдущий лес \n",
    "                               warm_start=False)\n",
    "\n",
    "model.fit(X1, y1)"
   ]
  },
  {
   "cell_type": "code",
   "execution_count": 42,
   "metadata": {},
   "outputs": [
    {
     "name": "stderr",
     "output_type": "stream",
     "text": [
      "[Parallel(n_jobs=1)]: Using backend SequentialBackend with 1 concurrent workers.\n",
      "[Parallel(n_jobs=1)]: Done 150 out of 150 | elapsed:    0.0s finished\n"
     ]
    },
    {
     "data": {
      "text/plain": [
       "<matplotlib.axes._subplots.AxesSubplot at 0x1776fdef888>"
      ]
     },
     "execution_count": 42,
     "metadata": {},
     "output_type": "execute_result"
    },
    {
     "data": {
      "image/png": "[encoded data removed]",
      "text/plain": [
       "<Figure size 432x288 with 1 Axes>"
      ]
     },
     "metadata": {
      "needs_background": "light"
     },
     "output_type": "display_data"
    }
   ],
   "source": [
    "#  Сравним подгонку и ряд\n",
    "\n",
    "pred = pd.DataFrame({\n",
    "    'pred': model.predict(X1),\n",
    "    'real': y})\n",
    "pred.plot()"
   ]
  },
  {
   "cell_type": "markdown",
   "metadata": {},
   "source": [
    "Почему прогноз будет плохой? <br>\n",
    "Что надо сделать, чтобы получить разумный прогноз?\n",
    "\n",
    "DS и TS ряды\n"
   ]
  },
  {
   "cell_type": "markdown",
   "metadata": {},
   "source": [
    "###  Прогнозирование на одно наблюдение вперед"
   ]
  },
  {
   "cell_type": "code",
   "execution_count": 22,
   "metadata": {},
   "outputs": [],
   "source": [
    "#  Неправильно\n",
    "X_for = X.iloc[131 , :]"
   ]
  },
  {
   "cell_type": "code",
   "execution_count": 43,
   "metadata": {},
   "outputs": [],
   "source": [
    "X_2 = X1[None, 131 , :]"
   ]
  },
  {
   "cell_type": "code",
   "execution_count": 44,
   "metadata": {},
   "outputs": [
    {
     "data": {
      "text/plain": [
       "array([[2.60745502, 2.62013605, 2.59217676, 2.62221402, 2.66370093,\n",
       "        2.673942  , 2.72835378, 2.79379038, 2.78247262, 2.70586371,\n",
       "        2.66370093, 2.59106461]])"
      ]
     },
     "execution_count": 44,
     "metadata": {},
     "output_type": "execute_result"
    }
   ],
   "source": [
    "X_2"
   ]
  },
  {
   "cell_type": "code",
   "execution_count": 45,
   "metadata": {},
   "outputs": [
    {
     "name": "stderr",
     "output_type": "stream",
     "text": [
      "[Parallel(n_jobs=1)]: Using backend SequentialBackend with 1 concurrent workers.\n",
      "[Parallel(n_jobs=1)]: Done 150 out of 150 | elapsed:    0.0s finished\n"
     ]
    }
   ],
   "source": [
    "f_1 = model.predict(X_2)"
   ]
  },
  {
   "cell_type": "code",
   "execution_count": 46,
   "metadata": {},
   "outputs": [
    {
     "data": {
      "text/plain": [
       "array([2.6361959])"
      ]
     },
     "execution_count": 46,
     "metadata": {},
     "output_type": "execute_result"
    }
   ],
   "source": [
    "f_1"
   ]
  },
  {
   "cell_type": "markdown",
   "metadata": {},
   "source": [
    "Далее: надо подобрать внешние параметры, например число деревьев.\n",
    "    30 деревьев дают плохую подгонку, 60 получше, но возможно переобучают... <br>\n",
    "    \n",
    "Кросс-валидация. <br>\n",
    "Для временных рядов она нестандартная\n",
    "\n",
    "\n",
    "Популярная процедура <br>\n",
    "from sklearn.model_selection import TimeSeriesSplit\n",
    "\n",
    "Что в ней не так?\n"
   ]
  },
  {
   "cell_type": "code",
   "execution_count": null,
   "metadata": {},
   "outputs": [],
   "source": []
  },
  {
   "cell_type": "markdown",
   "metadata": {},
   "source": [
    "###  Прогнозирование на 12 наблюдений вперед"
   ]
  },
  {
   "cell_type": "code",
   "execution_count": 47,
   "metadata": {},
   "outputs": [],
   "source": [
    "horizon_ = 12\n",
    "\n",
    "a = []"
   ]
  },
  {
   "cell_type": "code",
   "execution_count": 49,
   "metadata": {},
   "outputs": [
    {
     "name": "stderr",
     "output_type": "stream",
     "text": [
      "[Parallel(n_jobs=1)]: Using backend SequentialBackend with 1 concurrent workers.\n",
      "[Parallel(n_jobs=1)]: Done 150 out of 150 | elapsed:    0.0s finished\n",
      "[Parallel(n_jobs=1)]: Using backend SequentialBackend with 1 concurrent workers.\n",
      "[Parallel(n_jobs=1)]: Done 150 out of 150 | elapsed:    0.0s finished\n",
      "[Parallel(n_jobs=1)]: Using backend SequentialBackend with 1 concurrent workers.\n",
      "[Parallel(n_jobs=1)]: Done 150 out of 150 | elapsed:    0.0s finished\n",
      "[Parallel(n_jobs=1)]: Using backend SequentialBackend with 1 concurrent workers.\n",
      "[Parallel(n_jobs=1)]: Done 150 out of 150 | elapsed:    0.0s finished\n",
      "[Parallel(n_jobs=1)]: Using backend SequentialBackend with 1 concurrent workers.\n",
      "[Parallel(n_jobs=1)]: Done 150 out of 150 | elapsed:    0.0s finished\n",
      "[Parallel(n_jobs=1)]: Using backend SequentialBackend with 1 concurrent workers.\n",
      "[Parallel(n_jobs=1)]: Done 150 out of 150 | elapsed:    0.0s finished\n",
      "[Parallel(n_jobs=1)]: Using backend SequentialBackend with 1 concurrent workers.\n",
      "[Parallel(n_jobs=1)]: Done 150 out of 150 | elapsed:    0.0s finished\n",
      "[Parallel(n_jobs=1)]: Using backend SequentialBackend with 1 concurrent workers.\n",
      "[Parallel(n_jobs=1)]: Done 150 out of 150 | elapsed:    0.0s finished\n",
      "[Parallel(n_jobs=1)]: Using backend SequentialBackend with 1 concurrent workers.\n",
      "[Parallel(n_jobs=1)]: Done 150 out of 150 | elapsed:    0.0s finished\n",
      "[Parallel(n_jobs=1)]: Using backend SequentialBackend with 1 concurrent workers.\n",
      "[Parallel(n_jobs=1)]: Done 150 out of 150 | elapsed:    0.0s finished\n",
      "[Parallel(n_jobs=1)]: Using backend SequentialBackend with 1 concurrent workers.\n",
      "[Parallel(n_jobs=1)]: Done 150 out of 150 | elapsed:    0.0s finished\n",
      "[Parallel(n_jobs=1)]: Using backend SequentialBackend with 1 concurrent workers.\n",
      "[Parallel(n_jobs=1)]: Done 150 out of 150 | elapsed:    0.0s finished\n"
     ]
    }
   ],
   "source": [
    "for i in range(horizon_):\n",
    "    f_2 = model.predict(X_2)\n",
    "    a.append(f_2)\n",
    "    zzz = np.append(X_2[0, :], f_2)\n",
    "    X_2[0, :] = np.delete(zzz, 0)\n",
    "    "
   ]
  },
  {
   "cell_type": "code",
   "execution_count": 50,
   "metadata": {},
   "outputs": [
    {
     "data": {
      "text/plain": [
       "[array([2.6361959]),\n",
       " array([2.6361959]),\n",
       " array([2.65745993]),\n",
       " array([2.65218365]),\n",
       " array([2.66969771]),\n",
       " array([2.71589651]),\n",
       " array([2.74508114]),\n",
       " array([2.76934479]),\n",
       " array([2.77416152]),\n",
       " array([2.77247685]),\n",
       " array([2.75963803]),\n",
       " array([2.71689854]),\n",
       " array([2.65458786])]"
      ]
     },
     "execution_count": 50,
     "metadata": {},
     "output_type": "execute_result"
    }
   ],
   "source": [
    "a"
   ]
  },
  {
   "cell_type": "code",
   "execution_count": 52,
   "metadata": {},
   "outputs": [
    {
     "data": {
      "text/plain": [
       "array([2.6361959 , 2.65745993, 2.65218365, 2.66969771, 2.71589651,\n",
       "       2.74508114, 2.76934479, 2.77416152, 2.77247685, 2.75963803,\n",
       "       2.71689854, 2.65458786])"
      ]
     },
     "execution_count": 52,
     "metadata": {},
     "output_type": "execute_result"
    }
   ],
   "source": [
    "X_2[0, :]"
   ]
  },
  {
   "cell_type": "code",
   "execution_count": null,
   "metadata": {},
   "outputs": [],
   "source": []
  },
  {
   "cell_type": "code",
   "execution_count": 30,
   "metadata": {},
   "outputs": [],
   "source": [
    "X_2.dtype.names"
   ]
  },
  {
   "cell_type": "code",
   "execution_count": 38,
   "metadata": {},
   "outputs": [],
   "source": [
    "X1.dtype.names"
   ]
  },
  {
   "cell_type": "code",
   "execution_count": null,
   "metadata": {},
   "outputs": [],
   "source": []
  },
  {
   "cell_type": "code",
   "execution_count": 48,
   "metadata": {},
   "outputs": [
    {
     "name": "stderr",
     "output_type": "stream",
     "text": [
      "[Parallel(n_jobs=1)]: Using backend SequentialBackend with 1 concurrent workers.\n",
      "[Parallel(n_jobs=1)]: Done 150 out of 150 | elapsed:    0.0s finished\n"
     ]
    },
    {
     "ename": "IndexError",
     "evalue": "index 1 is out of bounds for axis 0 with size 1",
     "output_type": "error",
     "traceback": [
      "\u001b[1;31m---------------------------------------------------------------------------\u001b[0m",
      "\u001b[1;31mIndexError\u001b[0m                                Traceback (most recent call last)",
      "\u001b[1;32m<ipython-input-48-44f84de1f26d>\u001b[0m in \u001b[0;36m<module>\u001b[1;34m\u001b[0m\n\u001b[0;32m      1\u001b[0m \u001b[0mf_2\u001b[0m \u001b[1;33m=\u001b[0m \u001b[0mmodel\u001b[0m\u001b[1;33m.\u001b[0m\u001b[0mpredict\u001b[0m\u001b[1;33m(\u001b[0m\u001b[0mX_2\u001b[0m\u001b[1;33m)\u001b[0m\u001b[1;33m\u001b[0m\u001b[1;33m\u001b[0m\u001b[0m\n\u001b[0;32m      2\u001b[0m \u001b[0ma\u001b[0m\u001b[1;33m.\u001b[0m\u001b[0mappend\u001b[0m\u001b[1;33m(\u001b[0m\u001b[0mf_2\u001b[0m\u001b[1;33m)\u001b[0m\u001b[1;33m\u001b[0m\u001b[1;33m\u001b[0m\u001b[0m\n\u001b[1;32m----> 3\u001b[1;33m \u001b[0mzzz\u001b[0m \u001b[1;33m=\u001b[0m \u001b[0mnp\u001b[0m\u001b[1;33m.\u001b[0m\u001b[0mappend\u001b[0m\u001b[1;33m(\u001b[0m\u001b[0mX_2\u001b[0m\u001b[1;33m[\u001b[0m\u001b[1;36m1\u001b[0m\u001b[1;33m,\u001b[0m \u001b[1;33m:\u001b[0m\u001b[1;33m]\u001b[0m\u001b[1;33m,\u001b[0m \u001b[0mf_2\u001b[0m\u001b[1;33m)\u001b[0m\u001b[1;33m\u001b[0m\u001b[1;33m\u001b[0m\u001b[0m\n\u001b[0m\u001b[0;32m      4\u001b[0m \u001b[0mX_2\u001b[0m\u001b[1;33m[\u001b[0m\u001b[1;36m1\u001b[0m\u001b[1;33m,\u001b[0m \u001b[1;33m:\u001b[0m\u001b[1;33m]\u001b[0m \u001b[1;33m=\u001b[0m \u001b[0mnp\u001b[0m\u001b[1;33m.\u001b[0m\u001b[0mdelete\u001b[0m\u001b[1;33m(\u001b[0m\u001b[0mzzz\u001b[0m\u001b[1;33m,\u001b[0m \u001b[1;36m0\u001b[0m\u001b[1;33m)\u001b[0m\u001b[1;33m\u001b[0m\u001b[1;33m\u001b[0m\u001b[0m\n",
      "\u001b[1;31mIndexError\u001b[0m: index 1 is out of bounds for axis 0 with size 1"
     ]
    }
   ],
   "source": [
    "f_2 = model.predict(X_2)\n",
    "a.append(f_2)\n",
    "zzz = np.append(X_2[0, :], f_2)\n",
    "X_2[1, :] = np.delete(zzz, 0)"
   ]
  },
  {
   "cell_type": "code",
   "execution_count": 57,
   "metadata": {},
   "outputs": [],
   "source": []
  },
  {
   "cell_type": "code",
   "execution_count": 58,
   "metadata": {},
   "outputs": [
    {
     "ename": "NameError",
     "evalue": "name 'vali' is not defined",
     "output_type": "error",
     "traceback": [
      "\u001b[1;31m---------------------------------------------------------------------------\u001b[0m",
      "\u001b[1;31mNameError\u001b[0m                                 Traceback (most recent call last)",
      "\u001b[1;32m<ipython-input-58-f0f2dbe7f1a7>\u001b[0m in \u001b[0;36m<module>\u001b[1;34m\u001b[0m\n\u001b[1;32m----> 1\u001b[1;33m \u001b[0mvali\u001b[0m\u001b[1;33m\u001b[0m\u001b[1;33m\u001b[0m\u001b[0m\n\u001b[0m",
      "\u001b[1;31mNameError\u001b[0m: name 'vali' is not defined"
     ]
    }
   ],
   "source": [
    "vali"
   ]
  },
  {
   "cell_type": "code",
   "execution_count": null,
   "metadata": {},
   "outputs": [],
   "source": []
  },
  {
   "cell_type": "code",
   "execution_count": 61,
   "metadata": {},
   "outputs": [],
   "source": [
    "valid_1 = range(12, 144, 1)"
   ]
  },
  {
   "cell_type": "code",
   "execution_count": 62,
   "metadata": {},
   "outputs": [
    {
     "name": "stderr",
     "output_type": "stream",
     "text": [
      "[Parallel(n_jobs=1)]: Using backend SequentialBackend with 1 concurrent workers.\n",
      "[Parallel(n_jobs=1)]: Done 150 out of 150 | elapsed:    0.0s finished\n"
     ]
    }
   ],
   "source": [
    "forecast_3 = pd.DataFrame(10**model.predict(X1), index = valid_1, columns=['Fit'])\n"
   ]
  },
  {
   "cell_type": "code",
   "execution_count": 66,
   "metadata": {},
   "outputs": [],
   "source": [
    "valid_2 = range(144, 156, 1)"
   ]
  },
  {
   "cell_type": "code",
   "execution_count": 67,
   "metadata": {},
   "outputs": [],
   "source": [
    "forecast_4 = pd.DataFrame(10**X_2[0, :], index = valid_2, columns=['Forecast'])\n"
   ]
  },
  {
   "cell_type": "code",
   "execution_count": 68,
   "metadata": {},
   "outputs": [
    {
     "data": {
      "image/png": "[encoded data removed]",
      "text/plain": [
       "<Figure size 1296x576 with 1 Axes>"
      ]
     },
     "metadata": {
      "needs_background": "light"
     },
     "output_type": "display_data"
    }
   ],
   "source": [
    "#  По прогнозу для логарифмов вычисляем прогноз для исходного ряда\n",
    "\n",
    "#   Проверяем качество прогноза для исходного ряда\n",
    "#   Строим графики\n",
    "\n",
    "#  Указываем размер картинки\n",
    "plt.figure(figsize=(18, 8))\n",
    "\n",
    "\n",
    "#  график исходного ряда\n",
    "plt.plot(ser_g['series_g'], label='Исторические данные', c = 'black')\n",
    "#  график прогноза\n",
    "plt.plot(forecast_3, label='Подгонка', c = 'blue')\n",
    "plt.plot(forecast_4, label='Прогнозируемые', c = 'red')\n",
    "\n",
    "plt.legend(loc='best')\n",
    "\n",
    "plt.show()\n",
    "\n"
   ]
  },
  {
   "cell_type": "code",
   "execution_count": null,
   "metadata": {},
   "outputs": [],
   "source": [
    "\n"
   ]
  },
  {
   "cell_type": "code",
   "execution_count": 56,
   "metadata": {},
   "outputs": [
    {
     "name": "stderr",
     "output_type": "stream",
     "text": [
      "[Parallel(n_jobs=1)]: Using backend SequentialBackend with 1 concurrent workers.\n",
      "[Parallel(n_jobs=1)]: Done 150 out of 150 | elapsed:    0.0s finished\n"
     ]
    },
    {
     "data": {
      "text/plain": [
       "array([2.08583874, 2.11296758, 2.14750269, 2.14158604, 2.11675018,\n",
       "       2.17034966, 2.22605973, 2.23171273, 2.19619445, 2.13636826,\n",
       "       2.0818917 , 2.13279938, 2.15307117, 2.17625258, 2.23296764,\n",
       "       2.21007758, 2.20311552, 2.25089261, 2.29105099, 2.29260309,\n",
       "       2.26691406, 2.2075306 , 2.17328787, 2.2185782 , 2.23532236,\n",
       "       2.25255781, 2.28943023, 2.26564491, 2.27298688, 2.32090417,\n",
       "       2.35329502, 2.37198574, 2.32615092, 2.27526177, 2.23963608,\n",
       "       2.27922828, 2.28933253, 2.29926112, 2.35160401, 2.35651227,\n",
       "       2.35548239, 2.38021874, 2.41246748, 2.42775732, 2.37976928,\n",
       "       2.32955614, 2.27246236, 2.31804379, 2.32134506, 2.30524719,\n",
       "       2.37323607, 2.37439493, 2.38361732, 2.42055462, 2.48141888,\n",
       "       2.47489572, 2.41710276, 2.3682619 , 2.31803266, 2.35824537,\n",
       "       2.37416571, 2.35562942, 2.41758527, 2.42582743, 2.42815755,\n",
       "       2.49317552, 2.53941898, 2.52711559, 2.49033526, 2.42868461,\n",
       "       2.38498101, 2.430248  , 2.4463529 , 2.4397641 , 2.49641225,\n",
       "       2.49503068, 2.4994861 , 2.5628091 , 2.61255672, 2.59415127,\n",
       "       2.55339402, 2.48638647, 2.43650357, 2.48661566, 2.49354712,\n",
       "       2.48744843, 2.54710153, 2.54648291, 2.55085849, 2.62428945,\n",
       "       2.66143939, 2.65660649, 2.59967807, 2.53832041, 2.48626087,\n",
       "       2.52746735, 2.53595936, 2.50841358, 2.56739766, 2.55667786,\n",
       "       2.56967748, 2.64603521, 2.69791881, 2.70060401, 2.62521477,\n",
       "       2.56449741, 2.51306168, 2.53928541, 2.55694567, 2.5420011 ,\n",
       "       2.60100774, 2.58464741, 2.61825743, 2.67318301, 2.73456926,\n",
       "       2.73812737, 2.66258255, 2.60835587, 2.555393  , 2.58565351,\n",
       "       2.61453732, 2.59010008, 2.63108696, 2.65749379, 2.67447911,\n",
       "       2.72421656, 2.77546868, 2.77168386, 2.71706479, 2.65813541,\n",
       "       2.60539475, 2.66897859])"
      ]
     },
     "execution_count": 56,
     "metadata": {},
     "output_type": "execute_result"
    }
   ],
   "source": [
    "model.predict(X1)"
   ]
  },
  {
   "cell_type": "code",
   "execution_count": null,
   "metadata": {},
   "outputs": [],
   "source": []
  },
  {
   "cell_type": "code",
   "execution_count": null,
   "metadata": {},
   "outputs": [],
   "source": []
  },
  {
   "cell_type": "code",
   "execution_count": null,
   "metadata": {},
   "outputs": [],
   "source": []
  },
  {
   "cell_type": "code",
   "execution_count": null,
   "metadata": {},
   "outputs": [],
   "source": []
  },
  {
   "cell_type": "code",
   "execution_count": null,
   "metadata": {},
   "outputs": [],
   "source": []
  },
  {
   "cell_type": "code",
   "execution_count": null,
   "metadata": {},
   "outputs": [],
   "source": []
  },
  {
   "cell_type": "code",
   "execution_count": null,
   "metadata": {},
   "outputs": [],
   "source": []
  }
 ],
 "metadata": {
  "kernelspec": {
   "display_name": "Python 3",
   "language": "python",
   "name": "python3"
  },
  "language_info": {
   "codemirror_mode": {
    "name": "ipython",
    "version": 3
   },
   "file_extension": ".py",
   "mimetype": "text/x-python",
   "name": "python",
   "nbconvert_exporter": "python",
   "pygments_lexer": "ipython3",
   "version": "3.7.4"
  }
 },
 "nbformat": 4,
 "nbformat_minor": 2
}
