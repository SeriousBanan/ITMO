{
 "cells": [
  {
   "cell_type": "markdown",
   "metadata": {},
   "source": [
    "###  Cross-Validation for Parameter Tuning, Model Selection, and Feature Selection\n",
    "\n",
    "https://www.ritchieng.com/machine-learning-cross-validation/"
   ]
  },
  {
   "cell_type": "code",
   "execution_count": 1,
   "metadata": {},
   "outputs": [],
   "source": [
    "import pandas as pd\n",
    "import numpy as np\n",
    "import matplotlib\n",
    "import matplotlib.pyplot as plt\n",
    "matplotlib.style.use('ggplot')\n",
    "%matplotlib inline"
   ]
  },
  {
   "cell_type": "code",
   "execution_count": null,
   "metadata": {},
   "outputs": [],
   "source": []
  },
  {
   "cell_type": "code",
   "execution_count": 2,
   "metadata": {},
   "outputs": [],
   "source": [
    "from sklearn.model_selection import train_test_split\n",
    "from sklearn.neighbors import KNeighborsClassifier\n",
    "from sklearn import metrics\n",
    "\n",
    "#   среднее 0, ст.отклонение 1\n",
    "from sklearn.preprocessing import StandardScaler\n",
    "\n",
    "from sklearn.model_selection import KFold\n",
    "\n"
   ]
  },
  {
   "cell_type": "code",
   "execution_count": 3,
   "metadata": {},
   "outputs": [],
   "source": [
    "import os\n",
    "os.chdir(\"C:/Users/USER/Documents/Python/_AD_Python_part_1_Lectures/AD_Python_1_09_knn\")\n",
    "\n",
    "#  Читаем данные\n",
    "df = pd.read_csv('Wine.txt', sep='\\t')\n",
    "\n",
    "\n",
    "#  Разделяем предикторы и отклик\n",
    "X = df.iloc[:, :-1].values  \n",
    "y = df.iloc[:, 13].values  "
   ]
  },
  {
   "cell_type": "code",
   "execution_count": 4,
   "metadata": {},
   "outputs": [
    {
     "data": {
      "text/html": [
       "<div>\n",
       "<style scoped>\n",
       "    .dataframe tbody tr th:only-of-type {\n",
       "        vertical-align: middle;\n",
       "    }\n",
       "\n",
       "    .dataframe tbody tr th {\n",
       "        vertical-align: top;\n",
       "    }\n",
       "\n",
       "    .dataframe thead th {\n",
       "        text-align: right;\n",
       "    }\n",
       "</style>\n",
       "<table border=\"1\" class=\"dataframe\">\n",
       "  <thead>\n",
       "    <tr style=\"text-align: right;\">\n",
       "      <th></th>\n",
       "      <th>Input1</th>\n",
       "      <th>Input2</th>\n",
       "      <th>Input3</th>\n",
       "      <th>Input4</th>\n",
       "      <th>Input5</th>\n",
       "      <th>Input6</th>\n",
       "      <th>Input7</th>\n",
       "      <th>Input8</th>\n",
       "      <th>Input9</th>\n",
       "      <th>Input10</th>\n",
       "      <th>Input11</th>\n",
       "      <th>Input12</th>\n",
       "      <th>Input13</th>\n",
       "      <th>Desired1(3)</th>\n",
       "    </tr>\n",
       "  </thead>\n",
       "  <tbody>\n",
       "    <tr>\n",
       "      <td>0</td>\n",
       "      <td>14.23</td>\n",
       "      <td>1.71</td>\n",
       "      <td>2.43</td>\n",
       "      <td>15.6</td>\n",
       "      <td>127</td>\n",
       "      <td>2.80</td>\n",
       "      <td>3.06</td>\n",
       "      <td>0.28</td>\n",
       "      <td>2.29</td>\n",
       "      <td>5.64</td>\n",
       "      <td>1.04</td>\n",
       "      <td>3.92</td>\n",
       "      <td>1065</td>\n",
       "      <td>0</td>\n",
       "    </tr>\n",
       "    <tr>\n",
       "      <td>1</td>\n",
       "      <td>13.20</td>\n",
       "      <td>1.78</td>\n",
       "      <td>2.14</td>\n",
       "      <td>11.2</td>\n",
       "      <td>100</td>\n",
       "      <td>2.65</td>\n",
       "      <td>2.76</td>\n",
       "      <td>0.26</td>\n",
       "      <td>1.28</td>\n",
       "      <td>4.38</td>\n",
       "      <td>1.05</td>\n",
       "      <td>3.40</td>\n",
       "      <td>1050</td>\n",
       "      <td>0</td>\n",
       "    </tr>\n",
       "    <tr>\n",
       "      <td>2</td>\n",
       "      <td>13.16</td>\n",
       "      <td>2.36</td>\n",
       "      <td>2.67</td>\n",
       "      <td>18.6</td>\n",
       "      <td>101</td>\n",
       "      <td>2.80</td>\n",
       "      <td>3.24</td>\n",
       "      <td>0.30</td>\n",
       "      <td>2.81</td>\n",
       "      <td>5.68</td>\n",
       "      <td>1.03</td>\n",
       "      <td>3.17</td>\n",
       "      <td>1185</td>\n",
       "      <td>0</td>\n",
       "    </tr>\n",
       "    <tr>\n",
       "      <td>3</td>\n",
       "      <td>14.37</td>\n",
       "      <td>1.95</td>\n",
       "      <td>2.50</td>\n",
       "      <td>16.8</td>\n",
       "      <td>113</td>\n",
       "      <td>3.85</td>\n",
       "      <td>3.49</td>\n",
       "      <td>0.24</td>\n",
       "      <td>2.18</td>\n",
       "      <td>7.80</td>\n",
       "      <td>0.86</td>\n",
       "      <td>3.45</td>\n",
       "      <td>1480</td>\n",
       "      <td>0</td>\n",
       "    </tr>\n",
       "    <tr>\n",
       "      <td>4</td>\n",
       "      <td>13.24</td>\n",
       "      <td>2.59</td>\n",
       "      <td>2.87</td>\n",
       "      <td>21.0</td>\n",
       "      <td>118</td>\n",
       "      <td>2.80</td>\n",
       "      <td>2.69</td>\n",
       "      <td>0.39</td>\n",
       "      <td>1.82</td>\n",
       "      <td>4.32</td>\n",
       "      <td>1.04</td>\n",
       "      <td>2.93</td>\n",
       "      <td>735</td>\n",
       "      <td>0</td>\n",
       "    </tr>\n",
       "  </tbody>\n",
       "</table>\n",
       "</div>"
      ],
      "text/plain": [
       "   Input1  Input2  Input3  Input4  Input5  Input6  Input7  Input8  Input9  \\\n",
       "0   14.23    1.71    2.43    15.6     127    2.80    3.06    0.28    2.29   \n",
       "1   13.20    1.78    2.14    11.2     100    2.65    2.76    0.26    1.28   \n",
       "2   13.16    2.36    2.67    18.6     101    2.80    3.24    0.30    2.81   \n",
       "3   14.37    1.95    2.50    16.8     113    3.85    3.49    0.24    2.18   \n",
       "4   13.24    2.59    2.87    21.0     118    2.80    2.69    0.39    1.82   \n",
       "\n",
       "   Input10  Input11  Input12  Input13  Desired1(3)  \n",
       "0     5.64     1.04     3.92     1065            0  \n",
       "1     4.38     1.05     3.40     1050            0  \n",
       "2     5.68     1.03     3.17     1185            0  \n",
       "3     7.80     0.86     3.45     1480            0  \n",
       "4     4.32     1.04     2.93      735            0  "
      ]
     },
     "execution_count": 4,
     "metadata": {},
     "output_type": "execute_result"
    }
   ],
   "source": [
    "#  Все хорошо?\n",
    "df.head()"
   ]
  },
  {
   "cell_type": "code",
   "execution_count": null,
   "metadata": {},
   "outputs": [],
   "source": []
  },
  {
   "cell_type": "code",
   "execution_count": null,
   "metadata": {},
   "outputs": [],
   "source": []
  },
  {
   "cell_type": "markdown",
   "metadata": {},
   "source": [
    "###  Первый вариант.  Обучающее и тестовое множество.\n",
    "\n",
    "Одно расщепление."
   ]
  },
  {
   "cell_type": "code",
   "execution_count": 5,
   "metadata": {},
   "outputs": [],
   "source": [
    "#  Расщепляем на обучающее и тестовое множество\n",
    "X_train, X_test, y_train, y_test = train_test_split(X, y, test_size=0.33, random_state = 1234)  \n",
    "\n"
   ]
  },
  {
   "cell_type": "code",
   "execution_count": 6,
   "metadata": {},
   "outputs": [
    {
     "data": {
      "text/plain": [
       "0.6949152542372882"
      ]
     },
     "execution_count": 6,
     "metadata": {},
     "output_type": "execute_result"
    }
   ],
   "source": [
    "#  сосчитаем accuracy модели KNN при K=5\n",
    "knn_res = KNeighborsClassifier(n_neighbors=5)\n",
    "knn_res.fit(X_train, y_train)\n",
    "y_pred = knn_res.predict(X_test)\n",
    "metrics.accuracy_score(y_test, y_pred)\n"
   ]
  },
  {
   "cell_type": "code",
   "execution_count": 7,
   "metadata": {},
   "outputs": [
    {
     "data": {
      "text/plain": [
       "0.6949152542372882"
      ]
     },
     "execution_count": 7,
     "metadata": {},
     "output_type": "execute_result"
    }
   ],
   "source": [
    "#  Другой способ подсчитать accuracy\n",
    "#  Нет никакой магии\n",
    "\n",
    "np.mean(y_pred == y_test)"
   ]
  },
  {
   "cell_type": "markdown",
   "metadata": {},
   "source": [
    "###  Второй вариант.  Обучающее и тестовое множество.\n",
    "\n",
    "###  40 расщеплений."
   ]
  },
  {
   "cell_type": "code",
   "execution_count": 8,
   "metadata": {},
   "outputs": [],
   "source": [
    "\n",
    "#  Проведем расщепление на train и test 40 раз,\n",
    "#  Посмотрим на распределение accuracy\n",
    "#  Говорят, обычно большой разброс значений\n",
    "\n",
    "\n",
    "accuracy_i = [-9999.0]*40     #  избегаем использования append\n",
    "\n",
    "for i in range(1, 41):\n",
    "    #  разделим выборку на train и test\n",
    "    X_train, X_test, y_train, y_test = train_test_split(X, y, random_state=123456 + i)\n",
    "    \n",
    "    #  стандартизация \n",
    "    scaler = StandardScaler()   #   среднее 0, дисперсия 1\n",
    "    scaler.fit(X_train)\n",
    "    X_train_2 = scaler.transform(X_train)  \n",
    "    X_test_2 = scaler.transform(X_test)  \n",
    "\n",
    "    #  применяем KNN при K=5\n",
    "    knn_res = KNeighborsClassifier(n_neighbors=5)\n",
    "    knn_res.fit(X_train_2, y_train)\n",
    "    pred_i = knn_res.predict(X_test_2)\n",
    "    #  сохраняем accuracy\n",
    "    accuracy_i[i-1]= np.mean(pred_i == y_test)\n",
    "    "
   ]
  },
  {
   "cell_type": "code",
   "execution_count": 9,
   "metadata": {},
   "outputs": [
    {
     "name": "stdout",
     "output_type": "stream",
     "text": [
      "[0.9777777777777777, 0.9555555555555556, 0.9111111111111111, 1.0, 0.9555555555555556, 0.9777777777777777, 0.9555555555555556, 1.0, 0.9777777777777777, 0.9555555555555556, 0.9333333333333333, 0.9555555555555556, 0.9333333333333333, 0.9333333333333333, 0.9777777777777777, 0.9777777777777777, 1.0, 0.9555555555555556, 0.9777777777777777, 1.0, 0.9777777777777777, 0.9777777777777777, 0.9333333333333333, 0.9555555555555556, 0.9777777777777777, 0.9111111111111111, 1.0, 0.9555555555555556, 0.9555555555555556, 0.9555555555555556, 0.9111111111111111, 0.9555555555555556, 0.9111111111111111, 0.9111111111111111, 0.9555555555555556, 0.9777777777777777, 0.9111111111111111, 0.9555555555555556, 0.9333333333333333, 0.9333333333333333]\n"
     ]
    }
   ],
   "source": [
    "print(accuracy_i)"
   ]
  },
  {
   "cell_type": "code",
   "execution_count": 10,
   "metadata": {},
   "outputs": [
    {
     "data": {
      "text/plain": [
       "(array([ 6.,  0.,  6.,  0., 13.,  0., 10.,  5.]),\n",
       " array([0.91111111, 0.92222222, 0.93333333, 0.94444444, 0.95555556,\n",
       "        0.96666667, 0.97777778, 0.98888889, 1.        ]),\n",
       " <a list of 8 Patch objects>)"
      ]
     },
     "execution_count": 10,
     "metadata": {},
     "output_type": "execute_result"
    },
    {
     "data": {
      "image/png": "[encoded data removed]",
      "text/plain": [
       "<Figure size 432x288 with 1 Axes>"
      ]
     },
     "metadata": {
      "needs_background": "light"
     },
     "output_type": "display_data"
    }
   ],
   "source": [
    "#  Распределение значений accuracy\n",
    "plt.hist(accuracy_i, bins=8)"
   ]
  },
  {
   "cell_type": "code",
   "execution_count": null,
   "metadata": {},
   "outputs": [],
   "source": []
  },
  {
   "cell_type": "code",
   "execution_count": null,
   "metadata": {},
   "outputs": [],
   "source": []
  },
  {
   "cell_type": "markdown",
   "metadata": {},
   "source": [
    "####   Третий вариант. K-fold cross-validation\n",
    "\n",
    "Обучающее множество расщепляется на несколько частей (\"фолдов\") <br>\n",
    "Недостаток примера - не отделено тестовое множество"
   ]
  },
  {
   "cell_type": "code",
   "execution_count": 12,
   "metadata": {},
   "outputs": [],
   "source": [
    "\n",
    "#  Знакомство с командой KFold\n",
    "#  Учебное расщепление за счет  shuffle=False\n",
    "#  На практике почти всегда   shuffle=True\n",
    "\n",
    "kf = KFold(n_splits=5, shuffle=False, random_state = 1234)\n",
    "\n",
    "#  kf.split(X)\n",
    "\n",
    "\n"
   ]
  },
  {
   "cell_type": "code",
   "execution_count": 16,
   "metadata": {},
   "outputs": [
    {
     "name": "stdout",
     "output_type": "stream",
     "text": [
      "TRAIN: [ 36  37  38  39  40  41  42  43  44  45  46  47  48  49  50  51  52  53\n",
      "  54  55  56  57  58  59  60  61  62  63  64  65  66  67  68  69  70  71\n",
      "  72  73  74  75  76  77  78  79  80  81  82  83  84  85  86  87  88  89\n",
      "  90  91  92  93  94  95  96  97  98  99 100 101 102 103 104 105 106 107\n",
      " 108 109 110 111 112 113 114 115 116 117 118 119 120 121 122 123 124 125\n",
      " 126 127 128 129 130 131 132 133 134 135 136 137 138 139 140 141 142 143\n",
      " 144 145 146 147 148 149 150 151 152 153 154 155 156 157 158 159 160 161\n",
      " 162 163 164 165 166 167 168 169 170 171 172 173 174 175 176 177] TEST: [ 0  1  2  3  4  5  6  7  8  9 10 11 12 13 14 15 16 17 18 19 20 21 22 23\n",
      " 24 25 26 27 28 29 30 31 32 33 34 35]\n",
      "TRAIN: [  0   1   2   3   4   5   6   7   8   9  10  11  12  13  14  15  16  17\n",
      "  18  19  20  21  22  23  24  25  26  27  28  29  30  31  32  33  34  35\n",
      "  72  73  74  75  76  77  78  79  80  81  82  83  84  85  86  87  88  89\n",
      "  90  91  92  93  94  95  96  97  98  99 100 101 102 103 104 105 106 107\n",
      " 108 109 110 111 112 113 114 115 116 117 118 119 120 121 122 123 124 125\n",
      " 126 127 128 129 130 131 132 133 134 135 136 137 138 139 140 141 142 143\n",
      " 144 145 146 147 148 149 150 151 152 153 154 155 156 157 158 159 160 161\n",
      " 162 163 164 165 166 167 168 169 170 171 172 173 174 175 176 177] TEST: [36 37 38 39 40 41 42 43 44 45 46 47 48 49 50 51 52 53 54 55 56 57 58 59\n",
      " 60 61 62 63 64 65 66 67 68 69 70 71]\n",
      "TRAIN: [  0   1   2   3   4   5   6   7   8   9  10  11  12  13  14  15  16  17\n",
      "  18  19  20  21  22  23  24  25  26  27  28  29  30  31  32  33  34  35\n",
      "  36  37  38  39  40  41  42  43  44  45  46  47  48  49  50  51  52  53\n",
      "  54  55  56  57  58  59  60  61  62  63  64  65  66  67  68  69  70  71\n",
      " 108 109 110 111 112 113 114 115 116 117 118 119 120 121 122 123 124 125\n",
      " 126 127 128 129 130 131 132 133 134 135 136 137 138 139 140 141 142 143\n",
      " 144 145 146 147 148 149 150 151 152 153 154 155 156 157 158 159 160 161\n",
      " 162 163 164 165 166 167 168 169 170 171 172 173 174 175 176 177] TEST: [ 72  73  74  75  76  77  78  79  80  81  82  83  84  85  86  87  88  89\n",
      "  90  91  92  93  94  95  96  97  98  99 100 101 102 103 104 105 106 107]\n",
      "TRAIN: [  0   1   2   3   4   5   6   7   8   9  10  11  12  13  14  15  16  17\n",
      "  18  19  20  21  22  23  24  25  26  27  28  29  30  31  32  33  34  35\n",
      "  36  37  38  39  40  41  42  43  44  45  46  47  48  49  50  51  52  53\n",
      "  54  55  56  57  58  59  60  61  62  63  64  65  66  67  68  69  70  71\n",
      "  72  73  74  75  76  77  78  79  80  81  82  83  84  85  86  87  88  89\n",
      "  90  91  92  93  94  95  96  97  98  99 100 101 102 103 104 105 106 107\n",
      " 143 144 145 146 147 148 149 150 151 152 153 154 155 156 157 158 159 160\n",
      " 161 162 163 164 165 166 167 168 169 170 171 172 173 174 175 176 177] TEST: [108 109 110 111 112 113 114 115 116 117 118 119 120 121 122 123 124 125\n",
      " 126 127 128 129 130 131 132 133 134 135 136 137 138 139 140 141 142]\n",
      "TRAIN: [  0   1   2   3   4   5   6   7   8   9  10  11  12  13  14  15  16  17\n",
      "  18  19  20  21  22  23  24  25  26  27  28  29  30  31  32  33  34  35\n",
      "  36  37  38  39  40  41  42  43  44  45  46  47  48  49  50  51  52  53\n",
      "  54  55  56  57  58  59  60  61  62  63  64  65  66  67  68  69  70  71\n",
      "  72  73  74  75  76  77  78  79  80  81  82  83  84  85  86  87  88  89\n",
      "  90  91  92  93  94  95  96  97  98  99 100 101 102 103 104 105 106 107\n",
      " 108 109 110 111 112 113 114 115 116 117 118 119 120 121 122 123 124 125\n",
      " 126 127 128 129 130 131 132 133 134 135 136 137 138 139 140 141 142] TEST: [143 144 145 146 147 148 149 150 151 152 153 154 155 156 157 158 159 160\n",
      " 161 162 163 164 165 166 167 168 169 170 171 172 173 174 175 176 177]\n"
     ]
    }
   ],
   "source": [
    "#  Посмотрим на результат расщепления. Оно учебное, так как  shuffle=False,\n",
    "# Посмотрим, как выборка разделяется на части для кросс-валидации  \n",
    "#  \n",
    "for train_index, test_index in kf.split(X):\n",
    "    print(\"TRAIN:\", train_index, \"TEST:\", test_index)\n",
    "    X_train, X_test = X[train_index], X[test_index]\n",
    "    y_train, y_test = y[train_index], y[test_index]"
   ]
  },
  {
   "cell_type": "code",
   "execution_count": null,
   "metadata": {},
   "outputs": [],
   "source": []
  },
  {
   "cell_type": "code",
   "execution_count": 17,
   "metadata": {},
   "outputs": [
    {
     "name": "stdout",
     "output_type": "stream",
     "text": [
      "[[0.94444444 0.83333333 0.94444444 0.91666667 0.94444444 0.94444444\n",
      "  0.97222222 0.97222222 0.97222222 0.97222222 0.97222222 0.97222222\n",
      "  0.97222222 0.97222222 0.97222222]\n",
      " [0.94444444 0.97222222 0.97222222 0.97222222 1.         1.\n",
      "  1.         0.97222222 0.97222222 0.97222222 0.97222222 0.97222222\n",
      "  0.97222222 0.94444444 0.91666667]\n",
      " [0.94444444 0.91666667 0.94444444 0.91666667 0.97222222 0.88888889\n",
      "  0.94444444 0.94444444 0.94444444 0.94444444 0.94444444 0.94444444\n",
      "  0.94444444 0.94444444 0.94444444]\n",
      " [0.97142857 0.94285714 0.97142857 0.97142857 0.97142857 0.97142857\n",
      "  0.97142857 0.94285714 0.97142857 0.94285714 0.97142857 0.97142857\n",
      "  0.97142857 0.94285714 0.97142857]\n",
      " [0.97142857 0.97142857 0.97142857 0.97142857 0.97142857 0.97142857\n",
      "  0.97142857 0.97142857 0.97142857 0.97142857 0.97142857 0.97142857\n",
      "  0.97142857 0.97142857 1.        ]]\n"
     ]
    }
   ],
   "source": [
    "#  Обычно расщепляем так:  shuffle=True\n",
    "\n",
    "#  Число блоков  (folds)\n",
    "n_folds = 5\n",
    "\n",
    "kf = KFold(n_splits = n_folds, shuffle=True, random_state = 1234)\n",
    "\n",
    "\n",
    "#  Варианты значений числа соседей\n",
    "search_space = [1, 2, 3, 4, 5, 6, 7, 8, 9, 10, 11, 12, 13, 14, 15]\n",
    "\n",
    "#  готовим вектор для хранения результатов подсчета accuracy,  избегаем использования append\n",
    "\n",
    "\n",
    "accuracy_i = np.full((n_folds, len(search_space)), -9999.0)\n",
    "\n",
    "fold_num = 0\n",
    "\n",
    "for train_index, test_index in kf.split(X):\n",
    "    X_train, X_test = X[train_index], X[test_index]\n",
    "    y_train, y_test = y[train_index], y[test_index]\n",
    "    \n",
    "    #  стандартизация \n",
    "    scaler = StandardScaler()   #   среднее 0, дисперсия 1\n",
    "    scaler.fit(X_train)\n",
    "    X_train_2 = scaler.transform(X_train)  \n",
    "    X_test_2  = scaler.transform(X_test)  \n",
    "\n",
    "    j_count = 0\n",
    "    \n",
    "    #  применяем KNN при разных K из search_space\n",
    "    for j in search_space:\n",
    "        knn_res = KNeighborsClassifier(n_neighbors=j)\n",
    "        knn_res.fit(X_train_2, y_train)\n",
    "        pred_i = knn_res.predict(X_test_2)\n",
    "        #  сохраняем accuracy\n",
    "        accuracy_i[fold_num, j_count ]= np.mean(pred_i == y_test)\n",
    "\n",
    "        j_count = j_count +1\n",
    "    \n",
    "    fold_num = fold_num +1\n",
    "    \n",
    "    \n",
    "print(accuracy_i)    \n",
    "    \n",
    "    \n",
    "    "
   ]
  },
  {
   "cell_type": "code",
   "execution_count": 20,
   "metadata": {},
   "outputs": [
    {
     "data": {
      "text/plain": [
       "[<matplotlib.lines.Line2D at 0x2abc05aa248>]"
      ]
     },
     "execution_count": 20,
     "metadata": {},
     "output_type": "execute_result"
    },
    {
     "data": {
      "image/png": "[encoded data removed]",
      "text/plain": [
       "<Figure size 432x288 with 1 Axes>"
      ]
     },
     "metadata": {
      "needs_background": "light"
     },
     "output_type": "display_data"
    }
   ],
   "source": [
    "plt.plot(list(range(1, 16)), accuracy_i[0, :])\n",
    "plt.plot(list(range(1, 16)), accuracy_i[1, :])\n",
    "plt.plot(list(range(1, 16)), accuracy_i[2, :])\n",
    "plt.plot(list(range(1, 16)), accuracy_i[3, :])\n",
    "plt.plot(list(range(1, 16)), accuracy_i[4, :]-0.005)\n",
    "\n",
    "\n",
    "\n"
   ]
  },
  {
   "cell_type": "code",
   "execution_count": 27,
   "metadata": {},
   "outputs": [
    {
     "name": "stdout",
     "output_type": "stream",
     "text": [
      "[[-9999 -9999 -9999 -9999 -9999 -9999 -9999 -9999 -9999 -9999 -9999 -9999\n",
      "  -9999 -9999 -9999]\n",
      " [-9999 -9999 -9999 -9999 -9999 -9999 -9999 -9999 -9999 -9999 -9999 -9999\n",
      "  -9999 -9999 -9999]\n",
      " [-9999 -9999 -9999 -9999 -9999 -9999 -9999 -9999 -9999 -9999 -9999 -9999\n",
      "  -9999 -9999 -9999]\n",
      " [-9999 -9999 -9999 -9999 -9999 -9999 -9999 -9999 -9999 -9999 -9999 -9999\n",
      "  -9999 -9999 -9999]\n",
      " [-9999 -9999 -9999 -9999 -9999 -9999 -9999 -9999 -9999 -9999 -9999 -9999\n",
      "  -9999 -9999 -9999]]\n"
     ]
    }
   ],
   "source": [
    "#  Комментарий про команду np.full\n",
    "\n",
    "accuracy_i = np.full((n_folds, len(search_space)), -9999.0)\n",
    "print(accuracy_i)  "
   ]
  },
  {
   "cell_type": "code",
   "execution_count": null,
   "metadata": {},
   "outputs": [],
   "source": []
  },
  {
   "cell_type": "code",
   "execution_count": null,
   "metadata": {},
   "outputs": [],
   "source": []
  },
  {
   "cell_type": "code",
   "execution_count": null,
   "metadata": {},
   "outputs": [],
   "source": []
  },
  {
   "cell_type": "code",
   "execution_count": null,
   "metadata": {},
   "outputs": [],
   "source": []
  },
  {
   "cell_type": "markdown",
   "metadata": {},
   "source": [
    "####   Четвертый вариант. K-fold cross-validation  для определения гиперпараметров \n",
    "\n",
    "Обучающее множество расщепляется на несколько частей (\"фолдов\") <br>\n",
    "\n",
    "Принципиальный недостаток: не нашлось места для стандартизации!\n",
    "\n",
    "Недостаток реализации примера - не отделено тестовое множество"
   ]
  },
  {
   "cell_type": "code",
   "execution_count": null,
   "metadata": {},
   "outputs": [],
   "source": []
  },
  {
   "cell_type": "code",
   "execution_count": 21,
   "metadata": {},
   "outputs": [],
   "source": [
    "#  Кросс-валидация для определения гиперпараметров \n",
    "#  Подготовительный этап \n",
    "#  знакомимся с командой cross_val_score\n",
    "\n",
    "from sklearn.model_selection import cross_val_score\n"
   ]
  },
  {
   "cell_type": "code",
   "execution_count": 22,
   "metadata": {},
   "outputs": [
    {
     "name": "stdout",
     "output_type": "stream",
     "text": [
      "[0.68421053 0.66666667 0.66666667 0.55555556 0.66666667 0.55555556\n",
      " 0.77777778 0.66666667 0.82352941 0.75      ]\n"
     ]
    }
   ],
   "source": [
    "\n",
    "#  10-блочная кросс-валидация модели KNN с параметром n_neighbors=5\n",
    "# \n",
    "\n",
    "knn = KNeighborsClassifier(n_neighbors=5)\n",
    "\n",
    "#  Используем процедуру cross_val_score\n",
    "#  Используем X и y, не разделяем на обучающее и тестовое множество, \n",
    "#  Критерий качества  scoring='accuracy', возможны другие метрики\n",
    "\n",
    "#  стандартизация ?\n",
    "\n",
    "scores = cross_val_score(knn, X, y, cv=10, scoring='accuracy')\n",
    "print(scores)\n"
   ]
  },
  {
   "cell_type": "code",
   "execution_count": null,
   "metadata": {},
   "outputs": [],
   "source": []
  },
  {
   "cell_type": "code",
   "execution_count": 23,
   "metadata": {},
   "outputs": [
    {
     "name": "stdout",
     "output_type": "stream",
     "text": [
      "[0.7478134674922601, 0.7487250601995183, 0.7219341245270037, 0.6986906604747161, 0.6813295493636051, 0.6921482628138974, 0.6806351049191606, 0.7317315961472308, 0.7091825765393877, 0.7369603543171654, 0.7033346233230134, 0.708890178878569, 0.7033346233230134, 0.7081957344341245, 0.7255568455452356, 0.7144457344341245, 0.72000128998968, 0.7255568455452356, 0.7091825765393877, 0.7202936876504988, 0.7091825765393877, 0.7314047987616099, 0.7258492432060544, 0.7147381320949433, 0.7147381320949433, 0.7144457344341245, 0.7091825765393878, 0.7091825765393878, 0.7147381320949433, 0.7147381320949433]\n"
     ]
    }
   ],
   "source": [
    "#  определение оптимального значения числа ближайших соседей K \n",
    "#  в модели KNN\n",
    "\n",
    "#  k меняем от 1 до 30\n",
    "k_range = range(1, 31)\n",
    "\n",
    "#  готовим список со значениями accuracy\n",
    "#  избегая использования  append\n",
    "\n",
    "k_scores = []\n",
    "\n",
    "# перебираем число соседей на решетке\n",
    "for k in k_range:\n",
    "    knn = KNeighborsClassifier(n_neighbors=k)\n",
    "    scores = cross_val_score(knn, X, y, cv=10, scoring='accuracy')\n",
    "    k_scores.append(scores.mean())\n",
    "\n",
    "\n",
    "print(k_scores)\n"
   ]
  },
  {
   "cell_type": "code",
   "execution_count": 24,
   "metadata": {},
   "outputs": [
    {
     "data": {
      "text/plain": [
       "[<matplotlib.lines.Line2D at 0x2abbffa5bc8>]"
      ]
     },
     "execution_count": 24,
     "metadata": {},
     "output_type": "execute_result"
    },
    {
     "data": {
      "image/png": "[encoded data removed]",
      "text/plain": [
       "<Figure size 432x288 with 1 Axes>"
      ]
     },
     "metadata": {
      "needs_background": "light"
     },
     "output_type": "display_data"
    }
   ],
   "source": [
    "plt.plot(list(range(1, 31)), k_scores)\n"
   ]
  },
  {
   "cell_type": "code",
   "execution_count": null,
   "metadata": {},
   "outputs": [],
   "source": []
  },
  {
   "cell_type": "code",
   "execution_count": null,
   "metadata": {},
   "outputs": [],
   "source": []
  },
  {
   "cell_type": "code",
   "execution_count": null,
   "metadata": {},
   "outputs": [],
   "source": []
  },
  {
   "cell_type": "code",
   "execution_count": null,
   "metadata": {},
   "outputs": [],
   "source": []
  },
  {
   "cell_type": "code",
   "execution_count": null,
   "metadata": {},
   "outputs": [],
   "source": []
  },
  {
   "cell_type": "code",
   "execution_count": null,
   "metadata": {},
   "outputs": [],
   "source": []
  },
  {
   "cell_type": "code",
   "execution_count": null,
   "metadata": {},
   "outputs": [],
   "source": []
  },
  {
   "cell_type": "code",
   "execution_count": null,
   "metadata": {},
   "outputs": [],
   "source": []
  },
  {
   "cell_type": "code",
   "execution_count": null,
   "metadata": {},
   "outputs": [],
   "source": []
  },
  {
   "cell_type": "code",
   "execution_count": null,
   "metadata": {},
   "outputs": [],
   "source": []
  },
  {
   "cell_type": "code",
   "execution_count": null,
   "metadata": {},
   "outputs": [],
   "source": []
  },
  {
   "cell_type": "code",
   "execution_count": null,
   "metadata": {},
   "outputs": [],
   "source": []
  },
  {
   "cell_type": "code",
   "execution_count": null,
   "metadata": {},
   "outputs": [],
   "source": []
  },
  {
   "cell_type": "code",
   "execution_count": null,
   "metadata": {},
   "outputs": [],
   "source": []
  },
  {
   "cell_type": "code",
   "execution_count": null,
   "metadata": {},
   "outputs": [],
   "source": []
  },
  {
   "cell_type": "code",
   "execution_count": null,
   "metadata": {},
   "outputs": [],
   "source": []
  },
  {
   "cell_type": "code",
   "execution_count": null,
   "metadata": {},
   "outputs": [],
   "source": []
  },
  {
   "cell_type": "code",
   "execution_count": null,
   "metadata": {},
   "outputs": [],
   "source": []
  },
  {
   "cell_type": "code",
   "execution_count": null,
   "metadata": {},
   "outputs": [],
   "source": []
  },
  {
   "cell_type": "code",
   "execution_count": null,
   "metadata": {},
   "outputs": [],
   "source": []
  },
  {
   "cell_type": "code",
   "execution_count": null,
   "metadata": {},
   "outputs": [],
   "source": [
    "####   Пятый вариант. K-fold cross-validation  для определения гиперпараметров \n",
    "\n",
    "Обучающее множество расщепляется на несколько частей (\"фолдов\") <br>\n",
    "\n",
    "Pipeline решает проблему со стандартизацией!\n",
    "\n",
    "Недостаток реализации примера - не отделено тестовое множество"
   ]
  },
  {
   "cell_type": "code",
   "execution_count": 25,
   "metadata": {},
   "outputs": [],
   "source": [
    "#  подключаем библиотеки\n",
    "\n",
    "from sklearn.pipeline import Pipeline, FeatureUnion\n",
    "from sklearn.model_selection import GridSearchCV\n",
    "\n"
   ]
  },
  {
   "cell_type": "code",
   "execution_count": null,
   "metadata": {},
   "outputs": [],
   "source": []
  },
  {
   "cell_type": "code",
   "execution_count": 26,
   "metadata": {},
   "outputs": [],
   "source": [
    "#   Так делать нельзя, но сейчас это заготовка для будущего использования\n",
    "#   Стандартизация. \n",
    "\n",
    "standardizer = StandardScaler()\n",
    "\n",
    "X_std = standardizer.fit_transform(X)\n",
    "\n",
    "#   Почему так делать нельзя, где ошибка?\n"
   ]
  },
  {
   "cell_type": "code",
   "execution_count": 27,
   "metadata": {},
   "outputs": [],
   "source": [
    "# Еще одна заготовка -  модель KNN с 5 соседями\n",
    "knn = KNeighborsClassifier(n_neighbors=5, metric='euclidean', n_jobs=-1).fit(X_std, y)\n"
   ]
  },
  {
   "cell_type": "code",
   "execution_count": 28,
   "metadata": {},
   "outputs": [],
   "source": [
    "# Создадим  pipeline\n",
    "pipe = Pipeline([('standardizer', standardizer), ('knn', knn)])\n",
    "\n"
   ]
  },
  {
   "cell_type": "code",
   "execution_count": 29,
   "metadata": {},
   "outputs": [
    {
     "name": "stderr",
     "output_type": "stream",
     "text": [
      "C:\\Users\\USER\\Anaconda3\\lib\\site-packages\\sklearn\\model_selection\\_search.py:814: DeprecationWarning: The default of the `iid` parameter will change from True to False in version 0.22 and will be removed in 0.24. This will change numeric results when test-set sizes are unequal.\n",
      "  DeprecationWarning)\n"
     ]
    }
   ],
   "source": [
    "# Какие значения числа ближайших соседей нас интересуют?\n",
    "search_space = [{'knn__n_neighbors': [1, 2, 3, 4, 5, 6, 7, 8, 9, 10]}]\n",
    "\n",
    "# Организуем перебор значений числа ближайших соседей\n",
    "clf = GridSearchCV(pipe, search_space, cv=5, verbose=0).fit(X_std, y)\n"
   ]
  },
  {
   "cell_type": "code",
   "execution_count": 30,
   "metadata": {},
   "outputs": [
    {
     "data": {
      "text/plain": [
       "9"
      ]
     },
     "execution_count": 30,
     "metadata": {},
     "output_type": "execute_result"
    }
   ],
   "source": [
    "#  Желаем посмотреть на лучшее значение k\n",
    "clf.best_estimator_.get_params()['knn__n_neighbors']"
   ]
  },
  {
   "cell_type": "code",
   "execution_count": null,
   "metadata": {},
   "outputs": [],
   "source": []
  },
  {
   "cell_type": "code",
   "execution_count": null,
   "metadata": {},
   "outputs": [],
   "source": []
  },
  {
   "cell_type": "code",
   "execution_count": null,
   "metadata": {},
   "outputs": [],
   "source": [
    "\n"
   ]
  },
  {
   "cell_type": "code",
   "execution_count": null,
   "metadata": {},
   "outputs": [],
   "source": []
  },
  {
   "cell_type": "code",
   "execution_count": null,
   "metadata": {},
   "outputs": [],
   "source": []
  }
 ],
 "metadata": {
  "kernelspec": {
   "display_name": "Python 3",
   "language": "python",
   "name": "python3"
  },
  "language_info": {
   "codemirror_mode": {
    "name": "ipython",
    "version": 3
   },
   "file_extension": ".py",
   "mimetype": "text/x-python",
   "name": "python",
   "nbconvert_exporter": "python",
   "pygments_lexer": "ipython3",
   "version": "3.7.4"
  }
 },
 "nbformat": 4,
 "nbformat_minor": 2
}
