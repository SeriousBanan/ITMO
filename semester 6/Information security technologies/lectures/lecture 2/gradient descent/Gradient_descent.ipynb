{
 "cells": [
  {
   "cell_type": "code",
   "execution_count": 1,
   "metadata": {},
   "outputs": [
    {
     "name": "stdout",
     "output_type": "stream",
     "text": [
      "Локальный минимум в точке -4.999951781044685\n"
     ]
    }
   ],
   "source": [
    "\n",
    "rate = 0.01               # Скорость обучения\n",
    "eps = 0.000001            # Остановить, если функция уменьшилась менее, чем на eps\n",
    "delta = 1                 # Изменение x, будем сравнивать с eps\n",
    "max_iters = 10000         # максимальное число итераций\n",
    "iters = 0                 # счетчик итераций\n",
    "fun_x = lambda x: (x+5)**2    # минимизирумая функция\n",
    "grad_x = lambda x: 2*(x+5)    # производная минимизирумой функции\n",
    "\n",
    "x_new = 7                 # Начальное значение\n",
    "\n",
    "f_all = [fun_x(x_new)]\n",
    "\n",
    "while delta > eps and iters < max_iters:\n",
    "    x_old = x_new                              # Предыдущее значение x\n",
    "    x_new = x_old - rate * grad_x(x_old)       # Новое значение x\n",
    "    delta = abs(x_new - x_old)                 # Изменение x\n",
    "    iters = iters+1                             # число итераций\n",
    "    f_all = f_all + [fun_x(x_new)]\n",
    "    \n",
    "print(\"Локальный минимум в точке\", x_new)"
   ]
  },
  {
   "cell_type": "code",
   "execution_count": 2,
   "metadata": {},
   "outputs": [
    {
     "data": {
      "image/png": "[encoded data removed]",
      "text/plain": [
       "<Figure size 432x288 with 1 Axes>"
      ]
     },
     "metadata": {},
     "output_type": "display_data"
    }
   ],
   "source": [
    "%matplotlib inline\n",
    "import matplotlib.pyplot as plt\n",
    "plt.plot(f_all)\n",
    "plt.ylabel('f')\n",
    "plt.xlabel('итерация')\n",
    "plt.show()"
   ]
  },
  {
   "cell_type": "code",
   "execution_count": null,
   "metadata": {},
   "outputs": [],
   "source": [
    "import sys\n",
    "sys.modules[__name__].__dict__.clear()"
   ]
  },
  {
   "cell_type": "code",
   "execution_count": 6,
   "metadata": {},
   "outputs": [
    {
     "name": "stdout",
     "output_type": "stream",
     "text": [
      "Локальный минимум в точке 4.859130722701463e-05 1.9731665969131217e-24\n"
     ]
    }
   ],
   "source": [
    "# минимизирумая функция\n",
    "# fun_x = x1**2 + 5* x2**2     \n",
    "\n",
    "\n",
    "x1_new = 3                 # Начальное значение\n",
    "x2_new = 19                 # Начальное значение\n",
    "rate = 0.01               # Скорость обучения\n",
    "eps = 0.000001            # Остановить, если функция уменьшилась менее, чем на eps\n",
    "delta = 1                 # Изменение x\n",
    "max_iters = 10000         # максимальное число итераций\n",
    "iters = 0                 # счетчик итераций\n",
    "grad_x1 = lambda x: 2*x    # произоводная минимизирумой функции\n",
    "grad_x2 = lambda x: 10*x    # произоводная минимизирумой функции\n",
    "\n",
    "\n",
    "\n",
    "f_all = [x1_new**2 + 5* x2_new**2 ]\n",
    "\n",
    "while delta > eps and iters < max_iters:\n",
    "    x1_old = x1_new                              # Предыдущее значение x\n",
    "    x2_old = x2_new                              # Предыдущее значение x\n",
    "    x1_new = x1_old - rate * grad_x1(x1_old)       # Новое значение x\n",
    "    x2_new = x2_old - rate * grad_x2(x2_old)       # Новое значение x\n",
    "    delta = abs(x1_new - x1_old) + abs(x2_new - x2_old)   # Изменение x\n",
    "    iters = iters+1                             # число итераций\n",
    "    f_all = f_all + [x1_new**2 + 5* x2_new**2]\n",
    "    \n",
    "print(\"Локальный минимум в точке\", x1_new , x2_new)\n"
   ]
  },
  {
   "cell_type": "code",
   "execution_count": 8,
   "metadata": {},
   "outputs": [
    {
     "data": {
      "image/png": "[encoded data removed]",
      "text/plain": [
       "<Figure size 432x288 with 1 Axes>"
      ]
     },
     "metadata": {},
     "output_type": "display_data"
    }
   ],
   "source": [
    "%matplotlib inline\n",
    "import matplotlib.pyplot as plt\n",
    "plt.plot(f_all)\n",
    "plt.ylabel('f')\n",
    "plt.xlabel('итерация')\n",
    "plt.show()"
   ]
  },
  {
   "cell_type": "code",
   "execution_count": null,
   "metadata": {},
   "outputs": [],
   "source": []
  },
  {
   "cell_type": "code",
   "execution_count": null,
   "metadata": {},
   "outputs": [],
   "source": []
  },
  {
   "cell_type": "code",
   "execution_count": null,
   "metadata": {},
   "outputs": [],
   "source": []
  },
  {
   "cell_type": "code",
   "execution_count": null,
   "metadata": {},
   "outputs": [],
   "source": []
  }
 ],
 "metadata": {
  "kernelspec": {
   "display_name": "Python 3",
   "language": "python",
   "name": "python3"
  },
  "language_info": {
   "codemirror_mode": {
    "name": "ipython",
    "version": 3
   },
   "file_extension": ".py",
   "mimetype": "text/x-python",
   "name": "python",
   "nbconvert_exporter": "python",
   "pygments_lexer": "ipython3",
   "version": "3.7.4"
  }
 },
 "nbformat": 4,
 "nbformat_minor": 2
}
