{
 "metadata": {
  "language_info": {
   "codemirror_mode": {
    "name": "ipython",
    "version": 3
   },
   "file_extension": ".py",
   "mimetype": "text/x-python",
   "name": "python",
   "nbconvert_exporter": "python",
   "pygments_lexer": "ipython3",
   "version": "3.8.5-final"
  },
  "orig_nbformat": 2,
  "kernelspec": {
   "name": "Python 3.8.5 32-bit",
   "display_name": "Python 3.8.5 32-bit",
   "metadata": {
    "interpreter": {
     "hash": "3d08ce2683530840711bcc1895038ce67e4a9ac343c7829b875cd174f213d260"
    }
   }
  }
 },
 "nbformat": 4,
 "nbformat_minor": 2,
 "cells": [
  {
   "cell_type": "code",
   "execution_count": 1,
   "metadata": {},
   "outputs": [],
   "source": [
    "text = '01100100011101010100'"
   ]
  },
  {
   "cell_type": "code",
   "execution_count": 2,
   "metadata": {},
   "outputs": [],
   "source": [
    "def crc16(input_bitstring, reverse=False):\n",
    "    if not reverse:\n",
    "        input_bitstring += \"0\" * 16\n",
    "    \n",
    "    crc = 0\n",
    "    for bit in input_bitstring:\n",
    "        crc = (crc << 1) + int(bit)\n",
    "\n",
    "        if crc & 0x10000:\n",
    "            crc ^= 0x11021\n",
    "    \n",
    "    return \"0\" * (16 - len(bin(crc)[2:])) + bin(crc)[2:]"
   ]
  },
  {
   "cell_type": "code",
   "execution_count": 3,
   "metadata": {},
   "outputs": [
    {
     "output_type": "execute_result",
     "data": {
      "text/plain": [
       "('0011110010001010', '0x3c8a')"
      ]
     },
     "metadata": {},
     "execution_count": 3
    }
   ],
   "source": [
    "crc16(text), hex(int(crc16(text),2))"
   ]
  },
  {
   "cell_type": "code",
   "execution_count": 4,
   "metadata": {},
   "outputs": [
    {
     "output_type": "execute_result",
     "data": {
      "text/plain": [
       "'0000000000000000'"
      ]
     },
     "metadata": {},
     "execution_count": 4
    }
   ],
   "source": [
    "crc16(text + crc16(text), True)"
   ]
  }
 ]
}