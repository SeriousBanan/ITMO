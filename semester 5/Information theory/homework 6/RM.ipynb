{
 "metadata": {
  "language_info": {
   "codemirror_mode": {
    "name": "ipython",
    "version": 3
   },
   "file_extension": ".py",
   "mimetype": "text/x-python",
   "name": "python",
   "nbconvert_exporter": "python",
   "pygments_lexer": "ipython3",
   "version": "3.8.5-final"
  },
  "orig_nbformat": 2,
  "kernelspec": {
   "name": "python38264bit4b69e6aa0ee3499390b8df5eac289b1e",
   "display_name": "Python 3.8.2 64-bit",
   "language": "python"
  }
 },
 "nbformat": 4,
 "nbformat_minor": 2,
 "cells": [
  {
   "source": [
    "# Домашняя работа N6. \n",
    "\n",
    "## Лазарев Эдуард N33471 "
   ],
   "cell_type": "markdown",
   "metadata": {}
  },
  {
   "cell_type": "code",
   "execution_count": 1,
   "metadata": {},
   "outputs": [],
   "source": [
    "import numpy as np\n",
    "import random"
   ]
  },
  {
   "cell_type": "code",
   "execution_count": 2,
   "metadata": {},
   "outputs": [
    {
     "output_type": "execute_result",
     "data": {
      "text/plain": [
       "'01100100011101010100'"
      ]
     },
     "metadata": {},
     "execution_count": 2
    }
   ],
   "source": [
    "# Лазарев\n",
    "text = '01100100011101010100'\n",
    "text"
   ]
  },
  {
   "source": [
    "Посторим матрицу адамара H_8."
   ],
   "cell_type": "markdown",
   "metadata": {}
  },
  {
   "cell_type": "code",
   "execution_count": 3,
   "metadata": {},
   "outputs": [
    {
     "output_type": "stream",
     "name": "stdout",
     "text": [
      "[[ 1  1  1  1  1  1  1  1]\n [ 1 -1  1 -1  1 -1  1 -1]\n [ 1  1 -1 -1  1  1 -1 -1]\n [ 1 -1 -1  1  1 -1 -1  1]\n [ 1  1  1  1 -1 -1 -1 -1]\n [ 1 -1  1 -1 -1  1 -1  1]\n [ 1  1 -1 -1 -1 -1  1  1]\n [ 1 -1 -1  1 -1  1  1 -1]]\n"
     ]
    }
   ],
   "source": [
    "H = np.ones((1, 1), dtype=np.int8)\n",
    "while len(H) < 8:\n",
    "    tmp_H = H\n",
    "    H = np.zeros([len(H) * 2] * 2, dtype=np.int8)\n",
    "    H[:len(tmp_H), :len(tmp_H)] = H[len(tmp_H):, :len(tmp_H)] = H[:len(tmp_H), len(tmp_H):] = tmp_H\n",
    "    H[len(tmp_H):, len(tmp_H):] = tmp_H * -1\n",
    "\n",
    "print(H)"
   ]
  },
  {
   "source": [
    "Напишем две функции:\n",
    "\n",
    "* encode - Преобразует исходное сообщение в закодированное, предварительно деля его на блоки размером по четре символа.\n",
    "* decode - Востанавливает сообщение из закодированного, разбивая полученное сообщения на блоки размером по восемь \n",
    "символов и умножая их на матрицу Адамара, устраняя ошибку если таковая была."
   ],
   "cell_type": "markdown",
   "metadata": {}
  },
  {
   "cell_type": "code",
   "execution_count": 4,
   "metadata": {},
   "outputs": [],
   "source": [
    "H = np.array([[ 1,  1,  1,  1,  1,  1,  1,  1],\n",
    "                [ 1, -1,  1, -1,  1, -1,  1, -1],\n",
    "                [ 1,  1, -1, -1,  1,  1, -1, -1],\n",
    "                [ 1, -1, -1,  1,  1, -1, -1,  1],\n",
    "                [ 1,  1,  1,  1, -1, -1, -1, -1],\n",
    "                [ 1, -1,  1, -1, -1,  1, -1,  1],\n",
    "                [ 1,  1, -1, -1, -1, -1,  1,  1],\n",
    "                [ 1, -1, -1,  1, -1,  1,  1, -1]], dtype=np.int8)\n",
    "\n",
    "def encode(text):\n",
    "    block_size = len(H) // 2\n",
    "    result = \"\"\n",
    "    if len(text) % block_size:\n",
    "        text = \"0\" * (block_size - len(text) % block_size) + text\n",
    "\n",
    "    for idx in range(len(text) // block_size):\n",
    "        block = text[block_size * idx: block_size * (idx + 1)]\n",
    "\n",
    "        row = H[int(block[1:], 2)]\n",
    "        if int(block[0]):\n",
    "            row = -row\n",
    "        \n",
    "        result += \"\".join(map(str, (row + 1) // 2))\n",
    "    return result\n",
    "\n",
    "def decode(text):\n",
    "    block_size = len(H)\n",
    "    result = \"\"\n",
    "    if len(text) % block_size:\n",
    "        text = \"0\" * (block_size - len(text) % block_size) + text\n",
    "    \n",
    "\n",
    "    for idx in range(len(text) // block_size):\n",
    "        block = text[block_size * idx: block_size * (idx + 1)]\n",
    "        v = np.array(list(map(lambda x: int(x) * 2 - 1, block)))\n",
    "        F = np.dot(v, H)\n",
    "        max_idx = np.argmax(np.abs(F))\n",
    "\n",
    "        result += \"1\" if F[max_idx] < 0 else \"0\"\n",
    "\n",
    "        result += \"0\" * (len(bin(block_size)) - len(bin(max_idx)) - 1) + bin(max_idx)[2:]\n",
    "\n",
    "    return result"
   ]
  },
  {
   "source": [
    "### Проверка работы\n",
    "\n",
    "Вызовем функцию encode для исходного текста и попытаемся востановить исходное сообщение после кодирования.\n",
    "Видим что результат разкодирования совпадает с исходным текстом. А значит функция работает верно."
   ],
   "cell_type": "markdown",
   "metadata": {}
  },
  {
   "cell_type": "code",
   "execution_count": 5,
   "metadata": {},
   "outputs": [
    {
     "output_type": "execute_result",
     "data": {
      "text/plain": [
       "('01100100011101010100',\n",
       " '1100001111110000100101101010010111110000',\n",
       " '01100100011101010100')"
      ]
     },
     "metadata": {},
     "execution_count": 5
    }
   ],
   "source": [
    "text, encode(text), decode(encode(text))"
   ]
  },
  {
   "source": [
    "Проверим возможность нахождения и исправления ошибок\n",
    "\n",
    "Проведём десять тестов в которых будет допущенно от одной до трёх ошибок. После мы будем пытаться восстановить исходное сообщение."
   ],
   "cell_type": "markdown",
   "metadata": {}
  },
  {
   "cell_type": "code",
   "execution_count": 6,
   "metadata": {},
   "outputs": [
    {
     "output_type": "stream",
     "name": "stdout",
     "text": [
      "Errors in positions: [15, 24]\n\tDecoded: 01100100011101010100\n\tIs right: True\nErrors in positions: [35]\n\tDecoded: 01100100011101010100\n\tIs right: True\nErrors in positions: [0, 22, 12]\n\tDecoded: 01100100011101010100\n\tIs right: True\nErrors in positions: [14, 13]\n\tDecoded: 01100000011101010100\n\tIs right: False\nErrors in positions: [26, 29]\n\tDecoded: 01100100011110000100\n\tIs right: False\nErrors in positions: [0]\n\tDecoded: 01100100011101010100\n\tIs right: True\nErrors in positions: [20, 20, 1]\n\tDecoded: 01100100011101010100\n\tIs right: True\nErrors in positions: [21, 35]\n\tDecoded: 01100100011101010100\n\tIs right: True\nErrors in positions: [28, 1, 24]\n\tDecoded: 01100100011111000100\n\tIs right: False\nErrors in positions: [1, 21]\n\tDecoded: 01100100011101010100\n\tIs right: True\n"
     ]
    }
   ],
   "source": [
    "encoded = list(encode(text))\n",
    "changer = {\"0\": \"1\", \"1\": \"0\"}\n",
    "\n",
    "for _ in range(10):\n",
    "    error_positions = [random.randint(0, len(encoded) - 1) for _ in range(random.randint(1, 3))]\n",
    "\n",
    "    print(f\"Errors in positions: {error_positions}\")\n",
    "\n",
    "    error_text = encoded.copy()\n",
    "    for error_pos in error_positions:\n",
    "        error_text[error_pos] = changer[error_text[error_pos]]\n",
    "    \n",
    "    decoded = decode(\"\".join(error_text))\n",
    "    print(f\"\\tDecoded: {decoded}\\n\"\n",
    "          f\"\\tIs right: {decoded == text}\")"
   ]
  },
  {
   "source": [
    "Видим что данный метод неплохо справляется с корекцией ошибок. Но если у нас будет две или больше ошибок в одном блоке закодированного сообщения, то данный блок точно восстановить не получиться."
   ],
   "cell_type": "markdown",
   "metadata": {}
  }
 ]
}