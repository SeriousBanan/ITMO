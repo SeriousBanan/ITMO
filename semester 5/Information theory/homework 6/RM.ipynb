{
 "metadata": {
  "language_info": {
   "codemirror_mode": {
    "name": "ipython",
    "version": 3
   },
   "file_extension": ".py",
   "mimetype": "text/x-python",
   "name": "python",
   "nbconvert_exporter": "python",
   "pygments_lexer": "ipython3",
   "version": "3.8.5-final"
  },
  "orig_nbformat": 2,
  "kernelspec": {
   "name": "python38264bit4b69e6aa0ee3499390b8df5eac289b1e",
   "display_name": "Python 3.8.2 64-bit"
  }
 },
 "nbformat": 4,
 "nbformat_minor": 2,
 "cells": [
  {
   "cell_type": "code",
   "execution_count": 1,
   "metadata": {},
   "outputs": [],
   "source": [
    "import numpy as np\n",
    "import random"
   ]
  },
  {
   "cell_type": "code",
   "execution_count": 2,
   "metadata": {},
   "outputs": [
    {
     "output_type": "execute_result",
     "data": {
      "text/plain": [
       "'01100100011101010100'"
      ]
     },
     "metadata": {},
     "execution_count": 2
    }
   ],
   "source": [
    "text = '01100100011101010100'\n",
    "text"
   ]
  },
  {
   "cell_type": "code",
   "execution_count": 3,
   "metadata": {},
   "outputs": [
    {
     "output_type": "stream",
     "name": "stdout",
     "text": [
      "[[ 1  1  1  1  1  1  1  1]\n [ 1 -1  1 -1  1 -1  1 -1]\n [ 1  1 -1 -1  1  1 -1 -1]\n [ 1 -1 -1  1  1 -1 -1  1]\n [ 1  1  1  1 -1 -1 -1 -1]\n [ 1 -1  1 -1 -1  1 -1  1]\n [ 1  1 -1 -1 -1 -1  1  1]\n [ 1 -1 -1  1 -1  1  1 -1]]\n"
     ]
    }
   ],
   "source": [
    "H = np.ones((1, 1), dtype=np.int8)\n",
    "while len(H) < 8:\n",
    "    tmp_H = H\n",
    "    H = np.zeros([len(H) * 2] * 2, dtype=np.int8)\n",
    "    H[:len(tmp_H), :len(tmp_H)] = H[len(tmp_H):, :len(tmp_H)] = H[:len(tmp_H), len(tmp_H):] = tmp_H\n",
    "    H[len(tmp_H):, len(tmp_H):] = tmp_H * -1\n",
    "\n",
    "print(H)"
   ]
  },
  {
   "cell_type": "code",
   "execution_count": 4,
   "metadata": {},
   "outputs": [],
   "source": [
    "H = np.array([[ 1,  1,  1,  1,  1,  1,  1,  1],\n",
    "                [ 1, -1,  1, -1,  1, -1,  1, -1],\n",
    "                [ 1,  1, -1, -1,  1,  1, -1, -1],\n",
    "                [ 1, -1, -1,  1,  1, -1, -1,  1],\n",
    "                [ 1,  1,  1,  1, -1, -1, -1, -1],\n",
    "                [ 1, -1,  1, -1, -1,  1, -1,  1],\n",
    "                [ 1,  1, -1, -1, -1, -1,  1,  1],\n",
    "                [ 1, -1, -1,  1, -1,  1,  1, -1]], dtype=np.int8)\n",
    "\n",
    "def encode(text):\n",
    "    block_size = len(H) // 2\n",
    "    result = \"\"\n",
    "    if len(text) % block_size:\n",
    "        text = \"0\" * (block_size - len(text) % block_size) + text\n",
    "\n",
    "    for idx in range(len(text) // block_size):\n",
    "        block = text[block_size * idx: block_size * (idx + 1)]\n",
    "\n",
    "        row = H[int(block[1:], 2)]\n",
    "        if int(block[0]):\n",
    "            row -= row\n",
    "        \n",
    "        result += \"\".join(map(str, (row + 1) // 2))\n",
    "    return result\n",
    "\n",
    "def decode(text):\n",
    "    block_size = len(H)\n",
    "    result = \"\"\n",
    "    if len(text) % block_size:\n",
    "        text = \"0\" * (block_size - len(text) % block_size) + text\n",
    "    \n",
    "\n",
    "    for idx in range(len(text) // block_size):\n",
    "        block = text[block_size * idx: block_size * (idx + 1)]\n",
    "        v = np.array(list(map(lambda x: int(x) * 2 - 1, block)))\n",
    "        F = np.dot(v, H)\n",
    "        max_idx = np.argmax(np.abs(F))\n",
    "        \n",
    "        result += \"1\" if F[max_idx] < 0 else \"0\"\n",
    "\n",
    "        result += \"0\" * (len(bin(block_size)) - len(bin(max_idx)) - 1) + bin(max_idx)[2:]\n",
    "\n",
    "    return result"
   ]
  },
  {
   "cell_type": "code",
   "execution_count": 5,
   "metadata": {},
   "outputs": [
    {
     "output_type": "execute_result",
     "data": {
      "text/plain": [
       "('01100100011101010100',\n",
       " '1100001111110000100101101010010111110000',\n",
       " '01100100011101010100')"
      ]
     },
     "metadata": {},
     "execution_count": 5
    }
   ],
   "source": [
    "text, encode(text), decode(encode(text))"
   ]
  },
  {
   "cell_type": "code",
   "execution_count": 7,
   "metadata": {},
   "outputs": [
    {
     "output_type": "stream",
     "name": "stdout",
     "text": [
      "Error in 31 bit\n\tDecoded: 01100100011101010100\n\tIs right: True\nError in 28 bit\n\tDecoded: 01100100011101010100\n\tIs right: True\nError in 16 bit\n\tDecoded: 01100100011101010100\n\tIs right: True\nError in 6 bit\n\tDecoded: 01100100011101010100\n\tIs right: True\nError in 0 bit\n\tDecoded: 01100100011101010100\n\tIs right: True\nError in 21 bit\n\tDecoded: 01100100011101010100\n\tIs right: True\nError in 37 bit\n\tDecoded: 01100100011101010100\n\tIs right: True\nError in 21 bit\n\tDecoded: 01100100011101010100\n\tIs right: True\nError in 18 bit\n\tDecoded: 01100100011101010100\n\tIs right: True\nError in 22 bit\n\tDecoded: 01100100011101010100\n\tIs right: True\n"
     ]
    }
   ],
   "source": [
    "encoded = encode(text)\n",
    "for _ in range(10):\n",
    "    error_pos = random.randint(0, len(encoded) - 1)\n",
    "\n",
    "    decoded = decode(encoded[:error_pos] + str([\"1\", \"0\"].index(encoded[error_pos])) +encoded[error_pos + 1:])\n",
    "\n",
    "    print(f\"Error in {error_pos} bit\\n\\tDecoded: {decoded}\\n\\tIs right: {decoded == text}\")"
   ]
  }
 ]
}