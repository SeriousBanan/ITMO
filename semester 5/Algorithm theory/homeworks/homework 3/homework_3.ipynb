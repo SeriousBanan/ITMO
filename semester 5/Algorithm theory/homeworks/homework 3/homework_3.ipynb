{
 "cells": [
  {
   "cell_type": "markdown",
   "metadata": {
    "collapsed": true
   },
   "source": [
    "# Домашняя работа 3. DBScan кластеризация.\n",
    "\n",
    "Вариант 2. Economics of Cities\n",
    "\n",
    "Лазарев Эдуард Артемович\n",
    "N33471"
   ]
  },
  {
   "cell_type": "code",
   "execution_count": 1,
   "metadata": {},
   "outputs": [],
   "source": [
    "import numpy as np\n",
    "import pandas as pd\n",
    "\n",
    "import matplotlib\n",
    "import matplotlib.pyplot as plt\n",
    "%matplotlib inline\n",
    "plt.rcParams[\"figure.figsize\"] = [12, 12]"
   ]
  },
  {
   "cell_type": "code",
   "execution_count": 2,
   "metadata": {},
   "outputs": [
    {
     "output_type": "execute_result",
     "data": {
      "text/plain": [
       "48"
      ]
     },
     "metadata": {},
     "execution_count": 2
    }
   ],
   "source": [
    "# Загружаем данные\n",
    "data = pd.read_csv(\"Economics of Cities/Econom_Cities_data.csv\", decimal=\",\", delimiter=\";\", index_col='City')\n",
    "len(data)"
   ]
  },
  {
   "source": [
    "Проверяем правильность данных"
   ],
   "cell_type": "markdown",
   "metadata": {}
  },
  {
   "cell_type": "code",
   "execution_count": 3,
   "metadata": {},
   "outputs": [
    {
     "output_type": "execute_result",
     "data": {
      "text/plain": [
       "                Work  Price  Salary\n",
       "City                               \n",
       "Amsterdam       1714   65.6    49.0\n",
       "Athens          1792   53.8    30.4\n",
       "Bogota          2152   37.9    11.5\n",
       "Bombay          2052   30.3     5.3\n",
       "Brussels        1708   73.8    50.5\n",
       "Buenos_Aires    1971   56.1    12.5\n",
       "Cairo          -9999   37.1 -9999.0\n",
       "Caracas         2041   61.0    10.9\n",
       "Chicago         1924   73.9    61.9\n",
       "Copenhagen      1717   91.3    62.9\n",
       "Dublin          1759   76.0    41.4\n",
       "Dusseldorf      1693   78.5    60.2\n",
       "Frankfurt       1650   74.5    60.4\n",
       "Geneva          1880   95.9    90.3\n",
       "Helsinki        1667  113.6    66.6\n",
       "Hong_Kong       2375   63.8    27.8\n",
       "Houston         1978   71.9    46.3\n",
       "Jakarta        -9999   43.6 -9999.0\n",
       "Johannesburg    1945   51.1    24.0\n",
       "Kuala_Lumpur    2167   43.5     9.9\n",
       "Lagos           1786   45.2     2.7\n",
       "Lisbon          1742   56.2    18.8\n",
       "London          1737   84.2    46.2\n",
       "Los_Angeles     2068   79.8    65.2\n",
       "Luxembourg      1768   71.1    71.1\n",
       "Madrid          1710   93.8    50.0\n",
       "Manila          2268   40.0     4.0\n",
       "Mexico_City     1944   49.8     5.7\n",
       "Milan           1773   82.0    53.3\n",
       "Montreal        1827   72.7    56.3\n",
       "Nairobi         1958   45.0     5.8\n",
       "New_York        1942   83.3    65.8\n",
       "Nicosia         1825   47.9    28.3\n",
       "Oslo            1583  115.5    63.7\n",
       "Panama          2078   49.2    13.8\n",
       "Paris           1744   81.6    45.9\n",
       "Rio_de_Janeiro  1749   46.3    10.5\n",
       "San_Paulo       1856   48.9    11.1\n",
       "Seoul           1842   58.3    32.7\n",
       "Singpore        2042   64.4    16.1\n",
       "Stockholm       1805  111.3    39.2\n",
       "Sydney          1668   70.8    52.1\n",
       "Taipei          2145   84.3    34.5\n",
       "Tel_Aviv        2015   67.3    27.0\n",
       "Tokyo           1880  115.0    68.0\n",
       "Toronto         1888   70.2    58.2\n",
       "Vienna          1780   78.0    51.3\n",
       "Zurich          1868  100.0   100.0"
      ],
      "text/html": "<div>\n<style scoped>\n    .dataframe tbody tr th:only-of-type {\n        vertical-align: middle;\n    }\n\n    .dataframe tbody tr th {\n        vertical-align: top;\n    }\n\n    .dataframe thead th {\n        text-align: right;\n    }\n</style>\n<table border=\"1\" class=\"dataframe\">\n  <thead>\n    <tr style=\"text-align: right;\">\n      <th></th>\n      <th>Work</th>\n      <th>Price</th>\n      <th>Salary</th>\n    </tr>\n    <tr>\n      <th>City</th>\n      <th></th>\n      <th></th>\n      <th></th>\n    </tr>\n  </thead>\n  <tbody>\n    <tr>\n      <th>Amsterdam</th>\n      <td>1714</td>\n      <td>65.6</td>\n      <td>49.0</td>\n    </tr>\n    <tr>\n      <th>Athens</th>\n      <td>1792</td>\n      <td>53.8</td>\n      <td>30.4</td>\n    </tr>\n    <tr>\n      <th>Bogota</th>\n      <td>2152</td>\n      <td>37.9</td>\n      <td>11.5</td>\n    </tr>\n    <tr>\n      <th>Bombay</th>\n      <td>2052</td>\n      <td>30.3</td>\n      <td>5.3</td>\n    </tr>\n    <tr>\n      <th>Brussels</th>\n      <td>1708</td>\n      <td>73.8</td>\n      <td>50.5</td>\n    </tr>\n    <tr>\n      <th>Buenos_Aires</th>\n      <td>1971</td>\n      <td>56.1</td>\n      <td>12.5</td>\n    </tr>\n    <tr>\n      <th>Cairo</th>\n      <td>-9999</td>\n      <td>37.1</td>\n      <td>-9999.0</td>\n    </tr>\n    <tr>\n      <th>Caracas</th>\n      <td>2041</td>\n      <td>61.0</td>\n      <td>10.9</td>\n    </tr>\n    <tr>\n      <th>Chicago</th>\n      <td>1924</td>\n      <td>73.9</td>\n      <td>61.9</td>\n    </tr>\n    <tr>\n      <th>Copenhagen</th>\n      <td>1717</td>\n      <td>91.3</td>\n      <td>62.9</td>\n    </tr>\n    <tr>\n      <th>Dublin</th>\n      <td>1759</td>\n      <td>76.0</td>\n      <td>41.4</td>\n    </tr>\n    <tr>\n      <th>Dusseldorf</th>\n      <td>1693</td>\n      <td>78.5</td>\n      <td>60.2</td>\n    </tr>\n    <tr>\n      <th>Frankfurt</th>\n      <td>1650</td>\n      <td>74.5</td>\n      <td>60.4</td>\n    </tr>\n    <tr>\n      <th>Geneva</th>\n      <td>1880</td>\n      <td>95.9</td>\n      <td>90.3</td>\n    </tr>\n    <tr>\n      <th>Helsinki</th>\n      <td>1667</td>\n      <td>113.6</td>\n      <td>66.6</td>\n    </tr>\n    <tr>\n      <th>Hong_Kong</th>\n      <td>2375</td>\n      <td>63.8</td>\n      <td>27.8</td>\n    </tr>\n    <tr>\n      <th>Houston</th>\n      <td>1978</td>\n      <td>71.9</td>\n      <td>46.3</td>\n    </tr>\n    <tr>\n      <th>Jakarta</th>\n      <td>-9999</td>\n      <td>43.6</td>\n      <td>-9999.0</td>\n    </tr>\n    <tr>\n      <th>Johannesburg</th>\n      <td>1945</td>\n      <td>51.1</td>\n      <td>24.0</td>\n    </tr>\n    <tr>\n      <th>Kuala_Lumpur</th>\n      <td>2167</td>\n      <td>43.5</td>\n      <td>9.9</td>\n    </tr>\n    <tr>\n      <th>Lagos</th>\n      <td>1786</td>\n      <td>45.2</td>\n      <td>2.7</td>\n    </tr>\n    <tr>\n      <th>Lisbon</th>\n      <td>1742</td>\n      <td>56.2</td>\n      <td>18.8</td>\n    </tr>\n    <tr>\n      <th>London</th>\n      <td>1737</td>\n      <td>84.2</td>\n      <td>46.2</td>\n    </tr>\n    <tr>\n      <th>Los_Angeles</th>\n      <td>2068</td>\n      <td>79.8</td>\n      <td>65.2</td>\n    </tr>\n    <tr>\n      <th>Luxembourg</th>\n      <td>1768</td>\n      <td>71.1</td>\n      <td>71.1</td>\n    </tr>\n    <tr>\n      <th>Madrid</th>\n      <td>1710</td>\n      <td>93.8</td>\n      <td>50.0</td>\n    </tr>\n    <tr>\n      <th>Manila</th>\n      <td>2268</td>\n      <td>40.0</td>\n      <td>4.0</td>\n    </tr>\n    <tr>\n      <th>Mexico_City</th>\n      <td>1944</td>\n      <td>49.8</td>\n      <td>5.7</td>\n    </tr>\n    <tr>\n      <th>Milan</th>\n      <td>1773</td>\n      <td>82.0</td>\n      <td>53.3</td>\n    </tr>\n    <tr>\n      <th>Montreal</th>\n      <td>1827</td>\n      <td>72.7</td>\n      <td>56.3</td>\n    </tr>\n    <tr>\n      <th>Nairobi</th>\n      <td>1958</td>\n      <td>45.0</td>\n      <td>5.8</td>\n    </tr>\n    <tr>\n      <th>New_York</th>\n      <td>1942</td>\n      <td>83.3</td>\n      <td>65.8</td>\n    </tr>\n    <tr>\n      <th>Nicosia</th>\n      <td>1825</td>\n      <td>47.9</td>\n      <td>28.3</td>\n    </tr>\n    <tr>\n      <th>Oslo</th>\n      <td>1583</td>\n      <td>115.5</td>\n      <td>63.7</td>\n    </tr>\n    <tr>\n      <th>Panama</th>\n      <td>2078</td>\n      <td>49.2</td>\n      <td>13.8</td>\n    </tr>\n    <tr>\n      <th>Paris</th>\n      <td>1744</td>\n      <td>81.6</td>\n      <td>45.9</td>\n    </tr>\n    <tr>\n      <th>Rio_de_Janeiro</th>\n      <td>1749</td>\n      <td>46.3</td>\n      <td>10.5</td>\n    </tr>\n    <tr>\n      <th>San_Paulo</th>\n      <td>1856</td>\n      <td>48.9</td>\n      <td>11.1</td>\n    </tr>\n    <tr>\n      <th>Seoul</th>\n      <td>1842</td>\n      <td>58.3</td>\n      <td>32.7</td>\n    </tr>\n    <tr>\n      <th>Singpore</th>\n      <td>2042</td>\n      <td>64.4</td>\n      <td>16.1</td>\n    </tr>\n    <tr>\n      <th>Stockholm</th>\n      <td>1805</td>\n      <td>111.3</td>\n      <td>39.2</td>\n    </tr>\n    <tr>\n      <th>Sydney</th>\n      <td>1668</td>\n      <td>70.8</td>\n      <td>52.1</td>\n    </tr>\n    <tr>\n      <th>Taipei</th>\n      <td>2145</td>\n      <td>84.3</td>\n      <td>34.5</td>\n    </tr>\n    <tr>\n      <th>Tel_Aviv</th>\n      <td>2015</td>\n      <td>67.3</td>\n      <td>27.0</td>\n    </tr>\n    <tr>\n      <th>Tokyo</th>\n      <td>1880</td>\n      <td>115.0</td>\n      <td>68.0</td>\n    </tr>\n    <tr>\n      <th>Toronto</th>\n      <td>1888</td>\n      <td>70.2</td>\n      <td>58.2</td>\n    </tr>\n    <tr>\n      <th>Vienna</th>\n      <td>1780</td>\n      <td>78.0</td>\n      <td>51.3</td>\n    </tr>\n    <tr>\n      <th>Zurich</th>\n      <td>1868</td>\n      <td>100.0</td>\n      <td>100.0</td>\n    </tr>\n  </tbody>\n</table>\n</div>"
     },
     "metadata": {},
     "execution_count": 3
    }
   ],
   "source": [
    "data"
   ]
  },
  {
   "cell_type": "code",
   "execution_count": 4,
   "metadata": {},
   "outputs": [
    {
     "output_type": "execute_result",
     "data": {
      "text/plain": [
       "Work        int64\n",
       "Price     float64\n",
       "Salary    float64\n",
       "dtype: object"
      ]
     },
     "metadata": {},
     "execution_count": 4
    }
   ],
   "source": [
    "data.dtypes"
   ]
  },
  {
   "source": [
    "Видим что есть два города для которых неизвестно значение работы и заработной платы. Удалим их как выбросы."
   ],
   "cell_type": "markdown",
   "metadata": {}
  },
  {
   "cell_type": "code",
   "execution_count": 5,
   "metadata": {},
   "outputs": [
    {
     "output_type": "execute_result",
     "data": {
      "text/plain": [
       "                  Work  Price  Salary\n",
       "City                                 \n",
       "Amsterdam       1714.0   65.6    49.0\n",
       "Athens          1792.0   53.8    30.4\n",
       "Bogota          2152.0   37.9    11.5\n",
       "Bombay          2052.0   30.3     5.3\n",
       "Brussels        1708.0   73.8    50.5\n",
       "Buenos_Aires    1971.0   56.1    12.5\n",
       "Caracas         2041.0   61.0    10.9\n",
       "Chicago         1924.0   73.9    61.9\n",
       "Copenhagen      1717.0   91.3    62.9\n",
       "Dublin          1759.0   76.0    41.4\n",
       "Dusseldorf      1693.0   78.5    60.2\n",
       "Frankfurt       1650.0   74.5    60.4\n",
       "Geneva          1880.0   95.9    90.3\n",
       "Helsinki        1667.0  113.6    66.6\n",
       "Hong_Kong       2375.0   63.8    27.8\n",
       "Houston         1978.0   71.9    46.3\n",
       "Johannesburg    1945.0   51.1    24.0\n",
       "Kuala_Lumpur    2167.0   43.5     9.9\n",
       "Lagos           1786.0   45.2     2.7\n",
       "Lisbon          1742.0   56.2    18.8\n",
       "London          1737.0   84.2    46.2\n",
       "Los_Angeles     2068.0   79.8    65.2\n",
       "Luxembourg      1768.0   71.1    71.1\n",
       "Madrid          1710.0   93.8    50.0\n",
       "Manila          2268.0   40.0     4.0\n",
       "Mexico_City     1944.0   49.8     5.7\n",
       "Milan           1773.0   82.0    53.3\n",
       "Montreal        1827.0   72.7    56.3\n",
       "Nairobi         1958.0   45.0     5.8\n",
       "New_York        1942.0   83.3    65.8\n",
       "Nicosia         1825.0   47.9    28.3\n",
       "Oslo            1583.0  115.5    63.7\n",
       "Panama          2078.0   49.2    13.8\n",
       "Paris           1744.0   81.6    45.9\n",
       "Rio_de_Janeiro  1749.0   46.3    10.5\n",
       "San_Paulo       1856.0   48.9    11.1\n",
       "Seoul           1842.0   58.3    32.7\n",
       "Singpore        2042.0   64.4    16.1\n",
       "Stockholm       1805.0  111.3    39.2\n",
       "Sydney          1668.0   70.8    52.1\n",
       "Taipei          2145.0   84.3    34.5\n",
       "Tel_Aviv        2015.0   67.3    27.0\n",
       "Tokyo           1880.0  115.0    68.0\n",
       "Toronto         1888.0   70.2    58.2\n",
       "Vienna          1780.0   78.0    51.3\n",
       "Zurich          1868.0  100.0   100.0"
      ],
      "text/html": "<div>\n<style scoped>\n    .dataframe tbody tr th:only-of-type {\n        vertical-align: middle;\n    }\n\n    .dataframe tbody tr th {\n        vertical-align: top;\n    }\n\n    .dataframe thead th {\n        text-align: right;\n    }\n</style>\n<table border=\"1\" class=\"dataframe\">\n  <thead>\n    <tr style=\"text-align: right;\">\n      <th></th>\n      <th>Work</th>\n      <th>Price</th>\n      <th>Salary</th>\n    </tr>\n    <tr>\n      <th>City</th>\n      <th></th>\n      <th></th>\n      <th></th>\n    </tr>\n  </thead>\n  <tbody>\n    <tr>\n      <th>Amsterdam</th>\n      <td>1714.0</td>\n      <td>65.6</td>\n      <td>49.0</td>\n    </tr>\n    <tr>\n      <th>Athens</th>\n      <td>1792.0</td>\n      <td>53.8</td>\n      <td>30.4</td>\n    </tr>\n    <tr>\n      <th>Bogota</th>\n      <td>2152.0</td>\n      <td>37.9</td>\n      <td>11.5</td>\n    </tr>\n    <tr>\n      <th>Bombay</th>\n      <td>2052.0</td>\n      <td>30.3</td>\n      <td>5.3</td>\n    </tr>\n    <tr>\n      <th>Brussels</th>\n      <td>1708.0</td>\n      <td>73.8</td>\n      <td>50.5</td>\n    </tr>\n    <tr>\n      <th>Buenos_Aires</th>\n      <td>1971.0</td>\n      <td>56.1</td>\n      <td>12.5</td>\n    </tr>\n    <tr>\n      <th>Caracas</th>\n      <td>2041.0</td>\n      <td>61.0</td>\n      <td>10.9</td>\n    </tr>\n    <tr>\n      <th>Chicago</th>\n      <td>1924.0</td>\n      <td>73.9</td>\n      <td>61.9</td>\n    </tr>\n    <tr>\n      <th>Copenhagen</th>\n      <td>1717.0</td>\n      <td>91.3</td>\n      <td>62.9</td>\n    </tr>\n    <tr>\n      <th>Dublin</th>\n      <td>1759.0</td>\n      <td>76.0</td>\n      <td>41.4</td>\n    </tr>\n    <tr>\n      <th>Dusseldorf</th>\n      <td>1693.0</td>\n      <td>78.5</td>\n      <td>60.2</td>\n    </tr>\n    <tr>\n      <th>Frankfurt</th>\n      <td>1650.0</td>\n      <td>74.5</td>\n      <td>60.4</td>\n    </tr>\n    <tr>\n      <th>Geneva</th>\n      <td>1880.0</td>\n      <td>95.9</td>\n      <td>90.3</td>\n    </tr>\n    <tr>\n      <th>Helsinki</th>\n      <td>1667.0</td>\n      <td>113.6</td>\n      <td>66.6</td>\n    </tr>\n    <tr>\n      <th>Hong_Kong</th>\n      <td>2375.0</td>\n      <td>63.8</td>\n      <td>27.8</td>\n    </tr>\n    <tr>\n      <th>Houston</th>\n      <td>1978.0</td>\n      <td>71.9</td>\n      <td>46.3</td>\n    </tr>\n    <tr>\n      <th>Johannesburg</th>\n      <td>1945.0</td>\n      <td>51.1</td>\n      <td>24.0</td>\n    </tr>\n    <tr>\n      <th>Kuala_Lumpur</th>\n      <td>2167.0</td>\n      <td>43.5</td>\n      <td>9.9</td>\n    </tr>\n    <tr>\n      <th>Lagos</th>\n      <td>1786.0</td>\n      <td>45.2</td>\n      <td>2.7</td>\n    </tr>\n    <tr>\n      <th>Lisbon</th>\n      <td>1742.0</td>\n      <td>56.2</td>\n      <td>18.8</td>\n    </tr>\n    <tr>\n      <th>London</th>\n      <td>1737.0</td>\n      <td>84.2</td>\n      <td>46.2</td>\n    </tr>\n    <tr>\n      <th>Los_Angeles</th>\n      <td>2068.0</td>\n      <td>79.8</td>\n      <td>65.2</td>\n    </tr>\n    <tr>\n      <th>Luxembourg</th>\n      <td>1768.0</td>\n      <td>71.1</td>\n      <td>71.1</td>\n    </tr>\n    <tr>\n      <th>Madrid</th>\n      <td>1710.0</td>\n      <td>93.8</td>\n      <td>50.0</td>\n    </tr>\n    <tr>\n      <th>Manila</th>\n      <td>2268.0</td>\n      <td>40.0</td>\n      <td>4.0</td>\n    </tr>\n    <tr>\n      <th>Mexico_City</th>\n      <td>1944.0</td>\n      <td>49.8</td>\n      <td>5.7</td>\n    </tr>\n    <tr>\n      <th>Milan</th>\n      <td>1773.0</td>\n      <td>82.0</td>\n      <td>53.3</td>\n    </tr>\n    <tr>\n      <th>Montreal</th>\n      <td>1827.0</td>\n      <td>72.7</td>\n      <td>56.3</td>\n    </tr>\n    <tr>\n      <th>Nairobi</th>\n      <td>1958.0</td>\n      <td>45.0</td>\n      <td>5.8</td>\n    </tr>\n    <tr>\n      <th>New_York</th>\n      <td>1942.0</td>\n      <td>83.3</td>\n      <td>65.8</td>\n    </tr>\n    <tr>\n      <th>Nicosia</th>\n      <td>1825.0</td>\n      <td>47.9</td>\n      <td>28.3</td>\n    </tr>\n    <tr>\n      <th>Oslo</th>\n      <td>1583.0</td>\n      <td>115.5</td>\n      <td>63.7</td>\n    </tr>\n    <tr>\n      <th>Panama</th>\n      <td>2078.0</td>\n      <td>49.2</td>\n      <td>13.8</td>\n    </tr>\n    <tr>\n      <th>Paris</th>\n      <td>1744.0</td>\n      <td>81.6</td>\n      <td>45.9</td>\n    </tr>\n    <tr>\n      <th>Rio_de_Janeiro</th>\n      <td>1749.0</td>\n      <td>46.3</td>\n      <td>10.5</td>\n    </tr>\n    <tr>\n      <th>San_Paulo</th>\n      <td>1856.0</td>\n      <td>48.9</td>\n      <td>11.1</td>\n    </tr>\n    <tr>\n      <th>Seoul</th>\n      <td>1842.0</td>\n      <td>58.3</td>\n      <td>32.7</td>\n    </tr>\n    <tr>\n      <th>Singpore</th>\n      <td>2042.0</td>\n      <td>64.4</td>\n      <td>16.1</td>\n    </tr>\n    <tr>\n      <th>Stockholm</th>\n      <td>1805.0</td>\n      <td>111.3</td>\n      <td>39.2</td>\n    </tr>\n    <tr>\n      <th>Sydney</th>\n      <td>1668.0</td>\n      <td>70.8</td>\n      <td>52.1</td>\n    </tr>\n    <tr>\n      <th>Taipei</th>\n      <td>2145.0</td>\n      <td>84.3</td>\n      <td>34.5</td>\n    </tr>\n    <tr>\n      <th>Tel_Aviv</th>\n      <td>2015.0</td>\n      <td>67.3</td>\n      <td>27.0</td>\n    </tr>\n    <tr>\n      <th>Tokyo</th>\n      <td>1880.0</td>\n      <td>115.0</td>\n      <td>68.0</td>\n    </tr>\n    <tr>\n      <th>Toronto</th>\n      <td>1888.0</td>\n      <td>70.2</td>\n      <td>58.2</td>\n    </tr>\n    <tr>\n      <th>Vienna</th>\n      <td>1780.0</td>\n      <td>78.0</td>\n      <td>51.3</td>\n    </tr>\n    <tr>\n      <th>Zurich</th>\n      <td>1868.0</td>\n      <td>100.0</td>\n      <td>100.0</td>\n    </tr>\n  </tbody>\n</table>\n</div>"
     },
     "metadata": {},
     "execution_count": 5
    }
   ],
   "source": [
    "X = data.where(data.values != -9999).dropna()\n",
    "X"
   ]
  },
  {
   "source": [
    "Видим что в первом столбце у нас даны часы, а во втором и третьем стобце проценты, причём для Цюриха значение взято за 100%. Стандартизуем первый столбец, так чтобы для Цюриха было тоже 100%."
   ],
   "cell_type": "markdown",
   "metadata": {}
  },
  {
   "cell_type": "code",
   "execution_count": 6,
   "metadata": {},
   "outputs": [
    {
     "output_type": "execute_result",
     "data": {
      "text/plain": [
       "                      Work  Price  Salary\n",
       "City                                     \n",
       "Amsterdam        91.755889   65.6    49.0\n",
       "Athens           95.931478   53.8    30.4\n",
       "Bogota          115.203426   37.9    11.5\n",
       "Bombay          109.850107   30.3     5.3\n",
       "Brussels         91.434690   73.8    50.5\n",
       "Buenos_Aires    105.513919   56.1    12.5\n",
       "Caracas         109.261242   61.0    10.9\n",
       "Chicago         102.997859   73.9    61.9\n",
       "Copenhagen       91.916488   91.3    62.9\n",
       "Dublin           94.164882   76.0    41.4\n",
       "Dusseldorf       90.631692   78.5    60.2\n",
       "Frankfurt        88.329764   74.5    60.4\n",
       "Geneva          100.642398   95.9    90.3\n",
       "Helsinki         89.239829  113.6    66.6\n",
       "Hong_Kong       127.141328   63.8    27.8\n",
       "Houston         105.888651   71.9    46.3\n",
       "Johannesburg    104.122056   51.1    24.0\n",
       "Kuala_Lumpur    116.006424   43.5     9.9\n",
       "Lagos            95.610278   45.2     2.7\n",
       "Lisbon           93.254818   56.2    18.8\n",
       "London           92.987152   84.2    46.2\n",
       "Los_Angeles     110.706638   79.8    65.2\n",
       "Luxembourg       94.646681   71.1    71.1\n",
       "Madrid           91.541756   93.8    50.0\n",
       "Manila          121.413276   40.0     4.0\n",
       "Mexico_City     104.068522   49.8     5.7\n",
       "Milan            94.914347   82.0    53.3\n",
       "Montreal         97.805139   72.7    56.3\n",
       "Nairobi         104.817987   45.0     5.8\n",
       "New_York        103.961456   83.3    65.8\n",
       "Nicosia          97.698073   47.9    28.3\n",
       "Oslo             84.743041  115.5    63.7\n",
       "Panama          111.241970   49.2    13.8\n",
       "Paris            93.361884   81.6    45.9\n",
       "Rio_de_Janeiro   93.629550   46.3    10.5\n",
       "San_Paulo        99.357602   48.9    11.1\n",
       "Seoul            98.608137   58.3    32.7\n",
       "Singpore        109.314775   64.4    16.1\n",
       "Stockholm        96.627409  111.3    39.2\n",
       "Sydney           89.293362   70.8    52.1\n",
       "Taipei          114.828694   84.3    34.5\n",
       "Tel_Aviv        107.869379   67.3    27.0\n",
       "Tokyo           100.642398  115.0    68.0\n",
       "Toronto         101.070664   70.2    58.2\n",
       "Vienna           95.289079   78.0    51.3\n",
       "Zurich          100.000000  100.0   100.0"
      ],
      "text/html": "<div>\n<style scoped>\n    .dataframe tbody tr th:only-of-type {\n        vertical-align: middle;\n    }\n\n    .dataframe tbody tr th {\n        vertical-align: top;\n    }\n\n    .dataframe thead th {\n        text-align: right;\n    }\n</style>\n<table border=\"1\" class=\"dataframe\">\n  <thead>\n    <tr style=\"text-align: right;\">\n      <th></th>\n      <th>Work</th>\n      <th>Price</th>\n      <th>Salary</th>\n    </tr>\n    <tr>\n      <th>City</th>\n      <th></th>\n      <th></th>\n      <th></th>\n    </tr>\n  </thead>\n  <tbody>\n    <tr>\n      <th>Amsterdam</th>\n      <td>91.755889</td>\n      <td>65.6</td>\n      <td>49.0</td>\n    </tr>\n    <tr>\n      <th>Athens</th>\n      <td>95.931478</td>\n      <td>53.8</td>\n      <td>30.4</td>\n    </tr>\n    <tr>\n      <th>Bogota</th>\n      <td>115.203426</td>\n      <td>37.9</td>\n      <td>11.5</td>\n    </tr>\n    <tr>\n      <th>Bombay</th>\n      <td>109.850107</td>\n      <td>30.3</td>\n      <td>5.3</td>\n    </tr>\n    <tr>\n      <th>Brussels</th>\n      <td>91.434690</td>\n      <td>73.8</td>\n      <td>50.5</td>\n    </tr>\n    <tr>\n      <th>Buenos_Aires</th>\n      <td>105.513919</td>\n      <td>56.1</td>\n      <td>12.5</td>\n    </tr>\n    <tr>\n      <th>Caracas</th>\n      <td>109.261242</td>\n      <td>61.0</td>\n      <td>10.9</td>\n    </tr>\n    <tr>\n      <th>Chicago</th>\n      <td>102.997859</td>\n      <td>73.9</td>\n      <td>61.9</td>\n    </tr>\n    <tr>\n      <th>Copenhagen</th>\n      <td>91.916488</td>\n      <td>91.3</td>\n      <td>62.9</td>\n    </tr>\n    <tr>\n      <th>Dublin</th>\n      <td>94.164882</td>\n      <td>76.0</td>\n      <td>41.4</td>\n    </tr>\n    <tr>\n      <th>Dusseldorf</th>\n      <td>90.631692</td>\n      <td>78.5</td>\n      <td>60.2</td>\n    </tr>\n    <tr>\n      <th>Frankfurt</th>\n      <td>88.329764</td>\n      <td>74.5</td>\n      <td>60.4</td>\n    </tr>\n    <tr>\n      <th>Geneva</th>\n      <td>100.642398</td>\n      <td>95.9</td>\n      <td>90.3</td>\n    </tr>\n    <tr>\n      <th>Helsinki</th>\n      <td>89.239829</td>\n      <td>113.6</td>\n      <td>66.6</td>\n    </tr>\n    <tr>\n      <th>Hong_Kong</th>\n      <td>127.141328</td>\n      <td>63.8</td>\n      <td>27.8</td>\n    </tr>\n    <tr>\n      <th>Houston</th>\n      <td>105.888651</td>\n      <td>71.9</td>\n      <td>46.3</td>\n    </tr>\n    <tr>\n      <th>Johannesburg</th>\n      <td>104.122056</td>\n      <td>51.1</td>\n      <td>24.0</td>\n    </tr>\n    <tr>\n      <th>Kuala_Lumpur</th>\n      <td>116.006424</td>\n      <td>43.5</td>\n      <td>9.9</td>\n    </tr>\n    <tr>\n      <th>Lagos</th>\n      <td>95.610278</td>\n      <td>45.2</td>\n      <td>2.7</td>\n    </tr>\n    <tr>\n      <th>Lisbon</th>\n      <td>93.254818</td>\n      <td>56.2</td>\n      <td>18.8</td>\n    </tr>\n    <tr>\n      <th>London</th>\n      <td>92.987152</td>\n      <td>84.2</td>\n      <td>46.2</td>\n    </tr>\n    <tr>\n      <th>Los_Angeles</th>\n      <td>110.706638</td>\n      <td>79.8</td>\n      <td>65.2</td>\n    </tr>\n    <tr>\n      <th>Luxembourg</th>\n      <td>94.646681</td>\n      <td>71.1</td>\n      <td>71.1</td>\n    </tr>\n    <tr>\n      <th>Madrid</th>\n      <td>91.541756</td>\n      <td>93.8</td>\n      <td>50.0</td>\n    </tr>\n    <tr>\n      <th>Manila</th>\n      <td>121.413276</td>\n      <td>40.0</td>\n      <td>4.0</td>\n    </tr>\n    <tr>\n      <th>Mexico_City</th>\n      <td>104.068522</td>\n      <td>49.8</td>\n      <td>5.7</td>\n    </tr>\n    <tr>\n      <th>Milan</th>\n      <td>94.914347</td>\n      <td>82.0</td>\n      <td>53.3</td>\n    </tr>\n    <tr>\n      <th>Montreal</th>\n      <td>97.805139</td>\n      <td>72.7</td>\n      <td>56.3</td>\n    </tr>\n    <tr>\n      <th>Nairobi</th>\n      <td>104.817987</td>\n      <td>45.0</td>\n      <td>5.8</td>\n    </tr>\n    <tr>\n      <th>New_York</th>\n      <td>103.961456</td>\n      <td>83.3</td>\n      <td>65.8</td>\n    </tr>\n    <tr>\n      <th>Nicosia</th>\n      <td>97.698073</td>\n      <td>47.9</td>\n      <td>28.3</td>\n    </tr>\n    <tr>\n      <th>Oslo</th>\n      <td>84.743041</td>\n      <td>115.5</td>\n      <td>63.7</td>\n    </tr>\n    <tr>\n      <th>Panama</th>\n      <td>111.241970</td>\n      <td>49.2</td>\n      <td>13.8</td>\n    </tr>\n    <tr>\n      <th>Paris</th>\n      <td>93.361884</td>\n      <td>81.6</td>\n      <td>45.9</td>\n    </tr>\n    <tr>\n      <th>Rio_de_Janeiro</th>\n      <td>93.629550</td>\n      <td>46.3</td>\n      <td>10.5</td>\n    </tr>\n    <tr>\n      <th>San_Paulo</th>\n      <td>99.357602</td>\n      <td>48.9</td>\n      <td>11.1</td>\n    </tr>\n    <tr>\n      <th>Seoul</th>\n      <td>98.608137</td>\n      <td>58.3</td>\n      <td>32.7</td>\n    </tr>\n    <tr>\n      <th>Singpore</th>\n      <td>109.314775</td>\n      <td>64.4</td>\n      <td>16.1</td>\n    </tr>\n    <tr>\n      <th>Stockholm</th>\n      <td>96.627409</td>\n      <td>111.3</td>\n      <td>39.2</td>\n    </tr>\n    <tr>\n      <th>Sydney</th>\n      <td>89.293362</td>\n      <td>70.8</td>\n      <td>52.1</td>\n    </tr>\n    <tr>\n      <th>Taipei</th>\n      <td>114.828694</td>\n      <td>84.3</td>\n      <td>34.5</td>\n    </tr>\n    <tr>\n      <th>Tel_Aviv</th>\n      <td>107.869379</td>\n      <td>67.3</td>\n      <td>27.0</td>\n    </tr>\n    <tr>\n      <th>Tokyo</th>\n      <td>100.642398</td>\n      <td>115.0</td>\n      <td>68.0</td>\n    </tr>\n    <tr>\n      <th>Toronto</th>\n      <td>101.070664</td>\n      <td>70.2</td>\n      <td>58.2</td>\n    </tr>\n    <tr>\n      <th>Vienna</th>\n      <td>95.289079</td>\n      <td>78.0</td>\n      <td>51.3</td>\n    </tr>\n    <tr>\n      <th>Zurich</th>\n      <td>100.000000</td>\n      <td>100.0</td>\n      <td>100.0</td>\n    </tr>\n  </tbody>\n</table>\n</div>"
     },
     "metadata": {},
     "execution_count": 6
    }
   ],
   "source": [
    "X[\"Work\"] = X[\"Work\"] / X[\"Work\"][\"Zurich\"] * 100\n",
    "X"
   ]
  },
  {
   "source": [
    "Проведём DBScan кластеризацию."
   ],
   "cell_type": "markdown",
   "metadata": {}
  },
  {
   "cell_type": "code",
   "execution_count": 7,
   "metadata": {},
   "outputs": [],
   "source": [
    "from sklearn.cluster import DBSCAN"
   ]
  },
  {
   "source": [
    "В качестве начальных значений выберем следующие:\n",
    "$$\\varepsilon = 15 \\\\ m = D + 1 = 4$$, где $D$ - кол-во столбцов в исходных данных. "
   ],
   "cell_type": "markdown",
   "metadata": {}
  },
  {
   "cell_type": "code",
   "execution_count": 8,
   "metadata": {},
   "outputs": [
    {
     "output_type": "stream",
     "name": "stdout",
     "text": [
      "[[-1  8]\n [ 0 19]\n [ 1 19]]\n"
     ]
    }
   ],
   "source": [
    "dbscan_1 = DBSCAN(eps=15, min_samples=4)\n",
    "dbscan_1.fit(X)\n",
    "unique, counts = np.unique(dbscan_1.labels_, return_counts=True)\n",
    "print(np.asarray((unique, counts)).T)"
   ]
  },
  {
   "source": [
    "У нас получилось два кластера, и при этом не очень много выбросов. Но разбиение на два кластера слишком малеькое. Посмотрим на другие варианты кластеризации при $1 \\leq \\varepsilon \\leq 50$, $3 \\leq m \\leq 10$. При этом сразу будем отсекать варианты с разделением меньше чем на три кластера или же если выбросов больше чем элементов в любом из кластеров. Сохраним только уникальные разбиения на кластеры."
   ],
   "cell_type": "markdown",
   "metadata": {}
  },
  {
   "cell_type": "code",
   "execution_count": 9,
   "metadata": {},
   "outputs": [
    {
     "output_type": "stream",
     "name": "stdout",
     "text": [
      "e=11, m=3:\n\t[[-1 14]\n\t [ 0 16]\n\t [ 1  4]\n\t [ 2 12]]\n\ne=12, m=3:\n\t[[-1  9]\n\t [ 0 16]\n\t [ 1  4]\n\t [ 2 14]\n\t [ 3  3]]\n\ne=13, m=3:\n\t[[-1  6]\n\t [ 0 18]\n\t [ 1 19]\n\t [ 2  3]]\n\ne=14, m=3:\n\t[[-1  5]\n\t [ 0 19]\n\t [ 1 19]\n\t [ 2  3]]\n\n"
     ]
    }
   ],
   "source": [
    "previous_results = []\n",
    "for m in range(3, 10):\n",
    "    for e in range(1, 50):\n",
    "        dbscan_iter = DBSCAN(eps=e, min_samples=3)\n",
    "        dbscan_iter.fit(X)\n",
    "        unique, counts = np.unique(dbscan_iter.labels_, return_counts=True)\n",
    "        if len(unique) < 4 or counts[0] >= max(counts[1:]):\n",
    "            continue\n",
    "        res = np.asarray((unique, counts)).T\n",
    "\n",
    "        if any(np.array_equal(res, prev_res) for prev_res in previous_results):\n",
    "            continue\n",
    "        \n",
    "        previous_results.append(np.asarray((unique, counts)).T)\n",
    "        print(f\"{e=}, {m=}:\")\n",
    "        print(\"\\t\" + str(res).replace(\"\\n\", \"\\n\\t\"))\n",
    "        print()\n"
   ]
  },
  {
   "source": [
    "Видим что получилось четыре варианта разбиения на кластеры, удовлетворяющие нашим поставленным условиям."
   ],
   "cell_type": "markdown",
   "metadata": {}
  },
  {
   "source": [
    "При $\\varepsilon = 11$ мы получаем много выбросов, поэтому отбросим этот вариант. У нас остаётся на выбор три варианта. Если приглядется то при $\\varepsilon = 13$ и $\\varepsilon = 14$ варианты отличается только одним городом. Вариант, когда $\\varepsilon$ принимает значение 12, имеет почти такое же разделение как и два предыдущих, но он выделяет дополнительно ещё один кластер. Выберем его, как результирующее разбиение и посмотрим какие кластеры у нас образовались."
   ],
   "cell_type": "markdown",
   "metadata": {}
  },
  {
   "cell_type": "code",
   "execution_count": 10,
   "metadata": {},
   "outputs": [
    {
     "output_type": "stream",
     "name": "stdout",
     "text": [
      "[[-1  9]\n [ 0 16]\n [ 1  4]\n [ 2 14]\n [ 3  3]]\n"
     ]
    }
   ],
   "source": [
    "dbscan_2 = DBSCAN(eps=12, min_samples=3)\n",
    "dbscan_2.fit(X)\n",
    "unique, counts = np.unique(dbscan_2.labels_, return_counts=True)\n",
    "print(np.asarray((unique, counts)).T)"
   ]
  },
  {
   "cell_type": "code",
   "execution_count": 11,
   "metadata": {},
   "outputs": [
    {
     "output_type": "execute_result",
     "data": {
      "text/plain": [
       "                      Work  Price  Salary  dbscan_2\n",
       "City                                               \n",
       "Amsterdam        91.755889   65.6    49.0         0\n",
       "Athens           95.931478   53.8    30.4         1\n",
       "Bogota          115.203426   37.9    11.5         2\n",
       "Bombay          109.850107   30.3     5.3         2\n",
       "Brussels         91.434690   73.8    50.5         0\n",
       "Buenos_Aires    105.513919   56.1    12.5         2\n",
       "Caracas         109.261242   61.0    10.9         2\n",
       "Chicago         102.997859   73.9    61.9         0\n",
       "Copenhagen       91.916488   91.3    62.9        -1\n",
       "Dublin           94.164882   76.0    41.4         0\n",
       "Dusseldorf       90.631692   78.5    60.2         0\n",
       "Frankfurt        88.329764   74.5    60.4         0\n",
       "Geneva          100.642398   95.9    90.3        -1\n",
       "Helsinki         89.239829  113.6    66.6         3\n",
       "Hong_Kong       127.141328   63.8    27.8        -1\n",
       "Houston         105.888651   71.9    46.3        -1\n",
       "Johannesburg    104.122056   51.1    24.0         1\n",
       "Kuala_Lumpur    116.006424   43.5     9.9         2\n",
       "Lagos            95.610278   45.2     2.7         2\n",
       "Lisbon           93.254818   56.2    18.8        -1\n",
       "London           92.987152   84.2    46.2         0\n",
       "Los_Angeles     110.706638   79.8    65.2         0\n",
       "Luxembourg       94.646681   71.1    71.1        -1\n",
       "Madrid           91.541756   93.8    50.0         0\n",
       "Manila          121.413276   40.0     4.0         2\n",
       "Mexico_City     104.068522   49.8     5.7         2\n",
       "Milan            94.914347   82.0    53.3         0\n",
       "Montreal         97.805139   72.7    56.3         0\n",
       "Nairobi         104.817987   45.0     5.8         2\n",
       "New_York        103.961456   83.3    65.8         0\n",
       "Nicosia          97.698073   47.9    28.3         1\n",
       "Oslo             84.743041  115.5    63.7         3\n",
       "Panama          111.241970   49.2    13.8         2\n",
       "Paris            93.361884   81.6    45.9         0\n",
       "Rio_de_Janeiro   93.629550   46.3    10.5         2\n",
       "San_Paulo        99.357602   48.9    11.1         2\n",
       "Seoul            98.608137   58.3    32.7         1\n",
       "Singpore        109.314775   64.4    16.1         2\n",
       "Stockholm        96.627409  111.3    39.2        -1\n",
       "Sydney           89.293362   70.8    52.1         0\n",
       "Taipei          114.828694   84.3    34.5        -1\n",
       "Tel_Aviv        107.869379   67.3    27.0         2\n",
       "Tokyo           100.642398  115.0    68.0         3\n",
       "Toronto         101.070664   70.2    58.2         0\n",
       "Vienna           95.289079   78.0    51.3         0\n",
       "Zurich          100.000000  100.0   100.0        -1"
      ],
      "text/html": "<div>\n<style scoped>\n    .dataframe tbody tr th:only-of-type {\n        vertical-align: middle;\n    }\n\n    .dataframe tbody tr th {\n        vertical-align: top;\n    }\n\n    .dataframe thead th {\n        text-align: right;\n    }\n</style>\n<table border=\"1\" class=\"dataframe\">\n  <thead>\n    <tr style=\"text-align: right;\">\n      <th></th>\n      <th>Work</th>\n      <th>Price</th>\n      <th>Salary</th>\n      <th>dbscan_2</th>\n    </tr>\n    <tr>\n      <th>City</th>\n      <th></th>\n      <th></th>\n      <th></th>\n      <th></th>\n    </tr>\n  </thead>\n  <tbody>\n    <tr>\n      <th>Amsterdam</th>\n      <td>91.755889</td>\n      <td>65.6</td>\n      <td>49.0</td>\n      <td>0</td>\n    </tr>\n    <tr>\n      <th>Athens</th>\n      <td>95.931478</td>\n      <td>53.8</td>\n      <td>30.4</td>\n      <td>1</td>\n    </tr>\n    <tr>\n      <th>Bogota</th>\n      <td>115.203426</td>\n      <td>37.9</td>\n      <td>11.5</td>\n      <td>2</td>\n    </tr>\n    <tr>\n      <th>Bombay</th>\n      <td>109.850107</td>\n      <td>30.3</td>\n      <td>5.3</td>\n      <td>2</td>\n    </tr>\n    <tr>\n      <th>Brussels</th>\n      <td>91.434690</td>\n      <td>73.8</td>\n      <td>50.5</td>\n      <td>0</td>\n    </tr>\n    <tr>\n      <th>Buenos_Aires</th>\n      <td>105.513919</td>\n      <td>56.1</td>\n      <td>12.5</td>\n      <td>2</td>\n    </tr>\n    <tr>\n      <th>Caracas</th>\n      <td>109.261242</td>\n      <td>61.0</td>\n      <td>10.9</td>\n      <td>2</td>\n    </tr>\n    <tr>\n      <th>Chicago</th>\n      <td>102.997859</td>\n      <td>73.9</td>\n      <td>61.9</td>\n      <td>0</td>\n    </tr>\n    <tr>\n      <th>Copenhagen</th>\n      <td>91.916488</td>\n      <td>91.3</td>\n      <td>62.9</td>\n      <td>-1</td>\n    </tr>\n    <tr>\n      <th>Dublin</th>\n      <td>94.164882</td>\n      <td>76.0</td>\n      <td>41.4</td>\n      <td>0</td>\n    </tr>\n    <tr>\n      <th>Dusseldorf</th>\n      <td>90.631692</td>\n      <td>78.5</td>\n      <td>60.2</td>\n      <td>0</td>\n    </tr>\n    <tr>\n      <th>Frankfurt</th>\n      <td>88.329764</td>\n      <td>74.5</td>\n      <td>60.4</td>\n      <td>0</td>\n    </tr>\n    <tr>\n      <th>Geneva</th>\n      <td>100.642398</td>\n      <td>95.9</td>\n      <td>90.3</td>\n      <td>-1</td>\n    </tr>\n    <tr>\n      <th>Helsinki</th>\n      <td>89.239829</td>\n      <td>113.6</td>\n      <td>66.6</td>\n      <td>3</td>\n    </tr>\n    <tr>\n      <th>Hong_Kong</th>\n      <td>127.141328</td>\n      <td>63.8</td>\n      <td>27.8</td>\n      <td>-1</td>\n    </tr>\n    <tr>\n      <th>Houston</th>\n      <td>105.888651</td>\n      <td>71.9</td>\n      <td>46.3</td>\n      <td>-1</td>\n    </tr>\n    <tr>\n      <th>Johannesburg</th>\n      <td>104.122056</td>\n      <td>51.1</td>\n      <td>24.0</td>\n      <td>1</td>\n    </tr>\n    <tr>\n      <th>Kuala_Lumpur</th>\n      <td>116.006424</td>\n      <td>43.5</td>\n      <td>9.9</td>\n      <td>2</td>\n    </tr>\n    <tr>\n      <th>Lagos</th>\n      <td>95.610278</td>\n      <td>45.2</td>\n      <td>2.7</td>\n      <td>2</td>\n    </tr>\n    <tr>\n      <th>Lisbon</th>\n      <td>93.254818</td>\n      <td>56.2</td>\n      <td>18.8</td>\n      <td>-1</td>\n    </tr>\n    <tr>\n      <th>London</th>\n      <td>92.987152</td>\n      <td>84.2</td>\n      <td>46.2</td>\n      <td>0</td>\n    </tr>\n    <tr>\n      <th>Los_Angeles</th>\n      <td>110.706638</td>\n      <td>79.8</td>\n      <td>65.2</td>\n      <td>0</td>\n    </tr>\n    <tr>\n      <th>Luxembourg</th>\n      <td>94.646681</td>\n      <td>71.1</td>\n      <td>71.1</td>\n      <td>-1</td>\n    </tr>\n    <tr>\n      <th>Madrid</th>\n      <td>91.541756</td>\n      <td>93.8</td>\n      <td>50.0</td>\n      <td>0</td>\n    </tr>\n    <tr>\n      <th>Manila</th>\n      <td>121.413276</td>\n      <td>40.0</td>\n      <td>4.0</td>\n      <td>2</td>\n    </tr>\n    <tr>\n      <th>Mexico_City</th>\n      <td>104.068522</td>\n      <td>49.8</td>\n      <td>5.7</td>\n      <td>2</td>\n    </tr>\n    <tr>\n      <th>Milan</th>\n      <td>94.914347</td>\n      <td>82.0</td>\n      <td>53.3</td>\n      <td>0</td>\n    </tr>\n    <tr>\n      <th>Montreal</th>\n      <td>97.805139</td>\n      <td>72.7</td>\n      <td>56.3</td>\n      <td>0</td>\n    </tr>\n    <tr>\n      <th>Nairobi</th>\n      <td>104.817987</td>\n      <td>45.0</td>\n      <td>5.8</td>\n      <td>2</td>\n    </tr>\n    <tr>\n      <th>New_York</th>\n      <td>103.961456</td>\n      <td>83.3</td>\n      <td>65.8</td>\n      <td>0</td>\n    </tr>\n    <tr>\n      <th>Nicosia</th>\n      <td>97.698073</td>\n      <td>47.9</td>\n      <td>28.3</td>\n      <td>1</td>\n    </tr>\n    <tr>\n      <th>Oslo</th>\n      <td>84.743041</td>\n      <td>115.5</td>\n      <td>63.7</td>\n      <td>3</td>\n    </tr>\n    <tr>\n      <th>Panama</th>\n      <td>111.241970</td>\n      <td>49.2</td>\n      <td>13.8</td>\n      <td>2</td>\n    </tr>\n    <tr>\n      <th>Paris</th>\n      <td>93.361884</td>\n      <td>81.6</td>\n      <td>45.9</td>\n      <td>0</td>\n    </tr>\n    <tr>\n      <th>Rio_de_Janeiro</th>\n      <td>93.629550</td>\n      <td>46.3</td>\n      <td>10.5</td>\n      <td>2</td>\n    </tr>\n    <tr>\n      <th>San_Paulo</th>\n      <td>99.357602</td>\n      <td>48.9</td>\n      <td>11.1</td>\n      <td>2</td>\n    </tr>\n    <tr>\n      <th>Seoul</th>\n      <td>98.608137</td>\n      <td>58.3</td>\n      <td>32.7</td>\n      <td>1</td>\n    </tr>\n    <tr>\n      <th>Singpore</th>\n      <td>109.314775</td>\n      <td>64.4</td>\n      <td>16.1</td>\n      <td>2</td>\n    </tr>\n    <tr>\n      <th>Stockholm</th>\n      <td>96.627409</td>\n      <td>111.3</td>\n      <td>39.2</td>\n      <td>-1</td>\n    </tr>\n    <tr>\n      <th>Sydney</th>\n      <td>89.293362</td>\n      <td>70.8</td>\n      <td>52.1</td>\n      <td>0</td>\n    </tr>\n    <tr>\n      <th>Taipei</th>\n      <td>114.828694</td>\n      <td>84.3</td>\n      <td>34.5</td>\n      <td>-1</td>\n    </tr>\n    <tr>\n      <th>Tel_Aviv</th>\n      <td>107.869379</td>\n      <td>67.3</td>\n      <td>27.0</td>\n      <td>2</td>\n    </tr>\n    <tr>\n      <th>Tokyo</th>\n      <td>100.642398</td>\n      <td>115.0</td>\n      <td>68.0</td>\n      <td>3</td>\n    </tr>\n    <tr>\n      <th>Toronto</th>\n      <td>101.070664</td>\n      <td>70.2</td>\n      <td>58.2</td>\n      <td>0</td>\n    </tr>\n    <tr>\n      <th>Vienna</th>\n      <td>95.289079</td>\n      <td>78.0</td>\n      <td>51.3</td>\n      <td>0</td>\n    </tr>\n    <tr>\n      <th>Zurich</th>\n      <td>100.000000</td>\n      <td>100.0</td>\n      <td>100.0</td>\n      <td>-1</td>\n    </tr>\n  </tbody>\n</table>\n</div>"
     },
     "metadata": {},
     "execution_count": 11
    }
   ],
   "source": [
    "X[\"dbscan_2\"] = dbscan_2.labels_\n",
    "X"
   ]
  },
  {
   "cell_type": "code",
   "execution_count": 12,
   "metadata": {},
   "outputs": [
    {
     "output_type": "execute_result",
     "data": {
      "text/plain": [
       "             Work       Price      Salary\n",
       "count   46.000000   46.000000   46.000000\n",
       "mean   100.637743   70.100000   39.545652\n",
       "std      9.333113   21.389177   24.757703\n",
       "min     84.743041   30.300000    2.700000\n",
       "25%     93.428801   51.775000   14.375000\n",
       "50%     98.982869   70.950000   43.650000\n",
       "75%    105.794968   81.900000   59.700000\n",
       "max    127.141328  115.500000  100.000000"
      ],
      "text/html": "<div>\n<style scoped>\n    .dataframe tbody tr th:only-of-type {\n        vertical-align: middle;\n    }\n\n    .dataframe tbody tr th {\n        vertical-align: top;\n    }\n\n    .dataframe thead th {\n        text-align: right;\n    }\n</style>\n<table border=\"1\" class=\"dataframe\">\n  <thead>\n    <tr style=\"text-align: right;\">\n      <th></th>\n      <th>Work</th>\n      <th>Price</th>\n      <th>Salary</th>\n    </tr>\n  </thead>\n  <tbody>\n    <tr>\n      <th>count</th>\n      <td>46.000000</td>\n      <td>46.000000</td>\n      <td>46.000000</td>\n    </tr>\n    <tr>\n      <th>mean</th>\n      <td>100.637743</td>\n      <td>70.100000</td>\n      <td>39.545652</td>\n    </tr>\n    <tr>\n      <th>std</th>\n      <td>9.333113</td>\n      <td>21.389177</td>\n      <td>24.757703</td>\n    </tr>\n    <tr>\n      <th>min</th>\n      <td>84.743041</td>\n      <td>30.300000</td>\n      <td>2.700000</td>\n    </tr>\n    <tr>\n      <th>25%</th>\n      <td>93.428801</td>\n      <td>51.775000</td>\n      <td>14.375000</td>\n    </tr>\n    <tr>\n      <th>50%</th>\n      <td>98.982869</td>\n      <td>70.950000</td>\n      <td>43.650000</td>\n    </tr>\n    <tr>\n      <th>75%</th>\n      <td>105.794968</td>\n      <td>81.900000</td>\n      <td>59.700000</td>\n    </tr>\n    <tr>\n      <th>max</th>\n      <td>127.141328</td>\n      <td>115.500000</td>\n      <td>100.000000</td>\n    </tr>\n  </tbody>\n</table>\n</div>"
     },
     "metadata": {},
     "execution_count": 12
    }
   ],
   "source": [
    "X[[\"Work\", \"Price\", \"Salary\"]].describe()"
   ]
  },
  {
   "cell_type": "code",
   "execution_count": 13,
   "metadata": {},
   "outputs": [
    {
     "output_type": "execute_result",
     "data": {
      "text/plain": [
       "               Work      Price     Salary\n",
       "dbscan_2                                 \n",
       "-1        11.583158  18.297609  28.254872\n",
       " 0         6.153538   6.774680   7.203769\n",
       " 1         3.534002   4.402556   3.699099\n",
       " 2         7.716428  10.336431   6.174620\n",
       " 3         8.195825   0.984886   2.193171"
      ],
      "text/html": "<div>\n<style scoped>\n    .dataframe tbody tr th:only-of-type {\n        vertical-align: middle;\n    }\n\n    .dataframe tbody tr th {\n        vertical-align: top;\n    }\n\n    .dataframe thead th {\n        text-align: right;\n    }\n</style>\n<table border=\"1\" class=\"dataframe\">\n  <thead>\n    <tr style=\"text-align: right;\">\n      <th></th>\n      <th>Work</th>\n      <th>Price</th>\n      <th>Salary</th>\n    </tr>\n    <tr>\n      <th>dbscan_2</th>\n      <th></th>\n      <th></th>\n      <th></th>\n    </tr>\n  </thead>\n  <tbody>\n    <tr>\n      <th>-1</th>\n      <td>11.583158</td>\n      <td>18.297609</td>\n      <td>28.254872</td>\n    </tr>\n    <tr>\n      <th>0</th>\n      <td>6.153538</td>\n      <td>6.774680</td>\n      <td>7.203769</td>\n    </tr>\n    <tr>\n      <th>1</th>\n      <td>3.534002</td>\n      <td>4.402556</td>\n      <td>3.699099</td>\n    </tr>\n    <tr>\n      <th>2</th>\n      <td>7.716428</td>\n      <td>10.336431</td>\n      <td>6.174620</td>\n    </tr>\n    <tr>\n      <th>3</th>\n      <td>8.195825</td>\n      <td>0.984886</td>\n      <td>2.193171</td>\n    </tr>\n  </tbody>\n</table>\n</div>"
     },
     "metadata": {},
     "execution_count": 13
    }
   ],
   "source": [
    "X.groupby(\"dbscan_2\").std()"
   ]
  },
  {
   "cell_type": "code",
   "execution_count": 14,
   "metadata": {},
   "outputs": [
    {
     "output_type": "stream",
     "name": "stdout",
     "text": [
      "In cluster -1:\n ['Copenhagen' 'Geneva' 'Hong_Kong' 'Houston' 'Lisbon' 'Luxembourg'\n 'Stockholm' 'Taipei' 'Zurich']\nIn cluster 0:\n ['Amsterdam' 'Brussels' 'Chicago' 'Dublin' 'Dusseldorf' 'Frankfurt'\n 'London' 'Los_Angeles' 'Madrid' 'Milan' 'Montreal' 'New_York' 'Paris'\n 'Sydney' 'Toronto' 'Vienna']\nIn cluster 1:\n ['Athens' 'Johannesburg' 'Nicosia' 'Seoul']\nIn cluster 2:\n ['Bogota' 'Bombay' 'Buenos_Aires' 'Caracas' 'Kuala_Lumpur' 'Lagos'\n 'Manila' 'Mexico_City' 'Nairobi' 'Panama' 'Rio_de_Janeiro' 'San_Paulo'\n 'Singpore' 'Tel_Aviv']\nIn cluster 3:\n ['Helsinki' 'Oslo' 'Tokyo']\n"
     ]
    }
   ],
   "source": [
    "for cluster in sorted(set(X[\"dbscan_2\"].tolist())):\n",
    "    print(f\"In cluster {cluster}:\\n\", X[X[\"dbscan_2\"] == cluster].index.values)"
   ]
  },
  {
   "cell_type": "code",
   "execution_count": 15,
   "metadata": {},
   "outputs": [
    {
     "output_type": "execute_result",
     "data": {
      "text/plain": [
       "                Work       Price     Salary\n",
       "dbscan_2                                   \n",
       "-1        102.771830   82.866667  54.544444\n",
       " 0         95.640391   77.418750  54.231250\n",
       " 1         99.089936   52.775000  28.850000\n",
       " 2        107.368461   48.921429  10.485714\n",
       " 3         91.541756  114.700000  66.100000"
      ],
      "text/html": "<div>\n<style scoped>\n    .dataframe tbody tr th:only-of-type {\n        vertical-align: middle;\n    }\n\n    .dataframe tbody tr th {\n        vertical-align: top;\n    }\n\n    .dataframe thead th {\n        text-align: right;\n    }\n</style>\n<table border=\"1\" class=\"dataframe\">\n  <thead>\n    <tr style=\"text-align: right;\">\n      <th></th>\n      <th>Work</th>\n      <th>Price</th>\n      <th>Salary</th>\n    </tr>\n    <tr>\n      <th>dbscan_2</th>\n      <th></th>\n      <th></th>\n      <th></th>\n    </tr>\n  </thead>\n  <tbody>\n    <tr>\n      <th>-1</th>\n      <td>102.771830</td>\n      <td>82.866667</td>\n      <td>54.544444</td>\n    </tr>\n    <tr>\n      <th>0</th>\n      <td>95.640391</td>\n      <td>77.418750</td>\n      <td>54.231250</td>\n    </tr>\n    <tr>\n      <th>1</th>\n      <td>99.089936</td>\n      <td>52.775000</td>\n      <td>28.850000</td>\n    </tr>\n    <tr>\n      <th>2</th>\n      <td>107.368461</td>\n      <td>48.921429</td>\n      <td>10.485714</td>\n    </tr>\n    <tr>\n      <th>3</th>\n      <td>91.541756</td>\n      <td>114.700000</td>\n      <td>66.100000</td>\n    </tr>\n  </tbody>\n</table>\n</div>"
     },
     "metadata": {},
     "execution_count": 15
    }
   ],
   "source": [
    "X.groupby(\"dbscan_2\").mean()"
   ]
  },
  {
   "cell_type": "code",
   "execution_count": 16,
   "metadata": {},
   "outputs": [
    {
     "output_type": "execute_result",
     "data": {
      "text/plain": [
       "dbscan_2\n",
       "-1     9\n",
       " 0    16\n",
       " 1     4\n",
       " 2    14\n",
       " 3     3\n",
       "dtype: int64"
      ]
     },
     "metadata": {},
     "execution_count": 16
    }
   ],
   "source": [
    "X.groupby(\"dbscan_2\").size()"
   ]
  },
  {
   "source": [
    "## Вывод\n",
    "\n",
    "Получилась неплохая кластеризация, выделившая нам четыре кластера и девять выбросов. Если посмотреть на значения стандартных отклонений в полученных кластерах, можно заметить что у нас не нашлось ленточных кластеров, и даже если разброс по зарплатам и ценам у выбросов был бы чучуть меньше, то можно было бы считать их за отдельных кластер. \n",
    "\n",
    "Результаты этой работы не сильно отличаются от результатов иерархического кластерноного анализа и от кластеризации методом k-means, что говорит о том, что кластеризация скорее всего проведена верно. \n",
    "\n",
    "Смотря на полученную статистику по кластерам можно заметить что все города работают почти одинаково и значение столбца с часами работы скорее всего не сильно влияло на кластеризацию.\n",
    "\n",
    "Далее следует интерпретация самих кластеров.\n",
    "\n",
    "Начнём со второго кластера. в нём у нас находятся города с самым низким значением заработной платы (в среднем меньше в пять раз по сравнению со средним значение по всей выборке) и цен на продукты. В данный кластер вошли города южных стран, что логично сочетается с полученными результатами.\n",
    "\n",
    "В первом кластере у нас города в которых экономическая обстановка немного лучше третьего кластера (цены на продукты сравнимы, а зарплата почти в три раза выше), но всё ещё низкая.\n",
    "\n",
    "В нулевом кластере у нас города со средним значением по всей выборке. Так же можно заметить что таких городов большинство.\n",
    "\n",
    "В третьем кластере у нас находятся города в которых самая большая цена на продучты и при этом низкие зарплаты (в два раза меньше средней цены на продукты).\n"
   ],
   "cell_type": "markdown",
   "metadata": {}
  }
 ],
 "metadata": {
  "kernelspec": {
   "name": "python3",
   "display_name": "Python 3.8.5 32-bit",
   "metadata": {
    "interpreter": {
     "hash": "3d08ce2683530840711bcc1895038ce67e4a9ac343c7829b875cd174f213d260"
    }
   }
  },
  "language_info": {
   "codemirror_mode": {
    "name": "ipython",
    "version": 3
   },
   "file_extension": ".py",
   "mimetype": "text/x-python",
   "name": "python",
   "nbconvert_exporter": "python",
   "pygments_lexer": "ipython3",
   "version": "3.8.5-final"
  }
 },
 "nbformat": 4,
 "nbformat_minor": 2
}