{
 "cells": [
  {
   "cell_type": "code",
   "execution_count": null,
   "metadata": {},
   "outputs": [],
   "source": []
  },
  {
   "cell_type": "code",
   "execution_count": 1,
   "metadata": {},
   "outputs": [],
   "source": [
    "import pandas as pd\n",
    "import numpy as np\n",
    "\n",
    "import matplotlib\n",
    "import matplotlib.pyplot as plt\n",
    "\n",
    "#  выбор темы картинок на Ваш вкус. Необязательная строчка.\n",
    "#  matplotlib.style.use('ggplot')\n",
    "#  Эта строчка нужна для того, чтобы картинки отображались в ячейках\n",
    "%matplotlib inline\n"
   ]
  },
  {
   "cell_type": "code",
   "execution_count": 2,
   "metadata": {},
   "outputs": [],
   "source": [
    "import random\n"
   ]
  },
  {
   "cell_type": "code",
   "execution_count": null,
   "metadata": {},
   "outputs": [],
   "source": [
    "\n"
   ]
  },
  {
   "cell_type": "code",
   "execution_count": null,
   "metadata": {},
   "outputs": [],
   "source": []
  },
  {
   "cell_type": "code",
   "execution_count": null,
   "metadata": {},
   "outputs": [],
   "source": []
  },
  {
   "cell_type": "code",
   "execution_count": null,
   "metadata": {},
   "outputs": [],
   "source": []
  },
  {
   "cell_type": "code",
   "execution_count": null,
   "metadata": {},
   "outputs": [],
   "source": []
  },
  {
   "cell_type": "code",
   "execution_count": 26,
   "metadata": {},
   "outputs": [
    {
     "data": {
      "text/plain": [
       "Text(2.05, 0.9, 'H')"
      ]
     },
     "execution_count": 26,
     "metadata": {},
     "output_type": "execute_result"
    },
    {
     "data": {
      "image/png": "[encoded data removed]",
      "text/plain": [
       "<Figure size 432x288 with 1 Axes>"
      ]
     },
     "metadata": {
      "needs_background": "light"
     },
     "output_type": "display_data"
    }
   ],
   "source": [
    "#  Пример расположения точки\n",
    "x =  np.array([2.0])\n",
    "y =  np.array([0.6])\n",
    "\n",
    "\n",
    "#  Вершины прямоугольника\n",
    "Rx = [0.0, 0.0, 3.0, 3.0, 0.0]\n",
    "Ry = [0.0, 1.0, 1.0, 0.0, 0.0]\n",
    "plt.axis([-0.1, 3.1, -0.1, 1.1])\n",
    "plt.plot(Rx, Ry)\n",
    "\n",
    "plt.plot(x, y, 'ro')\n",
    "\n",
    "plt.plot([0.0, 3.0], [0.6, 0.6], 'g')\n",
    "plt.plot([2.0, 2.0], [0.0, 1.0], 'g')\n",
    "\n",
    "\n",
    "plt.plot(np.append(x, 3.0), np.append(y, 1.0), 'b')\n",
    "plt.plot(np.append(x, 3.0), np.append(y, 0.0), 'b')\n",
    "plt.plot(np.append(x, 0.0), np.append(y, 1.0), 'b')\n",
    "plt.plot(np.append(x, 0.0), np.append(y, 0.0), 'b')\n",
    "\n",
    "plt.text(x = x+0.05, y = y +0.1, s = \"P\", fontsize=14)\n",
    "\n",
    "plt.text(x = 0.05, y = 0.1, s = \"A\", fontsize=14)\n",
    "plt.text(x = 0.05, y = 0.9, s = \"B\", fontsize=14)\n",
    "plt.text(x = 2.85, y = 0.1, s = \"C\", fontsize=14)\n",
    "plt.text(x = 2.85, y = 0.85, s = \"D\", fontsize=14)\n",
    "\n",
    "plt.text(x = 2.85, y = 0.65, s = \"E\", fontsize=14)\n",
    "plt.text(x = 2.05, y = 0.05, s = \"F\", fontsize=14)\n",
    "plt.text(x = 0.05, y = 0.65, s = \"G\", fontsize=14)\n",
    "plt.text(x = 2.05, y = 0.90, s = \"H\", fontsize=14)\n",
    "\n"
   ]
  },
  {
   "cell_type": "code",
   "execution_count": 31,
   "metadata": {},
   "outputs": [],
   "source": [
    "#  Нахожу четыре угла в прямоугольнике\n",
    "#  phi_1[DPE, BPG, GPA, EPC]\n",
    "\n",
    "phi_1 = np.arctan(np.array([(1.0 - y[0])/(3.0 - x[0]), \n",
    "                           (1.0 - y[0])/x[0], \n",
    "                           y[0]/x[0], \n",
    "                           y[0]/(3.0 - x[0])]))\n",
    "\n"
   ]
  },
  {
   "cell_type": "code",
   "execution_count": 32,
   "metadata": {},
   "outputs": [
    {
     "name": "stdout",
     "output_type": "stream",
     "text": [
      "[1.17170641]\n"
     ]
    }
   ],
   "source": [
    "\n",
    "# Число экспериментов\n",
    "n_exp = 10000\n",
    "\n",
    "\n",
    "#  Задаем зерно датчика a \n",
    "#  version=2 требует преобразовать а в целое число, если требуется\n",
    "random.seed(a=12345, version=2)\n",
    "\n",
    "#  промежуточное значение среднего расстояния\n",
    "mean_tmp = 0\n",
    "\n",
    "\n",
    "for i in range(n_exp):   \n",
    "\n",
    "    x = np.random.uniform(0.0, 3.0, 1)    \n",
    "    y = np.random.uniform(0.0, 1.0, 1)    \n",
    "    phi_0 = np.random.uniform(0.0, 2*np.pi, 1)    \n",
    "       \n",
    "    if             0 < phi_0[0] <= phi_1[0]:         # выходит на ED\n",
    "        dist = (3-x) / np.cos(phi_0[0])\n",
    "\n",
    "    elif  phi_1[0] < phi_0[0] <= np.pi/2:            # выходит на DH\n",
    "        dist = (1-y) / np.cos(np.pi/2 - phi_0[0])\n",
    "\n",
    "    elif np.pi/2 <= phi_0[0] <= np.pi - phi_1[1]:     # выходит на HB\n",
    "        dist = (1-y) / np.cos(phi_0[0] - np.pi/2)\n",
    "\n",
    "    elif np.pi - phi_1[1] < phi_0[0] <= np.pi:         # выходит на BG\n",
    "        dist = x / np.cos(np.pi - phi_0[0])\n",
    "\n",
    "    elif np.pi < phi_0[0] <= np.pi + phi_1[2]:         # выходит на GA\n",
    "        dist = x / np.cos(phi_0[0] - np.pi)\n",
    "\n",
    "    elif np.pi + phi_1[2] < phi_0[0] <= np.pi*3/2:      # выходит на AF\n",
    "        dist = y / np.cos(np.pi*3/2 - phi_0[0])\n",
    "\n",
    "    elif np.pi*3/2 < phi_0[0] <= 2*np.pi - phi_1[3]:    # выходит на FC\n",
    "        dist = y / np.cos(phi_0[0] - np.pi*3/2)\n",
    "\n",
    "    else:                                               # выходит на CE\n",
    "        dist = (3-x) / np.cos(2*np.pi - phi_0[0])\n",
    "\n",
    "    mean_tmp =  (mean_tmp * i + dist) / (i+1)   # среднее арифметическое\n",
    "\n",
    "print('Ожидаемое расстояние равно ', mean_tmp)\n",
    "\n"
   ]
  },
  {
   "cell_type": "code",
   "execution_count": null,
   "metadata": {},
   "outputs": [],
   "source": []
  },
  {
   "cell_type": "code",
   "execution_count": null,
   "metadata": {},
   "outputs": [],
   "source": []
  }
 ],
 "metadata": {
  "kernelspec": {
   "display_name": "Python 3",
   "language": "python",
   "name": "python3"
  },
  "language_info": {
   "codemirror_mode": {
    "name": "ipython",
    "version": 3
   },
   "file_extension": ".py",
   "mimetype": "text/x-python",
   "name": "python",
   "nbconvert_exporter": "python",
   "pygments_lexer": "ipython3",
   "version": "3.7.4"
  }
 },
 "nbformat": 4,
 "nbformat_minor": 2
}
