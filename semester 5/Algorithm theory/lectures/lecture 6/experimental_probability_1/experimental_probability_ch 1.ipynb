{
 "cells": [
  {
   "cell_type": "markdown",
   "metadata": {},
   "source": [
    "###   Метод Монте Карло\n",
    "\n",
    "####  Экспериментальная вероятность\n"
   ]
  },
  {
   "cell_type": "code",
   "execution_count": 4,
   "metadata": {},
   "outputs": [],
   "source": [
    "import pandas as pd\n",
    "import numpy as np\n",
    "\n",
    "import matplotlib\n",
    "import matplotlib.pyplot as plt\n",
    "\n",
    "#  выбор темы картинок на Ваш вкус. Необязательная строчка.\n",
    "#  matplotlib.style.use('ggplot')\n",
    "#  Эта строчка нужна для того, чтобы картинки отображались в ячейках\n",
    "%matplotlib inline\n"
   ]
  },
  {
   "cell_type": "code",
   "execution_count": 5,
   "metadata": {},
   "outputs": [],
   "source": [
    "import random\n"
   ]
  },
  {
   "cell_type": "code",
   "execution_count": null,
   "metadata": {},
   "outputs": [],
   "source": [
    "#  Это Питон...\n",
    "\n",
    "#  random.randint(A, B)\n",
    "#  случайное целое число  A ≤ N ≤ B     !!!!!!\n",
    "\n"
   ]
  },
  {
   "cell_type": "code",
   "execution_count": 9,
   "metadata": {},
   "outputs": [
    {
     "name": "stdout",
     "output_type": "stream",
     "text": [
      "Вероятность К+Б<=2*Ч равна 0.54\n"
     ]
    }
   ],
   "source": [
    "#  Задача 1.0\n",
    "\n",
    "# Кидаются 3 игральные кости - (К)расная, (Б)елая и (Ч)ерная.\n",
    "# Найти вероятность того, что К+Б<=2*Ч\n",
    "\n",
    "\n",
    "#  Задаем зерно датчика  a, \n",
    "#  опция version=2 требует преобразовать а в целое число, если требуется\n",
    "random.seed(a=42, version=2)\n",
    "\n",
    "\n",
    "#  Число экспериментов\n",
    "n_exp = 100000\n",
    "\n",
    "#  пространство элементарных событий\n",
    "A = list(range(1,7))\n",
    "\n",
    "#  Обнуляем счетчик числа благоприятных событий\n",
    "k_success=0\n",
    "\n",
    "#  n_exp испытаний,  бросаем три кубика\n",
    "for i in range(n_exp):\n",
    "    #    3 броска кубика   Выборка с возвращением\n",
    "    dice = random.choices(A, k=3)\n",
    "        \n",
    "    #  Исход благоприятный?\n",
    "    if dice[0] + dice[1] <= 2*dice[2]:\n",
    "        k_success += 1\n",
    "\n",
    "print('Вероятность К+Б<=2*Ч равна', np.round(k_success/n_exp, 2))\n"
   ]
  },
  {
   "cell_type": "code",
   "execution_count": 10,
   "metadata": {},
   "outputs": [
    {
     "name": "stdout",
     "output_type": "stream",
     "text": [
      "0.5416666666666666\n"
     ]
    }
   ],
   "source": [
    "#  Задача 1.1  :\n",
    "\n",
    "# Кидаются 3 игральные кости - (К)расная, (Б)елая и (Ч)ерная.\n",
    "# Найти вероятность того, что К+Б<=2*Ч\n",
    "\n",
    "#  Подсчитаем точный ответ\n",
    "\n",
    "#  Число исходов\n",
    "m=0\n",
    "#  Число благоприятных исходов\n",
    "k=0\n",
    "\n",
    "for i_red in range(1, 7):\n",
    "    for i_white in range(1, 7):\n",
    "        for i_black in range(1, 7):\n",
    "            if i_red + i_white <= 2 * i_black:\n",
    "                k += 1\n",
    "            m += 1\n",
    "\n",
    "print(k/m)\n"
   ]
  },
  {
   "cell_type": "code",
   "execution_count": null,
   "metadata": {},
   "outputs": [],
   "source": [
    "\n"
   ]
  },
  {
   "cell_type": "code",
   "execution_count": 22,
   "metadata": {},
   "outputs": [
    {
     "name": "stdout",
     "output_type": "stream",
     "text": [
      "Вероятность К+Б<=2*Ч равна 0.5418\n"
     ]
    }
   ],
   "source": [
    "#  Задача 1.2    Решение с картинками\n",
    "#  Сколько должно быть экспериментов?\n",
    "\n",
    "# Кидаются 3 игральные кости - (К)расная, (Б)елая и (Ч)ерная.\n",
    "# Найти вероятность того, что К+Б <= 2*Ч\n",
    "\n",
    "\n",
    "#  Задаем зерно датчика  a, \n",
    "#  опция version=2 требует преобразовать а в целое число, если требуется\n",
    "random.seed(a=42, version=2)\n",
    "\n",
    "#  Число экспериментов\n",
    "n_exp = 1000000\n",
    "\n",
    "#  пространство элементарных событий\n",
    "A = list(range(1,7))\n",
    "\n",
    "#  Обнуляем счетчик числа благоприятных событий\n",
    "k_success=0\n",
    "\n",
    "prob_tmp = []\n",
    "\n",
    "#  n_exp испытаний,  бросаем три кубика\n",
    "for i in range(n_exp):\n",
    "    #    3 броска кубика   Выборка с возвращением\n",
    "    dice = random.choices(A, k=3)\n",
    "        \n",
    "    #  Исход благоприятный?\n",
    "    if dice[0] + dice[1] <= 2*dice[2]:\n",
    "        k_success += 1\n",
    "\n",
    "    prob_tmp.append(k_success/(i+1))\n",
    "        \n",
    "        \n",
    "print('Вероятность К+Б<=2*Ч равна', np.round(k_success/n_exp, 4))\n",
    "\n",
    "\n"
   ]
  },
  {
   "cell_type": "code",
   "execution_count": 15,
   "metadata": {},
   "outputs": [
    {
     "data": {
      "text/plain": [
       "[<matplotlib.lines.Line2D at 0x1de82726ac8>]"
      ]
     },
     "execution_count": 15,
     "metadata": {},
     "output_type": "execute_result"
    },
    {
     "data": {
      "image/png": "[encoded data removed]",
      "text/plain": [
       "<Figure size 432x288 with 1 Axes>"
      ]
     },
     "metadata": {
      "needs_background": "light"
     },
     "output_type": "display_data"
    }
   ],
   "source": [
    "#  plt.plot(prob_tmp)\n",
    "\n",
    "plt.plot(prob_tmp[10000 : 100000])\n",
    "\n",
    "#  plt.plot(prob_tmp[60000 : 80000])\n",
    "\n",
    "\n",
    "#  plt.plot(prob_tmp[ : 1000])\n",
    "\n",
    "#  plt.plot(prob_tmp[800 : 1000])\n",
    "\n",
    "\n"
   ]
  },
  {
   "cell_type": "code",
   "execution_count": null,
   "metadata": {},
   "outputs": [],
   "source": []
  },
  {
   "cell_type": "code",
   "execution_count": null,
   "metadata": {},
   "outputs": [],
   "source": []
  },
  {
   "cell_type": "code",
   "execution_count": null,
   "metadata": {},
   "outputs": [],
   "source": []
  },
  {
   "cell_type": "code",
   "execution_count": null,
   "metadata": {},
   "outputs": [],
   "source": []
  },
  {
   "cell_type": "code",
   "execution_count": null,
   "metadata": {},
   "outputs": [],
   "source": []
  },
  {
   "cell_type": "code",
   "execution_count": null,
   "metadata": {},
   "outputs": [],
   "source": []
  },
  {
   "cell_type": "code",
   "execution_count": 3,
   "metadata": {},
   "outputs": [
    {
     "name": "stdout",
     "output_type": "stream",
     "text": [
      "67280\n",
      "0.0018801909620037931\n"
     ]
    }
   ],
   "source": [
    "# Задача  2\n",
    "\n",
    "# Найти вероятность того, что среди наугад вытащенных 5 карт из колоды в 52\n",
    "# будет 5 карт одной масти (Флеш).\n",
    "\n",
    "\n",
    "#  Задаем зерно датчика a, \n",
    "#  опция version=2 требует преобразовать а в целое число, если требуется\n",
    "random.seed(a=12345, version=2)\n",
    "\n",
    "# Число экспериментов\n",
    "n_exp = 10000\n",
    "\n",
    "\n",
    "p_0 = 1          #   Вероятность, полученная на предыдущей попытке\n",
    "delta_ = 1.1     #   \n",
    "\n",
    "#   Колода карт, важна только масть\n",
    "deck = [\"s\"] * 13 + [\"h\"] * 13 + [\"d\"] * 13 + [\"c\"] * 13 \n",
    "\n",
    "while delta_ >= 0.00001:\n",
    "\n",
    "#  Обнуляем счетчик\n",
    "    count_ = 0\n",
    "\n",
    "    for i in range(n_exp):             # Проводим n_exp экспериментов\n",
    "        a = random.sample(deck, 5)     # Выбираем 5 карт без возвращения\n",
    "\n",
    "#   Индийский код\n",
    "        if a.count(\"s\") == 5:\n",
    "            count_ += 1\n",
    "        if a.count(\"h\") == 5:\n",
    "            count_ += 1\n",
    "        if a.count(\"d\") == 5:\n",
    "            count_ += 1\n",
    "        if a.count(\"c\") == 5:\n",
    "            count_ += 1\n",
    "\n",
    "#    1-е улучшение          \n",
    "#        if a.count(\"s\") == 5 or a.count(\"h\") == 5 or a.count(\"d\") == 5 or a.count(\"c\") == 5:\n",
    "#            count_ += 1\n",
    "\n",
    "\n",
    "#    2-е улучшение       \n",
    "#    deck = [1] * 13 + [10] * 13 + [100] * 13 + [1000] * 13 \n",
    "#    число deck содержит цифру 5?\n",
    "\n",
    "    p= count_/n_exp              # Оцениваем вероятность\n",
    "    delta_ = abs(p - p_0)        # Считаем изменение вероятности\n",
    "    p_0 = p                      # Новая оценка вероятности заменяет старую\n",
    "    n_exp = round(n_exp * 1.1)   # Увеличиваем число экспериментов\n",
    "\n",
    "print(n_exp)\n",
    "print(p)"
   ]
  },
  {
   "cell_type": "code",
   "execution_count": null,
   "metadata": {},
   "outputs": [],
   "source": []
  },
  {
   "cell_type": "code",
   "execution_count": 72,
   "metadata": {},
   "outputs": [
    {
     "name": "stdout",
     "output_type": "stream",
     "text": [
      "0.0019807923169267707\n",
      "0.0019807923169267707\n"
     ]
    }
   ],
   "source": [
    "#  Правильный ответ - вычисляем  тремя способами\n",
    "\n",
    "\n",
    "import scipy.special\n",
    "\n",
    "# the two give the same results \n",
    "print(scipy.special.binom(13,5) * 4 / scipy.special.binom(52, 5))\n",
    "\n",
    "print(scipy.special.comb(13,5) * 4 / scipy.special.comb(52, 5))\n",
    "\n",
    "print(13*12*11*10*9/52/51/50/49/48*4)"
   ]
  },
  {
   "cell_type": "code",
   "execution_count": null,
   "metadata": {},
   "outputs": [],
   "source": []
  },
  {
   "cell_type": "code",
   "execution_count": null,
   "metadata": {},
   "outputs": [],
   "source": []
  },
  {
   "cell_type": "code",
   "execution_count": null,
   "metadata": {},
   "outputs": [],
   "source": []
  },
  {
   "cell_type": "code",
   "execution_count": null,
   "metadata": {},
   "outputs": [],
   "source": []
  },
  {
   "cell_type": "code",
   "execution_count": null,
   "metadata": {},
   "outputs": [],
   "source": []
  },
  {
   "cell_type": "code",
   "execution_count": null,
   "metadata": {},
   "outputs": [],
   "source": []
  },
  {
   "cell_type": "code",
   "execution_count": null,
   "metadata": {},
   "outputs": [],
   "source": []
  },
  {
   "cell_type": "code",
   "execution_count": null,
   "metadata": {},
   "outputs": [],
   "source": [
    "# Задача 3\n",
    "# Найти вероятность того, что точка, наугад брошенная в круг, \n",
    "# попадет в квадрат, который вписан в этот круг\n",
    "\n"
   ]
  },
  {
   "cell_type": "code",
   "execution_count": 13,
   "metadata": {},
   "outputs": [
    {
     "name": "stdout",
     "output_type": "stream",
     "text": [
      "Приближенный ответ после  785182 экспериментов  0.6363097982378608\n",
      "Точный ответ  0.6366197723675814\n"
     ]
    }
   ],
   "source": [
    "# Число экспериментов\n",
    "n_exp = 1000000\n",
    "\n",
    "m=0  #  Число точек, попавших в круг\n",
    "k=0  #  Число точек, попавших в квадрат\n",
    "\n",
    "\n",
    "#  Задаем зерно датчика a \n",
    "#  version=2 требует преобразовать а в целое число, если требуется\n",
    "random.seed(a=12345, version=2)\n",
    "\n",
    "\n",
    "for i in range(n_exp):             # Проводим n_exp экспериментов\n",
    "    a = np.random.uniform(0.0, 1.0, 2)     # Бросаем точку в квадрат [0,1]*[0,1]\n",
    "    if (a[0]-0.5)**2 + (a[1]-0.5)**2 < 0.25:\n",
    "        m += 1\n",
    "        if abs(a[0] - 0.5) < 1/(2 * np.sqrt(2.0)) and abs(a[1] - 0.5) < 1/(2 * np.sqrt(2.0)):\n",
    "            k += 1\n",
    "\n",
    "print(\"Приближенный ответ после \", m, \"экспериментов \", k/m)\n",
    "\n",
    "print(\"Точный ответ \", 2.0/np.pi)\n",
    "\n",
    "#  Как улучшить?\n",
    "#  Расположить центр круга в начале координат\n",
    "\n",
    "#  Вопрос.\n",
    "#  Что изменится, если диаметр круга не равен 1?\n"
   ]
  },
  {
   "cell_type": "code",
   "execution_count": null,
   "metadata": {},
   "outputs": [],
   "source": []
  },
  {
   "cell_type": "code",
   "execution_count": null,
   "metadata": {},
   "outputs": [],
   "source": []
  },
  {
   "cell_type": "code",
   "execution_count": null,
   "metadata": {},
   "outputs": [],
   "source": []
  }
 ],
 "metadata": {
  "kernelspec": {
   "display_name": "Python 3",
   "language": "python",
   "name": "python3"
  },
  "language_info": {
   "codemirror_mode": {
    "name": "ipython",
    "version": 3
   },
   "file_extension": ".py",
   "mimetype": "text/x-python",
   "name": "python",
   "nbconvert_exporter": "python",
   "pygments_lexer": "ipython3",
   "version": "3.7.4"
  }
 },
 "nbformat": 4,
 "nbformat_minor": 2
}
