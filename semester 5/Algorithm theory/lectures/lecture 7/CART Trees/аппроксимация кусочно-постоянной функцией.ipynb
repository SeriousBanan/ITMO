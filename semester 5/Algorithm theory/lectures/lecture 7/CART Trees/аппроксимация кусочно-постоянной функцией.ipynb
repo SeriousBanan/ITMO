{
 "cells": [
  {
   "cell_type": "code",
   "execution_count": 1,
   "metadata": {},
   "outputs": [],
   "source": [
    "%matplotlib inline"
   ]
  },
  {
   "cell_type": "markdown",
   "metadata": {},
   "source": [
    "###  Деревья регрессии как аппроксимация кусочно-постоянной функцией\n",
    "\n",
    "Пример из руководства пользователя по процедуре"
   ]
  },
  {
   "cell_type": "markdown",
   "metadata": {},
   "source": [
    "Приближаем зашумленную синусоиду"
   ]
  },
  {
   "cell_type": "code",
   "execution_count": 2,
   "metadata": {},
   "outputs": [
    {
     "name": "stdout",
     "output_type": "stream",
     "text": [
      "Automatically created module for IPython interactive environment\n"
     ]
    }
   ],
   "source": [
    "print(__doc__)\n",
    "\n",
    "# Подключаем библиотеки\n",
    "import numpy as np\n",
    "from sklearn.tree import DecisionTreeRegressor\n",
    "import matplotlib.pyplot as plt\n",
    "\n",
    "# Создаем синусоиду + шум\n",
    "rng = np.random.RandomState(1)\n",
    "X = np.sort(5 * rng.rand(80, 1), axis=0)\n",
    "y = np.sin(X).ravel()\n",
    "y[::5] += 3 * (0.5 - rng.rand(16))\n",
    "\n",
    "# Подгоняем регрессионную модель\n",
    "regr_1 = DecisionTreeRegressor(max_depth=2)\n",
    "#  regr_2 = DecisionTreeRegressor(max_depth=5)\n",
    "regr_1.fit(X, y)\n",
    "#  regr_2.fit(X, y)\n",
    "\n",
    "# вычисляем модельные значения\n",
    "X_test = np.arange(0.0, 5.0, 0.01)[:, np.newaxis]\n",
    "y_1 = regr_1.predict(X_test)\n",
    "#  y_2 = regr_2.predict(X_test)\n",
    "\n"
   ]
  },
  {
   "cell_type": "code",
   "execution_count": 4,
   "metadata": {},
   "outputs": [
    {
     "data": {
      "image/png": "[encoded data removed]",
      "text/plain": [
       "<Figure size 432x288 with 1 Axes>"
      ]
     },
     "metadata": {
      "needs_background": "light"
     },
     "output_type": "display_data"
    }
   ],
   "source": [
    "# Строим график\n",
    "plt.figure()\n",
    "plt.scatter(X, y, s=20, edgecolor=\"black\",\n",
    "            c=\"darkorange\", label=u\"наблюдения\")\n",
    "plt.plot(X_test, y_1, color=\"cornflowerblue\",\n",
    "         label=u\"глубина дерева=2\", linewidth=2)\n",
    "#  plt.plot(X_test, y_2, color=\"yellowgreen\", label=u\"глубина дерева=5\", linewidth=2)\n",
    "plt.xlabel(u\"предиктор\")\n",
    "plt.ylabel(u\"отклик\")\n",
    "plt.title(u\"CART регрессия\")\n",
    "plt.legend()\n",
    "plt.show()"
   ]
  },
  {
   "cell_type": "code",
   "execution_count": null,
   "metadata": {},
   "outputs": [],
   "source": [
    "We can see that if the maximum depth of the tree (controlled by the\n",
    "`max_depth` parameter) is set too high, the decision trees learn too fine\n",
    "details of the training data and learn from the noise, i.e. they overfit.\n"
   ]
  },
  {
   "cell_type": "code",
   "execution_count": 3,
   "metadata": {},
   "outputs": [
    {
     "data": {
      "text/plain": [
       "array([-1.1493464 , -1.1493464 , -1.1493464 , -1.1493464 , -1.1493464 ,\n",
       "        0.07894101,  0.07894101,  0.07894101,  0.07894101,  0.07894101,\n",
       "        0.07894101,  0.07894101,  0.07894101,  0.07894101,  0.07894101,\n",
       "        0.07894101,  0.07894101,  0.07894101,  0.07894101,  0.07894101,\n",
       "        0.07894101,  0.07894101,  0.07894101,  0.07894101,  0.07894101,\n",
       "        0.07894101,  0.39845005,  0.39845005,  0.39845005,  0.39845005,\n",
       "        0.39845005,  0.39845005,  0.39845005,  0.39845005,  0.39845005,\n",
       "        0.39845005,  0.39845005,  0.39845005,  0.39845005,  0.39845005,\n",
       "        0.39845005,  0.39845005,  0.39845005,  0.39845005,  0.39845005,\n",
       "        0.39845005,  0.39845005,  0.39845005,  0.39845005,  0.39845005,\n",
       "        0.39845005, -0.26319138,  0.80884013,  0.80884013,  0.80884013,\n",
       "        0.80884013,  0.80884013,  0.80884013,  0.80884013,  0.80884013,\n",
       "        0.80884013,  0.80884013,  0.80884013,  0.80884013,  0.80884013,\n",
       "        0.80884013,  0.80884013,  0.80884013,  0.80884013,  0.80884013,\n",
       "        0.80884013,  0.80884013,  0.80884013,  0.80884013,  0.80884013,\n",
       "        0.80884013,  0.80884013,  0.80884013,  0.80884013,  0.80884013,\n",
       "        0.80884013,  0.80884013,  0.80884013,  0.80884013,  0.80884013,\n",
       "        0.80884013,  0.80884013,  0.80884013,  0.80884013,  0.80884013,\n",
       "        0.80884013,  0.80884013,  0.80884013,  0.80884013,  0.80884013,\n",
       "        0.80884013,  0.80884013,  0.80884013,  0.80884013,  0.80884013,\n",
       "        0.80884013,  0.80884013,  0.80884013,  0.80884013,  0.80884013,\n",
       "        0.80884013,  0.80884013,  0.80884013,  0.80884013,  0.80884013,\n",
       "        0.80884013,  0.80884013,  0.80884013,  0.80884013,  0.80884013,\n",
       "        0.80884013,  0.80884013,  0.80884013,  0.80884013,  0.80884013,\n",
       "        0.80884013,  0.80884013,  0.80884013,  0.80884013,  0.80884013,\n",
       "        0.80884013,  0.80884013,  0.80884013,  0.80884013,  0.80884013,\n",
       "        0.80884013,  0.80884013,  0.80884013,  0.80884013,  0.80884013,\n",
       "        0.80884013,  0.80884013, -0.20183403, -0.20183403, -0.20183403,\n",
       "       -0.20183403, -0.20183403, -0.20183403,  1.02480053,  1.02480053,\n",
       "        1.02480053,  1.02480053,  1.02480053,  1.02480053,  1.02480053,\n",
       "        1.02480053,  1.02480053,  1.02480053,  1.02480053,  1.02480053,\n",
       "        1.02480053,  1.02480053,  1.02480053,  1.02480053,  1.02480053,\n",
       "        1.02480053,  1.02480053,  1.02480053,  1.02480053,  1.02480053,\n",
       "        1.02480053,  1.02480053,  1.02480053,  1.02480053,  1.02480053,\n",
       "        1.02480053,  1.02480053,  1.02480053,  1.02480053,  1.02480053,\n",
       "        1.02480053,  1.02480053,  1.02480053,  1.02480053,  1.02480053,\n",
       "        1.02480053,  1.02480053,  1.02480053,  1.02480053,  1.02480053,\n",
       "        1.02480053,  1.02480053,  0.91498713,  0.91498713,  0.91498713,\n",
       "        0.91498713,  0.91498713,  0.91498713,  0.91498713,  0.91498713,\n",
       "        0.91498713,  0.91498713,  0.91498713,  0.91498713,  0.91498713,\n",
       "        0.91498713,  0.91498713,  0.91498713, -0.51669013, -0.51669013,\n",
       "       -0.51669013, -0.51669013, -0.51669013,  0.5424728 ,  0.5424728 ,\n",
       "        0.5424728 ,  0.5424728 ,  0.5424728 ,  0.5424728 ,  0.5424728 ,\n",
       "        0.5424728 ,  0.5424728 ,  0.5424728 ,  0.5424728 ,  0.5424728 ,\n",
       "        0.5424728 ,  0.5424728 ,  0.5424728 ,  0.5424728 ,  0.5424728 ,\n",
       "        0.5424728 ,  0.5424728 ,  0.5424728 ,  0.5424728 ,  0.5424728 ,\n",
       "        0.5424728 ,  0.5424728 ,  0.5424728 ,  0.5424728 ,  0.5424728 ,\n",
       "        0.5424728 ,  0.5424728 ,  0.5424728 ,  0.5424728 ,  0.5424728 ,\n",
       "        0.5424728 ,  0.5424728 ,  0.5424728 ,  0.5424728 ,  0.5424728 ,\n",
       "        0.5424728 ,  0.5424728 ,  0.5424728 ,  0.5424728 ,  0.5424728 ,\n",
       "        0.5424728 ,  0.5424728 ,  0.5424728 ,  0.5424728 ,  0.5424728 ,\n",
       "        0.5424728 ,  0.5424728 ,  0.5424728 ,  0.5424728 ,  0.5424728 ,\n",
       "        0.5424728 ,  0.5424728 ,  0.5424728 ,  0.5424728 ,  0.5424728 ,\n",
       "        0.5424728 ,  0.5424728 ,  0.5424728 ,  0.5424728 ,  0.5424728 ,\n",
       "        0.5424728 ,  0.5424728 ,  0.5424728 ,  0.5424728 ,  0.5424728 ,\n",
       "        0.5424728 ,  0.5424728 ,  0.5424728 ,  0.5424728 ,  0.5424728 ,\n",
       "        0.5424728 ,  0.5424728 ,  0.5424728 ,  0.5424728 ,  0.5424728 ,\n",
       "        0.5424728 ,  0.5424728 ,  0.5424728 ,  0.5424728 ,  0.5424728 ,\n",
       "        0.5424728 ,  0.5424728 ,  0.5424728 ,  0.5424728 ,  1.34959235,\n",
       "        1.34959235,  1.34959235,  1.34959235,  1.34959235,  1.34959235,\n",
       "        1.34959235,  1.34959235,  1.34959235,  1.34959235,  1.34959235,\n",
       "        1.34959235,  1.34959235,  1.34959235,  1.34959235,  1.34959235,\n",
       "        1.34959235,  1.34959235,  1.34959235,  1.34959235, -0.17645185,\n",
       "       -0.17645185, -0.17645185, -0.17645185, -0.17645185, -0.17645185,\n",
       "       -0.17645185, -0.17645185, -0.17645185, -0.17645185, -0.17645185,\n",
       "       -0.17645185, -0.17645185, -0.17645185, -0.17645185, -0.17645185,\n",
       "       -0.17645185, -0.17645185, -0.17645185, -0.17645185, -0.20918837,\n",
       "       -0.20918837, -0.20918837, -0.20918837, -0.24990778, -0.24990778,\n",
       "       -0.24990778, -0.24990778, -0.28068224, -1.63529379, -1.63529379,\n",
       "       -0.31896972, -0.31896972, -0.31896972, -0.31896972, -0.31896972,\n",
       "       -0.31896972, -0.31896972, -0.31896972, -0.31896972, -0.31896972,\n",
       "       -0.31896972, -0.31896972, -0.31896972, -0.31896972, -0.31896972,\n",
       "       -0.31896972, -0.31896972, -0.54506608, -0.54506608, -0.54506608,\n",
       "       -0.54506608, -0.54506608, -0.54506608, -0.54506608, -0.54506608,\n",
       "       -0.54506608, -0.54506608, -0.54506608, -0.54506608, -0.54506608,\n",
       "       -0.54506608, -0.54506608, -0.54506608, -0.54506608, -0.54506608,\n",
       "       -0.54506608, -0.54506608, -0.54506608, -0.54506608, -0.54506608,\n",
       "       -0.54506608, -0.82876593, -0.82876593, -0.82876593, -0.82876593,\n",
       "       -0.82876593, -0.82876593, -0.82876593, -0.82876593, -0.82876593,\n",
       "       -0.82876593, -0.82876593, -0.82876593, -0.82876593, -0.82876593,\n",
       "       -0.82876593, -0.82876593, -0.82876593, -0.82876593, -0.82876593,\n",
       "       -0.82876593, -0.82876593, -0.82876593, -0.82876593, -0.82876593,\n",
       "       -0.82876593, -0.82876593, -0.82876593, -0.82876593, -0.82876593,\n",
       "       -0.82876593, -0.82876593, -0.82876593, -0.82876593, -0.82876593,\n",
       "       -0.82876593, -0.82876593, -0.82876593, -0.82876593, -0.82876593,\n",
       "       -0.82876593, -0.82876593, -0.82876593, -0.82876593, -0.82876593,\n",
       "       -0.82876593, -0.82876593, -0.82876593, -0.82876593, -0.82876593,\n",
       "       -0.82876593, -0.82876593, -0.82876593, -0.82876593, -0.82876593,\n",
       "       -0.97171398, -0.97171398, -0.97171398, -0.97171398, -0.97171398,\n",
       "       -0.97171398, -0.97171398, -0.97171398, -0.97171398, -0.97171398,\n",
       "       -0.97171398, -0.97171398, -0.97171398, -0.97171398, -0.97171398,\n",
       "       -0.97171398, -0.97171398, -0.97171398, -0.97171398, -0.97171398,\n",
       "       -0.20828128, -0.20828128, -0.20828128, -0.20828128, -0.20828128,\n",
       "       -0.20828128, -0.20828128, -0.20828128, -0.20828128, -0.99848822,\n",
       "       -0.99848822, -0.99848822, -0.99848822, -0.99848822, -0.99848822,\n",
       "       -0.99848822, -0.99848822, -0.99848822, -0.99848822, -0.99848822,\n",
       "       -0.99848822, -0.99848822, -0.99170146, -0.99170146, -0.99170146,\n",
       "       -0.99170146, -0.99170146, -0.99170146, -0.99170146, -0.99170146,\n",
       "       -0.9732277 , -0.9732277 , -0.9732277 , -0.9732277 , -0.9732277 ,\n",
       "       -0.9732277 , -0.9732277 , -0.9732277 , -0.9732277 , -0.9732277 ])"
      ]
     },
     "execution_count": 3,
     "metadata": {},
     "output_type": "execute_result"
    }
   ],
   "source": [
    "# X\n",
    "y_2"
   ]
  },
  {
   "cell_type": "code",
   "execution_count": null,
   "metadata": {},
   "outputs": [],
   "source": []
  }
 ],
 "metadata": {
  "kernelspec": {
   "display_name": "Python 3",
   "language": "python",
   "name": "python3"
  },
  "language_info": {
   "codemirror_mode": {
    "name": "ipython",
    "version": 3
   },
   "file_extension": ".py",
   "mimetype": "text/x-python",
   "name": "python",
   "nbconvert_exporter": "python",
   "pygments_lexer": "ipython3",
   "version": "3.7.4"
  }
 },
 "nbformat": 4,
 "nbformat_minor": 1
}
