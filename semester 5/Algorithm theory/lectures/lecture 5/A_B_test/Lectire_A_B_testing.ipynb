{
 "cells": [
  {
   "cell_type": "code",
   "execution_count": 1,
   "metadata": {},
   "outputs": [],
   "source": [
    "import numpy as np\n",
    "import pandas as pd\n",
    "\n",
    "\n",
    "from scipy.stats import norm, chi2_contingency\n",
    "import statsmodels.api as sm\n"
   ]
  },
  {
   "cell_type": "code",
   "execution_count": 2,
   "metadata": {},
   "outputs": [],
   "source": [
    "#  Данные о смертности после аварии \n",
    "#  среди тех, кто пристегнул ремень\n",
    "#  и среди тех, кто не пристегнул ремень\n",
    "\n",
    "#                survived died\n",
    "#  no seat belt     1781  135\n",
    "#  seat belt        1443   47"
   ]
  },
  {
   "cell_type": "code",
   "execution_count": 3,
   "metadata": {},
   "outputs": [
    {
     "name": "stdout",
     "output_type": "stream",
     "text": [
      "['5.009616324309', '0.000000545387']\n"
     ]
    }
   ],
   "source": [
    "#   Версия 1. Прямые вычисления\n",
    "\n",
    "s1 = 135            #  число успехов     выборка А\n",
    "n1 = 1781 + s1      #  число испытаний   выборка А\n",
    "s2 = 47             #  число успехов     выборка Б\n",
    "n2 = 1443  + s2     #  число испытаний   выборка Б\n",
    "p1 = s1/n1               #  оценка вероятности успеха выборка А\n",
    "p2 = s2/n2               #  оценка вероятности успеха выборка Б\n",
    "p = (s1 + s2)/(n1+n2)    #  оценка вероятности успеха выборка А+Б\n",
    "z = (p2-p1)/ ((p*(1-p)*((1/n1)+(1/n2)))**0.5)     #  z-метка\n",
    "\n",
    "p_value = norm.cdf(-abs(z))\n",
    "\n",
    "#  z-метка и p-значение\n",
    "print(['{:.12f}'.format(a) for a in (abs(z), p_value * 2)])\n",
    "\n"
   ]
  },
  {
   "cell_type": "code",
   "execution_count": null,
   "metadata": {},
   "outputs": [],
   "source": []
  },
  {
   "cell_type": "code",
   "execution_count": 4,
   "metadata": {},
   "outputs": [
    {
     "name": "stdout",
     "output_type": "stream",
     "text": [
      "['5.009616324309', '0.000000545387']\n"
     ]
    }
   ],
   "source": [
    "#   Версия 2. Используем  proportions_ztest\n",
    "\n",
    "z1, p_value1 = sm.stats.proportions_ztest([s1, s2], [n1, n2])\n",
    "\n",
    "#  z-метка и p-значение\n",
    "print(['{:.12f}'.format(b) for b in (z1, p_value1)])\n",
    "\n"
   ]
  },
  {
   "cell_type": "code",
   "execution_count": 5,
   "metadata": {},
   "outputs": [
    {
     "name": "stdout",
     "output_type": "stream",
     "text": [
      "['5.009616324309', '0.000000545387']\n"
     ]
    }
   ],
   "source": [
    "#   Версия 3. Используем  chi2_contingency\n",
    "\n",
    "#  Избегайте, пока Вы не разобрались с критерием хи-квадрат,\n",
    "#  почему ответ такой же, как ранее!!!\n",
    "\n",
    "arr = np.array([[s1, n1-s1], [s2, n2-s2]])\n",
    "chi2, p_value3, dof, exp = chi2_contingency(arr, correction=False)\n",
    "\n",
    "print(['{:.12f}'.format(d) for d in (chi2**0.5, p_value3)])"
   ]
  },
  {
   "cell_type": "markdown",
   "metadata": {},
   "source": [
    "Все решения дают один и тот же ответ!"
   ]
  },
  {
   "cell_type": "code",
   "execution_count": 6,
   "metadata": {},
   "outputs": [
    {
     "name": "stdout",
     "output_type": "stream",
     "text": [
      "['5.009616324309', '0.000000272693']\n"
     ]
    }
   ],
   "source": [
    "#  односторонние альтернативные гипотезы\n",
    "#  alternative (string in ['two-sided', 'smaller', 'larger'])\n",
    "z1, p_value1 = sm.stats.proportions_ztest([s1, s2], [n1, n2], alternative='larger')\n",
    "\n",
    "print(['{:.12f}'.format(b) for b in (z1, p_value1)])\n"
   ]
  },
  {
   "cell_type": "code",
   "execution_count": null,
   "metadata": {},
   "outputs": [],
   "source": []
  },
  {
   "cell_type": "code",
   "execution_count": 7,
   "metadata": {},
   "outputs": [
    {
     "data": {
      "text/html": [
       "<div>\n",
       "<style scoped>\n",
       "    .dataframe tbody tr th:only-of-type {\n",
       "        vertical-align: middle;\n",
       "    }\n",
       "\n",
       "    .dataframe tbody tr th {\n",
       "        vertical-align: top;\n",
       "    }\n",
       "\n",
       "    .dataframe thead th {\n",
       "        text-align: right;\n",
       "    }\n",
       "</style>\n",
       "<table border=\"1\" class=\"dataframe\">\n",
       "  <thead>\n",
       "    <tr style=\"text-align: right;\">\n",
       "      <th></th>\n",
       "      <th>died</th>\n",
       "      <th>survived</th>\n",
       "    </tr>\n",
       "  </thead>\n",
       "  <tbody>\n",
       "    <tr>\n",
       "      <td>no seat belt</td>\n",
       "      <td>135</td>\n",
       "      <td>1781</td>\n",
       "    </tr>\n",
       "    <tr>\n",
       "      <td>seat belt</td>\n",
       "      <td>47</td>\n",
       "      <td>1443</td>\n",
       "    </tr>\n",
       "  </tbody>\n",
       "</table>\n",
       "</div>"
      ],
      "text/plain": [
       "              died  survived\n",
       "no seat belt   135      1781\n",
       "seat belt       47      1443"
      ]
     },
     "execution_count": 7,
     "metadata": {},
     "output_type": "execute_result"
    }
   ],
   "source": [
    "#  chi2_contingency для анализа таблиц Pandas\n",
    "#  повторение предыдцщего анализа\n",
    "\n",
    "contingency_table = pd.DataFrame([[135, 1781], [47, 1443]],\n",
    "                                 index=['no seat belt', 'seat belt'],\n",
    "                                 columns=['died', 'survived'])\n",
    "contingency_table"
   ]
  },
  {
   "cell_type": "code",
   "execution_count": 8,
   "metadata": {},
   "outputs": [
    {
     "name": "stdout",
     "output_type": "stream",
     "text": [
      "p-value: 5.453865409256355e-07\n"
     ]
    }
   ],
   "source": [
    "res = chi2_contingency(contingency_table, correction=False)\n",
    "print ('p-value: {0}'.format(res[1]))"
   ]
  },
  {
   "cell_type": "code",
   "execution_count": null,
   "metadata": {},
   "outputs": [],
   "source": []
  },
  {
   "cell_type": "code",
   "execution_count": null,
   "metadata": {},
   "outputs": [],
   "source": [
    "#  Данные о смертности после аварии \n",
    "#  среди тех, кто пристегнул ремень\n",
    "#  и среди тех, кто не пристегнул ремень\n",
    "\n",
    "#                survived died\n",
    "#  no seat belt     1781  135\n",
    "#  seat belt        1443   47\n",
    "\n",
    "\n",
    "\n",
    "RESULT\n",
    "                   WIN LOSS TOTAL\n",
    "Clay              1090 171 1261\n",
    "Surface Nonclay   2747 446 3193\n",
    "Total             3837 617 4454\n",
    "\n"
   ]
  },
  {
   "cell_type": "code",
   "execution_count": 2,
   "metadata": {},
   "outputs": [
    {
     "name": "stdout",
     "output_type": "stream",
     "text": [
      "['0.354570750872', '0.722911191632']\n"
     ]
    }
   ],
   "source": [
    "s1 = 1090           #  число успехов     выборка А\n",
    "n1 = 1261      #  число испытаний   выборка А\n",
    "s2 = 2747             #  число успехов     выборка Б\n",
    "n2 = 3193     #  число испытаний   выборка Б\n",
    "\n",
    "\n",
    "\n",
    "#   Версия 2. Используем  proportions_ztest\n",
    "\n",
    "z1, p_value1 = sm.stats.proportions_ztest([s1, s2], [n1, n2])\n",
    "\n",
    "#  z-метка и p-значение\n",
    "print(['{:.12f}'.format(b) for b in (z1, p_value1)])\n",
    "\n"
   ]
  },
  {
   "cell_type": "code",
   "execution_count": null,
   "metadata": {},
   "outputs": [],
   "source": [
    "RESULT\n",
    "            WIN LOSS TOTAL\n",
    "Clay            1660 863 2523\n",
    "Surface Nonclay 3658 2715 6373\n",
    "Total           5318 3578 8896"
   ]
  },
  {
   "cell_type": "code",
   "execution_count": 3,
   "metadata": {},
   "outputs": [
    {
     "name": "stdout",
     "output_type": "stream",
     "text": [
      "['7.279826592693', '0.000000000000']\n"
     ]
    }
   ],
   "source": [
    "s1 = 1660           #  число успехов     выборка А\n",
    "n1 = 2523      #  число испытаний   выборка А\n",
    "s2 = 3658             #  число успехов     выборка Б\n",
    "n2 = 6373     #  число испытаний   выборка Б\n",
    "\n",
    "\n",
    "\n",
    "#   Версия 2. Используем  proportions_ztest\n",
    "\n",
    "z1, p_value1 = sm.stats.proportions_ztest([s1, s2], [n1, n2])\n",
    "\n",
    "#  z-метка и p-значение\n",
    "print(['{:.12f}'.format(b) for b in (z1, p_value1)])\n",
    "\n"
   ]
  },
  {
   "cell_type": "code",
   "execution_count": null,
   "metadata": {},
   "outputs": [],
   "source": []
  },
  {
   "cell_type": "code",
   "execution_count": null,
   "metadata": {},
   "outputs": [],
   "source": [
    "WIN LOSS TOTAL\n",
    "Clay            570 692 1262\n",
    "Surface Nonclay 911 2269 3180\n",
    "Total           1481 2961 4442"
   ]
  },
  {
   "cell_type": "code",
   "execution_count": 4,
   "metadata": {},
   "outputs": [
    {
     "name": "stdout",
     "output_type": "stream",
     "text": [
      "['10.531957990552', '0.000000000000']\n"
     ]
    }
   ],
   "source": [
    "s1 = 570           #  число успехов     выборка А\n",
    "n1 = 1262      #  число испытаний   выборка А\n",
    "s2 = 911             #  число успехов     выборка Б\n",
    "n2 = 3180     #  число испытаний   выборка Б\n",
    "\n",
    "\n",
    "#   Версия 2. Используем  proportions_ztest\n",
    "\n",
    "z1, p_value1 = sm.stats.proportions_ztest([s1, s2], [n1, n2])\n",
    "\n",
    "#  z-метка и p-значение\n",
    "print(['{:.12f}'.format(b) for b in (z1, p_value1)])\n"
   ]
  },
  {
   "cell_type": "code",
   "execution_count": null,
   "metadata": {},
   "outputs": [],
   "source": []
  },
  {
   "cell_type": "code",
   "execution_count": null,
   "metadata": {},
   "outputs": [],
   "source": []
  },
  {
   "cell_type": "code",
   "execution_count": null,
   "metadata": {},
   "outputs": [],
   "source": []
  },
  {
   "cell_type": "code",
   "execution_count": null,
   "metadata": {},
   "outputs": [],
   "source": []
  }
 ],
 "metadata": {
  "kernelspec": {
   "display_name": "Python 3",
   "language": "python",
   "name": "python3"
  },
  "language_info": {
   "codemirror_mode": {
    "name": "ipython",
    "version": 3
   },
   "file_extension": ".py",
   "mimetype": "text/x-python",
   "name": "python",
   "nbconvert_exporter": "python",
   "pygments_lexer": "ipython3",
   "version": "3.7.4"
  }
 },
 "nbformat": 4,
 "nbformat_minor": 2
}
