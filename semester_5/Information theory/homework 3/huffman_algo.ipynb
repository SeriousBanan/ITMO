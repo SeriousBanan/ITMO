{
 "metadata": {
  "language_info": {
   "codemirror_mode": {
    "name": "ipython",
    "version": 3
   },
   "file_extension": ".py",
   "mimetype": "text/x-python",
   "name": "python",
   "nbconvert_exporter": "python",
   "pygments_lexer": "ipython3",
   "version": "3.8.5-final"
  },
  "orig_nbformat": 2,
  "kernelspec": {
   "name": "Python 3.8.5 32-bit",
   "display_name": "Python 3.8.5 32-bit",
   "metadata": {
    "interpreter": {
     "hash": "3d08ce2683530840711bcc1895038ce67e4a9ac343c7829b875cd174f213d260"
    }
   }
  }
 },
 "nbformat": 4,
 "nbformat_minor": 2,
 "cells": [
  {
   "cell_type": "code",
   "execution_count": 1,
   "metadata": {},
   "outputs": [],
   "source": [
    "ALPH = [\n",
    "    [\" \", 0.145],\n",
    "    ['О', 0.095],\n",
    "    ['Е', 0.074],\n",
    "    ['А', 0.064],\n",
    "    ['И', 0.064],\n",
    "    ['Т', 0.056],\n",
    "    ['Н', 0.056],\n",
    "    ['С', 0.047],\n",
    "    ['Р', 0.041],\n",
    "    ['В', 0.039],\n",
    "    ['Л', 0.036],\n",
    "    ['К', 0.029],\n",
    "    ['М', 0.026],\n",
    "    ['Д', 0.026],\n",
    "    ['П', 0.024],\n",
    "    ['У', 0.021],\n",
    "    ['Я', 0.019],\n",
    "    ['Ы', 0.016],\n",
    "    ['З', 0.015],\n",
    "    ['Ь', 0.015],\n",
    "    ['Б', 0.015],\n",
    "    ['Г', 0.014],\n",
    "    ['Ч', 0.013],\n",
    "    ['Й', 0.010],\n",
    "    ['Х', 0.009],\n",
    "    ['Ж', 0.008],\n",
    "    ['Ю', 0.007],\n",
    "    ['Ш', 0.006],\n",
    "    ['Ц', 0.003],\n",
    "    ['Щ', 0.003],\n",
    "    ['Э', 0.003],\n",
    "    ['Ф', 0.002]]\n"
   ]
  },
  {
   "cell_type": "code",
   "execution_count": 2,
   "metadata": {},
   "outputs": [
    {
     "output_type": "execute_result",
     "data": {
      "text/plain": [
       "((' ', 'О', 'Е', 'И', 'Т', 'Н', 'В', 'Л', 'К', 'М', 'Ь', 'Й', 'Ф'),\n",
       " (0.145,\n",
       "  0.095,\n",
       "  0.074,\n",
       "  0.064,\n",
       "  0.056,\n",
       "  0.056,\n",
       "  0.039,\n",
       "  0.036,\n",
       "  0.029,\n",
       "  0.026,\n",
       "  0.015,\n",
       "  0.01,\n",
       "  0.002))"
      ]
     },
     "metadata": {},
     "execution_count": 2
    }
   ],
   "source": [
    "text = \"Мельников Тимофей\"\n",
    "\n",
    "X, P = list(zip(*[[x, p] for x, p in ALPH if x in text.upper()]))\n",
    "X, P"
   ]
  },
  {
   "cell_type": "code",
   "execution_count": 3,
   "metadata": {
    "tags": []
   },
   "outputs": [],
   "source": [
    "class Node:\n",
    "    def __init__(self, data, p, code=\"\", l=None, r=None):\n",
    "        self.data = data\n",
    "        self.p = p\n",
    "        self.code = code\n",
    "        self.l = l\n",
    "        self.r = r\n",
    "\n",
    "    @staticmethod\n",
    "    def __stringify(Node, indend):\n",
    "        spaces = \" \" * (indend  + 4)\n",
    "        \n",
    "        return f\"Node(\\n\" + \\\n",
    "                f\"{spaces}data={repr(Node.data)}\\n\" + \\\n",
    "                f\"{spaces}p={repr(Node.p)}\\n\" + \\\n",
    "                f\"{spaces}code={repr(Node.code)}\\n\" + \\\n",
    "                f\"{spaces}l={Node.__stringify(Node.l, indend + 4) if Node.l is not None else None}\\n\" + \\\n",
    "                f\"{spaces}r={Node.__stringify(Node.r, indend + 4) if Node.r is not None else None}\\n\" + \\\n",
    "                f\"{spaces})\"\n",
    "\n",
    "    def __repr__(self):\n",
    "        return Node.__stringify(self, 0)"
   ]
  },
  {
   "cell_type": "code",
   "execution_count": 4,
   "metadata": {
    "tags": []
   },
   "outputs": [
    {
     "output_type": "execute_result",
     "data": {
      "text/plain": [
       "[Node(\n",
       "     data='Ф'\n",
       "     p=0.002\n",
       "     code=''\n",
       "     l=None\n",
       "     r=None\n",
       "     ),\n",
       " Node(\n",
       "     data='Й'\n",
       "     p=0.01\n",
       "     code=''\n",
       "     l=None\n",
       "     r=None\n",
       "     ),\n",
       " Node(\n",
       "     data='Ь'\n",
       "     p=0.015\n",
       "     code=''\n",
       "     l=None\n",
       "     r=None\n",
       "     ),\n",
       " Node(\n",
       "     data='М'\n",
       "     p=0.026\n",
       "     code=''\n",
       "     l=None\n",
       "     r=None\n",
       "     ),\n",
       " Node(\n",
       "     data='К'\n",
       "     p=0.029\n",
       "     code=''\n",
       "     l=None\n",
       "     r=None\n",
       "     ),\n",
       " Node(\n",
       "     data='Л'\n",
       "     p=0.036\n",
       "     code=''\n",
       "     l=None\n",
       "     r=None\n",
       "     ),\n",
       " Node(\n",
       "     data='В'\n",
       "     p=0.039\n",
       "     code=''\n",
       "     l=None\n",
       "     r=None\n",
       "     ),\n",
       " Node(\n",
       "     data='Т'\n",
       "     p=0.056\n",
       "     code=''\n",
       "     l=None\n",
       "     r=None\n",
       "     ),\n",
       " Node(\n",
       "     data='Н'\n",
       "     p=0.056\n",
       "     code=''\n",
       "     l=None\n",
       "     r=None\n",
       "     ),\n",
       " Node(\n",
       "     data='И'\n",
       "     p=0.064\n",
       "     code=''\n",
       "     l=None\n",
       "     r=None\n",
       "     ),\n",
       " Node(\n",
       "     data='Е'\n",
       "     p=0.074\n",
       "     code=''\n",
       "     l=None\n",
       "     r=None\n",
       "     ),\n",
       " Node(\n",
       "     data='О'\n",
       "     p=0.095\n",
       "     code=''\n",
       "     l=None\n",
       "     r=None\n",
       "     ),\n",
       " Node(\n",
       "     data=' '\n",
       "     p=0.145\n",
       "     code=''\n",
       "     l=None\n",
       "     r=None\n",
       "     )]"
      ]
     },
     "metadata": {},
     "execution_count": 4
    }
   ],
   "source": [
    "nodes = [Node(data, p) for data, p in zip(X, P)]\n",
    "nodes.sort(key=lambda x: x.p)\n",
    "nodes"
   ]
  },
  {
   "cell_type": "code",
   "execution_count": 5,
   "metadata": {
    "tags": []
   },
   "outputs": [
    {
     "output_type": "stream",
     "name": "stdout",
     "text": [
      "[Node(\n    data=None\n    p=0.647\n    code=''\n    l=Node(\n        data=None\n        p=0.274\n        code=''\n        l=Node(\n            data=None\n            p=0.129\n            code=''\n            l=Node(\n                data='И'\n                p=0.064\n                code=''\n                l=None\n                r=None\n                )\n            r=Node(\n                data=None\n                p=0.065\n                code=''\n                l=Node(\n                    data='К'\n                    p=0.029\n                    code=''\n                    l=None\n                    r=None\n                    )\n                r=Node(\n                    data='Л'\n                    p=0.036\n                    code=''\n                    l=None\n                    r=None\n                    )\n                )\n            )\n        r=Node(\n            data=' '\n            p=0.145\n            code=''\n            l=None\n            r=None\n            )\n        )\n    r=Node(\n        data=None\n        p=0.373\n        code=''\n        l=Node(\n            data=None\n            p=0.16599999999999998\n            code=''\n            l=Node(\n                data='Е'\n                p=0.074\n                code=''\n                l=None\n                r=None\n                )\n            r=Node(\n                data=None\n                p=0.092\n                code=''\n                l=Node(\n                    data='В'\n                    p=0.039\n                    code=''\n                    l=None\n                    r=None\n                    )\n                r=Node(\n                    data=None\n                    p=0.053\n                    code=''\n                    l=Node(\n                        data='М'\n                        p=0.026\n                        code=''\n                        l=None\n                        r=None\n                        )\n                    r=Node(\n                        data=None\n                        p=0.027\n                        code=''\n                        l=Node(\n                            data=None\n                            p=0.012\n                            code=''\n                            l=Node(\n                                data='Ф'\n                                p=0.002\n                                code=''\n                                l=None\n                                r=None\n                                )\n                            r=Node(\n                                data='Й'\n                                p=0.01\n                                code=''\n                                l=None\n                                r=None\n                                )\n                            )\n                        r=Node(\n                            data='Ь'\n                            p=0.015\n                            code=''\n                            l=None\n                            r=None\n                            )\n                        )\n                    )\n                )\n            )\n        r=Node(\n            data=None\n            p=0.20700000000000002\n            code=''\n            l=Node(\n                data='О'\n                p=0.095\n                code=''\n                l=None\n                r=None\n                )\n            r=Node(\n                data=None\n                p=0.112\n                code=''\n                l=Node(\n                    data='Т'\n                    p=0.056\n                    code=''\n                    l=None\n                    r=None\n                    )\n                r=Node(\n                    data='Н'\n                    p=0.056\n                    code=''\n                    l=None\n                    r=None\n                    )\n                )\n            )\n        )\n    )]\n"
     ]
    }
   ],
   "source": [
    "while len(nodes) > 1:\n",
    "    l , r, *nodes = nodes\n",
    "    nodes.insert(0, Node(data=None, p=(l.p + r.p), l=l, r=r))\n",
    "    nodes.sort(key=lambda x: x.p)\n",
    "print(nodes)"
   ]
  },
  {
   "cell_type": "code",
   "execution_count": 6,
   "metadata": {
    "tags": []
   },
   "outputs": [
    {
     "output_type": "execute_result",
     "data": {
      "text/plain": [
       "{' ': '01',\n",
       " 'И': '000',\n",
       " 'Е': '100',\n",
       " 'О': '110',\n",
       " 'К': '0010',\n",
       " 'Л': '0011',\n",
       " 'В': '1010',\n",
       " 'Т': '1110',\n",
       " 'Н': '1111',\n",
       " 'М': '10110',\n",
       " 'Ь': '101111',\n",
       " 'Ф': '1011100',\n",
       " 'Й': '1011101'}"
      ]
     },
     "metadata": {},
     "execution_count": 6
    }
   ],
   "source": [
    "to_see = [nodes[0]]\n",
    "codes = {}\n",
    "while to_see:\n",
    "    node = to_see[0]\n",
    "    if node.data is not None:\n",
    "        codes[node.data] = node.code\n",
    "    if node.l is not None:\n",
    "        node.l.code = node.code + \"0\"\n",
    "        to_see.append(node.l)\n",
    "    if node.r is not None:\n",
    "        node.r.code = node.code + \"1\"\n",
    "        to_see.append(node.r)\n",
    "    to_see.pop(0)\n",
    "\n",
    "codes\n",
    "\n"
   ]
  },
  {
   "cell_type": "code",
   "execution_count": 7,
   "metadata": {},
   "outputs": [
    {
     "output_type": "execute_result",
     "data": {
      "text/plain": [
       "'101101000011101111111100000101101010'"
      ]
     },
     "metadata": {},
     "execution_count": 7
    }
   ],
   "source": [
    "text = \"Мельников\"\n",
    "encoded_text = \"\".join([codes[letter] for letter in text.upper()])\n",
    "encoded_text"
   ]
  },
  {
   "cell_type": "code",
   "execution_count": null,
   "metadata": {},
   "outputs": [],
   "source": []
  }
 ]
}