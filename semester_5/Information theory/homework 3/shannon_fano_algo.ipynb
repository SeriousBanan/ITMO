{
 "metadata": {
  "language_info": {
   "codemirror_mode": {
    "name": "ipython",
    "version": 3
   },
   "file_extension": ".py",
   "mimetype": "text/x-python",
   "name": "python",
   "nbconvert_exporter": "python",
   "pygments_lexer": "ipython3",
   "version": "3.8.5-final"
  },
  "orig_nbformat": 2,
  "kernelspec": {
   "name": "python38264bit4b69e6aa0ee3499390b8df5eac289b1e",
   "display_name": "Python 3.8.2 64-bit"
  }
 },
 "nbformat": 4,
 "nbformat_minor": 2,
 "cells": [
  {
   "cell_type": "code",
   "execution_count": 11,
   "metadata": {},
   "outputs": [],
   "source": [
    "ALPH = [\n",
    "    [\" \", 0.145],\n",
    "    ['О', 0.095],\n",
    "    ['Е', 0.074],\n",
    "    ['А', 0.064],\n",
    "    ['И', 0.064],\n",
    "    ['Т', 0.056],\n",
    "    ['Н', 0.056],\n",
    "    ['С', 0.047],\n",
    "    ['Р', 0.041],\n",
    "    ['В', 0.039],\n",
    "    ['Л', 0.036],\n",
    "    ['К', 0.029],\n",
    "    ['М', 0.026],\n",
    "    ['Д', 0.026],\n",
    "    ['П', 0.024],\n",
    "    ['У', 0.021],\n",
    "    ['Я', 0.019],\n",
    "    ['Ы', 0.016],\n",
    "    ['З', 0.015],\n",
    "    ['Ь', 0.015],\n",
    "    ['Б', 0.015],\n",
    "    ['Г', 0.014],\n",
    "    ['Ч', 0.013],\n",
    "    ['Й', 0.010],\n",
    "    ['Х', 0.009],\n",
    "    ['Ж', 0.008],\n",
    "    ['Ю', 0.007],\n",
    "    ['Ш', 0.006],\n",
    "    ['Ц', 0.003],\n",
    "    ['Щ', 0.003],\n",
    "    ['Э', 0.003],\n",
    "    ['Ф', 0.002]]\n"
   ]
  },
  {
   "cell_type": "code",
   "execution_count": 24,
   "metadata": {},
   "outputs": [
    {
     "output_type": "execute_result",
     "data": {
      "text/plain": [
       "[(' ', 0.145),\n",
       " ('А', 0.064),\n",
       " ('И', 0.064),\n",
       " ('Т', 0.056),\n",
       " ('Н', 0.056),\n",
       " ('Р', 0.041),\n",
       " ('Л', 0.036),\n",
       " ('Ю', 0.007)]"
      ]
     },
     "metadata": {},
     "execution_count": 24
    }
   ],
   "source": [
    "text = \"Тюлина Ирина\"\n",
    "\n",
    "X, P = list(zip(*[[x, p] for x, p in ALPH if x in text.upper()]))\n",
    "list(zip(X, P))"
   ]
  },
  {
   "cell_type": "code",
   "execution_count": 27,
   "metadata": {},
   "outputs": [],
   "source": [
    "class Node:\n",
    "    def __init__(self, data, p, code=\"\", l=None, r=None):\n",
    "        self.data = data\n",
    "        self.p = p\n",
    "        self.code = code\n",
    "        self.l = l\n",
    "        self.r = r\n",
    "\n",
    "    @staticmethod\n",
    "    def __stringify(Node, indend):\n",
    "        spaces = \" \" * (indend  + 4)\n",
    "        \n",
    "        return f\"Node(\\n\" + \\\n",
    "                f\"{spaces}data={repr(Node.data)}\\n\" + \\\n",
    "                f\"{spaces}p={repr(Node.p)}\\n\" + \\\n",
    "                f\"{spaces}code={repr(Node.code)}\\n\" + \\\n",
    "                f\"{spaces}l={Node.__stringify(Node.l, indend + 4) if Node.l is not None else None}\\n\" + \\\n",
    "                f\"{spaces}r={Node.__stringify(Node.r, indend + 4) if Node.r is not None else None}\\n\" + \\\n",
    "                f\"{spaces})\"\n",
    "\n",
    "    def __repr__(self):\n",
    "        return Node.__stringify(self, 0)"
   ]
  },
  {
   "cell_type": "code",
   "execution_count": 35,
   "metadata": {
    "tags": []
   },
   "outputs": [
    {
     "output_type": "stream",
     "name": "stdout",
     "text": [
      "('Ю', 'Л', 'Р', 'Н', 'Т', 'А', 'И', ' ') separeted to ('Ю', 'Л', 'Р', 'Н', 'Т', 'А') and ('И', ' ')\n('Ю', 'Л', 'Р', 'Н', 'Т', 'А') separeted to ('Ю', 'Л', 'Р', 'Н') and ('Т', 'А')\n('И', ' ') separeted to ('И',) and (' ',)\n('Ю', 'Л', 'Р', 'Н') separeted to ('Ю', 'Л', 'Р') and ('Н',)\n('Т', 'А') separeted to ('Т',) and ('А',)\n('Ю', 'Л', 'Р') separeted to ('Ю', 'Л') and ('Р',)\n('Ю', 'Л') separeted to ('Ю',) and ('Л',)\n"
     ]
    },
    {
     "output_type": "execute_result",
     "data": {
      "text/plain": [
       "Node(\n",
       "    data=('Ю', 'Л', 'Р', 'Н', 'Т', 'А', 'И', ' ')\n",
       "    p=(0.007, 0.036, 0.041, 0.056, 0.056, 0.064, 0.064, 0.145)\n",
       "    code=''\n",
       "    l=Node(\n",
       "        data=('Ю', 'Л', 'Р', 'Н', 'Т', 'А')\n",
       "        p=(0.007, 0.036, 0.041, 0.056, 0.056, 0.064)\n",
       "        code='1'\n",
       "        l=Node(\n",
       "            data=('Ю', 'Л', 'Р', 'Н')\n",
       "            p=(0.007, 0.036, 0.041, 0.056)\n",
       "            code='11'\n",
       "            l=Node(\n",
       "                data=('Ю', 'Л', 'Р')\n",
       "                p=(0.007, 0.036, 0.041)\n",
       "                code='111'\n",
       "                l=Node(\n",
       "                    data=('Ю', 'Л')\n",
       "                    p=(0.007, 0.036)\n",
       "                    code='1111'\n",
       "                    l=Node(\n",
       "                        data=('Ю',)\n",
       "                        p=(0.007,)\n",
       "                        code='11111'\n",
       "                        l=None\n",
       "                        r=None\n",
       "                        )\n",
       "                    r=Node(\n",
       "                        data=('Л',)\n",
       "                        p=(0.036,)\n",
       "                        code='11110'\n",
       "                        l=None\n",
       "                        r=None\n",
       "                        )\n",
       "                    )\n",
       "                r=Node(\n",
       "                    data=('Р',)\n",
       "                    p=(0.041,)\n",
       "                    code='1110'\n",
       "                    l=None\n",
       "                    r=None\n",
       "                    )\n",
       "                )\n",
       "            r=Node(\n",
       "                data=('Н',)\n",
       "                p=(0.056,)\n",
       "                code='110'\n",
       "                l=None\n",
       "                r=None\n",
       "                )\n",
       "            )\n",
       "        r=Node(\n",
       "            data=('Т', 'А')\n",
       "            p=(0.056, 0.064)\n",
       "            code='10'\n",
       "            l=Node(\n",
       "                data=('Т',)\n",
       "                p=(0.056,)\n",
       "                code='101'\n",
       "                l=None\n",
       "                r=None\n",
       "                )\n",
       "            r=Node(\n",
       "                data=('А',)\n",
       "                p=(0.064,)\n",
       "                code='100'\n",
       "                l=None\n",
       "                r=None\n",
       "                )\n",
       "            )\n",
       "        )\n",
       "    r=Node(\n",
       "        data=('И', ' ')\n",
       "        p=(0.064, 0.145)\n",
       "        code='0'\n",
       "        l=Node(\n",
       "            data=('И',)\n",
       "            p=(0.064,)\n",
       "            code='01'\n",
       "            l=None\n",
       "            r=None\n",
       "            )\n",
       "        r=Node(\n",
       "            data=(' ',)\n",
       "            p=(0.145,)\n",
       "            code='00'\n",
       "            l=None\n",
       "            r=None\n",
       "            )\n",
       "        )\n",
       "    )"
      ]
     },
     "metadata": {},
     "execution_count": 35
    }
   ],
   "source": [
    "data, p = [*zip(*sorted([*zip(X, P)], key=lambda x: (x[1], x[0])))]\n",
    "root = Node(data, p)\n",
    "\n",
    "to_see = [root]\n",
    "codes = {}\n",
    "\n",
    "while to_see:\n",
    "    node = to_see.pop(0)\n",
    "    if len(node.data) == 1:\n",
    "        codes[node.data[0]] = node.code\n",
    "        continue\n",
    "\n",
    "    diffs = [abs(sum(node.p[idx:]) - sum(node.p[:idx])) for idx in range(1, len(node.p))]\n",
    "    min_dif_idx = 1 + diffs.index(min(diffs))\n",
    "\n",
    "    node.l = Node(node.data[:min_dif_idx], node.p[:min_dif_idx], node.code + \"1\")\n",
    "    node.r = Node(node.data[min_dif_idx:], node.p[min_dif_idx:], node.code + \"0\")\n",
    "    to_see.extend([node.l, node.r])\n",
    "\n",
    "    print(f\"{node.data} separeted to {node.l.data} and {node.r.data}\")\n",
    "\n",
    "root"
   ]
  },
  {
   "cell_type": "code",
   "execution_count": 36,
   "metadata": {},
   "outputs": [
    {
     "output_type": "execute_result",
     "data": {
      "text/plain": [
       "{'И': '01',\n",
       " ' ': '00',\n",
       " 'Н': '110',\n",
       " 'Т': '101',\n",
       " 'А': '100',\n",
       " 'Р': '1110',\n",
       " 'Ю': '11111',\n",
       " 'Л': '11110'}"
      ]
     },
     "metadata": {},
     "execution_count": 36
    }
   ],
   "source": [
    "codes"
   ]
  },
  {
   "cell_type": "code",
   "execution_count": 37,
   "metadata": {},
   "outputs": [
    {
     "output_type": "execute_result",
     "data": {
      "text/plain": [
       "['101',\n",
       " '11111',\n",
       " '11110',\n",
       " '01',\n",
       " '110',\n",
       " '100',\n",
       " '00',\n",
       " '01',\n",
       " '1110',\n",
       " '01',\n",
       " '110',\n",
       " '100']"
      ]
     },
     "metadata": {},
     "execution_count": 37
    }
   ],
   "source": [
    "encoded_text = [codes[letter] for letter in text.upper()]\n",
    "encoded_text"
   ]
  },
  {
   "cell_type": "code",
   "execution_count": null,
   "metadata": {},
   "outputs": [],
   "source": []
  }
 ]
}