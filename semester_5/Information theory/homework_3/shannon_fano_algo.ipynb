{
 "metadata": {
  "language_info": {
   "codemirror_mode": {
    "name": "ipython",
    "version": 3
   },
   "file_extension": ".py",
   "mimetype": "text/x-python",
   "name": "python",
   "nbconvert_exporter": "python",
   "pygments_lexer": "ipython3",
   "version": "3.8.5-final"
  },
  "orig_nbformat": 2,
  "kernelspec": {
   "name": "Python 3.8.5 32-bit",
   "display_name": "Python 3.8.5 32-bit",
   "metadata": {
    "interpreter": {
     "hash": "3d08ce2683530840711bcc1895038ce67e4a9ac343c7829b875cd174f213d260"
    }
   }
  }
 },
 "nbformat": 4,
 "nbformat_minor": 2,
 "cells": [
  {
   "cell_type": "code",
   "execution_count": 1,
   "metadata": {},
   "outputs": [],
   "source": [
    "ALPH = [\n",
    "    [\" \", 0.145],\n",
    "    ['О', 0.095],\n",
    "    ['Е', 0.074],\n",
    "    ['А', 0.064],\n",
    "    ['И', 0.064],\n",
    "    ['Т', 0.056],\n",
    "    ['Н', 0.056],\n",
    "    ['С', 0.047],\n",
    "    ['Р', 0.041],\n",
    "    ['В', 0.039],\n",
    "    ['Л', 0.036],\n",
    "    ['К', 0.029],\n",
    "    ['М', 0.026],\n",
    "    ['Д', 0.026],\n",
    "    ['П', 0.024],\n",
    "    ['У', 0.021],\n",
    "    ['Я', 0.019],\n",
    "    ['Ы', 0.016],\n",
    "    ['З', 0.015],\n",
    "    ['Ь', 0.015],\n",
    "    ['Б', 0.015],\n",
    "    ['Г', 0.014],\n",
    "    ['Ч', 0.013],\n",
    "    ['Й', 0.010],\n",
    "    ['Х', 0.009],\n",
    "    ['Ж', 0.008],\n",
    "    ['Ю', 0.007],\n",
    "    ['Ш', 0.006],\n",
    "    ['Ц', 0.003],\n",
    "    ['Щ', 0.003],\n",
    "    ['Э', 0.003],\n",
    "    ['Ф', 0.002]]\n"
   ]
  },
  {
   "cell_type": "code",
   "execution_count": 21,
   "metadata": {},
   "outputs": [
    {
     "output_type": "execute_result",
     "data": {
      "text/plain": [
       "((' ', 'Е', 'А', 'Р', 'В', 'Л', 'Д', 'У', 'З', 'Э'),\n",
       " (0.145, 0.074, 0.064, 0.041, 0.039, 0.036, 0.026, 0.021, 0.015, 0.003))"
      ]
     },
     "metadata": {},
     "execution_count": 21
    }
   ],
   "source": [
    "text = \"Лазарев Эдуард\"\n",
    "\n",
    "X, P = list(zip(*[[x, p] for x, p in ALPH if x in text.upper()]))\n",
    "X, P"
   ]
  },
  {
   "source": [
    "for x in sorted([*zip(X, P)], key=lambda x: (x[1], x[0])):\n",
    "    print(x)"
   ],
   "cell_type": "code",
   "metadata": {
    "tags": []
   },
   "execution_count": 5,
   "outputs": [
    {
     "output_type": "stream",
     "name": "stdout",
     "text": [
      "('Э', 0.003)\n('З', 0.015)\n('У', 0.021)\n('Д', 0.026)\n('Л', 0.036)\n('В', 0.039)\n('Р', 0.041)\n('А', 0.064)\n('Е', 0.074)\n(' ', 0.145)\n"
     ]
    }
   ]
  },
  {
   "cell_type": "code",
   "execution_count": 22,
   "metadata": {},
   "outputs": [],
   "source": [
    "class Node:\n",
    "    def __init__(self, data, p, code=\"\", l=None, r=None):\n",
    "        self.data = data\n",
    "        self.p = p\n",
    "        self.code = code\n",
    "        self.l = l\n",
    "        self.r = r\n",
    "\n",
    "    @staticmethod\n",
    "    def __stringify(Node, indend):\n",
    "        spaces = \" \" * (indend  + 4)\n",
    "        \n",
    "        return f\"Node(\\n\" + \\\n",
    "                f\"{spaces}data={repr(Node.data)}\\n\" + \\\n",
    "                f\"{spaces}p={repr(Node.p)}\\n\" + \\\n",
    "                f\"{spaces}code={repr(Node.code)}\\n\" + \\\n",
    "                f\"{spaces}l={Node.__stringify(Node.l, indend + 4) if Node.l is not None else None}\\n\" + \\\n",
    "                f\"{spaces}r={Node.__stringify(Node.r, indend + 4) if Node.r is not None else None}\\n\" + \\\n",
    "                f\"{spaces})\"\n",
    "\n",
    "    def __repr__(self):\n",
    "        return Node.__stringify(self, 0)"
   ]
  },
  {
   "cell_type": "code",
   "execution_count": 27,
   "metadata": {
    "tags": []
   },
   "outputs": [
    {
     "output_type": "execute_result",
     "data": {
      "text/plain": [
       "Node(\n",
       "    data=('Э', 'З', 'У', 'Д', 'Л', 'В', 'Р', 'А', 'Е', ' ')\n",
       "    p=(0.003, 0.015, 0.021, 0.026, 0.036, 0.039, 0.041, 0.064, 0.074, 0.145)\n",
       "    code=''\n",
       "    l=Node(\n",
       "        data=('Э', 'З', 'У', 'Д', 'Л', 'В', 'Р', 'А')\n",
       "        p=(0.003, 0.015, 0.021, 0.026, 0.036, 0.039, 0.041, 0.064)\n",
       "        code='0'\n",
       "        l=Node(\n",
       "            data=('Э', 'З', 'У', 'Д', 'Л', 'В')\n",
       "            p=(0.003, 0.015, 0.021, 0.026, 0.036, 0.039)\n",
       "            code='00'\n",
       "            l=Node(\n",
       "                data=('Э', 'З', 'У', 'Д')\n",
       "                p=(0.003, 0.015, 0.021, 0.026)\n",
       "                code='000'\n",
       "                l=Node(\n",
       "                    data=('Э', 'З', 'У')\n",
       "                    p=(0.003, 0.015, 0.021)\n",
       "                    code='0000'\n",
       "                    l=Node(\n",
       "                        data=('Э', 'З')\n",
       "                        p=(0.003, 0.015)\n",
       "                        code='00000'\n",
       "                        l=Node(\n",
       "                            data=('Э',)\n",
       "                            p=(0.003,)\n",
       "                            code='000000'\n",
       "                            l=None\n",
       "                            r=None\n",
       "                            )\n",
       "                        r=Node(\n",
       "                            data=('З',)\n",
       "                            p=(0.015,)\n",
       "                            code='000001'\n",
       "                            l=None\n",
       "                            r=None\n",
       "                            )\n",
       "                        )\n",
       "                    r=Node(\n",
       "                        data=('У',)\n",
       "                        p=(0.021,)\n",
       "                        code='00001'\n",
       "                        l=None\n",
       "                        r=None\n",
       "                        )\n",
       "                    )\n",
       "                r=Node(\n",
       "                    data=('Д',)\n",
       "                    p=(0.026,)\n",
       "                    code='0001'\n",
       "                    l=None\n",
       "                    r=None\n",
       "                    )\n",
       "                )\n",
       "            r=Node(\n",
       "                data=('Л', 'В')\n",
       "                p=(0.036, 0.039)\n",
       "                code='001'\n",
       "                l=Node(\n",
       "                    data=('Л',)\n",
       "                    p=(0.036,)\n",
       "                    code='0010'\n",
       "                    l=None\n",
       "                    r=None\n",
       "                    )\n",
       "                r=Node(\n",
       "                    data=('В',)\n",
       "                    p=(0.039,)\n",
       "                    code='0011'\n",
       "                    l=None\n",
       "                    r=None\n",
       "                    )\n",
       "                )\n",
       "            )\n",
       "        r=Node(\n",
       "            data=('Р', 'А')\n",
       "            p=(0.041, 0.064)\n",
       "            code='01'\n",
       "            l=Node(\n",
       "                data=('Р',)\n",
       "                p=(0.041,)\n",
       "                code='010'\n",
       "                l=None\n",
       "                r=None\n",
       "                )\n",
       "            r=Node(\n",
       "                data=('А',)\n",
       "                p=(0.064,)\n",
       "                code='011'\n",
       "                l=None\n",
       "                r=None\n",
       "                )\n",
       "            )\n",
       "        )\n",
       "    r=Node(\n",
       "        data=('Е', ' ')\n",
       "        p=(0.074, 0.145)\n",
       "        code='1'\n",
       "        l=Node(\n",
       "            data=('Е',)\n",
       "            p=(0.074,)\n",
       "            code='10'\n",
       "            l=None\n",
       "            r=None\n",
       "            )\n",
       "        r=Node(\n",
       "            data=(' ',)\n",
       "            p=(0.145,)\n",
       "            code='11'\n",
       "            l=None\n",
       "            r=None\n",
       "            )\n",
       "        )\n",
       "    )"
      ]
     },
     "metadata": {},
     "execution_count": 27
    }
   ],
   "source": [
    "data, p = [*zip(*sorted([*zip(X, P)], key=lambda x: (x[1], x[0])))]\n",
    "root = Node(data, p)\n",
    "\n",
    "to_see = [root]\n",
    "codes = {}\n",
    "\n",
    "while to_see:\n",
    "    node = to_see.pop(0)\n",
    "    if len(node.data) == 1:\n",
    "        codes[node.data[0]] = node.code\n",
    "        continue\n",
    "\n",
    "    diffs = [abs(sum(node.p[idx:]) - sum(node.p[:idx])) for idx in range(1, len(node.p))]\n",
    "    min_dif_idx = 1 + diffs.index(min(diffs))\n",
    "\n",
    "    node.l = Node(node.data[:min_dif_idx], node.p[:min_dif_idx], node.code + \"0\")\n",
    "    node.r = Node(node.data[min_dif_idx:], node.p[min_dif_idx:], node.code + \"1\")\n",
    "    to_see.extend([node.l, node.r])\n",
    "\n",
    "root"
   ]
  },
  {
   "cell_type": "code",
   "execution_count": 28,
   "metadata": {},
   "outputs": [
    {
     "output_type": "execute_result",
     "data": {
      "text/plain": [
       "{'Е': '10',\n",
       " ' ': '11',\n",
       " 'Р': '010',\n",
       " 'А': '011',\n",
       " 'Д': '0001',\n",
       " 'Л': '0010',\n",
       " 'В': '0011',\n",
       " 'У': '00001',\n",
       " 'Э': '000000',\n",
       " 'З': '000001'}"
      ]
     },
     "metadata": {},
     "execution_count": 28
    }
   ],
   "source": [
    "codes"
   ]
  },
  {
   "cell_type": "code",
   "execution_count": 30,
   "metadata": {},
   "outputs": [
    {
     "output_type": "execute_result",
     "data": {
      "text/plain": [
       "['Л', 'А', 'З', 'А', 'Р', 'Е', 'В', ' ', 'Э', 'Д', 'У', 'А', 'Р', 'Д']"
      ]
     },
     "metadata": {},
     "execution_count": 30
    }
   ],
   "source": [
    "encoded_text = [codes[letter] for letter in text.upper()]\n",
    "encoded_text"
   ]
  }
 ]
}