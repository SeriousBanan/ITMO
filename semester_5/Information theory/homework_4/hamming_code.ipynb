{
 "metadata": {
  "language_info": {
   "codemirror_mode": {
    "name": "ipython",
    "version": 3
   },
   "file_extension": ".py",
   "mimetype": "text/x-python",
   "name": "python",
   "nbconvert_exporter": "python",
   "pygments_lexer": "ipython3",
   "version": "3.8.5-final"
  },
  "orig_nbformat": 2,
  "kernelspec": {
   "name": "python38264bit4b69e6aa0ee3499390b8df5eac289b1e",
   "display_name": "Python 3.8.2 64-bit"
  }
 },
 "nbformat": 4,
 "nbformat_minor": 2,
 "cells": [
  {
   "cell_type": "code",
   "execution_count": 5,
   "metadata": {},
   "outputs": [],
   "source": [
    "import numpy as np\n",
    "from functools import reduce\n",
    "import operator as op\n",
    "\n",
    "from math import log2"
   ]
  },
  {
   "cell_type": "code",
   "execution_count": 4,
   "metadata": {},
   "outputs": [],
   "source": [
    "text = '01100100011101010100'"
   ]
  },
  {
   "cell_type": "code",
   "execution_count": 6,
   "metadata": {},
   "outputs": [
    {
     "output_type": "execute_result",
     "data": {
      "text/plain": [
       "(20, 5, 25)"
      ]
     },
     "metadata": {},
     "execution_count": 6
    }
   ],
   "source": [
    "n_i = len(text)\n",
    "\n",
    "n_k = int(log2(1 + n_i))\n",
    "while n_k + n_i + 1 > 2 ** n_k:\n",
    "    n_k += 1\n",
    "    \n",
    "n = n_k + n_i\n",
    "\n",
    "n_i, n_k, n"
   ]
  },
  {
   "cell_type": "code",
   "execution_count": 10,
   "metadata": {},
   "outputs": [
    {
     "output_type": "execute_result",
     "data": {
      "text/plain": [
       "['0',\n",
       " '0',\n",
       " '0',\n",
       " '0',\n",
       " '1',\n",
       " '1',\n",
       " '0',\n",
       " '0',\n",
       " '0',\n",
       " '1',\n",
       " '0',\n",
       " '0',\n",
       " '0',\n",
       " '1',\n",
       " '1',\n",
       " '0',\n",
       " '1',\n",
       " '0',\n",
       " '1',\n",
       " '0',\n",
       " '1',\n",
       " '0',\n",
       " '1',\n",
       " '0',\n",
       " '0']"
      ]
     },
     "metadata": {},
     "execution_count": 10
    }
   ],
   "source": [
    "bits = [\"0\"] * n\n",
    "\n",
    "for idx in range(1, n+1):\n",
    "    if not int(log2(idx)) == log2(idx):\n",
    "        bits[idx - 1] = text[idx - int(log2(idx)) - 2]\n",
    "\n",
    "bits"
   ]
  },
  {
   "cell_type": "code",
   "execution_count": 11,
   "metadata": {},
   "outputs": [
    {
     "output_type": "execute_result",
     "data": {
      "text/plain": [
       "'00010'"
      ]
     },
     "metadata": {},
     "execution_count": 11
    }
   ],
   "source": [
    "correction_bits = bin(reduce(op.xor, [i + 1 for i, bit in enumerate(bits) if bit == \"1\"]))[:1:-1]\n",
    "# [i + 1 for i, bit in enumerate(res) if bit]\n",
    "\n",
    "\n",
    "if len(correction_bits) != int(log2(n + 1)) + 1:\n",
    "    correction_bits += (int(log2(n + 1)) + 1 - len(correction_bits)) * \"0\"\n",
    "\n",
    "correction_bits"
   ]
  },
  {
   "cell_type": "code",
   "execution_count": 112,
   "metadata": {},
   "outputs": [
    {
     "output_type": "execute_result",
     "data": {
      "text/plain": [
       "'101001110100001011011111111000010101101010'"
      ]
     },
     "metadata": {},
     "execution_count": 112
    }
   ],
   "source": [
    "for i, bit in enumerate(correction_bits):\n",
    "    bits[2 ** i - 1] = bit\n",
    "\n",
    "result = \"\".join(bits)\n",
    "result\n"
   ]
  },
  {
   "cell_type": "code",
   "execution_count": null,
   "metadata": {},
   "outputs": [],
   "source": []
  }
 ]
}