{
 "metadata": {
  "language_info": {
   "codemirror_mode": {
    "name": "ipython",
    "version": 3
   },
   "file_extension": ".py",
   "mimetype": "text/x-python",
   "name": "python",
   "nbconvert_exporter": "python",
   "pygments_lexer": "ipython3",
   "version": "3.8.5-final"
  },
  "orig_nbformat": 2,
  "kernelspec": {
   "name": "Python 3.8.5 32-bit",
   "display_name": "Python 3.8.5 32-bit",
   "metadata": {
    "interpreter": {
     "hash": "3d08ce2683530840711bcc1895038ce67e4a9ac343c7829b875cd174f213d260"
    }
   }
  }
 },
 "nbformat": 4,
 "nbformat_minor": 2,
 "cells": [
  {
   "cell_type": "code",
   "execution_count": 107,
   "metadata": {},
   "outputs": [],
   "source": [
    "import numpy as np\n",
    "from functools import reduce\n",
    "import operator as op\n",
    "\n",
    "from math import log2"
   ]
  },
  {
   "cell_type": "code",
   "execution_count": 108,
   "metadata": {},
   "outputs": [],
   "source": [
    "text = '101101000011101111111100000101101010'"
   ]
  },
  {
   "cell_type": "code",
   "execution_count": 109,
   "metadata": {},
   "outputs": [
    {
     "output_type": "execute_result",
     "data": {
      "text/plain": [
       "(36, 6, 42)"
      ]
     },
     "metadata": {},
     "execution_count": 109
    }
   ],
   "source": [
    "n_i = len(text)\n",
    "\n",
    "n_k = int(log2(1 + n_i))\n",
    "while n_k + n_i + 1 > 2 ** n_k:\n",
    "    n_k += 1\n",
    "    \n",
    "n = n_k + n_i\n",
    "\n",
    "n_i, n_k, n"
   ]
  },
  {
   "cell_type": "code",
   "execution_count": 110,
   "metadata": {},
   "outputs": [
    {
     "output_type": "execute_result",
     "data": {
      "text/plain": [
       "['0',\n",
       " '0',\n",
       " '1',\n",
       " '0',\n",
       " '0',\n",
       " '1',\n",
       " '1',\n",
       " '0',\n",
       " '0',\n",
       " '1',\n",
       " '0',\n",
       " '0',\n",
       " '0',\n",
       " '0',\n",
       " '1',\n",
       " '0',\n",
       " '1',\n",
       " '1',\n",
       " '0',\n",
       " '1',\n",
       " '1',\n",
       " '1',\n",
       " '1',\n",
       " '1',\n",
       " '1',\n",
       " '1',\n",
       " '1',\n",
       " '0',\n",
       " '0',\n",
       " '0',\n",
       " '0',\n",
       " '0',\n",
       " '0',\n",
       " '1',\n",
       " '0',\n",
       " '1',\n",
       " '1',\n",
       " '0',\n",
       " '1',\n",
       " '0',\n",
       " '1',\n",
       " '0']"
      ]
     },
     "metadata": {},
     "execution_count": 110
    }
   ],
   "source": [
    "bits = [\"0\"] * n\n",
    "\n",
    "for idx in range(1, n+1):\n",
    "    if not int(log2(idx)) == log2(idx):\n",
    "        bits[idx - 1] = text[idx - int(log2(idx)) - 2]\n",
    "\n",
    "bits"
   ]
  },
  {
   "cell_type": "code",
   "execution_count": 111,
   "metadata": {},
   "outputs": [
    {
     "output_type": "execute_result",
     "data": {
      "text/plain": [
       "'100101'"
      ]
     },
     "metadata": {},
     "execution_count": 111
    }
   ],
   "source": [
    "correction_bits = bin(reduce(op.xor, [i + 1 for i, bit in enumerate(bits) if bit == \"1\"]))[:1:-1]\n",
    "# [i + 1 for i, bit in enumerate(res) if bit]\n",
    "\n",
    "\n",
    "if len(correction_bits) != int(log2(n + 1)) + 1:\n",
    "    correction_bits += (int(log2(n + 1)) + 1 - len(correction_bits)) * \"0\"\n",
    "\n",
    "correction_bits"
   ]
  },
  {
   "cell_type": "code",
   "execution_count": 112,
   "metadata": {},
   "outputs": [
    {
     "output_type": "execute_result",
     "data": {
      "text/plain": [
       "'101001110100001011011111111000010101101010'"
      ]
     },
     "metadata": {},
     "execution_count": 112
    }
   ],
   "source": [
    "for i, bit in enumerate(correction_bits):\n",
    "    bits[2 ** i - 1] = bit\n",
    "\n",
    "result = \"\".join(bits)\n",
    "result\n"
   ]
  },
  {
   "cell_type": "code",
   "execution_count": null,
   "metadata": {},
   "outputs": [],
   "source": []
  }
 ]
}